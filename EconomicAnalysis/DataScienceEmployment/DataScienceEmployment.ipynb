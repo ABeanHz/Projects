{
 "cells": [
  {
   "cell_type": "markdown",
   "metadata": {},
   "source": [
    "# Key Findings"
   ]
  },
  {
   "cell_type": "markdown",
   "metadata": {},
   "source": [
    "1. As of 2024, the metros with the highest number of data science employees are as follows: \n",
    "    * New York-Newark-Jersey City, NY-NJ\n",
    "    * Los Angeles-Long Beach-Anaheim, CA\n",
    "    * San Francisco-Oakland-Fremont, CA\n",
    "    * Dallas-Fort Worth-Arlington, TX\n",
    "    * Washington-Arlington-Alexandria, DC-VA-MD-WV\n",
    "    \n"
   ]
  },
  {
   "cell_type": "markdown",
   "metadata": {},
   "source": [
    "# Prep"
   ]
  },
  {
   "cell_type": "markdown",
   "metadata": {},
   "source": [
    "Data Sources: \n",
    "* OEWS Tables - https://www.bls.gov/oes/tables.htm \n",
    "* Shapefiles - https://www.census.gov/cgi-bin/geo/shapefiles/index.php?year=2024&layergroup=Core+Based+Statistical+Areas"
   ]
  },
  {
   "cell_type": "code",
   "execution_count": 15,
   "metadata": {},
   "outputs": [],
   "source": [
    "#!pip install geopandas shapely plotly\n",
    "#!pip install thefuzz\n",
    "#!pip install --upgrade nbformat\n"
   ]
  },
  {
   "cell_type": "code",
   "execution_count": 16,
   "metadata": {},
   "outputs": [],
   "source": [
    "import pandas as pd  ### Basic data manipulations\n",
    "import matplotlib.pyplot as plt\n",
    "import os\n",
    "import geopandas as gpd ### using shapefiles\n",
    "\n",
    "import plotly.express as px ### choropleth map\n",
    "import plotly.graph_objects as go\n",
    "\n",
    "import json ### to read the converted shapefiles\n",
    "from thefuzz import process ### for merging on MSA with slightly different labeling patterns\n",
    "import numpy as np  ### dealing with missing data and other calcs\n",
    "\n",
    "import warnings\n",
    "warnings.filterwarnings(\"ignore\")  ### warnings sometimes show your computer, so I want to surpress if sending to github\n"
   ]
  },
  {
   "cell_type": "markdown",
   "metadata": {},
   "source": [
    "# Top Industries in 2024"
   ]
  },
  {
   "cell_type": "code",
   "execution_count": 17,
   "metadata": {},
   "outputs": [],
   "source": [
    "industry_4digit_df = pd.read_excel('Data\\\\nat4d_M2024_dl.xlsx', sheet_name=\"Nat4d_M2024_dl\") ### read in national employment by industry\n",
    "industry_3digit_df = pd.read_excel('Data\\\\nat3d_M2024_dl.xlsx', sheet_name=\"nat3d_M2024_dl\")"
   ]
  },
  {
   "cell_type": "code",
   "execution_count": 18,
   "metadata": {},
   "outputs": [],
   "source": [
    "def create_industry_rank(df): \n",
    "    create_df = df[df['OCC_CODE']=='15-2051'] ### # Filter data data science jobs \n",
    "    create_df = create_df[create_df['OWN_CODE']==5] ### filter to private industry\n",
    "    create_df[\"TOT_EMP\"] = pd.to_numeric(create_df[\"TOT_EMP\"], errors=\"coerce\") ### Convert to numeric - some * for missing data\n",
    "    create_df = create_df.sort_values(by=\"TOT_EMP\", ascending=False) ### Sort by employment\n",
    "    return(create_df)"
   ]
  },
  {
   "cell_type": "code",
   "execution_count": 19,
   "metadata": {},
   "outputs": [],
   "source": [
    "nation_datascience4 = create_industry_rank(industry_4digit_df)\n",
    "nation_datascience3 = create_industry_rank(industry_3digit_df)"
   ]
  },
  {
   "cell_type": "markdown",
   "metadata": {},
   "source": [
    "# MAP MSAs"
   ]
  },
  {
   "cell_type": "markdown",
   "metadata": {},
   "source": [
    "There are subtle differences in some of the naming conventions for the MSAs in the census and the Occupational Employment and Wage Statistics (OEWS) data so we have to do some matching to make a map between the two data sources. \n"
   ]
  },
  {
   "cell_type": "markdown",
   "metadata": {},
   "source": [
    "## Load Data"
   ]
  },
  {
   "cell_type": "code",
   "execution_count": 20,
   "metadata": {},
   "outputs": [],
   "source": [
    "# Load the shapefile\n",
    "shapefile_path = \"CensusShapeFiles/tl_2024_us_cbsa.shp\"\n",
    "gdf = gpd.read_file(shapefile_path)\n",
    "census_locale =gdf[['NAME']]"
   ]
  },
  {
   "cell_type": "code",
   "execution_count": 21,
   "metadata": {},
   "outputs": [],
   "source": [
    "# Load OEWS Data -- this step will take awhile to read-in the full df\n",
    "Employment = pd.read_excel('Data\\\\MSA_M2024_dl.xlsx', sheet_name=\"MSA_M2024_dl\")  ### read in the data\n",
    "OEWS_locale = Employment[['AREA_TITLE']].drop_duplicates()"
   ]
  },
  {
   "cell_type": "markdown",
   "metadata": {},
   "source": [
    "## Merge data"
   ]
  },
  {
   "cell_type": "markdown",
   "metadata": {},
   "source": [
    "Merge 1 --  Exact matches"
   ]
  },
  {
   "cell_type": "code",
   "execution_count": 22,
   "metadata": {},
   "outputs": [],
   "source": [
    "# Keeping exact matches (based on the data in OEWS df)\n",
    "exact_match = pd.merge(census_locale, OEWS_locale, left_on='NAME', right_on='AREA_TITLE', how='inner')"
   ]
  },
  {
   "cell_type": "code",
   "execution_count": 23,
   "metadata": {},
   "outputs": [],
   "source": [
    "# Checking un-matched geographies\n",
    "anti_join = pd.merge(census_locale, OEWS_locale, left_on='NAME', right_on='AREA_TITLE', how='right')\n",
    "anti_join = anti_join[anti_join['NAME'].isna()] ### keep only NA values to find what BLS values did not have a geo match\n",
    "anti_join = anti_join.dropna(axis=1, how='all') ### dropping cols filled with NAs to try a fuzzy match on remaining missing locations\n"
   ]
  },
  {
   "cell_type": "markdown",
   "metadata": {},
   "source": [
    "Merge 2 -- Fuzzy Matches"
   ]
  },
  {
   "cell_type": "code",
   "execution_count": 24,
   "metadata": {},
   "outputs": [
    {
     "data": {
      "application/vnd.microsoft.datawrangler.viewer.v0+json": {
       "columns": [
        {
         "name": "index",
         "rawType": "int64",
         "type": "integer"
        },
        {
         "name": "NAME",
         "rawType": "object",
         "type": "string"
        },
        {
         "name": "AREA_TITLE",
         "rawType": "object",
         "type": "string"
        }
       ],
       "conversionMethod": "pd.DataFrame",
       "ref": "35b7af18-e198-4b32-a45f-1ef2d463b06c",
       "rows": [
        [
         "0",
         "Mayagüez, PR",
         "Mayaguez, PR"
        ],
        [
         "1",
         "San Juan-Bayamón-Caguas, PR",
         "San Juan-Bayamon-Caguas, PR"
        ]
       ],
       "shape": {
        "columns": 2,
        "rows": 2
       }
      },
      "text/html": [
       "<div>\n",
       "<style scoped>\n",
       "    .dataframe tbody tr th:only-of-type {\n",
       "        vertical-align: middle;\n",
       "    }\n",
       "\n",
       "    .dataframe tbody tr th {\n",
       "        vertical-align: top;\n",
       "    }\n",
       "\n",
       "    .dataframe thead th {\n",
       "        text-align: right;\n",
       "    }\n",
       "</style>\n",
       "<table border=\"1\" class=\"dataframe\">\n",
       "  <thead>\n",
       "    <tr style=\"text-align: right;\">\n",
       "      <th></th>\n",
       "      <th>NAME</th>\n",
       "      <th>AREA_TITLE</th>\n",
       "    </tr>\n",
       "  </thead>\n",
       "  <tbody>\n",
       "    <tr>\n",
       "      <th>0</th>\n",
       "      <td>Mayagüez, PR</td>\n",
       "      <td>Mayaguez, PR</td>\n",
       "    </tr>\n",
       "    <tr>\n",
       "      <th>1</th>\n",
       "      <td>San Juan-Bayamón-Caguas, PR</td>\n",
       "      <td>San Juan-Bayamon-Caguas, PR</td>\n",
       "    </tr>\n",
       "  </tbody>\n",
       "</table>\n",
       "</div>"
      ],
      "text/plain": [
       "                          NAME                   AREA_TITLE\n",
       "0                 Mayagüez, PR                Mayaguez, PR\n",
       "1  San Juan-Bayamón-Caguas, PR  San Juan-Bayamon-Caguas, PR"
      ]
     },
     "execution_count": 24,
     "metadata": {},
     "output_type": "execute_result"
    }
   ],
   "source": [
    "# Function to find best match\n",
    "def fuzzy_merge(census_locale, anti_join, left_col, right_col, threshold=88):\n",
    "    matches = census_locale[left_col].apply(lambda x: process.extractOne(x, anti_join[right_col], score_cutoff=threshold))\n",
    "    census_locale['Best_Match'] = [match[0] if match else None for match in matches]\n",
    "    return pd.merge(census_locale, anti_join, left_on='Best_Match', right_on=right_col, how='right').drop(columns=['Best_Match'])\n",
    "\n",
    "# Perform Fuzzy Merge\n",
    "fuzzy_df = fuzzy_merge(census_locale, anti_join, 'NAME', 'AREA_TITLE')\n",
    "fuzzy_df.head() ### manually check that the fuzzy produced logical matches\n"
   ]
  },
  {
   "cell_type": "code",
   "execution_count": 25,
   "metadata": {},
   "outputs": [],
   "source": [
    "# Combine MSA Maps into a final map\n",
    "MSA_MAP = pd.concat([exact_match, fuzzy_df], ignore_index=True)"
   ]
  },
  {
   "cell_type": "markdown",
   "metadata": {},
   "source": [
    "# Where the Data Jobs Are: Mapping Data Science Hotspots in the U.S."
   ]
  },
  {
   "cell_type": "markdown",
   "metadata": {},
   "source": [
    "## Prep data tables"
   ]
  },
  {
   "cell_type": "markdown",
   "metadata": {},
   "source": [
    "For this analysis, I am going to explore which metropolitan areas had the highest number of data science jobs across the United States. \n",
    "\n",
    "Data Sources: \n",
    "* Occupational Employment and Wage Statistics (OEWS) Tables https://www.bls.gov/oes/tables.htm \n",
    "* Shapefiles: https://www.census.gov/cgi-bin/geo/shapefiles/index.php?year=2024&layergroup=Core+Based+Statistical+Areas"
   ]
  },
  {
   "cell_type": "markdown",
   "metadata": {},
   "source": [
    "First, let's read in the BLS employment by occupation data and filter to just data science jobs"
   ]
  },
  {
   "cell_type": "code",
   "execution_count": 26,
   "metadata": {},
   "outputs": [],
   "source": [
    "def create_MSAEmploy(df): \n",
    "    #  OEWS Data\n",
    "    create_employ = df[df['OCC_CODE']=='15-2051'] ### Filter to just data science occupations\n",
    "    create_employ [\"TOT_EMP\"] = pd.to_numeric(create_employ[\"TOT_EMP\"], errors=\"coerce\") ### Convert to numeric \n",
    "    create_employ = create_employ.dropna(subset=[\"TOT_EMP\"])  ### Remove rows where TOT_EMP is not reported\n",
    "    create_employ = create_employ.sort_values(by=\"TOT_EMP\", ascending=False) ### Sort greatest to least\n",
    "    create_employ[\"A_MEDIAN\"] = pd.to_numeric(create_employ[\"A_MEDIAN\"], errors=\"coerce\") ### Convert to numeric \n",
    "    return(create_employ)\n",
    "\n",
    "MSA_compare = create_MSAEmploy(Employment)"
   ]
  },
  {
   "cell_type": "code",
   "execution_count": 27,
   "metadata": {},
   "outputs": [],
   "source": [
    "# Use the ID map to create a column to be able to merge the employment data with the shapefile \n",
    "MSA_employ = pd.merge(MSA_compare, MSA_MAP, left_on='AREA_TITLE', right_on='AREA_TITLE', how='inner')"
   ]
  },
  {
   "cell_type": "markdown",
   "metadata": {},
   "source": [
    "Now let's read in the shape files from the census bureau."
   ]
  },
  {
   "cell_type": "code",
   "execution_count": 28,
   "metadata": {},
   "outputs": [],
   "source": [
    "# Extract MSA centroids\n",
    "gdf[\"centroid\"] = gdf.geometry.centroid\n",
    "gdf[\"lon\"] = gdf[\"centroid\"].x\n",
    "gdf[\"lat\"] = gdf[\"centroid\"].y\n"
   ]
  },
  {
   "cell_type": "markdown",
   "metadata": {},
   "source": [
    "## Merge BLS data and shapefile into one df"
   ]
  },
  {
   "cell_type": "code",
   "execution_count": 29,
   "metadata": {},
   "outputs": [],
   "source": [
    "# Combine the shapefile with the employment data\n",
    "geo_employ = pd.merge(gdf, MSA_employ, left_on=\"NAME\", right_on=\"NAME\", how = 'right') ### want a right join because only want metros w/ employment data"
   ]
  },
  {
   "cell_type": "code",
   "execution_count": 41,
   "metadata": {},
   "outputs": [
    {
     "data": {
      "application/vnd.plotly.v1+json": {
       "config": {
        "plotlyServerURL": "https://plot.ly"
       },
       "data": [
        {
         "hovertemplate": "<b>%{hovertext}</b><br>Employment Count: %{marker.size:,}<extra></extra>",
         "hovertext": [
          "New York-Newark-Jersey City, NY-NJ",
          "Los Angeles-Long Beach-Anaheim, CA",
          "San Francisco-Oakland-Fremont, CA",
          "Dallas-Fort Worth-Arlington, TX",
          "Washington-Arlington-Alexandria, DC-VA-MD-WV",
          "Boston-Cambridge-Newton, MA-NH",
          "San Jose-Sunnyvale-Santa Clara, CA",
          "Seattle-Tacoma-Bellevue, WA",
          "Atlanta-Sandy Springs-Roswell, GA",
          "Chicago-Naperville-Elgin, IL-IN",
          "Philadelphia-Camden-Wilmington, PA-NJ-DE-MD",
          "Houston-Pasadena-The Woodlands, TX",
          "Charlotte-Concord-Gastonia, NC-SC",
          "Phoenix-Mesa-Chandler, AZ",
          "Austin-Round Rock-San Marcos, TX",
          "Minneapolis-St. Paul-Bloomington, MN-WI",
          "Detroit-Warren-Dearborn, MI",
          "St. Louis, MO-IL",
          "San Diego-Chula Vista-Carlsbad, CA",
          "Sacramento-Roseville-Folsom, CA",
          "Miami-Fort Lauderdale-West Palm Beach, FL",
          "Portland-Vancouver-Hillsboro, OR-WA",
          "Raleigh-Cary, NC",
          "Pittsburgh, PA",
          "Tampa-St. Petersburg-Clearwater, FL",
          "Durham-Chapel Hill, NC",
          "Cincinnati, OH-KY-IN",
          "Nashville-Davidson--Murfreesboro--Franklin, TN",
          "San Antonio-New Braunfels, TX",
          "Orlando-Kissimmee-Sanford, FL",
          "Indianapolis-Carmel-Greenwood, IN",
          "Des Moines-West Des Moines, IA",
          "Baltimore-Columbia-Towson, MD",
          "Milwaukee-Waukesha, WI",
          "Providence-Warwick, RI-MA",
          "Omaha, NE-IA",
          "Columbus, OH",
          "Cleveland, OH",
          "Rochester, NY",
          "Kansas City, MO-KS",
          "Provo-Orem-Lehi, UT",
          "Las Vegas-Henderson-North Las Vegas, NV",
          "Richmond, VA",
          "Riverside-San Bernardino-Ontario, CA",
          "Oklahoma City, OK",
          "Madison, WI",
          "Jacksonville, FL",
          "Baton Rouge, LA",
          "Louisville/Jefferson County, KY-IN",
          "Tulsa, OK",
          "Huntsville, AL",
          "Buffalo-Cheektowaga, NY",
          "Virginia Beach-Chesapeake-Norfolk, VA-NC",
          "Boise City, ID",
          "Hartford-West Hartford-East Hartford, CT",
          "Portland-South Portland, ME",
          "Greenville-Anderson-Greer, SC",
          "Albany-Schenectady-Troy, NY",
          "Grand Rapids-Wyoming-Kentwood, MI",
          "Columbia, SC",
          "Harrisburg-Carlisle, PA",
          "Oxnard-Thousand Oaks-Ventura, CA",
          "Worcester, MA",
          "Charleston-North Charleston, SC",
          "Birmingham, AL",
          "Allentown-Bethlehem-Easton, PA-NJ",
          "Bloomington, IL",
          "Lansing-East Lansing, MI",
          "Lincoln, NE",
          "Bridgeport-Stamford-Danbury, CT",
          "Trenton-Princeton, NJ",
          "Tucson, AZ",
          "Ogden, UT",
          "Akron, OH",
          "Albuquerque, NM",
          "Syracuse, NY",
          "Manchester-Nashua, NH",
          "Dayton-Kettering-Beavercreek, OH",
          "Fort Wayne, IN",
          "Davenport-Moline-Rock Island, IA-IL",
          "Ann Arbor, MI",
          "Winston-Salem, NC",
          "Springfield, MA",
          "Memphis, TN-MS-AR",
          "Knoxville, TN",
          "Palm Bay-Melbourne-Titusville, FL",
          "El Paso, TX",
          "Greensboro-High Point, NC",
          "Lexington-Fayette, KY",
          "Idaho Falls, ID",
          "Fayetteville-Springdale-Rogers, AR",
          "Urban Honolulu, HI",
          "Bakersfield-Delano, CA",
          "Kiryas Joel-Poughkeepsie-Newburgh, NY",
          "Green Bay, WI",
          "Santa Maria-Santa Barbara, CA",
          "Reno, NV",
          "Lancaster, PA",
          "Sioux Falls, SD-MN",
          "Lakeland-Winter Haven, FL",
          "Oshkosh-Neenah, WI",
          "Springfield, MO",
          "Scranton--Wilkes-Barre, PA",
          "Fresno, CA",
          "Cedar Rapids, IA",
          "New Haven, CT",
          "Tallahassee, FL",
          "Waterbury-Shelton, CT",
          "Toledo, OH",
          "Chattanooga, TN-GA",
          "Cape Coral-Fort Myers, FL",
          "Crestview-Fort Walton Beach-Destin, FL",
          "Little Rock-North Little Rock-Conway, AR",
          "Reading, PA",
          "Ithaca, NY",
          "Fargo, ND-MN",
          "Augusta-Richmond County, GA-SC",
          "Columbia, MO",
          "Erie, PA",
          "Wilmington, NC",
          "Savannah, GA",
          "Kalamazoo-Portage, MI",
          "Kennewick-Richland, WA",
          "Spokane-Spokane Valley, WA",
          "Corpus Christi, TX",
          "York-Hanover, PA",
          "Champaign-Urbana, IL",
          "Peoria, IL",
          "Lexington Park, MD",
          "Anchorage, AK",
          "Spartanburg, SC",
          "Gainesville, FL",
          "Evansville, IN",
          "New Orleans-Metairie, LA",
          "Burlington-South Burlington, VT",
          "South Bend-Mishawaka, IN-MI",
          "Ames, IA",
          "Olympia-Lacey-Tumwater, WA",
          "Pensacola-Ferry Pass-Brent, FL",
          "Santa Cruz-Watsonville, CA",
          "Santa Rosa-Petaluma, CA",
          "Utica-Rome, NY",
          "Charlottesville, VA",
          "College Station-Bryan, TX",
          "Columbus, GA-AL",
          "Dubuque, IA",
          "Elkhart-Goshen, IN",
          "Hickory-Lenoir-Morganton, NC",
          "McAllen-Edinburg-Mission, TX",
          "Stockton-Lodi, CA",
          "Bend, OR",
          "Florence, SC",
          "Iowa City, IA",
          "Kingsport-Bristol, TN-VA",
          "Midland, TX",
          "St. George, UT",
          "Waco, TX",
          "Amarillo, TX",
          "Appleton, WI",
          "Atlantic City-Hammonton, NJ",
          "Beaumont-Port Arthur, TX",
          "Eugene-Springfield, OR",
          "Jackson, MS",
          "La Crosse-Onalaska, WI-MN",
          "Lubbock, TX",
          "Salem, OR",
          "San Juan-Bayamón-Caguas, PR",
          "Tyler, TX",
          "Warner Robins, GA",
          "Asheville, NC",
          "Bangor, ME",
          "Charleston, WV",
          "Deltona-Daytona Beach-Ormond Beach, FL",
          "Duluth, MN-WI",
          "Eau Claire, WI",
          "Fayetteville, NC",
          "Flint, MI",
          "Logan, UT-ID",
          "Montgomery, AL",
          "Roanoke, VA",
          "Rockford, IL",
          "Vallejo, CA",
          "Waterloo-Cedar Falls, IA",
          "Barnstable Town, MA",
          "Binghamton, NY",
          "Bismarck, ND",
          "Bozeman, MT",
          "Canton-Massillon, OH",
          "Corvallis, OR",
          "Jefferson City, MO",
          "Killeen-Temple, TX",
          "Laredo, TX",
          "Longview, TX",
          "Lynchburg, VA",
          "Macon-Bibb County, GA",
          "Midland, MI",
          "Modesto, CA",
          "Saginaw, MI",
          "San Luis Obispo-Paso Robles, CA",
          "Springfield, IL",
          "Wausau, WI",
          "Wichita, KS",
          "Lewiston-Auburn, ME",
          "Mobile, AL",
          "Naples-Marco Island, FL",
          "Norwich-New London-Willimantic, CT",
          "Panama City-Panama City Beach, FL",
          "Pittsfield, MA",
          "Salinas, CA",
          "Sioux City, IA-NE-SD",
          "Traverse City, MI",
          "Visalia, CA",
          "Youngstown-Warren, OH",
          "Yuma, AZ",
          "Joplin, MO-KS",
          "Kenosha, WI",
          "Kingston, NY",
          "Lafayette-West Lafayette, IN",
          "Abilene, TX",
          "Amherst Town-Northampton, MA",
          "Battle Creek, MI",
          "Blacksburg-Christiansburg-Radford, VA",
          "Bloomington, IN",
          "Bremerton-Silverdale-Port Orchard, WA",
          "Casper, WY",
          "Dalton, GA",
          "Gainesville, GA",
          "Greenville, NC",
          "Jackson, MI",
          "Janesville-Beloit, WI",
          "Huntington-Ashland, WV-KY-OH",
          "Niles, MI",
          "Napa, CA",
          "Myrtle Beach-Conway-North Myrtle Beach, SC",
          "Terre Haute, IN",
          "San Angelo, TX",
          "Sheboygan, WI",
          "Sierra Vista-Douglas, AZ",
          "State College, PA",
          "Medford, OR",
          "Port St. Lucie, FL",
          "Racine-Mount Pleasant, WI",
          "Ocala, FL",
          "Redding, CA",
          "Grand Forks, ND-MN",
          "Hagerstown-Martinsburg, MD-WV",
          "Albany, GA",
          "Altoona, PA",
          "Bellingham, WA",
          "Chambersburg, PA",
          "Chico, CA",
          "Clarksville, TN-KY",
          "Columbus, IN",
          "Dover, DE",
          "Elizabethtown, KY",
          "Flagstaff, AZ",
          "Billings, MT",
          "Cape Girardeau, MO-IL",
          "Glens Falls, NY",
          "Las Cruces, NM",
          "Lawton, OK",
          "Lewiston, ID-WA",
          "Wichita Falls, TX"
         ],
         "lat": [
          40.73637486795714,
          34.11176360235264,
          37.774109391377706,
          32.8495029319331,
          38.832383262698315,
          42.5178983056129,
          36.91030847870619,
          47.55747496670581,
          33.733762523212704,
          41.75961644514,
          39.89584498649021,
          29.80212288788412,
          35.16858472948385,
          33.18586541061491,
          30.262246727371622,
          45.10335986165826,
          42.71623563197045,
          38.735247592128154,
          33.02819796739121,
          38.780495487822286,
          26.135276354275575,
          45.598362690797636,
          35.75727480498975,
          40.47443348995461,
          28.123415297498294,
          35.99105704382668,
          39.08111940323311,
          36.08909290334003,
          29.428763998124197,
          28.4343464287635,
          39.79287130637698,
          41.575666004845104,
          39.30554078475111,
          43.18039750514765,
          41.64493427298193,
          41.29008437298225,
          39.968125928343596,
          41.670434006352316,
          43.188514441633764,
          38.937146017241425,
          39.86450191482904,
          36.21519630845167,
          37.41248327589083,
          34.551687706784136,
          35.42987340177036,
          43.08018135482941,
          30.234071255951516,
          30.51732150170172,
          38.22443524749478,
          36.25041272660737,
          34.78318967859805,
          43.03785915588772,
          36.840285900058305,
          43.01601416202573,
          41.687448087452864,
          43.65296364433356,
          34.685125573715695,
          42.788494006599215,
          42.9783994429018,
          34.09175612742186,
          40.32666785180804,
          34.35706907242699,
          42.3513945714977,
          33.01657303819066,
          33.46384087652043,
          40.78936919862038,
          40.490891618559736,
          42.71330159836051,
          40.819919102203656,
          41.25526633860353,
          40.283437425482006,
          32.09739870528064,
          41.118953959214835,
          41.148734379158554,
          35.12229764414613,
          43.20096350617498,
          42.91529150609051,
          39.82951286321467,
          41.00539945512145,
          41.39687948744728,
          42.25322534883891,
          36.07667743641049,
          42.13511501401045,
          35.00735913468447,
          36.04472599554532,
          28.300317937857866,
          31.51308818662487,
          36.02586207235691,
          38.09050888023303,
          43.62250547435144,
          36.108349907066504,
          23.718640396506395,
          35.342621500444935,
          41.58275994020366,
          44.69882136938099,
          34.53825125785915,
          40.25882481244369,
          40.04243033491308,
          43.527296471513694,
          27.94887148630418,
          44.068876891378395,
          37.36167529684541,
          41.32319577733379,
          36.87999350238702,
          42.09147230654023,
          41.29447042847549,
          30.34905328212808,
          41.52315152998767,
          41.54058866008217,
          35.051984200233065,
          26.56349671118828,
          30.591953158244905,
          34.75728656201916,
          40.4162956671039,
          42.45201867851938,
          46.91781324137095,
          33.46102528715891,
          38.98380988051826,
          42.11749624629517,
          34.25211281603683,
          32.10686332702063,
          42.24545445407747,
          46.363562469943645,
          48.08110311680401,
          27.892838346113752,
          39.9199595994266,
          40.22667832841295,
          40.78915584840243,
          38.31534228591873,
          62.22437414137989,
          34.83790692919694,
          29.456177955801056,
          38.0487638499199,
          29.71181286250829,
          44.686826183105104,
          41.773627419745885,
          42.03637158352593,
          46.92962690588329,
          30.604988830207425,
          37.02160584224619,
          38.52538142533889,
          43.33716509753293,
          37.95010315212047,
          30.756539295812185,
          32.418225201443754,
          42.46882243268045,
          41.59738447990813,
          35.81290420954569,
          26.396734153670508,
          37.934765183750024,
          44.16629363752927,
          34.1520194544314,
          41.51133045511344,
          36.60777362443048,
          32.08975366876261,
          37.280416921032725,
          31.594477658106452,
          35.24888863894819,
          44.28903134984166,
          39.285131248595086,
          30.076471405439264,
          43.9415554742335,
          32.427749376252606,
          43.69826699947517,
          33.463603991754674,
          44.90339673454215,
          18.29528604857324,
          32.3750354238494,
          32.49029845389787,
          35.61723714882868,
          45.400512321313315,
          38.27165500341464,
          29.17994425484908,
          47.318479851260136,
          44.9388004165829,
          35.0370999853504,
          43.02172289859303,
          41.889583883134115,
          32.36061112622032,
          37.286089014960595,
          42.33161409498088,
          38.2669214768002,
          42.536232098463806,
          41.77344927347826,
          42.16447752593655,
          46.88407538095239,
          45.540389499429324,
          40.718667594643236,
          44.49179903576947,
          38.63981281490281,
          31.207838512580135,
          27.76106243008186,
          32.43105853811108,
          37.36501889088983,
          32.85769488473761,
          43.646856704695686,
          37.55915585054911,
          43.335028731014646,
          35.38744905262926,
          39.829594398180376,
          44.89828570995151,
          37.63867118251767,
          44.16584842785464,
          30.685151206940123,
          26.100367949059596,
          41.484789463948125,
          30.27434619731384,
          42.37067554379461,
          36.23977436811787,
          42.51886942389314,
          44.94142028244704,
          36.22019066656752,
          41.19619718650585,
          32.769619918498236,
          37.092431540417174,
          42.57850410099628,
          41.88814562680186,
          40.47724707229659,
          32.4496900452076,
          42.340155585534184,
          42.246539106045404,
          37.12085725699317,
          39.23471224239362,
          47.63964660128235,
          42.96224044575415,
          34.79628157756104,
          34.317086156869976,
          35.593298974621256,
          42.248487395765956,
          42.67121812761983,
          38.35868180221814,
          41.99577768511437,
          38.50696360242177,
          33.904525276719276,
          39.391908255111865,
          31.363663625431506,
          43.719707377940836,
          31.879627478566896,
          40.9189540214956,
          42.432155888293586,
          27.224695472038075,
          42.75117428071774,
          29.210202286515983,
          40.76376660115652,
          47.83595964976275,
          39.549905642078556,
          31.646459779400633,
          40.48111671369334,
          48.829616199902766,
          39.92741840127329,
          39.66692936105124,
          36.692949349473295,
          39.20597057207045,
          39.09595476988037,
          37.65311269567056,
          35.8387248492318,
          45.63997319796508,
          37.3244849496499,
          43.443544278607476,
          32.35264838360237,
          34.524177113223516,
          46.2691528691608,
          33.77475217974184
         ],
         "legendgroup": "",
         "lon": [
          -73.80356960293985,
          -118.18075908268506,
          -122.27410918593066,
          -96.97039691200993,
          -77.49803594117299,
          -71.0219280183955,
          -121.37692780284263,
          -121.88142914055544,
          -84.39216958707833,
          -87.84489356106339,
          -75.31171177145215,
          -95.34227903337397,
          -80.79536593071371,
          -112.07070070028564,
          -97.65435382737088,
          -93.27533865724331,
          -83.20582427322643,
          -90.35010185467162,
          -116.77019669001278,
          -120.9972491390811,
          -80.46863198576719,
          -122.47828767431096,
          -78.46083182980976,
          -79.86317562824709,
          -82.52853017182946,
          -79.09963807733739,
          -84.46458999513642,
          -86.72443988189264,
          -98.60226372804078,
          -81.36305352886303,
          -86.12156639516519,
          -93.76182657398422,
          -76.5510061326829,
          -87.7969626778574,
          -71.38966668755033,
          -95.99912404635334,
          -82.83690444899722,
          -81.42944678504406,
          -77.5539288290651,
          -94.44438719838288,
          -112.35261188672312,
          -115.01356105204503,
          -77.44620107884265,
          -116.12973844282817,
          -97.50387646217757,
          -89.59222360647242,
          -81.75749729488571,
          -91.12697188471148,
          -85.70245666138787,
          -96.16621872313064,
          -86.73464420937788,
          -78.77537663163785,
          -76.39603683595595,
          -116.14324208397097,
          -72.54576969648033,
          -70.41687105053138,
          -82.41388789096362,
          -73.94197940657605,
          -85.7141537361551,
          -81.04238464258138,
          -77.10119768506455,
          -119.12601434728353,
          -71.90772697588598,
          -80.00862647958151,
          -86.81386802272088,
          -75.40387574436143,
          -88.84732427797877,
          -84.60697399333331,
          -96.87081622968465,
          -73.38300100138436,
          -74.70175239182764,
          -111.78986399447216,
          -111.87022926060034,
          -81.34953267156597,
          -106.47158260974265,
          -76.0769590418875,
          -71.71608246629012,
          -84.14191256864473,
          -85.21677558713552,
          -90.4659117575504,
          -83.8387705070282,
          -80.34583278192346,
          -72.63164864220703,
          -89.81474051295407,
          -84.1374714453436,
          -80.70120876495957,
          -105.54104725056263,
          -79.79160397045388,
          -84.43305427845347,
          -112.42787441925051,
          -94.07549378358702,
          -164.73674034720787,
          -118.73002806577927,
          -74.02564045245543,
          -87.82507975708013,
          -120.03101114135809,
          -119.55320182555032,
          -76.24769684510478,
          -96.873887808757,
          -81.69768539562489,
          -88.6446587533396,
          -93.17707481333295,
          -75.89573493775778,
          -119.67934047134568,
          -91.6313309616663,
          -72.83366611181374,
          -84.27572573394238,
          -73.08604214008467,
          -83.69338640365014,
          -85.36007064002418,
          -81.98483599698326,
          -86.37110178557725,
          -92.39718322784162,
          -75.92599808862222,
          -76.47365412977649,
          -96.96549413676233,
          -81.98292809327468,
          -92.57933005508538,
          -80.09815349932951,
          -78.03864847691109,
          -81.27134839214521,
          -85.53118333715166,
          -119.25426632445586,
          -117.6708429263761,
          -97.40126451988552,
          -76.72651014508683,
          -88.29452710958309,
          -89.5159061843627,
          -76.5295298450362,
          -149.55443384242562,
          -81.84756593834756,
          -82.66931149332902,
          -87.58180890376751,
          -89.66735827514029,
          -73.03149884379336,
          -86.13414729011525,
          -93.6983390819213,
          -122.83229374408856,
          -87.15692947060404,
          -122.00978737438118,
          -122.92272709362724,
          -75.18138307054288,
          -78.59289955525108,
          -96.4889667961048,
          -84.84393259852786,
          -90.88252185038256,
          -85.85875527405359,
          -81.45428440214266,
          -98.18111521882639,
          -121.27143844405619,
          -120.88391010471959,
          -79.80845001142356,
          -91.64998527551542,
          -82.44260317962458,
          -101.99101579994662,
          -113.50467371546617,
          -97.28287321782294,
          -101.90954513555107,
          -88.37115326162012,
          -74.73725107432915,
          -94.20136010366994,
          -122.87663764155072,
          -90.13600414871652,
          -91.10762064840976,
          -101.88074218126884,
          -122.90327375643695,
          -66.0389143099953,
          -95.26918268309834,
          -83.71203339200858,
          -82.57100077078302,
          -68.64942812896376,
          -81.49170014443992,
          -81.1898407748509,
          -92.39284861204159,
          -91.28220957674965,
          -78.98041240697616,
          -83.70671102712826,
          -111.76897539098839,
          -86.40323998288596,
          -79.94656264557571,
          -89.04208114669717,
          -121.93999006719702,
          -92.47115553205133,
          -70.23813749230841,
          -76.02514482576811,
          -100.97861018003888,
          -111.17036894627947,
          -81.2534717417313,
          -123.42924906242823,
          -92.0916925876155,
          -97.78759128510924,
          -99.33156530421446,
          -94.67519753332954,
          -79.2197431116736,
          -83.71490686576396,
          -84.38810911289043,
          -120.99767552001309,
          -84.05318703425706,
          -120.45219084564243,
          -89.69691393001816,
          -89.75905892340126,
          -97.24542750276882,
          -70.20644499377971,
          -88.19752379023207,
          -81.44454715225734,
          -72.1007273360993,
          -85.64272782525973,
          -73.20641297764685,
          -121.30890152396167,
          -96.30880082147209,
          -85.90575712433812,
          -118.80046158261075,
          -80.76727664333801,
          -113.90561548044276,
          -94.50108308081984,
          -87.65311823063857,
          -74.25856951631634,
          -87.02341007552093,
          -99.7176783249734,
          -72.66378616490911,
          -85.00558227053244,
          -80.53291207907779,
          -86.67594056753894,
          -122.64917638760737,
          -106.79849380290528,
          -84.84810820421032,
          -83.81957265920988,
          -77.37449655189732,
          -84.42343730330076,
          -89.07155826247805,
          -82.56853950667445,
          -86.68542115443856,
          -122.3306370426753,
          -78.97615818768475,
          -87.34399326919083,
          -100.67303895377836,
          -87.63477447487065,
          -109.75126300522564,
          -77.81996372478596,
          -122.72851787739313,
          -80.4210025347628,
          -87.69608097952725,
          -82.05667567080549,
          -122.0405215282598,
          -96.84438541696859,
          -77.98138535234493,
          -84.11531925517163,
          -78.34829588953637,
          -121.87281310603294,
          -77.72125091944837,
          -121.60067173160115,
          -87.62305602726994,
          -85.8976029731582,
          -75.50461385378375,
          -85.88517994900867,
          -111.77052100774208,
          -108.82187161413381,
          -89.76981524988717,
          -73.64881136620112,
          -106.83272163462934,
          -98.43479579077287,
          -116.94372492088011,
          -98.49138724955586
         ],
         "marker": {
          "color": [
           19810,
           10030,
           9350,
           8630,
           8530,
           8220,
           6570,
           6100,
           5940,
           5840,
           5640,
           4900,
           3870,
           3210,
           3100,
           2870,
           2810,
           2660,
           2550,
           2510,
           2250,
           2090,
           1940,
           1890,
           1640,
           1540,
           1510,
           1490,
           1440,
           1430,
           1430,
           1320,
           1310,
           1220,
           1200,
           1190,
           1160,
           1160,
           1030,
           920,
           910,
           890,
           880,
           840,
           840,
           830,
           780,
           780,
           760,
           690,
           630,
           630,
           610,
           590,
           560,
           560,
           560,
           550,
           520,
           520,
           500,
           480,
           460,
           460,
           440,
           430,
           390,
           380,
           370,
           370,
           370,
           360,
           320,
           320,
           320,
           310,
           300,
           300,
           300,
           290,
           280,
           260,
           260,
           250,
           250,
           250,
           250,
           240,
           230,
           220,
           220,
           220,
           210,
           210,
           200,
           200,
           200,
           200,
           200,
           200,
           180,
           180,
           180,
           180,
           180,
           180,
           180,
           170,
           160,
           160,
           160,
           160,
           150,
           150,
           150,
           150,
           150,
           150,
           150,
           150,
           140,
           140,
           140,
           140,
           130,
           130,
           130,
           130,
           130,
           130,
           130,
           130,
           130,
           120,
           120,
           120,
           110,
           110,
           110,
           110,
           110,
           110,
           100,
           100,
           100,
           100,
           100,
           100,
           100,
           100,
           90,
           90,
           90,
           90,
           90,
           90,
           90,
           80,
           80,
           80,
           80,
           80,
           80,
           80,
           80,
           80,
           80,
           80,
           80,
           70,
           70,
           70,
           70,
           70,
           70,
           70,
           70,
           70,
           70,
           70,
           70,
           70,
           70,
           60,
           60,
           60,
           60,
           60,
           60,
           60,
           60,
           60,
           60,
           60,
           60,
           60,
           60,
           60,
           60,
           60,
           60,
           60,
           50,
           50,
           50,
           50,
           50,
           50,
           50,
           50,
           50,
           50,
           50,
           50,
           50,
           50,
           50,
           50,
           50,
           50,
           50,
           50,
           50,
           50,
           50,
           50,
           50,
           50,
           50,
           50,
           40,
           40,
           40,
           40,
           40,
           40,
           40,
           40,
           40,
           40,
           40,
           40,
           40,
           40,
           40,
           40,
           40,
           40,
           40,
           40,
           40,
           40,
           40,
           40,
           40,
           40,
           30,
           30,
           30,
           30,
           30,
           30,
           30
          ],
          "coloraxis": "coloraxis",
          "size": [
           19810,
           10030,
           9350,
           8630,
           8530,
           8220,
           6570,
           6100,
           5940,
           5840,
           5640,
           4900,
           3870,
           3210,
           3100,
           2870,
           2810,
           2660,
           2550,
           2510,
           2250,
           2090,
           1940,
           1890,
           1640,
           1540,
           1510,
           1490,
           1440,
           1430,
           1430,
           1320,
           1310,
           1220,
           1200,
           1190,
           1160,
           1160,
           1030,
           920,
           910,
           890,
           880,
           840,
           840,
           830,
           780,
           780,
           760,
           690,
           630,
           630,
           610,
           590,
           560,
           560,
           560,
           550,
           520,
           520,
           500,
           480,
           460,
           460,
           440,
           430,
           390,
           380,
           370,
           370,
           370,
           360,
           320,
           320,
           320,
           310,
           300,
           300,
           300,
           290,
           280,
           260,
           260,
           250,
           250,
           250,
           250,
           240,
           230,
           220,
           220,
           220,
           210,
           210,
           200,
           200,
           200,
           200,
           200,
           200,
           180,
           180,
           180,
           180,
           180,
           180,
           180,
           170,
           160,
           160,
           160,
           160,
           150,
           150,
           150,
           150,
           150,
           150,
           150,
           150,
           140,
           140,
           140,
           140,
           130,
           130,
           130,
           130,
           130,
           130,
           130,
           130,
           130,
           120,
           120,
           120,
           110,
           110,
           110,
           110,
           110,
           110,
           100,
           100,
           100,
           100,
           100,
           100,
           100,
           100,
           90,
           90,
           90,
           90,
           90,
           90,
           90,
           80,
           80,
           80,
           80,
           80,
           80,
           80,
           80,
           80,
           80,
           80,
           80,
           70,
           70,
           70,
           70,
           70,
           70,
           70,
           70,
           70,
           70,
           70,
           70,
           70,
           70,
           60,
           60,
           60,
           60,
           60,
           60,
           60,
           60,
           60,
           60,
           60,
           60,
           60,
           60,
           60,
           60,
           60,
           60,
           60,
           50,
           50,
           50,
           50,
           50,
           50,
           50,
           50,
           50,
           50,
           50,
           50,
           50,
           50,
           50,
           50,
           50,
           50,
           50,
           50,
           50,
           50,
           50,
           50,
           50,
           50,
           50,
           50,
           40,
           40,
           40,
           40,
           40,
           40,
           40,
           40,
           40,
           40,
           40,
           40,
           40,
           40,
           40,
           40,
           40,
           40,
           40,
           40,
           40,
           40,
           40,
           40,
           40,
           40,
           30,
           30,
           30,
           30,
           30,
           30,
           30
          ],
          "sizemode": "area",
          "sizeref": 16.17142857142857
         },
         "mode": "markers",
         "name": "",
         "showlegend": false,
         "subplot": "mapbox",
         "type": "scattermapbox"
        }
       ],
       "layout": {
        "coloraxis": {
         "colorbar": {
          "title": {
           "text": "Employment Count"
          }
         },
         "colorscale": [
          [
           0,
           "#0d0887"
          ],
          [
           0.1111111111111111,
           "#46039f"
          ],
          [
           0.2222222222222222,
           "#7201a8"
          ],
          [
           0.3333333333333333,
           "#9c179e"
          ],
          [
           0.4444444444444444,
           "#bd3786"
          ],
          [
           0.5555555555555556,
           "#d8576b"
          ],
          [
           0.6666666666666666,
           "#ed7953"
          ],
          [
           0.7777777777777778,
           "#fb9f3a"
          ],
          [
           0.8888888888888888,
           "#fdca26"
          ],
          [
           1,
           "#f0f921"
          ]
         ]
        },
        "legend": {
         "itemsizing": "constant",
         "tracegroupgap": 0
        },
        "mapbox": {
         "center": {
          "lat": 37.0902,
          "lon": -95.7129
         },
         "domain": {
          "x": [
           0,
           1
          ],
          "y": [
           0,
           1
          ]
         },
         "style": "carto-positron",
         "zoom": 3
        },
        "showlegend": true,
        "template": {
         "data": {
          "bar": [
           {
            "error_x": {
             "color": "#2a3f5f"
            },
            "error_y": {
             "color": "#2a3f5f"
            },
            "marker": {
             "line": {
              "color": "#E5ECF6",
              "width": 0.5
             },
             "pattern": {
              "fillmode": "overlay",
              "size": 10,
              "solidity": 0.2
             }
            },
            "type": "bar"
           }
          ],
          "barpolar": [
           {
            "marker": {
             "line": {
              "color": "#E5ECF6",
              "width": 0.5
             },
             "pattern": {
              "fillmode": "overlay",
              "size": 10,
              "solidity": 0.2
             }
            },
            "type": "barpolar"
           }
          ],
          "carpet": [
           {
            "aaxis": {
             "endlinecolor": "#2a3f5f",
             "gridcolor": "white",
             "linecolor": "white",
             "minorgridcolor": "white",
             "startlinecolor": "#2a3f5f"
            },
            "baxis": {
             "endlinecolor": "#2a3f5f",
             "gridcolor": "white",
             "linecolor": "white",
             "minorgridcolor": "white",
             "startlinecolor": "#2a3f5f"
            },
            "type": "carpet"
           }
          ],
          "choropleth": [
           {
            "colorbar": {
             "outlinewidth": 0,
             "ticks": ""
            },
            "type": "choropleth"
           }
          ],
          "contour": [
           {
            "colorbar": {
             "outlinewidth": 0,
             "ticks": ""
            },
            "colorscale": [
             [
              0,
              "#0d0887"
             ],
             [
              0.1111111111111111,
              "#46039f"
             ],
             [
              0.2222222222222222,
              "#7201a8"
             ],
             [
              0.3333333333333333,
              "#9c179e"
             ],
             [
              0.4444444444444444,
              "#bd3786"
             ],
             [
              0.5555555555555556,
              "#d8576b"
             ],
             [
              0.6666666666666666,
              "#ed7953"
             ],
             [
              0.7777777777777778,
              "#fb9f3a"
             ],
             [
              0.8888888888888888,
              "#fdca26"
             ],
             [
              1,
              "#f0f921"
             ]
            ],
            "type": "contour"
           }
          ],
          "contourcarpet": [
           {
            "colorbar": {
             "outlinewidth": 0,
             "ticks": ""
            },
            "type": "contourcarpet"
           }
          ],
          "heatmap": [
           {
            "colorbar": {
             "outlinewidth": 0,
             "ticks": ""
            },
            "colorscale": [
             [
              0,
              "#0d0887"
             ],
             [
              0.1111111111111111,
              "#46039f"
             ],
             [
              0.2222222222222222,
              "#7201a8"
             ],
             [
              0.3333333333333333,
              "#9c179e"
             ],
             [
              0.4444444444444444,
              "#bd3786"
             ],
             [
              0.5555555555555556,
              "#d8576b"
             ],
             [
              0.6666666666666666,
              "#ed7953"
             ],
             [
              0.7777777777777778,
              "#fb9f3a"
             ],
             [
              0.8888888888888888,
              "#fdca26"
             ],
             [
              1,
              "#f0f921"
             ]
            ],
            "type": "heatmap"
           }
          ],
          "heatmapgl": [
           {
            "colorbar": {
             "outlinewidth": 0,
             "ticks": ""
            },
            "colorscale": [
             [
              0,
              "#0d0887"
             ],
             [
              0.1111111111111111,
              "#46039f"
             ],
             [
              0.2222222222222222,
              "#7201a8"
             ],
             [
              0.3333333333333333,
              "#9c179e"
             ],
             [
              0.4444444444444444,
              "#bd3786"
             ],
             [
              0.5555555555555556,
              "#d8576b"
             ],
             [
              0.6666666666666666,
              "#ed7953"
             ],
             [
              0.7777777777777778,
              "#fb9f3a"
             ],
             [
              0.8888888888888888,
              "#fdca26"
             ],
             [
              1,
              "#f0f921"
             ]
            ],
            "type": "heatmapgl"
           }
          ],
          "histogram": [
           {
            "marker": {
             "pattern": {
              "fillmode": "overlay",
              "size": 10,
              "solidity": 0.2
             }
            },
            "type": "histogram"
           }
          ],
          "histogram2d": [
           {
            "colorbar": {
             "outlinewidth": 0,
             "ticks": ""
            },
            "colorscale": [
             [
              0,
              "#0d0887"
             ],
             [
              0.1111111111111111,
              "#46039f"
             ],
             [
              0.2222222222222222,
              "#7201a8"
             ],
             [
              0.3333333333333333,
              "#9c179e"
             ],
             [
              0.4444444444444444,
              "#bd3786"
             ],
             [
              0.5555555555555556,
              "#d8576b"
             ],
             [
              0.6666666666666666,
              "#ed7953"
             ],
             [
              0.7777777777777778,
              "#fb9f3a"
             ],
             [
              0.8888888888888888,
              "#fdca26"
             ],
             [
              1,
              "#f0f921"
             ]
            ],
            "type": "histogram2d"
           }
          ],
          "histogram2dcontour": [
           {
            "colorbar": {
             "outlinewidth": 0,
             "ticks": ""
            },
            "colorscale": [
             [
              0,
              "#0d0887"
             ],
             [
              0.1111111111111111,
              "#46039f"
             ],
             [
              0.2222222222222222,
              "#7201a8"
             ],
             [
              0.3333333333333333,
              "#9c179e"
             ],
             [
              0.4444444444444444,
              "#bd3786"
             ],
             [
              0.5555555555555556,
              "#d8576b"
             ],
             [
              0.6666666666666666,
              "#ed7953"
             ],
             [
              0.7777777777777778,
              "#fb9f3a"
             ],
             [
              0.8888888888888888,
              "#fdca26"
             ],
             [
              1,
              "#f0f921"
             ]
            ],
            "type": "histogram2dcontour"
           }
          ],
          "mesh3d": [
           {
            "colorbar": {
             "outlinewidth": 0,
             "ticks": ""
            },
            "type": "mesh3d"
           }
          ],
          "parcoords": [
           {
            "line": {
             "colorbar": {
              "outlinewidth": 0,
              "ticks": ""
             }
            },
            "type": "parcoords"
           }
          ],
          "pie": [
           {
            "automargin": true,
            "type": "pie"
           }
          ],
          "scatter": [
           {
            "fillpattern": {
             "fillmode": "overlay",
             "size": 10,
             "solidity": 0.2
            },
            "type": "scatter"
           }
          ],
          "scatter3d": [
           {
            "line": {
             "colorbar": {
              "outlinewidth": 0,
              "ticks": ""
             }
            },
            "marker": {
             "colorbar": {
              "outlinewidth": 0,
              "ticks": ""
             }
            },
            "type": "scatter3d"
           }
          ],
          "scattercarpet": [
           {
            "marker": {
             "colorbar": {
              "outlinewidth": 0,
              "ticks": ""
             }
            },
            "type": "scattercarpet"
           }
          ],
          "scattergeo": [
           {
            "marker": {
             "colorbar": {
              "outlinewidth": 0,
              "ticks": ""
             }
            },
            "type": "scattergeo"
           }
          ],
          "scattergl": [
           {
            "marker": {
             "colorbar": {
              "outlinewidth": 0,
              "ticks": ""
             }
            },
            "type": "scattergl"
           }
          ],
          "scattermapbox": [
           {
            "marker": {
             "colorbar": {
              "outlinewidth": 0,
              "ticks": ""
             }
            },
            "type": "scattermapbox"
           }
          ],
          "scatterpolar": [
           {
            "marker": {
             "colorbar": {
              "outlinewidth": 0,
              "ticks": ""
             }
            },
            "type": "scatterpolar"
           }
          ],
          "scatterpolargl": [
           {
            "marker": {
             "colorbar": {
              "outlinewidth": 0,
              "ticks": ""
             }
            },
            "type": "scatterpolargl"
           }
          ],
          "scatterternary": [
           {
            "marker": {
             "colorbar": {
              "outlinewidth": 0,
              "ticks": ""
             }
            },
            "type": "scatterternary"
           }
          ],
          "surface": [
           {
            "colorbar": {
             "outlinewidth": 0,
             "ticks": ""
            },
            "colorscale": [
             [
              0,
              "#0d0887"
             ],
             [
              0.1111111111111111,
              "#46039f"
             ],
             [
              0.2222222222222222,
              "#7201a8"
             ],
             [
              0.3333333333333333,
              "#9c179e"
             ],
             [
              0.4444444444444444,
              "#bd3786"
             ],
             [
              0.5555555555555556,
              "#d8576b"
             ],
             [
              0.6666666666666666,
              "#ed7953"
             ],
             [
              0.7777777777777778,
              "#fb9f3a"
             ],
             [
              0.8888888888888888,
              "#fdca26"
             ],
             [
              1,
              "#f0f921"
             ]
            ],
            "type": "surface"
           }
          ],
          "table": [
           {
            "cells": {
             "fill": {
              "color": "#EBF0F8"
             },
             "line": {
              "color": "white"
             }
            },
            "header": {
             "fill": {
              "color": "#C8D4E3"
             },
             "line": {
              "color": "white"
             }
            },
            "type": "table"
           }
          ]
         },
         "layout": {
          "annotationdefaults": {
           "arrowcolor": "#2a3f5f",
           "arrowhead": 0,
           "arrowwidth": 1
          },
          "autotypenumbers": "strict",
          "coloraxis": {
           "colorbar": {
            "outlinewidth": 0,
            "ticks": ""
           }
          },
          "colorscale": {
           "diverging": [
            [
             0,
             "#8e0152"
            ],
            [
             0.1,
             "#c51b7d"
            ],
            [
             0.2,
             "#de77ae"
            ],
            [
             0.3,
             "#f1b6da"
            ],
            [
             0.4,
             "#fde0ef"
            ],
            [
             0.5,
             "#f7f7f7"
            ],
            [
             0.6,
             "#e6f5d0"
            ],
            [
             0.7,
             "#b8e186"
            ],
            [
             0.8,
             "#7fbc41"
            ],
            [
             0.9,
             "#4d9221"
            ],
            [
             1,
             "#276419"
            ]
           ],
           "sequential": [
            [
             0,
             "#0d0887"
            ],
            [
             0.1111111111111111,
             "#46039f"
            ],
            [
             0.2222222222222222,
             "#7201a8"
            ],
            [
             0.3333333333333333,
             "#9c179e"
            ],
            [
             0.4444444444444444,
             "#bd3786"
            ],
            [
             0.5555555555555556,
             "#d8576b"
            ],
            [
             0.6666666666666666,
             "#ed7953"
            ],
            [
             0.7777777777777778,
             "#fb9f3a"
            ],
            [
             0.8888888888888888,
             "#fdca26"
            ],
            [
             1,
             "#f0f921"
            ]
           ],
           "sequentialminus": [
            [
             0,
             "#0d0887"
            ],
            [
             0.1111111111111111,
             "#46039f"
            ],
            [
             0.2222222222222222,
             "#7201a8"
            ],
            [
             0.3333333333333333,
             "#9c179e"
            ],
            [
             0.4444444444444444,
             "#bd3786"
            ],
            [
             0.5555555555555556,
             "#d8576b"
            ],
            [
             0.6666666666666666,
             "#ed7953"
            ],
            [
             0.7777777777777778,
             "#fb9f3a"
            ],
            [
             0.8888888888888888,
             "#fdca26"
            ],
            [
             1,
             "#f0f921"
            ]
           ]
          },
          "colorway": [
           "#636efa",
           "#EF553B",
           "#00cc96",
           "#ab63fa",
           "#FFA15A",
           "#19d3f3",
           "#FF6692",
           "#B6E880",
           "#FF97FF",
           "#FECB52"
          ],
          "font": {
           "color": "#2a3f5f"
          },
          "geo": {
           "bgcolor": "white",
           "lakecolor": "white",
           "landcolor": "#E5ECF6",
           "showlakes": true,
           "showland": true,
           "subunitcolor": "white"
          },
          "hoverlabel": {
           "align": "left"
          },
          "hovermode": "closest",
          "mapbox": {
           "style": "light"
          },
          "paper_bgcolor": "white",
          "plot_bgcolor": "#E5ECF6",
          "polar": {
           "angularaxis": {
            "gridcolor": "white",
            "linecolor": "white",
            "ticks": ""
           },
           "bgcolor": "#E5ECF6",
           "radialaxis": {
            "gridcolor": "white",
            "linecolor": "white",
            "ticks": ""
           }
          },
          "scene": {
           "xaxis": {
            "backgroundcolor": "#E5ECF6",
            "gridcolor": "white",
            "gridwidth": 2,
            "linecolor": "white",
            "showbackground": true,
            "ticks": "",
            "zerolinecolor": "white"
           },
           "yaxis": {
            "backgroundcolor": "#E5ECF6",
            "gridcolor": "white",
            "gridwidth": 2,
            "linecolor": "white",
            "showbackground": true,
            "ticks": "",
            "zerolinecolor": "white"
           },
           "zaxis": {
            "backgroundcolor": "#E5ECF6",
            "gridcolor": "white",
            "gridwidth": 2,
            "linecolor": "white",
            "showbackground": true,
            "ticks": "",
            "zerolinecolor": "white"
           }
          },
          "shapedefaults": {
           "line": {
            "color": "#2a3f5f"
           }
          },
          "ternary": {
           "aaxis": {
            "gridcolor": "white",
            "linecolor": "white",
            "ticks": ""
           },
           "baxis": {
            "gridcolor": "white",
            "linecolor": "white",
            "ticks": ""
           },
           "bgcolor": "#E5ECF6",
           "caxis": {
            "gridcolor": "white",
            "linecolor": "white",
            "ticks": ""
           }
          },
          "title": {
           "x": 0.05
          },
          "xaxis": {
           "automargin": true,
           "gridcolor": "white",
           "linecolor": "white",
           "ticks": "",
           "title": {
            "standoff": 15
           },
           "zerolinecolor": "white",
           "zerolinewidth": 2
          },
          "yaxis": {
           "automargin": true,
           "gridcolor": "white",
           "linecolor": "white",
           "ticks": "",
           "title": {
            "standoff": 15
           },
           "zerolinecolor": "white",
           "zerolinewidth": 2
          }
         }
        },
        "title": {
         "text": "Data Scientists <br><sup>Employment Count, by Metropolitan Area"
        }
       }
      }
     },
     "metadata": {},
     "output_type": "display_data"
    }
   ],
   "source": [
    "# Choose a column to determine bubble size (replace 'POPULATION' with actual column)\n",
    "if \"TOT_EMP\" in geo_employ.columns:\n",
    "    geo_employ[\"Employment Count\"] = geo_employ[\"TOT_EMP\"]\n",
    "else:\n",
    "    geo_employ[\"Employment Count\"] = 10  # Default size if no population data\n",
    "\n",
    "# Create a DataFrame for Plotly\n",
    "figure_df = geo_employ[[\"lon\", \"lat\", \"NAME\", \"Employment Count\", \"A_MEDIAN\"]]  # Replace with actual column names\n",
    "\n",
    "# Set up the mapbox layout\n",
    "fig = px.scatter_mapbox(figure_df, \n",
    "                        lon=\"lon\", \n",
    "                        lat=\"lat\", \n",
    "                        size=\"Employment Count\",  # Bubble size based on employment count\n",
    "                        color=\"Employment Count\",  # Color bubbles based on employment count\n",
    "                        hover_name=\"NAME\",  # Name to show on hover\n",
    "                        size_max=35,  # Max bubble size\n",
    "                        color_continuous_scale=\"Plasma\",  # Color scale for employment count\n",
    "                        title=\"Data Scientists <br><sup>Employment Count, by Metropolitan Area\")\n",
    "\n",
    "# Update the map style and layout\n",
    "fig.update_layout(\n",
    "    mapbox_style=\"carto-positron\",  # You can choose other map styles like \"open-street-map\", \"stamen-terrain\", etc.\n",
    "    mapbox_zoom=3,  # Zoom level for the map\n",
    "    mapbox_center={\"lat\": 37.0902, \"lon\": -95.7129},  # Center map on the U.S., you can adjust this as needed\n",
    "    showlegend=True  # Ensure the legend is shown\n",
    ")\n",
    "\n",
    "\n",
    "fig.update_traces(\n",
    "    hovertemplate=\"<b>%{hovertext}</b><br>Employment Count: %{marker.size:,}<extra></extra>\"\n",
    ")\n",
    "\n",
    "# Show the map\n",
    "fig.show()\n",
    "\n",
    "fig.write_html(\"interactive_map.html\")"
   ]
  },
  {
   "cell_type": "markdown",
   "metadata": {},
   "source": [
    "# Where are the fastest growing metros?\n"
   ]
  },
  {
   "cell_type": "markdown",
   "metadata": {},
   "source": [
    "Note: When comparing changes in BLS OEWS numbers over time, it's important to ensure consistency in job definitions and estimation methodology.\n",
    "* The Standard Occupational Classification (SOC) system was updated in 2018, which reclassified many occupations. Therefore, data prior to 2018 may not be comparable to more recent years.\n",
    "* In 2021, the OEWS program adopted the MB3 estimation methodology. Only estimates from 2021 onward, which use the MB3 model, should be compared for accurate trend analysis."
   ]
  },
  {
   "cell_type": "markdown",
   "metadata": {},
   "source": [
    "## Clean historical dfs"
   ]
  },
  {
   "cell_type": "code",
   "execution_count": 31,
   "metadata": {},
   "outputs": [],
   "source": [
    "# read-in other data\n",
    "Employment2021 = pd.read_excel('Data\\\\MSA_M2021_dl.xlsx', sheet_name=\"MSA_M2021_dl\")  ### read in the data\n",
    "Employment2022 = pd.read_excel('Data\\\\MSA_M2022_dl.xlsx', sheet_name=\"MSA_M2022_dl\")  ### read in the data\n",
    "Employment2023 = pd.read_excel('Data\\\\MSA_M2023_dl.xlsx', sheet_name=\"MSA_M2023_dl\")  ### read in the data"
   ]
  },
  {
   "cell_type": "code",
   "execution_count": 32,
   "metadata": {},
   "outputs": [],
   "source": [
    "MSA_employ2021 = create_MSAEmploy(Employment2021) ### Function defined in mapping section\n",
    "MSA_employ2021 = MSA_employ2021[['AREA', 'TOT_EMP']] ### Area titles may be written differently, but the codes should be consistent overtime\n",
    "MSA_employ2021 = MSA_employ2021.rename(columns={'TOT_EMP': 'TOT_EMP2021'})\n",
    "\n",
    "MSA_employ2022 = create_MSAEmploy(Employment2022) \n",
    "MSA_employ2022 = MSA_employ2022[['AREA', 'TOT_EMP']]\n",
    "MSA_employ2022 = MSA_employ2022.rename(columns={'TOT_EMP': 'TOT_EMP2022'})\n",
    "\n",
    "MSA_employ2023 = create_MSAEmploy(Employment2023) \n",
    "MSA_employ2023 = MSA_employ2023[['AREA', 'TOT_EMP']]\n",
    "MSA_employ2023 = MSA_employ2023.rename(columns={'TOT_EMP': 'TOT_EMP2023'})"
   ]
  },
  {
   "cell_type": "code",
   "execution_count": 33,
   "metadata": {},
   "outputs": [],
   "source": [
    "# Pull the 2024 values defined in the map section\n",
    "MSA_employ2024 = MSA_employ[['AREA', 'AREA_TITLE', 'TOT_EMP']]\n",
    "MSA_employ2024 = MSA_employ2024.rename(columns={'TOT_EMP': 'TOT_EMP2024'})"
   ]
  },
  {
   "cell_type": "markdown",
   "metadata": {},
   "source": [
    "## Create MSA Maps\n",
    "\n",
    "The 2024 MSA definitions were slightly altered based on what was used in the 2021-2023 period. One notable metro area that was reassigned is the Boston area. \n",
    "\n",
    "For the sake of comparison, we will still look at growth rates, but this is notable limitation to this analysis. \n",
    "Since some metros don't map exactly anymore, we will just \"clean\" or map problematic metro codes if they have greater then 500 employees in the 2024 dataframe."
   ]
  },
  {
   "cell_type": "code",
   "execution_count": 34,
   "metadata": {},
   "outputs": [],
   "source": [
    "# 1) Put your dfs in a list\n",
    "dfs = [MSA_employ2021, MSA_employ2022, MSA_employ2023]\n",
    "\n",
    "# 2) Define a mapping old→new\n",
    "area_map = {\n",
    "    71650: 14460,  # Boston-Cambridge-Newton, MA-NH\n",
    "    77200: 39300,  # Providence-Warwick, RI-MA\n",
    "    17460: 17410,  # Cleveland, OH\n",
    "    73450: 25540,  # Hartford-West Hartford-East Hartford, CT\n",
    "    76750: 38860,  # Portland-South Portland, ME\n",
    "}\n",
    "\n",
    "# 3) Loop and replace in one go\n",
    "for df in dfs:\n",
    "    df['AREA'].replace(area_map, inplace=True)\n"
   ]
  },
  {
   "cell_type": "code",
   "execution_count": 35,
   "metadata": {},
   "outputs": [],
   "source": [
    "MSA_employ_trend = pd.merge(MSA_employ2024, MSA_employ2021, left_on='AREA', right_on='AREA', how='left') ### only merging matches with 2024\n",
    "MSA_employ_trend = pd.merge(MSA_employ_trend, MSA_employ2022, left_on='AREA', right_on='AREA', how='left')   \n",
    "MSA_employ_trend = pd.merge(MSA_employ_trend, MSA_employ2023, left_on='AREA', right_on='AREA', how='left')  \n",
    "\n",
    "new_order = ['AREA', 'AREA_TITLE', 'TOT_EMP2021', 'TOT_EMP2022', 'TOT_EMP2023','TOT_EMP2024']\n",
    "MSA_employ_trend = MSA_employ_trend[new_order]\n"
   ]
  },
  {
   "cell_type": "code",
   "execution_count": 36,
   "metadata": {},
   "outputs": [],
   "source": [
    "MSA_employ_trend['PercentGrowth_3yr'] = ((MSA_employ_trend['TOT_EMP2024'] - MSA_employ_trend['TOT_EMP2021']) / MSA_employ_trend['TOT_EMP2021']) * 100\n",
    "MSA_employ_trend = MSA_employ_trend.sort_values('PercentGrowth_3yr', ascending=False) ### Sort by fastest growing\n",
    "\n",
    "MSA_employ_trend['PercentGrowth_2yr'] = ((MSA_employ_trend['TOT_EMP2024'] - MSA_employ_trend['TOT_EMP2022']) / MSA_employ_trend['TOT_EMP2022']) * 100\n",
    "\n",
    "MSA_employ_trend['PercentGrowth_1yr'] = ((MSA_employ_trend['TOT_EMP2024'] - MSA_employ_trend['TOT_EMP2023']) / MSA_employ_trend['TOT_EMP2023']) * 100\n"
   ]
  },
  {
   "cell_type": "markdown",
   "metadata": {},
   "source": [
    "## Look at top 25 metros (based on 2024 employment counts)"
   ]
  },
  {
   "cell_type": "code",
   "execution_count": 40,
   "metadata": {},
   "outputs": [],
   "source": [
    "top25 = MSA_employ_trend.nlargest(25, 'TOT_EMP2024')\n",
    "top25 = top25.sort_values('PercentGrowth_3yr')\n"
   ]
  }
 ],
 "metadata": {
  "kernelspec": {
   "display_name": "Timeseries",
   "language": "python",
   "name": "python3"
  },
  "language_info": {
   "codemirror_mode": {
    "name": "ipython",
    "version": 3
   },
   "file_extension": ".py",
   "mimetype": "text/x-python",
   "name": "python",
   "nbconvert_exporter": "python",
   "pygments_lexer": "ipython3",
   "version": "3.12.5"
  }
 },
 "nbformat": 4,
 "nbformat_minor": 2
}
