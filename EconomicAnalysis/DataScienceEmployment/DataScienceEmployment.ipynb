{
 "cells": [
  {
   "cell_type": "markdown",
   "metadata": {},
   "source": [
    "# Project Background\n",
    "\n",
    "## Objective\n",
    "For those who are looking for data science jobs, it is important to know where those jobs are located. The goal of this work is to identify metropolitan areas in the United States with high counts of data science jobs and those seeing growth, using geographic mapping, employment trend analysis, and cost of living analysis.\n",
    "\n",
    "## Data Sources\n",
    "This work has three main datasources. \n",
    "1. **U.S. Census Bureau**: Provides geographic data (shapefiles) to map metropolitan areas across the country: https://www.census.gov/cgi-bin/geo/shapefiles/index.php?year=2024&layergroup=Core+Based+Statistical+Areas\n",
    "2. **Bureau of Labor Statistics** -Occupational Employment and Wage Statistics: Offers employment counts and wages by metropolitan area: https://www.bls.gov/oes/tables.htm\n",
    "3. **Bureau of Economic Analysis**: Supplies a cost-of-living index known as the Regional Price Parities (table-MARPP Real personal income and regional price parities by MSA): https://apps.bea.gov/itable/?ReqID=70&step=1&_gl=1\n",
    "\n",
    "## Limitations\n",
    "1. Employment data is based on an annual estimate from May 2024 and does not reflect real-time job changes.\n",
    "2. The analysis focuses narrowly on the \"data scientist\" role, excluding other data-related positions such as data analysts and statisticians.\n",
    "3. Key limitations to overtime analysis include: \n",
    "    * Changes in SOC Codes: The Standard Occupational Classification (SOC) codes may evolve, impacting the comparability of job definitions across years. The most recent updates were in 2018.\n",
    "    * Methodological Changes: Employment estimation methodologies have changed, with the MB3 methodology introduced in 2021. Comparisons should only be made between years using the same methodology.\n",
    "    * Merging of MSAs: In 2024, some metropolitan statistical area (MSA) definitions were redefined, particularly in the northeastern U.S. This could affect historical comparisons. To learn more about these changes, visit https://www.bls.gov/oes/notices/."
   ]
  },
  {
   "cell_type": "markdown",
   "metadata": {},
   "source": [
    "# Key Findings"
   ]
  },
  {
   "cell_type": "markdown",
   "metadata": {},
   "source": [
    "1. **Top Metros by Data Science Employment (2024)**\n",
    "* As of 2024, the metros with the highest number of data science employees are as follows: \n",
    "    * New York-Newark-Jersey City, NY-NJ – 19,810\n",
    "    * Los Angeles-Long Beach-Anaheim, CA – 10,030\n",
    "    * San Francisco-Oakland-Fremont, CA – 9,350\n",
    "    * Dallas-Fort Worth-Arlington, TX – 8,630\n",
    "    * Washington-Arlington-Alexandria, DC-VA-MD-WV – 8,530\n",
    "\n",
    "Check out this interactive metro-map: https://abeanhz.github.io/Projects/EconomicAnalysis/DataScienceEmployment/map_employee_count.html\n",
    "\n",
    "2. **Comparing Employment Concentration Across Metros**\n",
    "* While metros like New York and Los Angeles have the highest overall counts of data scientists, some smaller areas have a much higher concentration of data scientists relative to the national average. This is captured using the location quotient (LQ), which compares the proportion of data scientists in a metro to the national proportion.\n",
    "    * In the San Jose-Sunnyvale-Santa Clara, CA metro, data scientists are nearly 4 times more common than the U.S. average (LQ = 3.8).\n",
    "    * In Durham-Chapel Hill, NC, data scientists are almost 3 times more common than the national average (LQ = 2.98).\n",
    "    * In Bloomington, IL, data scientists are also about 3 times more common than average (LQ = 2.85).\n",
    "\n",
    "Check out this interactive metro-map: https://abeanhz.github.io/Projects/EconomicAnalysis/DataScienceEmployment/map_LQ.html\n",
    "\n",
    "Look at who is the in top 25 for employees count vs. employment concentration: https://abeanhz.github.io/Projects/EconomicAnalysis/DataScienceEmployment/top25_comparison_table.html\n",
    "\n",
    "3. **Fastest-Growing Data Science Hubs with at Least 1000 Employees in 2024** \n",
    "* Among the top 25 metros (by 2024 employment counts), several Texas cities have experienced rapid growth in data science employment over the past three years:\n",
    "    * Houston-Pasadena-The Woodlands, TX: +441% (2021-2023)\n",
    "    * Austin-Round Rock-San Marcos, TX: +204% (2021-2023)\n",
    "    * San Antonio-New Braunfels, TX: +176% (2021-2023)\n",
    "    * Dallas-Fort Worth-Arlington, TX: +150% (2021-2023)\n",
    "    \n",
    "Check out this interactive table that shows the 2-year percent growth (2021-23) in employees: https://abeanhz.github.io/Projects/EconomicAnalysis/DataScienceEmployment/Growth_table_interactive.html\n",
    "\n",
    "4. **Balancing Salary and Cost of Living**\n",
    "* Using the Regional Price Parity (RPP) Index alongside median salaries provides insight into affordability for data scientists.\n",
    "    * Charlotte-Concord-Gastonia, NC-SC and Bloomington, IL stand out with a lower-than-average cost of living and a higher-than-national median data scientist salary, making it a potentially ideal metro to work in due to competitive salaries.\n",
    "    * In contrast, some metros with a high cost of living report salaries below the national median, which may reduce relative earning power.\n",
    "\n",
    "Explore these trends here: https://abeanhz.github.io/Projects/EconomicAnalysis/DataScienceEmployment/top25Comparison_costofliving_Median.html\n",
    "\n",
    "5. **Top 3 industries employing data scientists**\n",
    "* The three industries employing the largest number of data scientists are:\n",
    "\n",
    "\n",
    "    * Professional, Scientific, and Technical Services\n",
    "    * Management of Companies and Enterprises\n",
    "    * Insurance Carriers and Related Activities"
   ]
  },
  {
   "cell_type": "markdown",
   "metadata": {},
   "source": [
    "# Top Industries in 2024"
   ]
  },
  {
   "cell_type": "code",
   "execution_count": 49,
   "metadata": {},
   "outputs": [],
   "source": [
    "#!pip install geopandas shapely plotly\n",
    "#!pip install thefuzz\n",
    "#!pip install --upgrade nbformat\n"
   ]
  },
  {
   "cell_type": "code",
   "execution_count": 50,
   "metadata": {},
   "outputs": [],
   "source": [
    "import pandas as pd  ### Basic data manipulations\n",
    "import matplotlib.pyplot as plt\n",
    "import os\n",
    "import geopandas as gpd ### using shapefiles\n",
    "\n",
    "import plotly.express as px ### choropleth map\n",
    "import plotly.graph_objects as go\n",
    "from plotly.subplots import make_subplots\n",
    "\n",
    "import json ### to read the converted shapefiles\n",
    "from thefuzz import process ### for merging on MSA with slightly different labeling patterns\n",
    "import numpy as np  ### dealing with missing data and other calcs\n",
    "\n",
    "import warnings\n",
    "warnings.filterwarnings(\"ignore\")  ### warnings sometimes show your computer, so I want to surpress if sending to github\n"
   ]
  },
  {
   "cell_type": "markdown",
   "metadata": {},
   "source": [
    "Need to filter and sort the tables to find highest employment by industry."
   ]
  },
  {
   "cell_type": "code",
   "execution_count": 51,
   "metadata": {},
   "outputs": [],
   "source": [
    "industry_4digit_df = pd.read_excel('Data\\\\nat4d_M2024_dl.xlsx', sheet_name=\"Nat4d_M2024_dl\") ### read in national employment by industry\n",
    "industry_3digit_df = pd.read_excel('Data\\\\nat3d_M2024_dl.xlsx', sheet_name=\"nat3d_M2024_dl\")"
   ]
  },
  {
   "cell_type": "code",
   "execution_count": 52,
   "metadata": {},
   "outputs": [],
   "source": [
    "def create_industry_rank(df): \n",
    "    create_df = df[df['OCC_CODE']=='15-2051'] ### # Filter data data science jobs \n",
    "    create_df = create_df[create_df['OWN_CODE']==5] ### filter to private industry\n",
    "    create_df[\"TOT_EMP\"] = pd.to_numeric(create_df[\"TOT_EMP\"], errors=\"coerce\") ### Convert to numeric - some * for anonymized\n",
    "    create_df = create_df.sort_values(by=\"TOT_EMP\", ascending=False) ### Sort by employment\n",
    "    return(create_df)"
   ]
  },
  {
   "cell_type": "code",
   "execution_count": 53,
   "metadata": {},
   "outputs": [],
   "source": [
    "# Tables with employment counts by NAICS industry codes\n",
    "nation_datascience4 = create_industry_rank(industry_4digit_df)\n",
    "nation_datascience3 = create_industry_rank(industry_3digit_df)"
   ]
  },
  {
   "cell_type": "markdown",
   "metadata": {},
   "source": [
    "# Mapping Data Scientist Job Hotspots in the U.S."
   ]
  },
  {
   "cell_type": "markdown",
   "metadata": {},
   "source": [
    "For this analysis, I am going to explore which metropolitan areas had the highest number of data science jobs across the United States. \n",
    "\n",
    "Data Sources: \n",
    "* Occupational Employment and Wage Statistics (OEWS) Tables https://www.bls.gov/oes/tables.htm \n",
    "* Shapefiles: https://www.census.gov/cgi-bin/geo/shapefiles/index.php?year=2024&layergroup=Core+Based+Statistical+Areas"
   ]
  },
  {
   "cell_type": "markdown",
   "metadata": {},
   "source": [
    "## Load Data"
   ]
  },
  {
   "cell_type": "code",
   "execution_count": 54,
   "metadata": {},
   "outputs": [],
   "source": [
    "# Load the shapefile\n",
    "shapefile_path = \"CensusShapeFiles/tl_2024_us_cbsa.shp\"\n",
    "gdf = gpd.read_file(shapefile_path)\n",
    "census_locale =gdf[['NAME']]"
   ]
  },
  {
   "cell_type": "code",
   "execution_count": 55,
   "metadata": {},
   "outputs": [],
   "source": [
    "# Load OEWS Data -- this step will take awhile to read-in the full df\n",
    "Employment = pd.read_excel('Data\\\\MSA_M2024_dl.xlsx', sheet_name=\"MSA_M2024_dl\")  ### read in the data\n",
    "OEWS_locale = Employment[['AREA_TITLE']].drop_duplicates()"
   ]
  },
  {
   "cell_type": "markdown",
   "metadata": {},
   "source": [
    "## Merge data"
   ]
  },
  {
   "cell_type": "markdown",
   "metadata": {},
   "source": [
    "There are subtle differences in some of the naming conventions for the MSAs in the census and the OEWS data so we have to do some matching to make a map between the two data sources. "
   ]
  },
  {
   "cell_type": "markdown",
   "metadata": {},
   "source": [
    "Merge 1 --  Exact matches"
   ]
  },
  {
   "cell_type": "code",
   "execution_count": 56,
   "metadata": {},
   "outputs": [],
   "source": [
    "# Keeping exact matches (based on the data in OEWS df)\n",
    "exact_match = pd.merge(census_locale, OEWS_locale, left_on='NAME', right_on='AREA_TITLE', how='inner')"
   ]
  },
  {
   "cell_type": "code",
   "execution_count": 57,
   "metadata": {},
   "outputs": [],
   "source": [
    "# Checking un-matched geographies\n",
    "anti_join = pd.merge(census_locale, OEWS_locale, left_on='NAME', right_on='AREA_TITLE', how='right')\n",
    "anti_join = anti_join[anti_join['NAME'].isna()] ### keep only NA values to find what BLS values did not have a geo match\n",
    "anti_join = anti_join.dropna(axis=1, how='all') ### dropping cols filled with NAs to try a fuzzy match on remaining missing locations\n"
   ]
  },
  {
   "cell_type": "markdown",
   "metadata": {},
   "source": [
    "Merge 2 -- Fuzzy Matches"
   ]
  },
  {
   "cell_type": "code",
   "execution_count": 58,
   "metadata": {},
   "outputs": [
    {
     "data": {
      "application/vnd.microsoft.datawrangler.viewer.v0+json": {
       "columns": [
        {
         "name": "index",
         "rawType": "int64",
         "type": "integer"
        },
        {
         "name": "NAME",
         "rawType": "object",
         "type": "string"
        },
        {
         "name": "AREA_TITLE",
         "rawType": "object",
         "type": "string"
        }
       ],
       "conversionMethod": "pd.DataFrame",
       "ref": "950b26b7-e127-4664-86a3-8b16183b2c3f",
       "rows": [
        [
         "0",
         "Mayagüez, PR",
         "Mayaguez, PR"
        ],
        [
         "1",
         "San Juan-Bayamón-Caguas, PR",
         "San Juan-Bayamon-Caguas, PR"
        ]
       ],
       "shape": {
        "columns": 2,
        "rows": 2
       }
      },
      "text/html": [
       "<div>\n",
       "<style scoped>\n",
       "    .dataframe tbody tr th:only-of-type {\n",
       "        vertical-align: middle;\n",
       "    }\n",
       "\n",
       "    .dataframe tbody tr th {\n",
       "        vertical-align: top;\n",
       "    }\n",
       "\n",
       "    .dataframe thead th {\n",
       "        text-align: right;\n",
       "    }\n",
       "</style>\n",
       "<table border=\"1\" class=\"dataframe\">\n",
       "  <thead>\n",
       "    <tr style=\"text-align: right;\">\n",
       "      <th></th>\n",
       "      <th>NAME</th>\n",
       "      <th>AREA_TITLE</th>\n",
       "    </tr>\n",
       "  </thead>\n",
       "  <tbody>\n",
       "    <tr>\n",
       "      <th>0</th>\n",
       "      <td>Mayagüez, PR</td>\n",
       "      <td>Mayaguez, PR</td>\n",
       "    </tr>\n",
       "    <tr>\n",
       "      <th>1</th>\n",
       "      <td>San Juan-Bayamón-Caguas, PR</td>\n",
       "      <td>San Juan-Bayamon-Caguas, PR</td>\n",
       "    </tr>\n",
       "  </tbody>\n",
       "</table>\n",
       "</div>"
      ],
      "text/plain": [
       "                          NAME                   AREA_TITLE\n",
       "0                 Mayagüez, PR                Mayaguez, PR\n",
       "1  San Juan-Bayamón-Caguas, PR  San Juan-Bayamon-Caguas, PR"
      ]
     },
     "execution_count": 58,
     "metadata": {},
     "output_type": "execute_result"
    }
   ],
   "source": [
    "# Function to find best match\n",
    "def fuzzy_merge(census_locale, anti_join, left_col, right_col, threshold=88):\n",
    "    matches = census_locale[left_col].apply(lambda x: process.extractOne(x, anti_join[right_col], score_cutoff=threshold))\n",
    "    census_locale['Best_Match'] = [match[0] if match else None for match in matches]\n",
    "    return pd.merge(census_locale, anti_join, left_on='Best_Match', right_on=right_col, how='right').drop(columns=['Best_Match'])\n",
    "\n",
    "# Perform Fuzzy Merge\n",
    "fuzzy_df = fuzzy_merge(census_locale, anti_join, 'NAME', 'AREA_TITLE')\n",
    "fuzzy_df.head() ### manually check that the fuzzy produced logical matches\n"
   ]
  },
  {
   "cell_type": "code",
   "execution_count": 59,
   "metadata": {},
   "outputs": [],
   "source": [
    "# Combine MSA Maps into a final map\n",
    "MSA_MAP = pd.concat([exact_match, fuzzy_df], ignore_index=True)"
   ]
  },
  {
   "cell_type": "markdown",
   "metadata": {},
   "source": [
    "## Prep data tables"
   ]
  },
  {
   "cell_type": "markdown",
   "metadata": {},
   "source": [
    "Let's read in the BLS employment by occupation data and filter to just data science jobs. Some of the data is masked due to small employment counts or concerns over de-identification; these observations will be filtered out of the analysis."
   ]
  },
  {
   "cell_type": "code",
   "execution_count": 60,
   "metadata": {},
   "outputs": [],
   "source": [
    "def create_MSAEmploy(df): \n",
    "    #  OEWS Data\n",
    "    create_employ = df[df['OCC_CODE']=='15-2051'] ### Filter to just data science occupations\n",
    "    create_employ [\"TOT_EMP\"] = pd.to_numeric(create_employ[\"TOT_EMP\"], errors=\"coerce\") ### Convert to numeric \n",
    "    create_employ = create_employ.dropna(subset=[\"TOT_EMP\"])  ### Remove rows where TOT_EMP is not reported\n",
    "    create_employ = create_employ.sort_values(by=\"TOT_EMP\", ascending=False) ### Sort greatest to least\n",
    "    create_employ[\"A_MEDIAN\"] = pd.to_numeric(create_employ[\"A_MEDIAN\"], errors=\"coerce\") ### Convert to numeric \n",
    "    return(create_employ)\n",
    "\n",
    "MSA_compare = create_MSAEmploy(Employment)"
   ]
  },
  {
   "cell_type": "code",
   "execution_count": 61,
   "metadata": {},
   "outputs": [],
   "source": [
    "# Use the ID map to create a column to be able to merge the employment data with the shapefile \n",
    "MSA_employ = pd.merge(MSA_compare, MSA_MAP, left_on='AREA_TITLE', right_on='AREA_TITLE', how='inner')"
   ]
  },
  {
   "cell_type": "markdown",
   "metadata": {},
   "source": [
    "Now let's read in the shape files from the census bureau. Since the shapefiles are geom-shapes and we want to make a symbol map, we'll need to compute a centroid for each MSA in order to pin-point the area on the map."
   ]
  },
  {
   "cell_type": "code",
   "execution_count": 62,
   "metadata": {},
   "outputs": [],
   "source": [
    "# Extract MSA centroids\n",
    "gdf[\"centroid\"] = gdf.geometry.centroid\n",
    "gdf[\"lon\"] = gdf[\"centroid\"].x\n",
    "gdf[\"lat\"] = gdf[\"centroid\"].y\n"
   ]
  },
  {
   "cell_type": "code",
   "execution_count": 63,
   "metadata": {},
   "outputs": [],
   "source": [
    "# Combine the shapefile with the employment data\n",
    "geo_employ = pd.merge(gdf, MSA_employ, left_on=\"NAME\", right_on=\"NAME\", how = 'right') ### want a right join because only want metros w/ employment data"
   ]
  },
  {
   "cell_type": "markdown",
   "metadata": {},
   "source": [
    "## Create Map"
   ]
  },
  {
   "cell_type": "code",
   "execution_count": 96,
   "metadata": {},
   "outputs": [
    {
     "data": {
      "application/vnd.plotly.v1+json": {
       "config": {
        "plotlyServerURL": "https://plot.ly"
       },
       "data": [
        {
         "hovertemplate": "<b>%{hovertext}</b><br>Employee Count: %{marker.size:,}<extra></extra>",
         "hovertext": [
          "New York-Newark-Jersey City, NY-NJ",
          "Los Angeles-Long Beach-Anaheim, CA",
          "San Francisco-Oakland-Fremont, CA",
          "Dallas-Fort Worth-Arlington, TX",
          "Washington-Arlington-Alexandria, DC-VA-MD-WV",
          "Boston-Cambridge-Newton, MA-NH",
          "San Jose-Sunnyvale-Santa Clara, CA",
          "Seattle-Tacoma-Bellevue, WA",
          "Atlanta-Sandy Springs-Roswell, GA",
          "Chicago-Naperville-Elgin, IL-IN",
          "Philadelphia-Camden-Wilmington, PA-NJ-DE-MD",
          "Houston-Pasadena-The Woodlands, TX",
          "Charlotte-Concord-Gastonia, NC-SC",
          "Phoenix-Mesa-Chandler, AZ",
          "Austin-Round Rock-San Marcos, TX",
          "Minneapolis-St. Paul-Bloomington, MN-WI",
          "Detroit-Warren-Dearborn, MI",
          "St. Louis, MO-IL",
          "San Diego-Chula Vista-Carlsbad, CA",
          "Sacramento-Roseville-Folsom, CA",
          "Miami-Fort Lauderdale-West Palm Beach, FL",
          "Portland-Vancouver-Hillsboro, OR-WA",
          "Raleigh-Cary, NC",
          "Pittsburgh, PA",
          "Tampa-St. Petersburg-Clearwater, FL",
          "Durham-Chapel Hill, NC",
          "Cincinnati, OH-KY-IN",
          "Nashville-Davidson--Murfreesboro--Franklin, TN",
          "San Antonio-New Braunfels, TX",
          "Orlando-Kissimmee-Sanford, FL",
          "Indianapolis-Carmel-Greenwood, IN",
          "Des Moines-West Des Moines, IA",
          "Baltimore-Columbia-Towson, MD",
          "Milwaukee-Waukesha, WI",
          "Providence-Warwick, RI-MA",
          "Omaha, NE-IA",
          "Columbus, OH",
          "Cleveland, OH",
          "Rochester, NY",
          "Kansas City, MO-KS",
          "Provo-Orem-Lehi, UT",
          "Las Vegas-Henderson-North Las Vegas, NV",
          "Richmond, VA",
          "Riverside-San Bernardino-Ontario, CA",
          "Oklahoma City, OK",
          "Madison, WI",
          "Jacksonville, FL",
          "Baton Rouge, LA",
          "Louisville/Jefferson County, KY-IN",
          "Tulsa, OK",
          "Huntsville, AL",
          "Buffalo-Cheektowaga, NY",
          "Virginia Beach-Chesapeake-Norfolk, VA-NC",
          "Boise City, ID",
          "Hartford-West Hartford-East Hartford, CT",
          "Portland-South Portland, ME",
          "Greenville-Anderson-Greer, SC",
          "Albany-Schenectady-Troy, NY",
          "Grand Rapids-Wyoming-Kentwood, MI",
          "Columbia, SC",
          "Harrisburg-Carlisle, PA",
          "Oxnard-Thousand Oaks-Ventura, CA",
          "Worcester, MA",
          "Charleston-North Charleston, SC",
          "Birmingham, AL",
          "Allentown-Bethlehem-Easton, PA-NJ",
          "Bloomington, IL",
          "Lansing-East Lansing, MI",
          "Lincoln, NE",
          "Bridgeport-Stamford-Danbury, CT",
          "Trenton-Princeton, NJ",
          "Tucson, AZ",
          "Ogden, UT",
          "Akron, OH",
          "Albuquerque, NM",
          "Syracuse, NY",
          "Manchester-Nashua, NH",
          "Dayton-Kettering-Beavercreek, OH",
          "Fort Wayne, IN",
          "Davenport-Moline-Rock Island, IA-IL",
          "Ann Arbor, MI",
          "Winston-Salem, NC",
          "Springfield, MA",
          "Memphis, TN-MS-AR",
          "Knoxville, TN",
          "Palm Bay-Melbourne-Titusville, FL",
          "El Paso, TX",
          "Greensboro-High Point, NC",
          "Lexington-Fayette, KY",
          "Idaho Falls, ID",
          "Fayetteville-Springdale-Rogers, AR",
          "Urban Honolulu, HI",
          "Bakersfield-Delano, CA",
          "Kiryas Joel-Poughkeepsie-Newburgh, NY",
          "Green Bay, WI",
          "Santa Maria-Santa Barbara, CA",
          "Reno, NV",
          "Lancaster, PA",
          "Sioux Falls, SD-MN",
          "Lakeland-Winter Haven, FL",
          "Oshkosh-Neenah, WI",
          "Springfield, MO",
          "Scranton--Wilkes-Barre, PA",
          "Fresno, CA",
          "Cedar Rapids, IA",
          "New Haven, CT",
          "Tallahassee, FL",
          "Waterbury-Shelton, CT",
          "Toledo, OH",
          "Chattanooga, TN-GA",
          "Cape Coral-Fort Myers, FL",
          "Crestview-Fort Walton Beach-Destin, FL",
          "Little Rock-North Little Rock-Conway, AR",
          "Reading, PA",
          "Ithaca, NY",
          "Fargo, ND-MN",
          "Augusta-Richmond County, GA-SC",
          "Columbia, MO",
          "Erie, PA",
          "Wilmington, NC",
          "Savannah, GA",
          "Kalamazoo-Portage, MI",
          "Kennewick-Richland, WA",
          "Spokane-Spokane Valley, WA",
          "Corpus Christi, TX",
          "York-Hanover, PA",
          "Champaign-Urbana, IL",
          "Peoria, IL",
          "Lexington Park, MD",
          "Anchorage, AK",
          "Spartanburg, SC",
          "Gainesville, FL",
          "Evansville, IN",
          "New Orleans-Metairie, LA",
          "Burlington-South Burlington, VT",
          "South Bend-Mishawaka, IN-MI",
          "Ames, IA",
          "Olympia-Lacey-Tumwater, WA",
          "Pensacola-Ferry Pass-Brent, FL",
          "Santa Cruz-Watsonville, CA",
          "Santa Rosa-Petaluma, CA",
          "Utica-Rome, NY",
          "Charlottesville, VA",
          "College Station-Bryan, TX",
          "Columbus, GA-AL",
          "Dubuque, IA",
          "Elkhart-Goshen, IN",
          "Hickory-Lenoir-Morganton, NC",
          "McAllen-Edinburg-Mission, TX",
          "Stockton-Lodi, CA",
          "Bend, OR",
          "Florence, SC",
          "Iowa City, IA",
          "Kingsport-Bristol, TN-VA",
          "Midland, TX",
          "St. George, UT",
          "Waco, TX",
          "Amarillo, TX",
          "Appleton, WI",
          "Atlantic City-Hammonton, NJ",
          "Beaumont-Port Arthur, TX",
          "Eugene-Springfield, OR",
          "Jackson, MS",
          "La Crosse-Onalaska, WI-MN",
          "Lubbock, TX",
          "Salem, OR",
          "San Juan-Bayamón-Caguas, PR",
          "Tyler, TX",
          "Warner Robins, GA",
          "Asheville, NC",
          "Bangor, ME",
          "Charleston, WV",
          "Deltona-Daytona Beach-Ormond Beach, FL",
          "Duluth, MN-WI",
          "Eau Claire, WI",
          "Fayetteville, NC",
          "Flint, MI",
          "Logan, UT-ID",
          "Montgomery, AL",
          "Roanoke, VA",
          "Rockford, IL",
          "Vallejo, CA",
          "Waterloo-Cedar Falls, IA",
          "Barnstable Town, MA",
          "Binghamton, NY",
          "Bismarck, ND",
          "Bozeman, MT",
          "Canton-Massillon, OH",
          "Corvallis, OR",
          "Jefferson City, MO",
          "Killeen-Temple, TX",
          "Laredo, TX",
          "Longview, TX",
          "Lynchburg, VA",
          "Macon-Bibb County, GA",
          "Midland, MI",
          "Modesto, CA",
          "Saginaw, MI",
          "San Luis Obispo-Paso Robles, CA",
          "Springfield, IL",
          "Wausau, WI",
          "Wichita, KS",
          "Lewiston-Auburn, ME",
          "Mobile, AL",
          "Naples-Marco Island, FL",
          "Norwich-New London-Willimantic, CT",
          "Panama City-Panama City Beach, FL",
          "Pittsfield, MA",
          "Salinas, CA",
          "Sioux City, IA-NE-SD",
          "Traverse City, MI",
          "Visalia, CA",
          "Youngstown-Warren, OH",
          "Yuma, AZ",
          "Joplin, MO-KS",
          "Kenosha, WI",
          "Kingston, NY",
          "Lafayette-West Lafayette, IN",
          "Abilene, TX",
          "Amherst Town-Northampton, MA",
          "Battle Creek, MI",
          "Blacksburg-Christiansburg-Radford, VA",
          "Bloomington, IN",
          "Bremerton-Silverdale-Port Orchard, WA",
          "Casper, WY",
          "Dalton, GA",
          "Gainesville, GA",
          "Greenville, NC",
          "Jackson, MI",
          "Janesville-Beloit, WI",
          "Huntington-Ashland, WV-KY-OH",
          "Niles, MI",
          "Napa, CA",
          "Myrtle Beach-Conway-North Myrtle Beach, SC",
          "Terre Haute, IN",
          "San Angelo, TX",
          "Sheboygan, WI",
          "Sierra Vista-Douglas, AZ",
          "State College, PA",
          "Medford, OR",
          "Port St. Lucie, FL",
          "Racine-Mount Pleasant, WI",
          "Ocala, FL",
          "Redding, CA",
          "Grand Forks, ND-MN",
          "Hagerstown-Martinsburg, MD-WV",
          "Albany, GA",
          "Altoona, PA",
          "Bellingham, WA",
          "Chambersburg, PA",
          "Chico, CA",
          "Clarksville, TN-KY",
          "Columbus, IN",
          "Dover, DE",
          "Elizabethtown, KY",
          "Flagstaff, AZ",
          "Billings, MT",
          "Cape Girardeau, MO-IL",
          "Glens Falls, NY",
          "Las Cruces, NM",
          "Lawton, OK",
          "Lewiston, ID-WA",
          "Wichita Falls, TX"
         ],
         "lat": [
          40.73637486795714,
          34.11176360235264,
          37.774109391377706,
          32.8495029319331,
          38.832383262698315,
          42.5178983056129,
          36.91030847870619,
          47.55747496670581,
          33.733762523212704,
          41.75961644514,
          39.89584498649021,
          29.80212288788412,
          35.16858472948385,
          33.18586541061491,
          30.262246727371622,
          45.10335986165826,
          42.71623563197045,
          38.735247592128154,
          33.02819796739121,
          38.780495487822286,
          26.135276354275575,
          45.598362690797636,
          35.75727480498975,
          40.47443348995461,
          28.123415297498294,
          35.99105704382668,
          39.08111940323311,
          36.08909290334003,
          29.428763998124197,
          28.4343464287635,
          39.79287130637698,
          41.575666004845104,
          39.30554078475111,
          43.18039750514765,
          41.64493427298193,
          41.29008437298225,
          39.968125928343596,
          41.670434006352316,
          43.188514441633764,
          38.937146017241425,
          39.86450191482904,
          36.21519630845167,
          37.41248327589083,
          34.551687706784136,
          35.42987340177036,
          43.08018135482941,
          30.234071255951516,
          30.51732150170172,
          38.22443524749478,
          36.25041272660737,
          34.78318967859805,
          43.03785915588772,
          36.840285900058305,
          43.01601416202573,
          41.687448087452864,
          43.65296364433356,
          34.685125573715695,
          42.788494006599215,
          42.9783994429018,
          34.09175612742186,
          40.32666785180804,
          34.35706907242699,
          42.3513945714977,
          33.01657303819066,
          33.46384087652043,
          40.78936919862038,
          40.490891618559736,
          42.71330159836051,
          40.819919102203656,
          41.25526633860353,
          40.283437425482006,
          32.09739870528064,
          41.118953959214835,
          41.148734379158554,
          35.12229764414613,
          43.20096350617498,
          42.91529150609051,
          39.82951286321467,
          41.00539945512145,
          41.39687948744728,
          42.25322534883891,
          36.07667743641049,
          42.13511501401045,
          35.00735913468447,
          36.04472599554532,
          28.300317937857866,
          31.51308818662487,
          36.02586207235691,
          38.09050888023303,
          43.62250547435144,
          36.108349907066504,
          23.718640396506395,
          35.342621500444935,
          41.58275994020366,
          44.69882136938099,
          34.53825125785915,
          40.25882481244369,
          40.04243033491308,
          43.527296471513694,
          27.94887148630418,
          44.068876891378395,
          37.36167529684541,
          41.32319577733379,
          36.87999350238702,
          42.09147230654023,
          41.29447042847549,
          30.34905328212808,
          41.52315152998767,
          41.54058866008217,
          35.051984200233065,
          26.56349671118828,
          30.591953158244905,
          34.75728656201916,
          40.4162956671039,
          42.45201867851938,
          46.91781324137095,
          33.46102528715891,
          38.98380988051826,
          42.11749624629517,
          34.25211281603683,
          32.10686332702063,
          42.24545445407747,
          46.363562469943645,
          48.08110311680401,
          27.892838346113752,
          39.9199595994266,
          40.22667832841295,
          40.78915584840243,
          38.31534228591873,
          62.22437414137989,
          34.83790692919694,
          29.456177955801056,
          38.0487638499199,
          29.71181286250829,
          44.686826183105104,
          41.773627419745885,
          42.03637158352593,
          46.92962690588329,
          30.604988830207425,
          37.02160584224619,
          38.52538142533889,
          43.33716509753293,
          37.95010315212047,
          30.756539295812185,
          32.418225201443754,
          42.46882243268045,
          41.59738447990813,
          35.81290420954569,
          26.396734153670508,
          37.934765183750024,
          44.16629363752927,
          34.1520194544314,
          41.51133045511344,
          36.60777362443048,
          32.08975366876261,
          37.280416921032725,
          31.594477658106452,
          35.24888863894819,
          44.28903134984166,
          39.285131248595086,
          30.076471405439264,
          43.9415554742335,
          32.427749376252606,
          43.69826699947517,
          33.463603991754674,
          44.90339673454215,
          18.29528604857324,
          32.3750354238494,
          32.49029845389787,
          35.61723714882868,
          45.400512321313315,
          38.27165500341464,
          29.17994425484908,
          47.318479851260136,
          44.9388004165829,
          35.0370999853504,
          43.02172289859303,
          41.889583883134115,
          32.36061112622032,
          37.286089014960595,
          42.33161409498088,
          38.2669214768002,
          42.536232098463806,
          41.77344927347826,
          42.16447752593655,
          46.88407538095239,
          45.540389499429324,
          40.718667594643236,
          44.49179903576947,
          38.63981281490281,
          31.207838512580135,
          27.76106243008186,
          32.43105853811108,
          37.36501889088983,
          32.85769488473761,
          43.646856704695686,
          37.55915585054911,
          43.335028731014646,
          35.38744905262926,
          39.829594398180376,
          44.89828570995151,
          37.63867118251767,
          44.16584842785464,
          30.685151206940123,
          26.100367949059596,
          41.484789463948125,
          30.27434619731384,
          42.37067554379461,
          36.23977436811787,
          42.51886942389314,
          44.94142028244704,
          36.22019066656752,
          41.19619718650585,
          32.769619918498236,
          37.092431540417174,
          42.57850410099628,
          41.88814562680186,
          40.47724707229659,
          32.4496900452076,
          42.340155585534184,
          42.246539106045404,
          37.12085725699317,
          39.23471224239362,
          47.63964660128235,
          42.96224044575415,
          34.79628157756104,
          34.317086156869976,
          35.593298974621256,
          42.248487395765956,
          42.67121812761983,
          38.35868180221814,
          41.99577768511437,
          38.50696360242177,
          33.904525276719276,
          39.391908255111865,
          31.363663625431506,
          43.719707377940836,
          31.879627478566896,
          40.9189540214956,
          42.432155888293586,
          27.224695472038075,
          42.75117428071774,
          29.210202286515983,
          40.76376660115652,
          47.83595964976275,
          39.549905642078556,
          31.646459779400633,
          40.48111671369334,
          48.829616199902766,
          39.92741840127329,
          39.66692936105124,
          36.692949349473295,
          39.20597057207045,
          39.09595476988037,
          37.65311269567056,
          35.8387248492318,
          45.63997319796508,
          37.3244849496499,
          43.443544278607476,
          32.35264838360237,
          34.524177113223516,
          46.2691528691608,
          33.77475217974184
         ],
         "legendgroup": "",
         "lon": [
          -73.80356960293985,
          -118.18075908268506,
          -122.27410918593066,
          -96.97039691200993,
          -77.49803594117299,
          -71.0219280183955,
          -121.37692780284263,
          -121.88142914055544,
          -84.39216958707833,
          -87.84489356106339,
          -75.31171177145215,
          -95.34227903337397,
          -80.79536593071371,
          -112.07070070028564,
          -97.65435382737088,
          -93.27533865724331,
          -83.20582427322643,
          -90.35010185467162,
          -116.77019669001278,
          -120.9972491390811,
          -80.46863198576719,
          -122.47828767431096,
          -78.46083182980976,
          -79.86317562824709,
          -82.52853017182946,
          -79.09963807733739,
          -84.46458999513642,
          -86.72443988189264,
          -98.60226372804078,
          -81.36305352886303,
          -86.12156639516519,
          -93.76182657398422,
          -76.5510061326829,
          -87.7969626778574,
          -71.38966668755033,
          -95.99912404635334,
          -82.83690444899722,
          -81.42944678504406,
          -77.5539288290651,
          -94.44438719838288,
          -112.35261188672312,
          -115.01356105204503,
          -77.44620107884265,
          -116.12973844282817,
          -97.50387646217757,
          -89.59222360647242,
          -81.75749729488571,
          -91.12697188471148,
          -85.70245666138787,
          -96.16621872313064,
          -86.73464420937788,
          -78.77537663163785,
          -76.39603683595595,
          -116.14324208397097,
          -72.54576969648033,
          -70.41687105053138,
          -82.41388789096362,
          -73.94197940657605,
          -85.7141537361551,
          -81.04238464258138,
          -77.10119768506455,
          -119.12601434728353,
          -71.90772697588598,
          -80.00862647958151,
          -86.81386802272088,
          -75.40387574436143,
          -88.84732427797877,
          -84.60697399333331,
          -96.87081622968465,
          -73.38300100138436,
          -74.70175239182764,
          -111.78986399447216,
          -111.87022926060034,
          -81.34953267156597,
          -106.47158260974265,
          -76.0769590418875,
          -71.71608246629012,
          -84.14191256864473,
          -85.21677558713552,
          -90.4659117575504,
          -83.8387705070282,
          -80.34583278192346,
          -72.63164864220703,
          -89.81474051295407,
          -84.1374714453436,
          -80.70120876495957,
          -105.54104725056263,
          -79.79160397045388,
          -84.43305427845347,
          -112.42787441925051,
          -94.07549378358702,
          -164.73674034720787,
          -118.73002806577927,
          -74.02564045245543,
          -87.82507975708013,
          -120.03101114135809,
          -119.55320182555032,
          -76.24769684510478,
          -96.873887808757,
          -81.69768539562489,
          -88.6446587533396,
          -93.17707481333295,
          -75.89573493775778,
          -119.67934047134568,
          -91.6313309616663,
          -72.83366611181374,
          -84.27572573394238,
          -73.08604214008467,
          -83.69338640365014,
          -85.36007064002418,
          -81.98483599698326,
          -86.37110178557725,
          -92.39718322784162,
          -75.92599808862222,
          -76.47365412977649,
          -96.96549413676233,
          -81.98292809327468,
          -92.57933005508538,
          -80.09815349932951,
          -78.03864847691109,
          -81.27134839214521,
          -85.53118333715166,
          -119.25426632445586,
          -117.6708429263761,
          -97.40126451988552,
          -76.72651014508683,
          -88.29452710958309,
          -89.5159061843627,
          -76.5295298450362,
          -149.55443384242562,
          -81.84756593834756,
          -82.66931149332902,
          -87.58180890376751,
          -89.66735827514029,
          -73.03149884379336,
          -86.13414729011525,
          -93.6983390819213,
          -122.83229374408856,
          -87.15692947060404,
          -122.00978737438118,
          -122.92272709362724,
          -75.18138307054288,
          -78.59289955525108,
          -96.4889667961048,
          -84.84393259852786,
          -90.88252185038256,
          -85.85875527405359,
          -81.45428440214266,
          -98.18111521882639,
          -121.27143844405619,
          -120.88391010471959,
          -79.80845001142356,
          -91.64998527551542,
          -82.44260317962458,
          -101.99101579994662,
          -113.50467371546617,
          -97.28287321782294,
          -101.90954513555107,
          -88.37115326162012,
          -74.73725107432915,
          -94.20136010366994,
          -122.87663764155072,
          -90.13600414871652,
          -91.10762064840976,
          -101.88074218126884,
          -122.90327375643695,
          -66.0389143099953,
          -95.26918268309834,
          -83.71203339200858,
          -82.57100077078302,
          -68.64942812896376,
          -81.49170014443992,
          -81.1898407748509,
          -92.39284861204159,
          -91.28220957674965,
          -78.98041240697616,
          -83.70671102712826,
          -111.76897539098839,
          -86.40323998288596,
          -79.94656264557571,
          -89.04208114669717,
          -121.93999006719702,
          -92.47115553205133,
          -70.23813749230841,
          -76.02514482576811,
          -100.97861018003888,
          -111.17036894627947,
          -81.2534717417313,
          -123.42924906242823,
          -92.0916925876155,
          -97.78759128510924,
          -99.33156530421446,
          -94.67519753332954,
          -79.2197431116736,
          -83.71490686576396,
          -84.38810911289043,
          -120.99767552001309,
          -84.05318703425706,
          -120.45219084564243,
          -89.69691393001816,
          -89.75905892340126,
          -97.24542750276882,
          -70.20644499377971,
          -88.19752379023207,
          -81.44454715225734,
          -72.1007273360993,
          -85.64272782525973,
          -73.20641297764685,
          -121.30890152396167,
          -96.30880082147209,
          -85.90575712433812,
          -118.80046158261075,
          -80.76727664333801,
          -113.90561548044276,
          -94.50108308081984,
          -87.65311823063857,
          -74.25856951631634,
          -87.02341007552093,
          -99.7176783249734,
          -72.66378616490911,
          -85.00558227053244,
          -80.53291207907779,
          -86.67594056753894,
          -122.64917638760737,
          -106.79849380290528,
          -84.84810820421032,
          -83.81957265920988,
          -77.37449655189732,
          -84.42343730330076,
          -89.07155826247805,
          -82.56853950667445,
          -86.68542115443856,
          -122.3306370426753,
          -78.97615818768475,
          -87.34399326919083,
          -100.67303895377836,
          -87.63477447487065,
          -109.75126300522564,
          -77.81996372478596,
          -122.72851787739313,
          -80.4210025347628,
          -87.69608097952725,
          -82.05667567080549,
          -122.0405215282598,
          -96.84438541696859,
          -77.98138535234493,
          -84.11531925517163,
          -78.34829588953637,
          -121.87281310603294,
          -77.72125091944837,
          -121.60067173160115,
          -87.62305602726994,
          -85.8976029731582,
          -75.50461385378375,
          -85.88517994900867,
          -111.77052100774208,
          -108.82187161413381,
          -89.76981524988717,
          -73.64881136620112,
          -106.83272163462934,
          -98.43479579077287,
          -116.94372492088011,
          -98.49138724955586
         ],
         "marker": {
          "color": [
           19810,
           10030,
           9350,
           8630,
           8530,
           8220,
           6570,
           6100,
           5940,
           5840,
           5640,
           4900,
           3870,
           3210,
           3100,
           2870,
           2810,
           2660,
           2550,
           2510,
           2250,
           2090,
           1940,
           1890,
           1640,
           1540,
           1510,
           1490,
           1440,
           1430,
           1430,
           1320,
           1310,
           1220,
           1200,
           1190,
           1160,
           1160,
           1030,
           920,
           910,
           890,
           880,
           840,
           840,
           830,
           780,
           780,
           760,
           690,
           630,
           630,
           610,
           590,
           560,
           560,
           560,
           550,
           520,
           520,
           500,
           480,
           460,
           460,
           440,
           430,
           390,
           380,
           370,
           370,
           370,
           360,
           320,
           320,
           320,
           310,
           300,
           300,
           300,
           290,
           280,
           260,
           260,
           250,
           250,
           250,
           250,
           240,
           230,
           220,
           220,
           220,
           210,
           210,
           200,
           200,
           200,
           200,
           200,
           200,
           180,
           180,
           180,
           180,
           180,
           180,
           180,
           170,
           160,
           160,
           160,
           160,
           150,
           150,
           150,
           150,
           150,
           150,
           150,
           150,
           140,
           140,
           140,
           140,
           130,
           130,
           130,
           130,
           130,
           130,
           130,
           130,
           130,
           120,
           120,
           120,
           110,
           110,
           110,
           110,
           110,
           110,
           100,
           100,
           100,
           100,
           100,
           100,
           100,
           100,
           90,
           90,
           90,
           90,
           90,
           90,
           90,
           80,
           80,
           80,
           80,
           80,
           80,
           80,
           80,
           80,
           80,
           80,
           80,
           70,
           70,
           70,
           70,
           70,
           70,
           70,
           70,
           70,
           70,
           70,
           70,
           70,
           70,
           60,
           60,
           60,
           60,
           60,
           60,
           60,
           60,
           60,
           60,
           60,
           60,
           60,
           60,
           60,
           60,
           60,
           60,
           60,
           50,
           50,
           50,
           50,
           50,
           50,
           50,
           50,
           50,
           50,
           50,
           50,
           50,
           50,
           50,
           50,
           50,
           50,
           50,
           50,
           50,
           50,
           50,
           50,
           50,
           50,
           50,
           50,
           40,
           40,
           40,
           40,
           40,
           40,
           40,
           40,
           40,
           40,
           40,
           40,
           40,
           40,
           40,
           40,
           40,
           40,
           40,
           40,
           40,
           40,
           40,
           40,
           40,
           40,
           30,
           30,
           30,
           30,
           30,
           30,
           30
          ],
          "coloraxis": "coloraxis",
          "size": [
           19810,
           10030,
           9350,
           8630,
           8530,
           8220,
           6570,
           6100,
           5940,
           5840,
           5640,
           4900,
           3870,
           3210,
           3100,
           2870,
           2810,
           2660,
           2550,
           2510,
           2250,
           2090,
           1940,
           1890,
           1640,
           1540,
           1510,
           1490,
           1440,
           1430,
           1430,
           1320,
           1310,
           1220,
           1200,
           1190,
           1160,
           1160,
           1030,
           920,
           910,
           890,
           880,
           840,
           840,
           830,
           780,
           780,
           760,
           690,
           630,
           630,
           610,
           590,
           560,
           560,
           560,
           550,
           520,
           520,
           500,
           480,
           460,
           460,
           440,
           430,
           390,
           380,
           370,
           370,
           370,
           360,
           320,
           320,
           320,
           310,
           300,
           300,
           300,
           290,
           280,
           260,
           260,
           250,
           250,
           250,
           250,
           240,
           230,
           220,
           220,
           220,
           210,
           210,
           200,
           200,
           200,
           200,
           200,
           200,
           180,
           180,
           180,
           180,
           180,
           180,
           180,
           170,
           160,
           160,
           160,
           160,
           150,
           150,
           150,
           150,
           150,
           150,
           150,
           150,
           140,
           140,
           140,
           140,
           130,
           130,
           130,
           130,
           130,
           130,
           130,
           130,
           130,
           120,
           120,
           120,
           110,
           110,
           110,
           110,
           110,
           110,
           100,
           100,
           100,
           100,
           100,
           100,
           100,
           100,
           90,
           90,
           90,
           90,
           90,
           90,
           90,
           80,
           80,
           80,
           80,
           80,
           80,
           80,
           80,
           80,
           80,
           80,
           80,
           70,
           70,
           70,
           70,
           70,
           70,
           70,
           70,
           70,
           70,
           70,
           70,
           70,
           70,
           60,
           60,
           60,
           60,
           60,
           60,
           60,
           60,
           60,
           60,
           60,
           60,
           60,
           60,
           60,
           60,
           60,
           60,
           60,
           50,
           50,
           50,
           50,
           50,
           50,
           50,
           50,
           50,
           50,
           50,
           50,
           50,
           50,
           50,
           50,
           50,
           50,
           50,
           50,
           50,
           50,
           50,
           50,
           50,
           50,
           50,
           50,
           40,
           40,
           40,
           40,
           40,
           40,
           40,
           40,
           40,
           40,
           40,
           40,
           40,
           40,
           40,
           40,
           40,
           40,
           40,
           40,
           40,
           40,
           40,
           40,
           40,
           40,
           30,
           30,
           30,
           30,
           30,
           30,
           30
          ],
          "sizemode": "area",
          "sizeref": 16.17142857142857
         },
         "mode": "markers",
         "name": "",
         "showlegend": false,
         "subplot": "mapbox",
         "type": "scattermapbox"
        }
       ],
       "layout": {
        "annotations": [
         {
          "align": "left",
          "font": {
           "color": "gray",
           "size": 10
          },
          "showarrow": false,
          "text": "Source: Bureau of Labor Statistics - OEWS",
          "x": 0,
          "xref": "paper",
          "y": -0.1,
          "yref": "paper"
         }
        ],
        "coloraxis": {
         "colorbar": {
          "title": {
           "text": "Employee Count"
          }
         },
         "colorscale": [
          [
           0,
           "#0d0887"
          ],
          [
           0.1111111111111111,
           "#46039f"
          ],
          [
           0.2222222222222222,
           "#7201a8"
          ],
          [
           0.3333333333333333,
           "#9c179e"
          ],
          [
           0.4444444444444444,
           "#bd3786"
          ],
          [
           0.5555555555555556,
           "#d8576b"
          ],
          [
           0.6666666666666666,
           "#ed7953"
          ],
          [
           0.7777777777777778,
           "#fb9f3a"
          ],
          [
           0.8888888888888888,
           "#fdca26"
          ],
          [
           1,
           "#f0f921"
          ]
         ]
        },
        "legend": {
         "itemsizing": "constant",
         "tracegroupgap": 0
        },
        "mapbox": {
         "center": {
          "lat": 37.0902,
          "lon": -95.7129
         },
         "domain": {
          "x": [
           0,
           1
          ],
          "y": [
           0,
           1
          ]
         },
         "style": "carto-positron",
         "zoom": 3
        },
        "showlegend": true,
        "template": {
         "data": {
          "bar": [
           {
            "error_x": {
             "color": "#2a3f5f"
            },
            "error_y": {
             "color": "#2a3f5f"
            },
            "marker": {
             "line": {
              "color": "#E5ECF6",
              "width": 0.5
             },
             "pattern": {
              "fillmode": "overlay",
              "size": 10,
              "solidity": 0.2
             }
            },
            "type": "bar"
           }
          ],
          "barpolar": [
           {
            "marker": {
             "line": {
              "color": "#E5ECF6",
              "width": 0.5
             },
             "pattern": {
              "fillmode": "overlay",
              "size": 10,
              "solidity": 0.2
             }
            },
            "type": "barpolar"
           }
          ],
          "carpet": [
           {
            "aaxis": {
             "endlinecolor": "#2a3f5f",
             "gridcolor": "white",
             "linecolor": "white",
             "minorgridcolor": "white",
             "startlinecolor": "#2a3f5f"
            },
            "baxis": {
             "endlinecolor": "#2a3f5f",
             "gridcolor": "white",
             "linecolor": "white",
             "minorgridcolor": "white",
             "startlinecolor": "#2a3f5f"
            },
            "type": "carpet"
           }
          ],
          "choropleth": [
           {
            "colorbar": {
             "outlinewidth": 0,
             "ticks": ""
            },
            "type": "choropleth"
           }
          ],
          "contour": [
           {
            "colorbar": {
             "outlinewidth": 0,
             "ticks": ""
            },
            "colorscale": [
             [
              0,
              "#0d0887"
             ],
             [
              0.1111111111111111,
              "#46039f"
             ],
             [
              0.2222222222222222,
              "#7201a8"
             ],
             [
              0.3333333333333333,
              "#9c179e"
             ],
             [
              0.4444444444444444,
              "#bd3786"
             ],
             [
              0.5555555555555556,
              "#d8576b"
             ],
             [
              0.6666666666666666,
              "#ed7953"
             ],
             [
              0.7777777777777778,
              "#fb9f3a"
             ],
             [
              0.8888888888888888,
              "#fdca26"
             ],
             [
              1,
              "#f0f921"
             ]
            ],
            "type": "contour"
           }
          ],
          "contourcarpet": [
           {
            "colorbar": {
             "outlinewidth": 0,
             "ticks": ""
            },
            "type": "contourcarpet"
           }
          ],
          "heatmap": [
           {
            "colorbar": {
             "outlinewidth": 0,
             "ticks": ""
            },
            "colorscale": [
             [
              0,
              "#0d0887"
             ],
             [
              0.1111111111111111,
              "#46039f"
             ],
             [
              0.2222222222222222,
              "#7201a8"
             ],
             [
              0.3333333333333333,
              "#9c179e"
             ],
             [
              0.4444444444444444,
              "#bd3786"
             ],
             [
              0.5555555555555556,
              "#d8576b"
             ],
             [
              0.6666666666666666,
              "#ed7953"
             ],
             [
              0.7777777777777778,
              "#fb9f3a"
             ],
             [
              0.8888888888888888,
              "#fdca26"
             ],
             [
              1,
              "#f0f921"
             ]
            ],
            "type": "heatmap"
           }
          ],
          "heatmapgl": [
           {
            "colorbar": {
             "outlinewidth": 0,
             "ticks": ""
            },
            "colorscale": [
             [
              0,
              "#0d0887"
             ],
             [
              0.1111111111111111,
              "#46039f"
             ],
             [
              0.2222222222222222,
              "#7201a8"
             ],
             [
              0.3333333333333333,
              "#9c179e"
             ],
             [
              0.4444444444444444,
              "#bd3786"
             ],
             [
              0.5555555555555556,
              "#d8576b"
             ],
             [
              0.6666666666666666,
              "#ed7953"
             ],
             [
              0.7777777777777778,
              "#fb9f3a"
             ],
             [
              0.8888888888888888,
              "#fdca26"
             ],
             [
              1,
              "#f0f921"
             ]
            ],
            "type": "heatmapgl"
           }
          ],
          "histogram": [
           {
            "marker": {
             "pattern": {
              "fillmode": "overlay",
              "size": 10,
              "solidity": 0.2
             }
            },
            "type": "histogram"
           }
          ],
          "histogram2d": [
           {
            "colorbar": {
             "outlinewidth": 0,
             "ticks": ""
            },
            "colorscale": [
             [
              0,
              "#0d0887"
             ],
             [
              0.1111111111111111,
              "#46039f"
             ],
             [
              0.2222222222222222,
              "#7201a8"
             ],
             [
              0.3333333333333333,
              "#9c179e"
             ],
             [
              0.4444444444444444,
              "#bd3786"
             ],
             [
              0.5555555555555556,
              "#d8576b"
             ],
             [
              0.6666666666666666,
              "#ed7953"
             ],
             [
              0.7777777777777778,
              "#fb9f3a"
             ],
             [
              0.8888888888888888,
              "#fdca26"
             ],
             [
              1,
              "#f0f921"
             ]
            ],
            "type": "histogram2d"
           }
          ],
          "histogram2dcontour": [
           {
            "colorbar": {
             "outlinewidth": 0,
             "ticks": ""
            },
            "colorscale": [
             [
              0,
              "#0d0887"
             ],
             [
              0.1111111111111111,
              "#46039f"
             ],
             [
              0.2222222222222222,
              "#7201a8"
             ],
             [
              0.3333333333333333,
              "#9c179e"
             ],
             [
              0.4444444444444444,
              "#bd3786"
             ],
             [
              0.5555555555555556,
              "#d8576b"
             ],
             [
              0.6666666666666666,
              "#ed7953"
             ],
             [
              0.7777777777777778,
              "#fb9f3a"
             ],
             [
              0.8888888888888888,
              "#fdca26"
             ],
             [
              1,
              "#f0f921"
             ]
            ],
            "type": "histogram2dcontour"
           }
          ],
          "mesh3d": [
           {
            "colorbar": {
             "outlinewidth": 0,
             "ticks": ""
            },
            "type": "mesh3d"
           }
          ],
          "parcoords": [
           {
            "line": {
             "colorbar": {
              "outlinewidth": 0,
              "ticks": ""
             }
            },
            "type": "parcoords"
           }
          ],
          "pie": [
           {
            "automargin": true,
            "type": "pie"
           }
          ],
          "scatter": [
           {
            "fillpattern": {
             "fillmode": "overlay",
             "size": 10,
             "solidity": 0.2
            },
            "type": "scatter"
           }
          ],
          "scatter3d": [
           {
            "line": {
             "colorbar": {
              "outlinewidth": 0,
              "ticks": ""
             }
            },
            "marker": {
             "colorbar": {
              "outlinewidth": 0,
              "ticks": ""
             }
            },
            "type": "scatter3d"
           }
          ],
          "scattercarpet": [
           {
            "marker": {
             "colorbar": {
              "outlinewidth": 0,
              "ticks": ""
             }
            },
            "type": "scattercarpet"
           }
          ],
          "scattergeo": [
           {
            "marker": {
             "colorbar": {
              "outlinewidth": 0,
              "ticks": ""
             }
            },
            "type": "scattergeo"
           }
          ],
          "scattergl": [
           {
            "marker": {
             "colorbar": {
              "outlinewidth": 0,
              "ticks": ""
             }
            },
            "type": "scattergl"
           }
          ],
          "scattermapbox": [
           {
            "marker": {
             "colorbar": {
              "outlinewidth": 0,
              "ticks": ""
             }
            },
            "type": "scattermapbox"
           }
          ],
          "scatterpolar": [
           {
            "marker": {
             "colorbar": {
              "outlinewidth": 0,
              "ticks": ""
             }
            },
            "type": "scatterpolar"
           }
          ],
          "scatterpolargl": [
           {
            "marker": {
             "colorbar": {
              "outlinewidth": 0,
              "ticks": ""
             }
            },
            "type": "scatterpolargl"
           }
          ],
          "scatterternary": [
           {
            "marker": {
             "colorbar": {
              "outlinewidth": 0,
              "ticks": ""
             }
            },
            "type": "scatterternary"
           }
          ],
          "surface": [
           {
            "colorbar": {
             "outlinewidth": 0,
             "ticks": ""
            },
            "colorscale": [
             [
              0,
              "#0d0887"
             ],
             [
              0.1111111111111111,
              "#46039f"
             ],
             [
              0.2222222222222222,
              "#7201a8"
             ],
             [
              0.3333333333333333,
              "#9c179e"
             ],
             [
              0.4444444444444444,
              "#bd3786"
             ],
             [
              0.5555555555555556,
              "#d8576b"
             ],
             [
              0.6666666666666666,
              "#ed7953"
             ],
             [
              0.7777777777777778,
              "#fb9f3a"
             ],
             [
              0.8888888888888888,
              "#fdca26"
             ],
             [
              1,
              "#f0f921"
             ]
            ],
            "type": "surface"
           }
          ],
          "table": [
           {
            "cells": {
             "fill": {
              "color": "#EBF0F8"
             },
             "line": {
              "color": "white"
             }
            },
            "header": {
             "fill": {
              "color": "#C8D4E3"
             },
             "line": {
              "color": "white"
             }
            },
            "type": "table"
           }
          ]
         },
         "layout": {
          "annotationdefaults": {
           "arrowcolor": "#2a3f5f",
           "arrowhead": 0,
           "arrowwidth": 1
          },
          "autotypenumbers": "strict",
          "coloraxis": {
           "colorbar": {
            "outlinewidth": 0,
            "ticks": ""
           }
          },
          "colorscale": {
           "diverging": [
            [
             0,
             "#8e0152"
            ],
            [
             0.1,
             "#c51b7d"
            ],
            [
             0.2,
             "#de77ae"
            ],
            [
             0.3,
             "#f1b6da"
            ],
            [
             0.4,
             "#fde0ef"
            ],
            [
             0.5,
             "#f7f7f7"
            ],
            [
             0.6,
             "#e6f5d0"
            ],
            [
             0.7,
             "#b8e186"
            ],
            [
             0.8,
             "#7fbc41"
            ],
            [
             0.9,
             "#4d9221"
            ],
            [
             1,
             "#276419"
            ]
           ],
           "sequential": [
            [
             0,
             "#0d0887"
            ],
            [
             0.1111111111111111,
             "#46039f"
            ],
            [
             0.2222222222222222,
             "#7201a8"
            ],
            [
             0.3333333333333333,
             "#9c179e"
            ],
            [
             0.4444444444444444,
             "#bd3786"
            ],
            [
             0.5555555555555556,
             "#d8576b"
            ],
            [
             0.6666666666666666,
             "#ed7953"
            ],
            [
             0.7777777777777778,
             "#fb9f3a"
            ],
            [
             0.8888888888888888,
             "#fdca26"
            ],
            [
             1,
             "#f0f921"
            ]
           ],
           "sequentialminus": [
            [
             0,
             "#0d0887"
            ],
            [
             0.1111111111111111,
             "#46039f"
            ],
            [
             0.2222222222222222,
             "#7201a8"
            ],
            [
             0.3333333333333333,
             "#9c179e"
            ],
            [
             0.4444444444444444,
             "#bd3786"
            ],
            [
             0.5555555555555556,
             "#d8576b"
            ],
            [
             0.6666666666666666,
             "#ed7953"
            ],
            [
             0.7777777777777778,
             "#fb9f3a"
            ],
            [
             0.8888888888888888,
             "#fdca26"
            ],
            [
             1,
             "#f0f921"
            ]
           ]
          },
          "colorway": [
           "#636efa",
           "#EF553B",
           "#00cc96",
           "#ab63fa",
           "#FFA15A",
           "#19d3f3",
           "#FF6692",
           "#B6E880",
           "#FF97FF",
           "#FECB52"
          ],
          "font": {
           "color": "#2a3f5f"
          },
          "geo": {
           "bgcolor": "white",
           "lakecolor": "white",
           "landcolor": "#E5ECF6",
           "showlakes": true,
           "showland": true,
           "subunitcolor": "white"
          },
          "hoverlabel": {
           "align": "left"
          },
          "hovermode": "closest",
          "mapbox": {
           "style": "light"
          },
          "paper_bgcolor": "white",
          "plot_bgcolor": "#E5ECF6",
          "polar": {
           "angularaxis": {
            "gridcolor": "white",
            "linecolor": "white",
            "ticks": ""
           },
           "bgcolor": "#E5ECF6",
           "radialaxis": {
            "gridcolor": "white",
            "linecolor": "white",
            "ticks": ""
           }
          },
          "scene": {
           "xaxis": {
            "backgroundcolor": "#E5ECF6",
            "gridcolor": "white",
            "gridwidth": 2,
            "linecolor": "white",
            "showbackground": true,
            "ticks": "",
            "zerolinecolor": "white"
           },
           "yaxis": {
            "backgroundcolor": "#E5ECF6",
            "gridcolor": "white",
            "gridwidth": 2,
            "linecolor": "white",
            "showbackground": true,
            "ticks": "",
            "zerolinecolor": "white"
           },
           "zaxis": {
            "backgroundcolor": "#E5ECF6",
            "gridcolor": "white",
            "gridwidth": 2,
            "linecolor": "white",
            "showbackground": true,
            "ticks": "",
            "zerolinecolor": "white"
           }
          },
          "shapedefaults": {
           "line": {
            "color": "#2a3f5f"
           }
          },
          "ternary": {
           "aaxis": {
            "gridcolor": "white",
            "linecolor": "white",
            "ticks": ""
           },
           "baxis": {
            "gridcolor": "white",
            "linecolor": "white",
            "ticks": ""
           },
           "bgcolor": "#E5ECF6",
           "caxis": {
            "gridcolor": "white",
            "linecolor": "white",
            "ticks": ""
           }
          },
          "title": {
           "x": 0.05
          },
          "xaxis": {
           "automargin": true,
           "gridcolor": "white",
           "linecolor": "white",
           "ticks": "",
           "title": {
            "standoff": 15
           },
           "zerolinecolor": "white",
           "zerolinewidth": 2
          },
          "yaxis": {
           "automargin": true,
           "gridcolor": "white",
           "linecolor": "white",
           "ticks": "",
           "title": {
            "standoff": 15
           },
           "zerolinecolor": "white",
           "zerolinewidth": 2
          }
         }
        },
        "title": {
         "text": "Data Scientists <br><sup>2024 Employee Count, by Metropolitan Area"
        }
       }
      }
     },
     "metadata": {},
     "output_type": "display_data"
    }
   ],
   "source": [
    "# Bubble size \n",
    "if \"TOT_EMP\" in geo_employ.columns:\n",
    "    geo_employ[\"Employee Count\"] = geo_employ[\"TOT_EMP\"]\n",
    "else:\n",
    "    geo_employ[\"Employee Count\"] = 10  # Default size if no population data\n",
    "\n",
    "# Create a DataFrame for Plotly\n",
    "figure_df = geo_employ[[\"lon\", \"lat\", \"NAME\", \"Employee Count\", \"A_MEDIAN\"]] \n",
    "\n",
    "# Set up the mapbox layout\n",
    "fig = px.scatter_mapbox(figure_df, \n",
    "                        lon=\"lon\", \n",
    "                        lat=\"lat\", \n",
    "                        size=\"Employee Count\",  # Bubble size based on employment count\n",
    "                        color=\"Employee Count\",  # Color bubbles based on employment count\n",
    "                        hover_name=\"NAME\",  # Name to show on hover\n",
    "                        size_max=35,  # Max bubble size\n",
    "                        color_continuous_scale=\"Plasma\",  # Color scale for employment count\n",
    "                        title=\"Data Scientists <br><sup>2024 Employee Count, by Metropolitan Area\")\n",
    "\n",
    "# Update the map style and layout\n",
    "fig.update_layout(\n",
    "    mapbox_style=\"carto-positron\",  \n",
    "    mapbox_zoom=3,  # Zoom level for the map\n",
    "    mapbox_center={\"lat\": 37.0902, \"lon\": -95.7129},  # Center map on the U.S., adjust this as needed\n",
    "    showlegend=True,  # Ensure the legend is shown\n",
    "    annotations=[\n",
    "        dict(\n",
    "            text=\"Source: Bureau of Labor Statistics - OEWS\",\n",
    "            xref=\"paper\", yref=\"paper\",\n",
    "            x=0, y=-0.10,\n",
    "            showarrow=False,\n",
    "            align=\"left\",  # <-- aligns text to the left\n",
    "            font=dict(size=10, color=\"gray\")\n",
    "        )\n",
    "    ]\n",
    ")\n",
    "\n",
    "\n",
    "fig.update_traces(\n",
    "    hovertemplate=\"<b>%{hovertext}</b><br>Employee Count: %{marker.size:,}<extra></extra>\"\n",
    ")\n",
    "\n",
    "# Show the map\n",
    "fig.show()"
   ]
  },
  {
   "cell_type": "code",
   "execution_count": 65,
   "metadata": {},
   "outputs": [],
   "source": [
    "fig.write_html(\"map_employee_count.html\")"
   ]
  },
  {
   "cell_type": "markdown",
   "metadata": {},
   "source": [
    "# How common are data science jobs? "
   ]
  },
  {
   "cell_type": "markdown",
   "metadata": {},
   "source": [
    "The location quotient is a metric that explains if a job is more or less common in a specific area compared to the national average.\n",
    "* An LQ of 1.0 means the job is exactly as common in that area as it is nationally.\n",
    "* An LQ greater than 1.0 means the job is more concentrated in that area.\n",
    "* An LQ less than 1.0 means the job is less concentrated in that area."
   ]
  },
  {
   "cell_type": "markdown",
   "metadata": {},
   "source": [
    "For example, if LQ = 2, then data scientists are twice as common in this metro as they are in the U.S. overall.\n",
    "If LQ = 0.5, then data scientists are half as common there as they are in the U.S. overall.\n",
    "\n",
    "For more information, check out this documentation: https://www.bls.gov/cew/about-data/location-quotients-explained.htm"
   ]
  },
  {
   "cell_type": "code",
   "execution_count": 66,
   "metadata": {},
   "outputs": [],
   "source": [
    "def create_LQ(df): \n",
    "    #  OEWS Data\n",
    "    create_employ = df[df['OCC_CODE']=='15-2051'] ### Filter to just data science occupations\n",
    "    create_employ[\"LOC_QUOTIENT\"] = pd.to_numeric(create_employ[\"LOC_QUOTIENT\"], errors=\"coerce\") ### Convert to numeric \n",
    "    create_employ = create_employ.dropna(subset=[\"LOC_QUOTIENT\"])  ### Remove rows where LOC_QUOTIENT is not reported\n",
    "    create_employ = create_employ.sort_values(by=\"LOC_QUOTIENT\", ascending=False) ### Sort greatest to least\n",
    "    return(create_employ)\n",
    "\n",
    "LQ_df = create_LQ(Employment)"
   ]
  },
  {
   "cell_type": "code",
   "execution_count": 67,
   "metadata": {},
   "outputs": [],
   "source": [
    "# Use the ID map to create a column to be able to merge the employment data with the shapefile \n",
    "LQ_df = pd.merge(LQ_df, MSA_MAP, left_on='AREA_TITLE', right_on='AREA_TITLE', how='inner')\n",
    "\n",
    "# Combine the shapefile with the employment data\n",
    "geo_LQ = pd.merge(gdf, LQ_df, left_on=\"NAME\", right_on=\"NAME\", how = 'right') ### want a right join because only want metros w/ LQ data"
   ]
  },
  {
   "cell_type": "code",
   "execution_count": null,
   "metadata": {},
   "outputs": [
    {
     "data": {
      "application/vnd.plotly.v1+json": {
       "config": {
        "plotlyServerURL": "https://plot.ly"
       },
       "data": [
        {
         "hovertemplate": "<b>%{hovertext}</b><br>Concentration: %{marker.size:,}<extra></extra>",
         "hovertext": [
          "San Jose-Sunnyvale-Santa Clara, CA",
          "Durham-Chapel Hill, NC",
          "Bloomington, IL",
          "San Francisco-Oakland-Fremont, CA",
          "Des Moines-West Des Moines, IA",
          "Ithaca, NY",
          "Boston-Cambridge-Newton, MA-NH",
          "Provo-Orem-Lehi, UT",
          "Seattle-Tacoma-Bellevue, WA",
          "Charlotte-Concord-Gastonia, NC-SC",
          "Washington-Arlington-Alexandria, DC-VA-MD-WV",
          "Idaho Falls, ID",
          "Raleigh-Cary, NC",
          "Austin-Round Rock-San Marcos, TX",
          "Huntsville, AL",
          "Omaha, NE-IA",
          "Sacramento-Roseville-Folsom, CA",
          "Dallas-Fort Worth-Arlington, TX",
          "New York-Newark-Jersey City, NY-NJ",
          "Rochester, NY",
          "Atlanta-Sandy Springs-Roswell, GA",
          "Lincoln, NE",
          "Madison, WI",
          "Portland-South Portland, ME",
          "St. Louis, MO-IL",
          "Philadelphia-Camden-Wilmington, PA-NJ-DE-MD",
          "Oshkosh-Neenah, WI",
          "Ames, IA",
          "Baton Rouge, LA",
          "Lansing-East Lansing, MI",
          "Lexington Park, MD",
          "Portland-Vancouver-Hillsboro, OR-WA",
          "Pittsburgh, PA",
          "Dubuque, IA",
          "Providence-Warwick, RI-MA",
          "San Diego-Chula Vista-Carlsbad, CA",
          "Los Angeles-Long Beach-Anaheim, CA",
          "Davenport-Moline-Rock Island, IA-IL",
          "Midland, MI",
          "Trenton-Princeton, NJ",
          "Boise City, ID",
          "Tulsa, OK",
          "Houston-Pasadena-The Woodlands, TX",
          "Harrisburg-Carlisle, PA",
          "Milwaukee-Waukesha, WI",
          "Minneapolis-St. Paul-Bloomington, MN-WI",
          "Oxnard-Thousand Oaks-Ventura, CA",
          "Detroit-Warren-Dearborn, MI",
          "Corvallis, OR",
          "Manchester-Nashua, NH",
          "Columbia, MO",
          "Cincinnati, OH-KY-IN",
          "Phoenix-Mesa-Chandler, AZ",
          "Nashville-Davidson--Murfreesboro--Franklin, TN",
          "Richmond, VA",
          "Fort Wayne, IN",
          "Columbia, SC",
          "Springfield, MA",
          "Crestview-Fort Walton Beach-Destin, FL",
          "Greenville-Anderson-Greer, SC",
          "Cedar Rapids, IA",
          "Indianapolis-Carmel-Greenwood, IN",
          "Worcester, MA",
          "Chicago-Naperville-Elgin, IL-IN",
          "San Antonio-New Braunfels, TX",
          "Ann Arbor, MI",
          "Oklahoma City, OK",
          "Casper, WY",
          "Erie, PA",
          "Albany-Schenectady-Troy, NY",
          "Champaign-Urbana, IL",
          "Buffalo-Cheektowaga, NY",
          "Charleston-North Charleston, SC",
          "Allentown-Bethlehem-Easton, PA-NJ",
          "Ogden, UT",
          "Sioux Falls, SD-MN",
          "Green Bay, WI",
          "Sierra Vista-Douglas, AZ",
          "Tampa-St. Petersburg-Clearwater, FL",
          "Kalamazoo-Portage, MI",
          "Cleveland, OH",
          "Kennewick-Richland, WA",
          "Louisville/Jefferson County, KY-IN",
          "Lewiston, ID-WA",
          "Waterbury-Shelton, CT",
          "Columbus, OH",
          "Syracuse, NY",
          "Warner Robins, GA",
          "Santa Cruz-Watsonville, CA",
          "Palm Bay-Melbourne-Titusville, FL",
          "Jacksonville, FL",
          "Orlando-Kissimmee-Sanford, FL",
          "Florence, SC",
          "Logan, UT-ID",
          "St. George, UT",
          "Fargo, ND-MN",
          "Akron, OH",
          "Burlington-South Burlington, VT",
          "Baltimore-Columbia-Towson, MD",
          "Tallahassee, FL",
          "Santa Maria-Santa Barbara, CA",
          "Evansville, IN",
          "Winston-Salem, NC",
          "Utica-Rome, NY",
          "Iowa City, IA",
          "South Bend-Mishawaka, IN-MI",
          "Hartford-West Hartford-East Hartford, CT",
          "Bridgeport-Stamford-Danbury, CT",
          "Tucson, AZ",
          "Lewiston-Auburn, ME",
          "La Crosse-Onalaska, WI-MN",
          "Wausau, WI",
          "Pittsfield, MA",
          "Grand Rapids-Wyoming-Kentwood, MI",
          "Charlottesville, VA",
          "Bangor, ME",
          "Bend, OR",
          "Gainesville, FL",
          "Battle Creek, MI",
          "Olympia-Lacey-Tumwater, WA",
          "Jackson, MI",
          "Grand Forks, ND-MN",
          "Birmingham, AL",
          "Waterloo-Cedar Falls, IA",
          "Kansas City, MO-KS",
          "Reading, PA",
          "Fayetteville-Springdale-Rogers, AR",
          "Dayton-Kettering-Beavercreek, OH",
          "Columbus, GA-AL",
          "Bismarck, ND",
          "Kingston, NY",
          "Lexington-Fayette, KY",
          "Wilmington, NC",
          "Virginia Beach-Chesapeake-Norfolk, VA-NC",
          "Kiryas Joel-Poughkeepsie-Newburgh, NY",
          "Eau Claire, WI",
          "Miami-Fort Lauderdale-West Palm Beach, FL",
          "Springfield, MO",
          "Bozeman, MT",
          "Lancaster, PA",
          "Albuquerque, NM",
          "Peoria, IL",
          "Las Vegas-Henderson-North Las Vegas, NV",
          "College Station-Bryan, TX",
          "Altoona, PA",
          "Lakeland-Winter Haven, FL",
          "Lawton, OK",
          "Spartanburg, SC",
          "Midland, TX",
          "Kingsport-Bristol, TN-VA",
          "Cape Girardeau, MO-IL",
          "El Paso, TX",
          "San Angelo, TX",
          "Jefferson City, MO",
          "Elkhart-Goshen, IN",
          "Janesville-Beloit, WI",
          "Elizabethtown, KY",
          "Reno, NV",
          "Amherst Town-Northampton, MA",
          "Columbus, IN",
          "Bloomington, IN",
          "Anchorage, AK",
          "Dalton, GA",
          "Savannah, GA",
          "Scranton--Wilkes-Barre, PA",
          "Waco, TX",
          "Traverse City, MI",
          "Blacksburg-Christiansburg-Radford, VA",
          "Saginaw, MI",
          "York-Hanover, PA",
          "Amarillo, TX",
          "Albany, GA",
          "Charleston, WV",
          "Tyler, TX",
          "Appleton, WI",
          "Niles, MI",
          "Corpus Christi, TX",
          "Augusta-Richmond County, GA-SC",
          "Greensboro-High Point, NC",
          "Glens Falls, NY",
          "Binghamton, NY",
          "Greenville, NC",
          "Chambersburg, PA",
          "Yuma, AZ",
          "Kenosha, WI",
          "Sheboygan, WI",
          "Abilene, TX",
          "New Haven, CT",
          "Bakersfield-Delano, CA",
          "Sioux City, IA-NE-SD",
          "Lynchburg, VA",
          "Hickory-Lenoir-Morganton, NC",
          "Knoxville, TN",
          "Joplin, MO-KS",
          "Chattanooga, TN-GA",
          "Springfield, IL",
          "Pensacola-Ferry Pass-Brent, FL",
          "State College, PA",
          "Barnstable Town, MA",
          "Macon-Bibb County, GA",
          "Redding, CA",
          "Terre Haute, IN",
          "Flagstaff, AZ",
          "Laredo, TX",
          "Panama City-Panama City Beach, FL",
          "Duluth, MN-WI",
          "Toledo, OH",
          "Wichita Falls, TX",
          "Fayetteville, NC",
          "Spokane-Spokane Valley, WA",
          "Rockford, IL",
          "Eugene-Springfield, OR",
          "Cape Coral-Fort Myers, FL",
          "Flint, MI",
          "Dover, DE",
          "Santa Rosa-Petaluma, CA",
          "Beaumont-Port Arthur, TX",
          "Bremerton-Silverdale-Port Orchard, WA",
          "Lubbock, TX",
          "Riverside-San Bernardino-Ontario, CA",
          "Longview, TX",
          "Chico, CA",
          "Urban Honolulu, HI",
          "Medford, OR",
          "Racine-Mount Pleasant, WI",
          "San Luis Obispo-Paso Robles, CA",
          "Vallejo, CA",
          "Atlantic City-Hammonton, NJ",
          "Gainesville, GA",
          "Napa, CA",
          "Lafayette-West Lafayette, IN",
          "Montgomery, AL",
          "Salem, OR",
          "Bellingham, WA",
          "Roanoke, VA",
          "Little Rock-North Little Rock-Conway, AR",
          "Las Cruces, NM",
          "Norwich-New London-Willimantic, CT",
          "Memphis, TN-MS-AR",
          "Killeen-Temple, TX",
          "Canton-Massillon, OH",
          "Asheville, NC",
          "Clarksville, TN-KY",
          "Fresno, CA",
          "Billings, MT",
          "Hagerstown-Martinsburg, MD-WV",
          "McAllen-Edinburg-Mission, TX",
          "Stockton-Lodi, CA",
          "Deltona-Daytona Beach-Ormond Beach, FL",
          "Mobile, AL",
          "Naples-Marco Island, FL",
          "Modesto, CA",
          "Ocala, FL",
          "Huntington-Ashland, WV-KY-OH",
          "Youngstown-Warren, OH",
          "Jackson, MS",
          "Salinas, CA",
          "Visalia, CA",
          "New Orleans-Metairie, LA",
          "Myrtle Beach-Conway-North Myrtle Beach, SC",
          "Port St. Lucie, FL",
          "Wichita, KS",
          "San Juan-Bayamón-Caguas, PR"
         ],
         "lat": [
          36.91030847870619,
          35.99105704382668,
          40.490891618559736,
          37.774109391377706,
          41.575666004845104,
          42.45201867851938,
          42.5178983056129,
          39.86450191482904,
          47.55747496670581,
          35.16858472948385,
          38.832383262698315,
          43.62250547435144,
          35.75727480498975,
          30.262246727371622,
          34.78318967859805,
          41.29008437298225,
          38.780495487822286,
          32.8495029319331,
          40.73637486795714,
          43.188514441633764,
          33.733762523212704,
          40.819919102203656,
          43.08018135482941,
          43.65296364433356,
          38.735247592128154,
          39.89584498649021,
          44.068876891378395,
          42.03637158352593,
          30.51732150170172,
          42.71330159836051,
          38.31534228591873,
          45.598362690797636,
          40.47443348995461,
          42.46882243268045,
          41.64493427298193,
          33.02819796739121,
          34.11176360235264,
          41.39687948744728,
          43.646856704695686,
          40.283437425482006,
          43.01601416202573,
          36.25041272660737,
          29.80212288788412,
          40.32666785180804,
          43.18039750514765,
          45.10335986165826,
          34.35706907242699,
          42.71623563197045,
          44.49179903576947,
          42.91529150609051,
          38.98380988051826,
          39.08111940323311,
          33.18586541061491,
          36.08909290334003,
          37.41248327589083,
          41.00539945512145,
          34.09175612742186,
          42.13511501401045,
          30.591953158244905,
          34.685125573715695,
          42.09147230654023,
          39.79287130637698,
          42.3513945714977,
          41.75961644514,
          29.428763998124197,
          42.25322534883891,
          35.42987340177036,
          42.96224044575415,
          42.11749624629517,
          42.788494006599215,
          40.22667832841295,
          43.03785915588772,
          33.01657303819066,
          40.78936919862038,
          41.118953959214835,
          43.527296471513694,
          44.69882136938099,
          31.879627478566896,
          28.123415297498294,
          42.24545445407747,
          41.670434006352316,
          46.363562469943645,
          38.22443524749478,
          46.2691528691608,
          41.52315152998767,
          39.968125928343596,
          43.20096350617498,
          32.49029845389787,
          37.02160584224619,
          28.300317937857866,
          30.234071255951516,
          28.4343464287635,
          34.1520194544314,
          41.889583883134115,
          37.280416921032725,
          46.91781324137095,
          41.148734379158554,
          44.686826183105104,
          39.30554078475111,
          30.34905328212808,
          34.53825125785915,
          38.0487638499199,
          36.07667743641049,
          43.33716509753293,
          41.51133045511344,
          41.773627419745885,
          41.687448087452864,
          41.25526633860353,
          32.09739870528064,
          44.16584842785464,
          43.69826699947517,
          44.89828570995151,
          42.37067554379461,
          42.9783994429018,
          37.95010315212047,
          45.400512321313315,
          44.16629363752927,
          29.456177955801056,
          42.246539106045404,
          46.92962690588329,
          42.248487395765956,
          47.83595964976275,
          33.46384087652043,
          42.536232098463806,
          38.937146017241425,
          40.4162956671039,
          36.108349907066504,
          39.82951286321467,
          32.418225201443754,
          46.88407538095239,
          41.88814562680186,
          38.09050888023303,
          34.25211281603683,
          36.840285900058305,
          41.58275994020366,
          44.9388004165829,
          26.135276354275575,
          37.36167529684541,
          45.540389499429324,
          40.04243033491308,
          35.12229764414613,
          40.78915584840243,
          36.21519630845167,
          30.756539295812185,
          40.48111671369334,
          27.94887148630418,
          34.524177113223516,
          34.83790692919694,
          32.08975366876261,
          36.60777362443048,
          37.3244849496499,
          31.51308818662487,
          31.363663625431506,
          38.63981281490281,
          41.59738447990813,
          42.67121812761983,
          37.65311269567056,
          40.25882481244369,
          42.340155585534184,
          39.20597057207045,
          39.23471224239362,
          62.22437414137989,
          34.79628157756104,
          32.10686332702063,
          41.32319577733379,
          31.594477658106452,
          44.94142028244704,
          37.12085725699317,
          43.335028731014646,
          39.9199595994266,
          35.24888863894819,
          31.646459779400633,
          38.27165500341464,
          32.3750354238494,
          44.28903134984166,
          41.99577768511437,
          27.892838346113752,
          33.46102528715891,
          36.02586207235691,
          43.443544278607476,
          42.16447752593655,
          35.593298974621256,
          39.92741840127329,
          32.769619918498236,
          42.57850410099628,
          43.719707377940836,
          32.4496900452076,
          41.29447042847549,
          35.342621500444935,
          42.51886942389314,
          37.36501889088983,
          35.81290420954569,
          36.04472599554532,
          37.092431540417174,
          35.051984200233065,
          39.829594398180376,
          30.604988830207425,
          40.9189540214956,
          41.77344927347826,
          32.85769488473761,
          40.76376660115652,
          39.391908255111865,
          35.8387248492318,
          27.76106243008186,
          30.27434619731384,
          47.318479851260136,
          41.54058866008217,
          33.77475217974184,
          35.0370999853504,
          48.08110311680401,
          42.33161409498088,
          43.9415554742335,
          26.56349671118828,
          43.02172289859303,
          39.09595476988037,
          38.52538142533889,
          30.076471405439264,
          47.63964660128235,
          33.463603991754674,
          34.551687706784136,
          32.43105853811108,
          39.66692936105124,
          23.718640396506395,
          42.432155888293586,
          42.75117428071774,
          35.38744905262926,
          38.2669214768002,
          39.285131248595086,
          34.317086156869976,
          38.50696360242177,
          40.47724707229659,
          32.36061112622032,
          44.90339673454215,
          48.829616199902766,
          37.286089014960595,
          34.75728656201916,
          32.35264838360237,
          41.484789463948125,
          35.00735913468447,
          31.207838512580135,
          40.718667594643236,
          35.61723714882868,
          36.692949349473295,
          36.87999350238702,
          45.63997319796508,
          39.549905642078556,
          26.396734153670508,
          37.934765183750024,
          29.17994425484908,
          30.685151206940123,
          26.100367949059596,
          37.55915585054911,
          29.210202286515983,
          38.35868180221814,
          41.19619718650585,
          32.427749376252606,
          36.23977436811787,
          36.22019066656752,
          29.71181286250829,
          33.904525276719276,
          27.224695472038075,
          37.63867118251767,
          18.29528604857324
         ],
         "legendgroup": "",
         "lon": [
          -121.37692780284263,
          -79.09963807733739,
          -88.84732427797877,
          -122.27410918593066,
          -93.76182657398422,
          -76.47365412977649,
          -71.0219280183955,
          -112.35261188672312,
          -121.88142914055544,
          -80.79536593071371,
          -77.49803594117299,
          -112.42787441925051,
          -78.46083182980976,
          -97.65435382737088,
          -86.73464420937788,
          -95.99912404635334,
          -120.9972491390811,
          -96.97039691200993,
          -73.80356960293985,
          -77.5539288290651,
          -84.39216958707833,
          -96.87081622968465,
          -89.59222360647242,
          -70.41687105053138,
          -90.35010185467162,
          -75.31171177145215,
          -88.6446587533396,
          -93.6983390819213,
          -91.12697188471148,
          -84.60697399333331,
          -76.5295298450362,
          -122.47828767431096,
          -79.86317562824709,
          -90.88252185038256,
          -71.38966668755033,
          -116.77019669001278,
          -118.18075908268506,
          -90.4659117575504,
          -84.38810911289043,
          -74.70175239182764,
          -116.14324208397097,
          -96.16621872313064,
          -95.34227903337397,
          -77.10119768506455,
          -87.7969626778574,
          -93.27533865724331,
          -119.12601434728353,
          -83.20582427322643,
          -123.42924906242823,
          -71.71608246629012,
          -92.57933005508538,
          -84.46458999513642,
          -112.07070070028564,
          -86.72443988189264,
          -77.44620107884265,
          -85.21677558713552,
          -81.04238464258138,
          -72.63164864220703,
          -86.37110178557725,
          -82.41388789096362,
          -91.6313309616663,
          -86.12156639516519,
          -71.90772697588598,
          -87.84489356106339,
          -98.60226372804078,
          -83.8387705070282,
          -97.50387646217757,
          -106.79849380290528,
          -80.09815349932951,
          -73.94197940657605,
          -88.29452710958309,
          -78.77537663163785,
          -80.00862647958151,
          -75.40387574436143,
          -111.87022926060034,
          -96.873887808757,
          -87.82507975708013,
          -109.75126300522564,
          -82.52853017182946,
          -85.53118333715166,
          -81.42944678504406,
          -119.25426632445586,
          -85.70245666138787,
          -116.94372492088011,
          -73.08604214008467,
          -82.83690444899722,
          -76.0769590418875,
          -83.71203339200858,
          -122.00978737438118,
          -80.70120876495957,
          -81.75749729488571,
          -81.36305352886303,
          -79.80845001142356,
          -111.76897539098839,
          -113.50467371546617,
          -96.96549413676233,
          -81.34953267156597,
          -73.03149884379336,
          -76.5510061326829,
          -84.27572573394238,
          -120.03101114135809,
          -87.58180890376751,
          -80.34583278192346,
          -75.18138307054288,
          -91.64998527551542,
          -86.13414729011525,
          -72.54576969648033,
          -73.38300100138436,
          -111.78986399447216,
          -70.20644499377971,
          -91.10762064840976,
          -89.75905892340126,
          -73.20641297764685,
          -85.7141537361551,
          -78.59289955525108,
          -68.64942812896376,
          -120.88391010471959,
          -82.66931149332902,
          -85.00558227053244,
          -122.83229374408856,
          -84.42343730330076,
          -96.84438541696859,
          -86.81386802272088,
          -92.47115553205133,
          -94.44438719838288,
          -75.92599808862222,
          -94.07549378358702,
          -84.14191256864473,
          -84.84393259852786,
          -100.97861018003888,
          -74.25856951631634,
          -84.43305427845347,
          -78.03864847691109,
          -76.39603683595595,
          -74.02564045245543,
          -91.28220957674965,
          -80.46863198576719,
          -93.17707481333295,
          -111.17036894627947,
          -76.24769684510478,
          -106.47158260974265,
          -89.5159061843627,
          -115.01356105204503,
          -96.4889667961048,
          -78.34829588953637,
          -81.69768539562489,
          -98.43479579077287,
          -81.84756593834756,
          -101.99101579994662,
          -82.44260317962458,
          -89.76981524988717,
          -105.54104725056263,
          -100.67303895377836,
          -92.0916925876155,
          -85.85875527405359,
          -89.07155826247805,
          -85.88517994900867,
          -119.55320182555032,
          -72.66378616490911,
          -85.8976029731582,
          -86.67594056753894,
          -149.55443384242562,
          -84.84810820421032,
          -81.27134839214521,
          -75.89573493775778,
          -97.28287321782294,
          -85.90575712433812,
          -80.53291207907779,
          -84.05318703425706,
          -76.72651014508683,
          -101.90954513555107,
          -84.11531925517163,
          -81.49170014443992,
          -95.26918268309834,
          -88.37115326162012,
          -86.68542115443856,
          -97.40126451988552,
          -81.98292809327468,
          -79.79160397045388,
          -73.64881136620112,
          -76.02514482576811,
          -77.37449655189732,
          -77.72125091944837,
          -113.90561548044276,
          -87.65311823063857,
          -87.63477447487065,
          -99.7176783249734,
          -72.83366611181374,
          -118.73002806577927,
          -96.30880082147209,
          -79.2197431116736,
          -81.45428440214266,
          -84.1374714453436,
          -94.50108308081984,
          -85.36007064002418,
          -89.69691393001816,
          -87.15692947060404,
          -77.81996372478596,
          -70.23813749230841,
          -83.71490686576396,
          -122.0405215282598,
          -87.34399326919083,
          -111.77052100774208,
          -99.33156530421446,
          -85.64272782525973,
          -92.39284861204159,
          -83.69338640365014,
          -98.49138724955586,
          -78.98041240697616,
          -117.6708429263761,
          -89.04208114669717,
          -122.87663764155072,
          -81.98483599698326,
          -83.70671102712826,
          -75.50461385378375,
          -122.92272709362724,
          -94.20136010366994,
          -122.64917638760737,
          -101.88074218126884,
          -116.12973844282817,
          -94.67519753332954,
          -121.60067173160115,
          -164.73674034720787,
          -122.72851787739313,
          -87.69608097952725,
          -120.45219084564243,
          -121.93999006719702,
          -74.73725107432915,
          -83.81957265920988,
          -122.3306370426753,
          -87.02341007552093,
          -86.40323998288596,
          -122.90327375643695,
          -121.87281310603294,
          -79.94656264557571,
          -92.39718322784162,
          -106.83272163462934,
          -72.1007273360993,
          -89.81474051295407,
          -97.78759128510924,
          -81.2534717417313,
          -82.57100077078302,
          -87.62305602726994,
          -119.67934047134568,
          -108.82187161413381,
          -77.98138535234493,
          -98.18111521882639,
          -121.27143844405619,
          -81.1898407748509,
          -88.19752379023207,
          -81.44454715225734,
          -120.99767552001309,
          -82.05667567080549,
          -82.56853950667445,
          -80.76727664333801,
          -90.13600414871652,
          -121.30890152396167,
          -118.80046158261075,
          -89.66735827514029,
          -78.97615818768475,
          -80.4210025347628,
          -97.24542750276882,
          -66.0389143099953
         ],
         "marker": {
          "color": [
           3.82,
           2.98,
           2.85,
           2.57,
           2.15,
           2.02,
           2.01,
           2,
           1.93,
           1.91,
           1.81,
           1.81,
           1.77,
           1.63,
           1.6,
           1.6,
           1.55,
           1.42,
           1.4,
           1.39,
           1.37,
           1.36,
           1.35,
           1.31,
           1.31,
           1.3,
           1.27,
           1.27,
           1.27,
           1.17,
           1.17,
           1.14,
           1.13,
           1.13,
           1.12,
           1.1,
           1.07,
           1.05,
           1.03,
           1.02,
           1.01,
           1,
           1,
           0.99,
           0.99,
           0.98,
           0.98,
           0.97,
           0.97,
           0.97,
           0.92,
           0.91,
           0.91,
           0.9,
           0.89,
           0.89,
           0.89,
           0.88,
           0.87,
           0.87,
           0.86,
           0.86,
           0.86,
           0.86,
           0.85,
           0.84,
           0.83,
           0.82,
           0.82,
           0.81,
           0.81,
           0.79,
           0.78,
           0.78,
           0.77,
           0.77,
           0.76,
           0.76,
           0.75,
           0.75,
           0.74,
           0.73,
           0.73,
           0.72,
           0.72,
           0.7,
           0.7,
           0.7,
           0.7,
           0.68,
           0.68,
           0.68,
           0.68,
           0.68,
           0.68,
           0.67,
           0.66,
           0.66,
           0.64,
           0.64,
           0.64,
           0.64,
           0.63,
           0.63,
           0.63,
           0.62,
           0.62,
           0.62,
           0.62,
           0.62,
           0.61,
           0.61,
           0.61,
           0.61,
           0.6,
           0.6,
           0.58,
           0.58,
           0.58,
           0.58,
           0.57,
           0.57,
           0.57,
           0.56,
           0.56,
           0.56,
           0.55,
           0.54,
           0.54,
           0.54,
           0.54,
           0.54,
           0.53,
           0.53,
           0.53,
           0.53,
           0.53,
           0.53,
           0.52,
           0.52,
           0.52,
           0.52,
           0.52,
           0.52,
           0.51,
           0.51,
           0.51,
           0.51,
           0.51,
           0.51,
           0.51,
           0.5,
           0.5,
           0.5,
           0.5,
           0.5,
           0.5,
           0.5,
           0.49,
           0.49,
           0.49,
           0.49,
           0.49,
           0.48,
           0.47,
           0.47,
           0.47,
           0.46,
           0.46,
           0.46,
           0.46,
           0.46,
           0.46,
           0.45,
           0.45,
           0.45,
           0.45,
           0.44,
           0.44,
           0.44,
           0.44,
           0.44,
           0.44,
           0.43,
           0.43,
           0.43,
           0.42,
           0.42,
           0.41,
           0.41,
           0.41,
           0.41,
           0.4,
           0.4,
           0.4,
           0.4,
           0.39,
           0.39,
           0.39,
           0.39,
           0.38,
           0.38,
           0.38,
           0.38,
           0.38,
           0.37,
           0.37,
           0.36,
           0.36,
           0.36,
           0.35,
           0.35,
           0.35,
           0.35,
           0.35,
           0.34,
           0.34,
           0.33,
           0.33,
           0.33,
           0.33,
           0.32,
           0.32,
           0.32,
           0.31,
           0.31,
           0.31,
           0.31,
           0.31,
           0.3,
           0.3,
           0.3,
           0.29,
           0.29,
           0.28,
           0.28,
           0.27,
           0.27,
           0.26,
           0.26,
           0.26,
           0.25,
           0.25,
           0.25,
           0.24,
           0.23,
           0.23,
           0.23,
           0.23,
           0.21,
           0.21,
           0.2,
           0.2,
           0.2,
           0.19,
           0.19,
           0.19,
           0.18,
           0.18,
           0.17,
           0.17,
           0.12,
           0.08
          ],
          "coloraxis": "coloraxis",
          "size": [
           3.82,
           2.98,
           2.85,
           2.57,
           2.15,
           2.02,
           2.01,
           2,
           1.93,
           1.91,
           1.81,
           1.81,
           1.77,
           1.63,
           1.6,
           1.6,
           1.55,
           1.42,
           1.4,
           1.39,
           1.37,
           1.36,
           1.35,
           1.31,
           1.31,
           1.3,
           1.27,
           1.27,
           1.27,
           1.17,
           1.17,
           1.14,
           1.13,
           1.13,
           1.12,
           1.1,
           1.07,
           1.05,
           1.03,
           1.02,
           1.01,
           1,
           1,
           0.99,
           0.99,
           0.98,
           0.98,
           0.97,
           0.97,
           0.97,
           0.92,
           0.91,
           0.91,
           0.9,
           0.89,
           0.89,
           0.89,
           0.88,
           0.87,
           0.87,
           0.86,
           0.86,
           0.86,
           0.86,
           0.85,
           0.84,
           0.83,
           0.82,
           0.82,
           0.81,
           0.81,
           0.79,
           0.78,
           0.78,
           0.77,
           0.77,
           0.76,
           0.76,
           0.75,
           0.75,
           0.74,
           0.73,
           0.73,
           0.72,
           0.72,
           0.7,
           0.7,
           0.7,
           0.7,
           0.68,
           0.68,
           0.68,
           0.68,
           0.68,
           0.68,
           0.67,
           0.66,
           0.66,
           0.64,
           0.64,
           0.64,
           0.64,
           0.63,
           0.63,
           0.63,
           0.62,
           0.62,
           0.62,
           0.62,
           0.62,
           0.61,
           0.61,
           0.61,
           0.61,
           0.6,
           0.6,
           0.58,
           0.58,
           0.58,
           0.58,
           0.57,
           0.57,
           0.57,
           0.56,
           0.56,
           0.56,
           0.55,
           0.54,
           0.54,
           0.54,
           0.54,
           0.54,
           0.53,
           0.53,
           0.53,
           0.53,
           0.53,
           0.53,
           0.52,
           0.52,
           0.52,
           0.52,
           0.52,
           0.52,
           0.51,
           0.51,
           0.51,
           0.51,
           0.51,
           0.51,
           0.51,
           0.5,
           0.5,
           0.5,
           0.5,
           0.5,
           0.5,
           0.5,
           0.49,
           0.49,
           0.49,
           0.49,
           0.49,
           0.48,
           0.47,
           0.47,
           0.47,
           0.46,
           0.46,
           0.46,
           0.46,
           0.46,
           0.46,
           0.45,
           0.45,
           0.45,
           0.45,
           0.44,
           0.44,
           0.44,
           0.44,
           0.44,
           0.44,
           0.43,
           0.43,
           0.43,
           0.42,
           0.42,
           0.41,
           0.41,
           0.41,
           0.41,
           0.4,
           0.4,
           0.4,
           0.4,
           0.39,
           0.39,
           0.39,
           0.39,
           0.38,
           0.38,
           0.38,
           0.38,
           0.38,
           0.37,
           0.37,
           0.36,
           0.36,
           0.36,
           0.35,
           0.35,
           0.35,
           0.35,
           0.35,
           0.34,
           0.34,
           0.33,
           0.33,
           0.33,
           0.33,
           0.32,
           0.32,
           0.32,
           0.31,
           0.31,
           0.31,
           0.31,
           0.31,
           0.3,
           0.3,
           0.3,
           0.29,
           0.29,
           0.28,
           0.28,
           0.27,
           0.27,
           0.26,
           0.26,
           0.26,
           0.25,
           0.25,
           0.25,
           0.24,
           0.23,
           0.23,
           0.23,
           0.23,
           0.21,
           0.21,
           0.2,
           0.2,
           0.2,
           0.19,
           0.19,
           0.19,
           0.18,
           0.18,
           0.17,
           0.17,
           0.12,
           0.08
          ],
          "sizemode": "area",
          "sizeref": 0.00955
         },
         "mode": "markers",
         "name": "",
         "showlegend": false,
         "subplot": "mapbox",
         "type": "scattermapbox"
        }
       ],
       "layout": {
        "annotations": [
         {
          "align": "left",
          "font": {
           "color": "gray",
           "size": 10
          },
          "showarrow": false,
          "text": "Source: Bureau of Labor Statistics - Occupational Employment and Wage Statistics",
          "x": 0,
          "xref": "paper",
          "y": -0.1,
          "yref": "paper"
         }
        ],
        "coloraxis": {
         "colorbar": {
          "title": {
           "text": "Concentration"
          }
         },
         "colorscale": [
          [
           0,
           "#440154"
          ],
          [
           0.1111111111111111,
           "#482878"
          ],
          [
           0.2222222222222222,
           "#3e4989"
          ],
          [
           0.3333333333333333,
           "#31688e"
          ],
          [
           0.4444444444444444,
           "#26828e"
          ],
          [
           0.5555555555555556,
           "#1f9e89"
          ],
          [
           0.6666666666666666,
           "#35b779"
          ],
          [
           0.7777777777777778,
           "#6ece58"
          ],
          [
           0.8888888888888888,
           "#b5de2b"
          ],
          [
           1,
           "#fde725"
          ]
         ]
        },
        "legend": {
         "itemsizing": "constant",
         "tracegroupgap": 0
        },
        "mapbox": {
         "center": {
          "lat": 37.0902,
          "lon": -95.7129
         },
         "domain": {
          "x": [
           0,
           1
          ],
          "y": [
           0,
           1
          ]
         },
         "style": "carto-positron",
         "zoom": 3
        },
        "showlegend": true,
        "template": {
         "data": {
          "bar": [
           {
            "error_x": {
             "color": "#2a3f5f"
            },
            "error_y": {
             "color": "#2a3f5f"
            },
            "marker": {
             "line": {
              "color": "#E5ECF6",
              "width": 0.5
             },
             "pattern": {
              "fillmode": "overlay",
              "size": 10,
              "solidity": 0.2
             }
            },
            "type": "bar"
           }
          ],
          "barpolar": [
           {
            "marker": {
             "line": {
              "color": "#E5ECF6",
              "width": 0.5
             },
             "pattern": {
              "fillmode": "overlay",
              "size": 10,
              "solidity": 0.2
             }
            },
            "type": "barpolar"
           }
          ],
          "carpet": [
           {
            "aaxis": {
             "endlinecolor": "#2a3f5f",
             "gridcolor": "white",
             "linecolor": "white",
             "minorgridcolor": "white",
             "startlinecolor": "#2a3f5f"
            },
            "baxis": {
             "endlinecolor": "#2a3f5f",
             "gridcolor": "white",
             "linecolor": "white",
             "minorgridcolor": "white",
             "startlinecolor": "#2a3f5f"
            },
            "type": "carpet"
           }
          ],
          "choropleth": [
           {
            "colorbar": {
             "outlinewidth": 0,
             "ticks": ""
            },
            "type": "choropleth"
           }
          ],
          "contour": [
           {
            "colorbar": {
             "outlinewidth": 0,
             "ticks": ""
            },
            "colorscale": [
             [
              0,
              "#0d0887"
             ],
             [
              0.1111111111111111,
              "#46039f"
             ],
             [
              0.2222222222222222,
              "#7201a8"
             ],
             [
              0.3333333333333333,
              "#9c179e"
             ],
             [
              0.4444444444444444,
              "#bd3786"
             ],
             [
              0.5555555555555556,
              "#d8576b"
             ],
             [
              0.6666666666666666,
              "#ed7953"
             ],
             [
              0.7777777777777778,
              "#fb9f3a"
             ],
             [
              0.8888888888888888,
              "#fdca26"
             ],
             [
              1,
              "#f0f921"
             ]
            ],
            "type": "contour"
           }
          ],
          "contourcarpet": [
           {
            "colorbar": {
             "outlinewidth": 0,
             "ticks": ""
            },
            "type": "contourcarpet"
           }
          ],
          "heatmap": [
           {
            "colorbar": {
             "outlinewidth": 0,
             "ticks": ""
            },
            "colorscale": [
             [
              0,
              "#0d0887"
             ],
             [
              0.1111111111111111,
              "#46039f"
             ],
             [
              0.2222222222222222,
              "#7201a8"
             ],
             [
              0.3333333333333333,
              "#9c179e"
             ],
             [
              0.4444444444444444,
              "#bd3786"
             ],
             [
              0.5555555555555556,
              "#d8576b"
             ],
             [
              0.6666666666666666,
              "#ed7953"
             ],
             [
              0.7777777777777778,
              "#fb9f3a"
             ],
             [
              0.8888888888888888,
              "#fdca26"
             ],
             [
              1,
              "#f0f921"
             ]
            ],
            "type": "heatmap"
           }
          ],
          "heatmapgl": [
           {
            "colorbar": {
             "outlinewidth": 0,
             "ticks": ""
            },
            "colorscale": [
             [
              0,
              "#0d0887"
             ],
             [
              0.1111111111111111,
              "#46039f"
             ],
             [
              0.2222222222222222,
              "#7201a8"
             ],
             [
              0.3333333333333333,
              "#9c179e"
             ],
             [
              0.4444444444444444,
              "#bd3786"
             ],
             [
              0.5555555555555556,
              "#d8576b"
             ],
             [
              0.6666666666666666,
              "#ed7953"
             ],
             [
              0.7777777777777778,
              "#fb9f3a"
             ],
             [
              0.8888888888888888,
              "#fdca26"
             ],
             [
              1,
              "#f0f921"
             ]
            ],
            "type": "heatmapgl"
           }
          ],
          "histogram": [
           {
            "marker": {
             "pattern": {
              "fillmode": "overlay",
              "size": 10,
              "solidity": 0.2
             }
            },
            "type": "histogram"
           }
          ],
          "histogram2d": [
           {
            "colorbar": {
             "outlinewidth": 0,
             "ticks": ""
            },
            "colorscale": [
             [
              0,
              "#0d0887"
             ],
             [
              0.1111111111111111,
              "#46039f"
             ],
             [
              0.2222222222222222,
              "#7201a8"
             ],
             [
              0.3333333333333333,
              "#9c179e"
             ],
             [
              0.4444444444444444,
              "#bd3786"
             ],
             [
              0.5555555555555556,
              "#d8576b"
             ],
             [
              0.6666666666666666,
              "#ed7953"
             ],
             [
              0.7777777777777778,
              "#fb9f3a"
             ],
             [
              0.8888888888888888,
              "#fdca26"
             ],
             [
              1,
              "#f0f921"
             ]
            ],
            "type": "histogram2d"
           }
          ],
          "histogram2dcontour": [
           {
            "colorbar": {
             "outlinewidth": 0,
             "ticks": ""
            },
            "colorscale": [
             [
              0,
              "#0d0887"
             ],
             [
              0.1111111111111111,
              "#46039f"
             ],
             [
              0.2222222222222222,
              "#7201a8"
             ],
             [
              0.3333333333333333,
              "#9c179e"
             ],
             [
              0.4444444444444444,
              "#bd3786"
             ],
             [
              0.5555555555555556,
              "#d8576b"
             ],
             [
              0.6666666666666666,
              "#ed7953"
             ],
             [
              0.7777777777777778,
              "#fb9f3a"
             ],
             [
              0.8888888888888888,
              "#fdca26"
             ],
             [
              1,
              "#f0f921"
             ]
            ],
            "type": "histogram2dcontour"
           }
          ],
          "mesh3d": [
           {
            "colorbar": {
             "outlinewidth": 0,
             "ticks": ""
            },
            "type": "mesh3d"
           }
          ],
          "parcoords": [
           {
            "line": {
             "colorbar": {
              "outlinewidth": 0,
              "ticks": ""
             }
            },
            "type": "parcoords"
           }
          ],
          "pie": [
           {
            "automargin": true,
            "type": "pie"
           }
          ],
          "scatter": [
           {
            "fillpattern": {
             "fillmode": "overlay",
             "size": 10,
             "solidity": 0.2
            },
            "type": "scatter"
           }
          ],
          "scatter3d": [
           {
            "line": {
             "colorbar": {
              "outlinewidth": 0,
              "ticks": ""
             }
            },
            "marker": {
             "colorbar": {
              "outlinewidth": 0,
              "ticks": ""
             }
            },
            "type": "scatter3d"
           }
          ],
          "scattercarpet": [
           {
            "marker": {
             "colorbar": {
              "outlinewidth": 0,
              "ticks": ""
             }
            },
            "type": "scattercarpet"
           }
          ],
          "scattergeo": [
           {
            "marker": {
             "colorbar": {
              "outlinewidth": 0,
              "ticks": ""
             }
            },
            "type": "scattergeo"
           }
          ],
          "scattergl": [
           {
            "marker": {
             "colorbar": {
              "outlinewidth": 0,
              "ticks": ""
             }
            },
            "type": "scattergl"
           }
          ],
          "scattermapbox": [
           {
            "marker": {
             "colorbar": {
              "outlinewidth": 0,
              "ticks": ""
             }
            },
            "type": "scattermapbox"
           }
          ],
          "scatterpolar": [
           {
            "marker": {
             "colorbar": {
              "outlinewidth": 0,
              "ticks": ""
             }
            },
            "type": "scatterpolar"
           }
          ],
          "scatterpolargl": [
           {
            "marker": {
             "colorbar": {
              "outlinewidth": 0,
              "ticks": ""
             }
            },
            "type": "scatterpolargl"
           }
          ],
          "scatterternary": [
           {
            "marker": {
             "colorbar": {
              "outlinewidth": 0,
              "ticks": ""
             }
            },
            "type": "scatterternary"
           }
          ],
          "surface": [
           {
            "colorbar": {
             "outlinewidth": 0,
             "ticks": ""
            },
            "colorscale": [
             [
              0,
              "#0d0887"
             ],
             [
              0.1111111111111111,
              "#46039f"
             ],
             [
              0.2222222222222222,
              "#7201a8"
             ],
             [
              0.3333333333333333,
              "#9c179e"
             ],
             [
              0.4444444444444444,
              "#bd3786"
             ],
             [
              0.5555555555555556,
              "#d8576b"
             ],
             [
              0.6666666666666666,
              "#ed7953"
             ],
             [
              0.7777777777777778,
              "#fb9f3a"
             ],
             [
              0.8888888888888888,
              "#fdca26"
             ],
             [
              1,
              "#f0f921"
             ]
            ],
            "type": "surface"
           }
          ],
          "table": [
           {
            "cells": {
             "fill": {
              "color": "#EBF0F8"
             },
             "line": {
              "color": "white"
             }
            },
            "header": {
             "fill": {
              "color": "#C8D4E3"
             },
             "line": {
              "color": "white"
             }
            },
            "type": "table"
           }
          ]
         },
         "layout": {
          "annotationdefaults": {
           "arrowcolor": "#2a3f5f",
           "arrowhead": 0,
           "arrowwidth": 1
          },
          "autotypenumbers": "strict",
          "coloraxis": {
           "colorbar": {
            "outlinewidth": 0,
            "ticks": ""
           }
          },
          "colorscale": {
           "diverging": [
            [
             0,
             "#8e0152"
            ],
            [
             0.1,
             "#c51b7d"
            ],
            [
             0.2,
             "#de77ae"
            ],
            [
             0.3,
             "#f1b6da"
            ],
            [
             0.4,
             "#fde0ef"
            ],
            [
             0.5,
             "#f7f7f7"
            ],
            [
             0.6,
             "#e6f5d0"
            ],
            [
             0.7,
             "#b8e186"
            ],
            [
             0.8,
             "#7fbc41"
            ],
            [
             0.9,
             "#4d9221"
            ],
            [
             1,
             "#276419"
            ]
           ],
           "sequential": [
            [
             0,
             "#0d0887"
            ],
            [
             0.1111111111111111,
             "#46039f"
            ],
            [
             0.2222222222222222,
             "#7201a8"
            ],
            [
             0.3333333333333333,
             "#9c179e"
            ],
            [
             0.4444444444444444,
             "#bd3786"
            ],
            [
             0.5555555555555556,
             "#d8576b"
            ],
            [
             0.6666666666666666,
             "#ed7953"
            ],
            [
             0.7777777777777778,
             "#fb9f3a"
            ],
            [
             0.8888888888888888,
             "#fdca26"
            ],
            [
             1,
             "#f0f921"
            ]
           ],
           "sequentialminus": [
            [
             0,
             "#0d0887"
            ],
            [
             0.1111111111111111,
             "#46039f"
            ],
            [
             0.2222222222222222,
             "#7201a8"
            ],
            [
             0.3333333333333333,
             "#9c179e"
            ],
            [
             0.4444444444444444,
             "#bd3786"
            ],
            [
             0.5555555555555556,
             "#d8576b"
            ],
            [
             0.6666666666666666,
             "#ed7953"
            ],
            [
             0.7777777777777778,
             "#fb9f3a"
            ],
            [
             0.8888888888888888,
             "#fdca26"
            ],
            [
             1,
             "#f0f921"
            ]
           ]
          },
          "colorway": [
           "#636efa",
           "#EF553B",
           "#00cc96",
           "#ab63fa",
           "#FFA15A",
           "#19d3f3",
           "#FF6692",
           "#B6E880",
           "#FF97FF",
           "#FECB52"
          ],
          "font": {
           "color": "#2a3f5f"
          },
          "geo": {
           "bgcolor": "white",
           "lakecolor": "white",
           "landcolor": "#E5ECF6",
           "showlakes": true,
           "showland": true,
           "subunitcolor": "white"
          },
          "hoverlabel": {
           "align": "left"
          },
          "hovermode": "closest",
          "mapbox": {
           "style": "light"
          },
          "paper_bgcolor": "white",
          "plot_bgcolor": "#E5ECF6",
          "polar": {
           "angularaxis": {
            "gridcolor": "white",
            "linecolor": "white",
            "ticks": ""
           },
           "bgcolor": "#E5ECF6",
           "radialaxis": {
            "gridcolor": "white",
            "linecolor": "white",
            "ticks": ""
           }
          },
          "scene": {
           "xaxis": {
            "backgroundcolor": "#E5ECF6",
            "gridcolor": "white",
            "gridwidth": 2,
            "linecolor": "white",
            "showbackground": true,
            "ticks": "",
            "zerolinecolor": "white"
           },
           "yaxis": {
            "backgroundcolor": "#E5ECF6",
            "gridcolor": "white",
            "gridwidth": 2,
            "linecolor": "white",
            "showbackground": true,
            "ticks": "",
            "zerolinecolor": "white"
           },
           "zaxis": {
            "backgroundcolor": "#E5ECF6",
            "gridcolor": "white",
            "gridwidth": 2,
            "linecolor": "white",
            "showbackground": true,
            "ticks": "",
            "zerolinecolor": "white"
           }
          },
          "shapedefaults": {
           "line": {
            "color": "#2a3f5f"
           }
          },
          "ternary": {
           "aaxis": {
            "gridcolor": "white",
            "linecolor": "white",
            "ticks": ""
           },
           "baxis": {
            "gridcolor": "white",
            "linecolor": "white",
            "ticks": ""
           },
           "bgcolor": "#E5ECF6",
           "caxis": {
            "gridcolor": "white",
            "linecolor": "white",
            "ticks": ""
           }
          },
          "title": {
           "x": 0.05
          },
          "xaxis": {
           "automargin": true,
           "gridcolor": "white",
           "linecolor": "white",
           "ticks": "",
           "title": {
            "standoff": 15
           },
           "zerolinecolor": "white",
           "zerolinewidth": 2
          },
          "yaxis": {
           "automargin": true,
           "gridcolor": "white",
           "linecolor": "white",
           "ticks": "",
           "title": {
            "standoff": 15
           },
           "zerolinecolor": "white",
           "zerolinewidth": 2
          }
         }
        },
        "title": {
         "text": "Data Scientists <br><sup>2024 Employment Concentration, by Metropolitan Area"
        }
       }
      }
     },
     "metadata": {},
     "output_type": "display_data"
    }
   ],
   "source": [
    "# Bubble size \n",
    "if \"LOC_QUOTIENT\" in geo_LQ.columns:\n",
    "    geo_LQ[\"Concentration\"] = geo_LQ[\"LOC_QUOTIENT\"]\n",
    "else:\n",
    "    geo_LQ[\"Concentration\"] = 0  # Default size if no population data\n",
    "\n",
    "# Create a DataFrame for Plotly\n",
    "fig_LQ_df = geo_LQ[[\"lon\", \"lat\", \"NAME\", \"Concentration\", 'TOT_EMP']]  \n",
    "\n",
    "\n",
    "# Set up the mapbox layout\n",
    "LQ_map = px.scatter_mapbox(fig_LQ_df , \n",
    "                        lon=\"lon\", \n",
    "                        lat=\"lat\", \n",
    "                        size=\"Concentration\",  \n",
    "                        color=\"Concentration\", \n",
    "                        hover_name=\"NAME\",  # Name to show on hover\n",
    "                        size_max=20,  # Max bubble size\n",
    "                        color_continuous_scale=\"Viridis\", \n",
    "                        title=\"Data Scientists <br><sup>2024 Employment Concentration, by Metropolitan Area\")\n",
    "\n",
    "# Update the map style and layout\n",
    "LQ_map.update_layout(\n",
    "    mapbox_style=\"carto-positron\",  \n",
    "    mapbox_zoom=3,  # Zoom level for the map\n",
    "    mapbox_center={\"lat\": 37.0902, \"lon\": -95.7129},  # Center map on the U.S., adjust this as needed\n",
    "    showlegend=True,  # Ensure the legend is shown\n",
    "    annotations=[\n",
    "        dict(\n",
    "            text=\"Source: Bureau of Labor Statistics - OEWS\",\n",
    "            xref=\"paper\", yref=\"paper\",\n",
    "            x=0, y=-0.10,\n",
    "            showarrow=False,\n",
    "            align=\"left\",  # <-- aligns text to the left\n",
    "            font=dict(size=10, color=\"gray\")\n",
    "        )\n",
    "    ]\n",
    ")\n",
    "\n",
    "LQ_map.update_traces(\n",
    "    hovertemplate=\"<b>%{hovertext}</b><br>Concentration: %{marker.size:,}<extra></extra>\"\n",
    ")\n"
   ]
  },
  {
   "cell_type": "code",
   "execution_count": null,
   "metadata": {},
   "outputs": [
    {
     "data": {
      "application/vnd.plotly.v1+json": {
       "config": {
        "plotlyServerURL": "https://plot.ly"
       },
       "data": [
        {
         "cells": {
          "align": "left",
          "fill": {
           "color": "#C1E1C1"
          },
          "values": [
           [
            "San Jose-Sunnyvale-Santa Clara, CA",
            "Durham-Chapel Hill, NC",
            "Bloomington, IL",
            "San Francisco-Oakland-Fremont, CA",
            "Des Moines-West Des Moines, IA",
            "Ithaca, NY",
            "Boston-Cambridge-Newton, MA-NH",
            "Provo-Orem-Lehi, UT",
            "Seattle-Tacoma-Bellevue, WA",
            "Charlotte-Concord-Gastonia, NC-SC",
            "Washington-Arlington-Alexandria, DC-VA-MD-WV",
            "Idaho Falls, ID",
            "Raleigh-Cary, NC",
            "Austin-Round Rock-San Marcos, TX",
            "Huntsville, AL",
            "Omaha, NE-IA",
            "Sacramento-Roseville-Folsom, CA",
            "Dallas-Fort Worth-Arlington, TX",
            "New York-Newark-Jersey City, NY-NJ",
            "Rochester, NY",
            "Atlanta-Sandy Springs-Roswell, GA",
            "Lincoln, NE",
            "Madison, WI",
            "Portland-South Portland, ME",
            "St. Louis, MO-IL",
            "Philadelphia-Camden-Wilmington, PA-NJ-DE-MD",
            "Oshkosh-Neenah, WI",
            "Ames, IA",
            "Baton Rouge, LA",
            "Lansing-East Lansing, MI",
            "Lexington Park, MD",
            "Portland-Vancouver-Hillsboro, OR-WA",
            "Pittsburgh, PA",
            "Dubuque, IA",
            "Providence-Warwick, RI-MA",
            "San Diego-Chula Vista-Carlsbad, CA",
            "Los Angeles-Long Beach-Anaheim, CA",
            "Davenport-Moline-Rock Island, IA-IL",
            "Midland, MI",
            "Trenton-Princeton, NJ",
            "Boise City, ID",
            "Tulsa, OK",
            "Houston-Pasadena-The Woodlands, TX",
            "Harrisburg-Carlisle, PA",
            "Milwaukee-Waukesha, WI",
            "Minneapolis-St. Paul-Bloomington, MN-WI",
            "Oxnard-Thousand Oaks-Ventura, CA",
            "Detroit-Warren-Dearborn, MI",
            "Corvallis, OR",
            "Manchester-Nashua, NH",
            "Columbia, MO",
            "Cincinnati, OH-KY-IN",
            "Phoenix-Mesa-Chandler, AZ",
            "Nashville-Davidson--Murfreesboro--Franklin, TN",
            "Richmond, VA",
            "Fort Wayne, IN",
            "Columbia, SC",
            "Springfield, MA",
            "Crestview-Fort Walton Beach-Destin, FL",
            "Greenville-Anderson-Greer, SC",
            "Cedar Rapids, IA",
            "Indianapolis-Carmel-Greenwood, IN",
            "Worcester, MA",
            "Chicago-Naperville-Elgin, IL-IN",
            "San Antonio-New Braunfels, TX",
            "Ann Arbor, MI",
            "Oklahoma City, OK",
            "Casper, WY",
            "Erie, PA",
            "Albany-Schenectady-Troy, NY",
            "Champaign-Urbana, IL",
            "Buffalo-Cheektowaga, NY",
            "Charleston-North Charleston, SC",
            "Allentown-Bethlehem-Easton, PA-NJ",
            "Ogden, UT",
            "Sioux Falls, SD-MN",
            "Green Bay, WI",
            "Sierra Vista-Douglas, AZ",
            "Tampa-St. Petersburg-Clearwater, FL",
            "Kalamazoo-Portage, MI",
            "Cleveland, OH",
            "Kennewick-Richland, WA",
            "Louisville/Jefferson County, KY-IN",
            "Lewiston, ID-WA",
            "Waterbury-Shelton, CT",
            "Columbus, OH",
            "Syracuse, NY",
            "Warner Robins, GA",
            "Santa Cruz-Watsonville, CA",
            "Palm Bay-Melbourne-Titusville, FL",
            "Jacksonville, FL",
            "Orlando-Kissimmee-Sanford, FL",
            "Florence, SC",
            "Logan, UT-ID",
            "St. George, UT",
            "Fargo, ND-MN",
            "Akron, OH",
            "Burlington-South Burlington, VT",
            "Baltimore-Columbia-Towson, MD",
            "Tallahassee, FL",
            "Santa Maria-Santa Barbara, CA",
            "Evansville, IN",
            "Winston-Salem, NC",
            "Utica-Rome, NY",
            "Iowa City, IA",
            "South Bend-Mishawaka, IN-MI",
            "Hartford-West Hartford-East Hartford, CT",
            "Bridgeport-Stamford-Danbury, CT",
            "Tucson, AZ",
            "Lewiston-Auburn, ME",
            "La Crosse-Onalaska, WI-MN",
            "Wausau, WI",
            "Pittsfield, MA",
            "Grand Rapids-Wyoming-Kentwood, MI",
            "Charlottesville, VA",
            "Bangor, ME",
            "Bend, OR",
            "Gainesville, FL",
            "Battle Creek, MI",
            "Olympia-Lacey-Tumwater, WA",
            "Jackson, MI",
            "Grand Forks, ND-MN",
            "Birmingham, AL",
            "Waterloo-Cedar Falls, IA",
            "Kansas City, MO-KS",
            "Reading, PA",
            "Fayetteville-Springdale-Rogers, AR",
            "Dayton-Kettering-Beavercreek, OH",
            "Columbus, GA-AL",
            "Bismarck, ND",
            "Kingston, NY",
            "Lexington-Fayette, KY",
            "Wilmington, NC",
            "Virginia Beach-Chesapeake-Norfolk, VA-NC",
            "Kiryas Joel-Poughkeepsie-Newburgh, NY",
            "Eau Claire, WI",
            "Miami-Fort Lauderdale-West Palm Beach, FL",
            "Springfield, MO",
            "Bozeman, MT",
            "Lancaster, PA",
            "Albuquerque, NM",
            "Peoria, IL",
            "Las Vegas-Henderson-North Las Vegas, NV",
            "College Station-Bryan, TX",
            "Altoona, PA",
            "Lakeland-Winter Haven, FL",
            "Lawton, OK",
            "Spartanburg, SC",
            "Midland, TX",
            "Kingsport-Bristol, TN-VA",
            "Cape Girardeau, MO-IL",
            "El Paso, TX",
            "San Angelo, TX",
            "Jefferson City, MO",
            "Elkhart-Goshen, IN",
            "Janesville-Beloit, WI",
            "Elizabethtown, KY",
            "Reno, NV",
            "Amherst Town-Northampton, MA",
            "Columbus, IN",
            "Bloomington, IN",
            "Anchorage, AK",
            "Dalton, GA",
            "Savannah, GA",
            "Scranton--Wilkes-Barre, PA",
            "Waco, TX",
            "Traverse City, MI",
            "Blacksburg-Christiansburg-Radford, VA",
            "Saginaw, MI",
            "York-Hanover, PA",
            "Amarillo, TX",
            "Albany, GA",
            "Charleston, WV",
            "Tyler, TX",
            "Appleton, WI",
            "Niles, MI",
            "Corpus Christi, TX",
            "Augusta-Richmond County, GA-SC",
            "Greensboro-High Point, NC",
            "Glens Falls, NY",
            "Binghamton, NY",
            "Greenville, NC",
            "Chambersburg, PA",
            "Yuma, AZ",
            "Kenosha, WI",
            "Sheboygan, WI",
            "Abilene, TX",
            "New Haven, CT",
            "Bakersfield-Delano, CA",
            "Sioux City, IA-NE-SD",
            "Lynchburg, VA",
            "Hickory-Lenoir-Morganton, NC",
            "Knoxville, TN",
            "Joplin, MO-KS",
            "Chattanooga, TN-GA",
            "Springfield, IL",
            "Pensacola-Ferry Pass-Brent, FL",
            "State College, PA",
            "Barnstable Town, MA",
            "Macon-Bibb County, GA",
            "Redding, CA",
            "Terre Haute, IN",
            "Flagstaff, AZ",
            "Laredo, TX",
            "Panama City-Panama City Beach, FL",
            "Duluth, MN-WI",
            "Toledo, OH",
            "Wichita Falls, TX",
            "Fayetteville, NC",
            "Spokane-Spokane Valley, WA",
            "Rockford, IL",
            "Eugene-Springfield, OR",
            "Cape Coral-Fort Myers, FL",
            "Flint, MI",
            "Dover, DE",
            "Santa Rosa-Petaluma, CA",
            "Beaumont-Port Arthur, TX",
            "Bremerton-Silverdale-Port Orchard, WA",
            "Lubbock, TX",
            "Riverside-San Bernardino-Ontario, CA",
            "Longview, TX",
            "Chico, CA",
            "Urban Honolulu, HI",
            "Medford, OR",
            "Racine-Mount Pleasant, WI",
            "San Luis Obispo-Paso Robles, CA",
            "Vallejo, CA",
            "Atlantic City-Hammonton, NJ",
            "Gainesville, GA",
            "Napa, CA",
            "Lafayette-West Lafayette, IN",
            "Montgomery, AL",
            "Salem, OR",
            "Bellingham, WA",
            "Roanoke, VA",
            "Little Rock-North Little Rock-Conway, AR",
            "Las Cruces, NM",
            "Norwich-New London-Willimantic, CT",
            "Memphis, TN-MS-AR",
            "Killeen-Temple, TX",
            "Canton-Massillon, OH",
            "Asheville, NC",
            "Clarksville, TN-KY",
            "Fresno, CA",
            "Billings, MT",
            "Hagerstown-Martinsburg, MD-WV",
            "McAllen-Edinburg-Mission, TX",
            "Stockton-Lodi, CA",
            "Deltona-Daytona Beach-Ormond Beach, FL",
            "Mobile, AL",
            "Naples-Marco Island, FL",
            "Modesto, CA",
            "Ocala, FL",
            "Huntington-Ashland, WV-KY-OH",
            "Youngstown-Warren, OH",
            "Jackson, MS",
            "Salinas, CA",
            "Visalia, CA",
            "New Orleans-Metairie, LA",
            "Myrtle Beach-Conway-North Myrtle Beach, SC",
            "Port St. Lucie, FL",
            "Wichita, KS",
            "San Juan-Bayamón-Caguas, PR"
           ],
           [
            3.82,
            2.98,
            2.85,
            2.57,
            2.15,
            2.02,
            2.01,
            2,
            1.93,
            1.91,
            1.81,
            1.81,
            1.77,
            1.63,
            1.6,
            1.6,
            1.55,
            1.42,
            1.4,
            1.39,
            1.37,
            1.36,
            1.35,
            1.31,
            1.31,
            1.3,
            1.27,
            1.27,
            1.27,
            1.17,
            1.17,
            1.14,
            1.13,
            1.13,
            1.12,
            1.1,
            1.07,
            1.05,
            1.03,
            1.02,
            1.01,
            1,
            1,
            0.99,
            0.99,
            0.98,
            0.98,
            0.97,
            0.97,
            0.97,
            0.92,
            0.91,
            0.91,
            0.9,
            0.89,
            0.89,
            0.89,
            0.88,
            0.87,
            0.87,
            0.86,
            0.86,
            0.86,
            0.86,
            0.85,
            0.84,
            0.83,
            0.82,
            0.82,
            0.81,
            0.81,
            0.79,
            0.78,
            0.78,
            0.77,
            0.77,
            0.76,
            0.76,
            0.75,
            0.75,
            0.74,
            0.73,
            0.73,
            0.72,
            0.72,
            0.7,
            0.7,
            0.7,
            0.7,
            0.68,
            0.68,
            0.68,
            0.68,
            0.68,
            0.68,
            0.67,
            0.66,
            0.66,
            0.64,
            0.64,
            0.64,
            0.64,
            0.63,
            0.63,
            0.63,
            0.62,
            0.62,
            0.62,
            0.62,
            0.62,
            0.61,
            0.61,
            0.61,
            0.61,
            0.6,
            0.6,
            0.58,
            0.58,
            0.58,
            0.58,
            0.57,
            0.57,
            0.57,
            0.56,
            0.56,
            0.56,
            0.55,
            0.54,
            0.54,
            0.54,
            0.54,
            0.54,
            0.53,
            0.53,
            0.53,
            0.53,
            0.53,
            0.53,
            0.52,
            0.52,
            0.52,
            0.52,
            0.52,
            0.52,
            0.51,
            0.51,
            0.51,
            0.51,
            0.51,
            0.51,
            0.51,
            0.5,
            0.5,
            0.5,
            0.5,
            0.5,
            0.5,
            0.5,
            0.49,
            0.49,
            0.49,
            0.49,
            0.49,
            0.48,
            0.47,
            0.47,
            0.47,
            0.46,
            0.46,
            0.46,
            0.46,
            0.46,
            0.46,
            0.45,
            0.45,
            0.45,
            0.45,
            0.44,
            0.44,
            0.44,
            0.44,
            0.44,
            0.44,
            0.43,
            0.43,
            0.43,
            0.42,
            0.42,
            0.41,
            0.41,
            0.41,
            0.41,
            0.4,
            0.4,
            0.4,
            0.4,
            0.39,
            0.39,
            0.39,
            0.39,
            0.38,
            0.38,
            0.38,
            0.38,
            0.38,
            0.37,
            0.37,
            0.36,
            0.36,
            0.36,
            0.35,
            0.35,
            0.35,
            0.35,
            0.35,
            0.34,
            0.34,
            0.33,
            0.33,
            0.33,
            0.33,
            0.32,
            0.32,
            0.32,
            0.31,
            0.31,
            0.31,
            0.31,
            0.31,
            0.3,
            0.3,
            0.3,
            0.29,
            0.29,
            0.28,
            0.28,
            0.27,
            0.27,
            0.26,
            0.26,
            0.26,
            0.25,
            0.25,
            0.25,
            0.24,
            0.23,
            0.23,
            0.23,
            0.23,
            0.21,
            0.21,
            0.2,
            0.2,
            0.2,
            0.19,
            0.19,
            0.19,
            0.18,
            0.18,
            0.17,
            0.17,
            0.12,
            0.08
           ],
           [
            "6,570",
            "1,540",
            "390",
            "9,350",
            "1,320",
            "150",
            "8,220",
            "910",
            "6,100",
            "3,870",
            "8,530",
            "220",
            "1,940",
            "3,100",
            "630",
            "1,190",
            "2,510",
            "8,630",
            "19,810",
            "1,030",
            "5,940",
            "370",
            "830",
            "560",
            "2,660",
            "5,640",
            "180",
            "110",
            "780",
            "380",
            "130",
            "2,090",
            "1,890",
            "100",
            "1,200",
            "2,550",
            "10,030",
            "290",
            "60",
            "370",
            "590",
            "690",
            "4,900",
            "500",
            "1,220",
            "2,870",
            "480",
            "2,810",
            "60",
            "300",
            "150",
            "1,510",
            "3,210",
            "1,490",
            "880",
            "300",
            "520",
            "260",
            "160",
            "560",
            "180",
            "1,430",
            "460",
            "5,840",
            "1,440",
            "280",
            "840",
            "50",
            "150",
            "550",
            "130",
            "630",
            "460",
            "430",
            "320",
            "200",
            "200",
            "40",
            "1,640",
            "140",
            "1,160",
            "140",
            "760",
            "30",
            "170",
            "1,160",
            "310",
            "80",
            "110",
            "250",
            "780",
            "1,430",
            "90",
            "70",
            "90",
            "150",
            "320",
            "120",
            "1,310",
            "180",
            "200",
            "130",
            "260",
            "110",
            "90",
            "120",
            "560",
            "370",
            "360",
            "50",
            "80",
            "60",
            "50",
            "520",
            "100",
            "70",
            "90",
            "130",
            "50",
            "110",
            "50",
            "40",
            "440",
            "70",
            "920",
            "150",
            "220",
            "300",
            "100",
            "60",
            "50",
            "230",
            "150",
            "610",
            "210",
            "70",
            "2,250",
            "180",
            "60",
            "200",
            "320",
            "130",
            "890",
            "100",
            "40",
            "200",
            "30",
            "130",
            "90",
            "90",
            "30",
            "250",
            "40",
            "60",
            "100",
            "50",
            "40",
            "200",
            "50",
            "40",
            "50",
            "130",
            "50",
            "140",
            "180",
            "90",
            "50",
            "50",
            "60",
            "130",
            "80",
            "40",
            "70",
            "80",
            "80",
            "40",
            "130",
            "150",
            "240",
            "30",
            "60",
            "50",
            "40",
            "50",
            "50",
            "40",
            "50",
            "180",
            "210",
            "50",
            "60",
            "100",
            "250",
            "50",
            "160",
            "60",
            "110",
            "40",
            "60",
            "60",
            "40",
            "40",
            "40",
            "60",
            "50",
            "70",
            "160",
            "30",
            "70",
            "140",
            "70",
            "80",
            "160",
            "70",
            "40",
            "110",
            "80",
            "50",
            "80",
            "840",
            "60",
            "40",
            "220",
            "40",
            "40",
            "60",
            "70",
            "80",
            "50",
            "40",
            "50",
            "70",
            "80",
            "40",
            "70",
            "150",
            "30",
            "50",
            "250",
            "60",
            "60",
            "70",
            "40",
            "180",
            "30",
            "40",
            "100",
            "100",
            "70",
            "50",
            "50",
            "60",
            "40",
            "40",
            "50",
            "80",
            "50",
            "50",
            "120",
            "40",
            "40",
            "60",
            "80"
           ]
          ]
         },
         "header": {
          "align": "left",
          "fill": {
           "color": "#003900"
          },
          "font": {
           "color": "white"
          },
          "values": [
           "Metropolitan Area",
           "Concentration",
           "Total Employment"
          ]
         },
         "type": "table"
        }
       ],
       "layout": {
        "annotations": [
         {
          "align": "left",
          "font": {
           "color": "gray",
           "size": 10
          },
          "showarrow": false,
          "text": "Source: Bureau of Labor Statistics. <br>Note: Several MSA boundaries were redefined in 2024, which may affect comparability of employment growth.<br>Data is not reported for the Raleigh-Cary MSA in 2021.",
          "x": 0,
          "xref": "paper",
          "y": -0.15,
          "yref": "paper"
         }
        ],
        "template": {
         "data": {
          "bar": [
           {
            "error_x": {
             "color": "#2a3f5f"
            },
            "error_y": {
             "color": "#2a3f5f"
            },
            "marker": {
             "line": {
              "color": "#E5ECF6",
              "width": 0.5
             },
             "pattern": {
              "fillmode": "overlay",
              "size": 10,
              "solidity": 0.2
             }
            },
            "type": "bar"
           }
          ],
          "barpolar": [
           {
            "marker": {
             "line": {
              "color": "#E5ECF6",
              "width": 0.5
             },
             "pattern": {
              "fillmode": "overlay",
              "size": 10,
              "solidity": 0.2
             }
            },
            "type": "barpolar"
           }
          ],
          "carpet": [
           {
            "aaxis": {
             "endlinecolor": "#2a3f5f",
             "gridcolor": "white",
             "linecolor": "white",
             "minorgridcolor": "white",
             "startlinecolor": "#2a3f5f"
            },
            "baxis": {
             "endlinecolor": "#2a3f5f",
             "gridcolor": "white",
             "linecolor": "white",
             "minorgridcolor": "white",
             "startlinecolor": "#2a3f5f"
            },
            "type": "carpet"
           }
          ],
          "choropleth": [
           {
            "colorbar": {
             "outlinewidth": 0,
             "ticks": ""
            },
            "type": "choropleth"
           }
          ],
          "contour": [
           {
            "colorbar": {
             "outlinewidth": 0,
             "ticks": ""
            },
            "colorscale": [
             [
              0,
              "#0d0887"
             ],
             [
              0.1111111111111111,
              "#46039f"
             ],
             [
              0.2222222222222222,
              "#7201a8"
             ],
             [
              0.3333333333333333,
              "#9c179e"
             ],
             [
              0.4444444444444444,
              "#bd3786"
             ],
             [
              0.5555555555555556,
              "#d8576b"
             ],
             [
              0.6666666666666666,
              "#ed7953"
             ],
             [
              0.7777777777777778,
              "#fb9f3a"
             ],
             [
              0.8888888888888888,
              "#fdca26"
             ],
             [
              1,
              "#f0f921"
             ]
            ],
            "type": "contour"
           }
          ],
          "contourcarpet": [
           {
            "colorbar": {
             "outlinewidth": 0,
             "ticks": ""
            },
            "type": "contourcarpet"
           }
          ],
          "heatmap": [
           {
            "colorbar": {
             "outlinewidth": 0,
             "ticks": ""
            },
            "colorscale": [
             [
              0,
              "#0d0887"
             ],
             [
              0.1111111111111111,
              "#46039f"
             ],
             [
              0.2222222222222222,
              "#7201a8"
             ],
             [
              0.3333333333333333,
              "#9c179e"
             ],
             [
              0.4444444444444444,
              "#bd3786"
             ],
             [
              0.5555555555555556,
              "#d8576b"
             ],
             [
              0.6666666666666666,
              "#ed7953"
             ],
             [
              0.7777777777777778,
              "#fb9f3a"
             ],
             [
              0.8888888888888888,
              "#fdca26"
             ],
             [
              1,
              "#f0f921"
             ]
            ],
            "type": "heatmap"
           }
          ],
          "heatmapgl": [
           {
            "colorbar": {
             "outlinewidth": 0,
             "ticks": ""
            },
            "colorscale": [
             [
              0,
              "#0d0887"
             ],
             [
              0.1111111111111111,
              "#46039f"
             ],
             [
              0.2222222222222222,
              "#7201a8"
             ],
             [
              0.3333333333333333,
              "#9c179e"
             ],
             [
              0.4444444444444444,
              "#bd3786"
             ],
             [
              0.5555555555555556,
              "#d8576b"
             ],
             [
              0.6666666666666666,
              "#ed7953"
             ],
             [
              0.7777777777777778,
              "#fb9f3a"
             ],
             [
              0.8888888888888888,
              "#fdca26"
             ],
             [
              1,
              "#f0f921"
             ]
            ],
            "type": "heatmapgl"
           }
          ],
          "histogram": [
           {
            "marker": {
             "pattern": {
              "fillmode": "overlay",
              "size": 10,
              "solidity": 0.2
             }
            },
            "type": "histogram"
           }
          ],
          "histogram2d": [
           {
            "colorbar": {
             "outlinewidth": 0,
             "ticks": ""
            },
            "colorscale": [
             [
              0,
              "#0d0887"
             ],
             [
              0.1111111111111111,
              "#46039f"
             ],
             [
              0.2222222222222222,
              "#7201a8"
             ],
             [
              0.3333333333333333,
              "#9c179e"
             ],
             [
              0.4444444444444444,
              "#bd3786"
             ],
             [
              0.5555555555555556,
              "#d8576b"
             ],
             [
              0.6666666666666666,
              "#ed7953"
             ],
             [
              0.7777777777777778,
              "#fb9f3a"
             ],
             [
              0.8888888888888888,
              "#fdca26"
             ],
             [
              1,
              "#f0f921"
             ]
            ],
            "type": "histogram2d"
           }
          ],
          "histogram2dcontour": [
           {
            "colorbar": {
             "outlinewidth": 0,
             "ticks": ""
            },
            "colorscale": [
             [
              0,
              "#0d0887"
             ],
             [
              0.1111111111111111,
              "#46039f"
             ],
             [
              0.2222222222222222,
              "#7201a8"
             ],
             [
              0.3333333333333333,
              "#9c179e"
             ],
             [
              0.4444444444444444,
              "#bd3786"
             ],
             [
              0.5555555555555556,
              "#d8576b"
             ],
             [
              0.6666666666666666,
              "#ed7953"
             ],
             [
              0.7777777777777778,
              "#fb9f3a"
             ],
             [
              0.8888888888888888,
              "#fdca26"
             ],
             [
              1,
              "#f0f921"
             ]
            ],
            "type": "histogram2dcontour"
           }
          ],
          "mesh3d": [
           {
            "colorbar": {
             "outlinewidth": 0,
             "ticks": ""
            },
            "type": "mesh3d"
           }
          ],
          "parcoords": [
           {
            "line": {
             "colorbar": {
              "outlinewidth": 0,
              "ticks": ""
             }
            },
            "type": "parcoords"
           }
          ],
          "pie": [
           {
            "automargin": true,
            "type": "pie"
           }
          ],
          "scatter": [
           {
            "fillpattern": {
             "fillmode": "overlay",
             "size": 10,
             "solidity": 0.2
            },
            "type": "scatter"
           }
          ],
          "scatter3d": [
           {
            "line": {
             "colorbar": {
              "outlinewidth": 0,
              "ticks": ""
             }
            },
            "marker": {
             "colorbar": {
              "outlinewidth": 0,
              "ticks": ""
             }
            },
            "type": "scatter3d"
           }
          ],
          "scattercarpet": [
           {
            "marker": {
             "colorbar": {
              "outlinewidth": 0,
              "ticks": ""
             }
            },
            "type": "scattercarpet"
           }
          ],
          "scattergeo": [
           {
            "marker": {
             "colorbar": {
              "outlinewidth": 0,
              "ticks": ""
             }
            },
            "type": "scattergeo"
           }
          ],
          "scattergl": [
           {
            "marker": {
             "colorbar": {
              "outlinewidth": 0,
              "ticks": ""
             }
            },
            "type": "scattergl"
           }
          ],
          "scattermapbox": [
           {
            "marker": {
             "colorbar": {
              "outlinewidth": 0,
              "ticks": ""
             }
            },
            "type": "scattermapbox"
           }
          ],
          "scatterpolar": [
           {
            "marker": {
             "colorbar": {
              "outlinewidth": 0,
              "ticks": ""
             }
            },
            "type": "scatterpolar"
           }
          ],
          "scatterpolargl": [
           {
            "marker": {
             "colorbar": {
              "outlinewidth": 0,
              "ticks": ""
             }
            },
            "type": "scatterpolargl"
           }
          ],
          "scatterternary": [
           {
            "marker": {
             "colorbar": {
              "outlinewidth": 0,
              "ticks": ""
             }
            },
            "type": "scatterternary"
           }
          ],
          "surface": [
           {
            "colorbar": {
             "outlinewidth": 0,
             "ticks": ""
            },
            "colorscale": [
             [
              0,
              "#0d0887"
             ],
             [
              0.1111111111111111,
              "#46039f"
             ],
             [
              0.2222222222222222,
              "#7201a8"
             ],
             [
              0.3333333333333333,
              "#9c179e"
             ],
             [
              0.4444444444444444,
              "#bd3786"
             ],
             [
              0.5555555555555556,
              "#d8576b"
             ],
             [
              0.6666666666666666,
              "#ed7953"
             ],
             [
              0.7777777777777778,
              "#fb9f3a"
             ],
             [
              0.8888888888888888,
              "#fdca26"
             ],
             [
              1,
              "#f0f921"
             ]
            ],
            "type": "surface"
           }
          ],
          "table": [
           {
            "cells": {
             "fill": {
              "color": "#EBF0F8"
             },
             "line": {
              "color": "white"
             }
            },
            "header": {
             "fill": {
              "color": "#C8D4E3"
             },
             "line": {
              "color": "white"
             }
            },
            "type": "table"
           }
          ]
         },
         "layout": {
          "annotationdefaults": {
           "arrowcolor": "#2a3f5f",
           "arrowhead": 0,
           "arrowwidth": 1
          },
          "autotypenumbers": "strict",
          "coloraxis": {
           "colorbar": {
            "outlinewidth": 0,
            "ticks": ""
           }
          },
          "colorscale": {
           "diverging": [
            [
             0,
             "#8e0152"
            ],
            [
             0.1,
             "#c51b7d"
            ],
            [
             0.2,
             "#de77ae"
            ],
            [
             0.3,
             "#f1b6da"
            ],
            [
             0.4,
             "#fde0ef"
            ],
            [
             0.5,
             "#f7f7f7"
            ],
            [
             0.6,
             "#e6f5d0"
            ],
            [
             0.7,
             "#b8e186"
            ],
            [
             0.8,
             "#7fbc41"
            ],
            [
             0.9,
             "#4d9221"
            ],
            [
             1,
             "#276419"
            ]
           ],
           "sequential": [
            [
             0,
             "#0d0887"
            ],
            [
             0.1111111111111111,
             "#46039f"
            ],
            [
             0.2222222222222222,
             "#7201a8"
            ],
            [
             0.3333333333333333,
             "#9c179e"
            ],
            [
             0.4444444444444444,
             "#bd3786"
            ],
            [
             0.5555555555555556,
             "#d8576b"
            ],
            [
             0.6666666666666666,
             "#ed7953"
            ],
            [
             0.7777777777777778,
             "#fb9f3a"
            ],
            [
             0.8888888888888888,
             "#fdca26"
            ],
            [
             1,
             "#f0f921"
            ]
           ],
           "sequentialminus": [
            [
             0,
             "#0d0887"
            ],
            [
             0.1111111111111111,
             "#46039f"
            ],
            [
             0.2222222222222222,
             "#7201a8"
            ],
            [
             0.3333333333333333,
             "#9c179e"
            ],
            [
             0.4444444444444444,
             "#bd3786"
            ],
            [
             0.5555555555555556,
             "#d8576b"
            ],
            [
             0.6666666666666666,
             "#ed7953"
            ],
            [
             0.7777777777777778,
             "#fb9f3a"
            ],
            [
             0.8888888888888888,
             "#fdca26"
            ],
            [
             1,
             "#f0f921"
            ]
           ]
          },
          "colorway": [
           "#636efa",
           "#EF553B",
           "#00cc96",
           "#ab63fa",
           "#FFA15A",
           "#19d3f3",
           "#FF6692",
           "#B6E880",
           "#FF97FF",
           "#FECB52"
          ],
          "font": {
           "color": "#2a3f5f"
          },
          "geo": {
           "bgcolor": "white",
           "lakecolor": "white",
           "landcolor": "#E5ECF6",
           "showlakes": true,
           "showland": true,
           "subunitcolor": "white"
          },
          "hoverlabel": {
           "align": "left"
          },
          "hovermode": "closest",
          "mapbox": {
           "style": "light"
          },
          "paper_bgcolor": "white",
          "plot_bgcolor": "#E5ECF6",
          "polar": {
           "angularaxis": {
            "gridcolor": "white",
            "linecolor": "white",
            "ticks": ""
           },
           "bgcolor": "#E5ECF6",
           "radialaxis": {
            "gridcolor": "white",
            "linecolor": "white",
            "ticks": ""
           }
          },
          "scene": {
           "xaxis": {
            "backgroundcolor": "#E5ECF6",
            "gridcolor": "white",
            "gridwidth": 2,
            "linecolor": "white",
            "showbackground": true,
            "ticks": "",
            "zerolinecolor": "white"
           },
           "yaxis": {
            "backgroundcolor": "#E5ECF6",
            "gridcolor": "white",
            "gridwidth": 2,
            "linecolor": "white",
            "showbackground": true,
            "ticks": "",
            "zerolinecolor": "white"
           },
           "zaxis": {
            "backgroundcolor": "#E5ECF6",
            "gridcolor": "white",
            "gridwidth": 2,
            "linecolor": "white",
            "showbackground": true,
            "ticks": "",
            "zerolinecolor": "white"
           }
          },
          "shapedefaults": {
           "line": {
            "color": "#2a3f5f"
           }
          },
          "ternary": {
           "aaxis": {
            "gridcolor": "white",
            "linecolor": "white",
            "ticks": ""
           },
           "baxis": {
            "gridcolor": "white",
            "linecolor": "white",
            "ticks": ""
           },
           "bgcolor": "#E5ECF6",
           "caxis": {
            "gridcolor": "white",
            "linecolor": "white",
            "ticks": ""
           }
          },
          "title": {
           "x": 0.05
          },
          "xaxis": {
           "automargin": true,
           "gridcolor": "white",
           "linecolor": "white",
           "ticks": "",
           "title": {
            "standoff": 15
           },
           "zerolinecolor": "white",
           "zerolinewidth": 2
          },
          "yaxis": {
           "automargin": true,
           "gridcolor": "white",
           "linecolor": "white",
           "ticks": "",
           "title": {
            "standoff": 15
           },
           "zerolinecolor": "white",
           "zerolinewidth": 2
          }
         }
        },
        "title": {
         "text": "Concentration of Data Scientist Employment <br><sub> by Metropolitan Area, 2024",
         "x": 0.5
        }
       }
      }
     },
     "metadata": {},
     "output_type": "display_data"
    }
   ],
   "source": [
    "formatted_employment = [f\"{x:,.0f}\" for x in fig_LQ_df[\"TOT_EMP\"]]\n",
    "\n",
    "LQ_table = go.Figure(data=[go.Table(\n",
    "    header=dict(values=['Metropolitan Area', 'Concentration', 'Total Employment'],\n",
    "                fill_color='#003900',\n",
    "                align='left',\n",
    "                font_color='white'),\n",
    "    cells=dict(values=[\n",
    "        fig_LQ_df[\"NAME\"],\n",
    "        fig_LQ_df[\"Concentration\"],\n",
    "        formatted_employment\n",
    "    ],\n",
    "    fill_color='#C1E1C1',\n",
    "    align='left'))\n",
    "])\n",
    "\n",
    "LQ_table.update_layout(\n",
    "    title=\"Concentration of Data Scientist Employment <br><sub> by Metropolitan Area, 2024\",\n",
    "    title_x=0.5,\n",
    "    annotations=[\n",
    "        dict(\n",
    "            text=\"Source: Bureau of Labor Statistics - OEWS. <br>\"\n",
    "            \"Note: Several MSA boundaries were redefined in 2024, \"\\\n",
    "            \"which may affect comparability of employment growth.<br>\"\n",
    "            \"Data is not reported for the Raleigh-Cary MSA in 2021.\",\n",
    "            xref=\"paper\", yref=\"paper\",\n",
    "            x=0, y=-0.15,\n",
    "            showarrow=False,\n",
    "            align=\"left\",  # <-- aligns text to the left\n",
    "            font=dict(size=10, color=\"gray\")\n",
    "        )\n",
    "    ]\n",
    ")"
   ]
  },
  {
   "cell_type": "code",
   "execution_count": 100,
   "metadata": {},
   "outputs": [
    {
     "data": {
      "application/vnd.plotly.v1+json": {
       "config": {
        "plotlyServerURL": "https://plot.ly"
       },
       "data": [
        {
         "cells": {
          "align": "left",
          "fill": {
           "color": "#C1E1C1"
          },
          "values": [
           [
            "San Jose-Sunnyvale-Santa Clara, CA",
            "Durham-Chapel Hill, NC",
            "Bloomington, IL",
            "San Francisco-Oakland-Fremont, CA",
            "Des Moines-West Des Moines, IA",
            "Ithaca, NY",
            "Boston-Cambridge-Newton, MA-NH",
            "Provo-Orem-Lehi, UT",
            "Seattle-Tacoma-Bellevue, WA",
            "Charlotte-Concord-Gastonia, NC-SC",
            "Washington-Arlington-Alexandria, DC-VA-MD-WV",
            "Idaho Falls, ID",
            "Raleigh-Cary, NC",
            "Austin-Round Rock-San Marcos, TX",
            "Huntsville, AL",
            "Omaha, NE-IA",
            "Sacramento-Roseville-Folsom, CA",
            "Dallas-Fort Worth-Arlington, TX",
            "New York-Newark-Jersey City, NY-NJ",
            "Rochester, NY",
            "Atlanta-Sandy Springs-Roswell, GA",
            "Lincoln, NE",
            "Madison, WI",
            "Portland-South Portland, ME",
            "St. Louis, MO-IL",
            "Philadelphia-Camden-Wilmington, PA-NJ-DE-MD",
            "Oshkosh-Neenah, WI",
            "Ames, IA",
            "Baton Rouge, LA",
            "Lansing-East Lansing, MI",
            "Lexington Park, MD",
            "Portland-Vancouver-Hillsboro, OR-WA",
            "Pittsburgh, PA",
            "Dubuque, IA",
            "Providence-Warwick, RI-MA",
            "San Diego-Chula Vista-Carlsbad, CA",
            "Los Angeles-Long Beach-Anaheim, CA",
            "Davenport-Moline-Rock Island, IA-IL",
            "Midland, MI",
            "Trenton-Princeton, NJ",
            "Boise City, ID",
            "Tulsa, OK",
            "Houston-Pasadena-The Woodlands, TX",
            "Harrisburg-Carlisle, PA",
            "Milwaukee-Waukesha, WI",
            "Minneapolis-St. Paul-Bloomington, MN-WI",
            "Oxnard-Thousand Oaks-Ventura, CA",
            "Detroit-Warren-Dearborn, MI",
            "Corvallis, OR",
            "Manchester-Nashua, NH",
            "Columbia, MO",
            "Cincinnati, OH-KY-IN",
            "Phoenix-Mesa-Chandler, AZ",
            "Nashville-Davidson--Murfreesboro--Franklin, TN",
            "Richmond, VA",
            "Fort Wayne, IN",
            "Columbia, SC",
            "Springfield, MA",
            "Crestview-Fort Walton Beach-Destin, FL",
            "Greenville-Anderson-Greer, SC",
            "Cedar Rapids, IA",
            "Indianapolis-Carmel-Greenwood, IN",
            "Worcester, MA",
            "Chicago-Naperville-Elgin, IL-IN",
            "San Antonio-New Braunfels, TX",
            "Ann Arbor, MI",
            "Oklahoma City, OK",
            "Casper, WY",
            "Erie, PA",
            "Albany-Schenectady-Troy, NY",
            "Champaign-Urbana, IL",
            "Buffalo-Cheektowaga, NY",
            "Charleston-North Charleston, SC",
            "Allentown-Bethlehem-Easton, PA-NJ",
            "Ogden, UT",
            "Sioux Falls, SD-MN",
            "Green Bay, WI",
            "Sierra Vista-Douglas, AZ",
            "Tampa-St. Petersburg-Clearwater, FL",
            "Kalamazoo-Portage, MI",
            "Cleveland, OH",
            "Kennewick-Richland, WA",
            "Louisville/Jefferson County, KY-IN",
            "Lewiston, ID-WA",
            "Waterbury-Shelton, CT",
            "Columbus, OH",
            "Syracuse, NY",
            "Warner Robins, GA",
            "Santa Cruz-Watsonville, CA",
            "Palm Bay-Melbourne-Titusville, FL",
            "Jacksonville, FL",
            "Orlando-Kissimmee-Sanford, FL",
            "Florence, SC",
            "Logan, UT-ID",
            "St. George, UT",
            "Fargo, ND-MN",
            "Akron, OH",
            "Burlington-South Burlington, VT",
            "Baltimore-Columbia-Towson, MD",
            "Tallahassee, FL",
            "Santa Maria-Santa Barbara, CA",
            "Evansville, IN",
            "Winston-Salem, NC",
            "Utica-Rome, NY",
            "Iowa City, IA",
            "South Bend-Mishawaka, IN-MI",
            "Hartford-West Hartford-East Hartford, CT",
            "Bridgeport-Stamford-Danbury, CT",
            "Tucson, AZ",
            "Lewiston-Auburn, ME",
            "La Crosse-Onalaska, WI-MN",
            "Wausau, WI",
            "Pittsfield, MA",
            "Grand Rapids-Wyoming-Kentwood, MI",
            "Charlottesville, VA",
            "Bangor, ME",
            "Bend, OR",
            "Gainesville, FL",
            "Battle Creek, MI",
            "Olympia-Lacey-Tumwater, WA",
            "Jackson, MI",
            "Grand Forks, ND-MN",
            "Birmingham, AL",
            "Waterloo-Cedar Falls, IA",
            "Kansas City, MO-KS",
            "Reading, PA",
            "Fayetteville-Springdale-Rogers, AR",
            "Dayton-Kettering-Beavercreek, OH",
            "Columbus, GA-AL",
            "Bismarck, ND",
            "Kingston, NY",
            "Lexington-Fayette, KY",
            "Wilmington, NC",
            "Virginia Beach-Chesapeake-Norfolk, VA-NC",
            "Kiryas Joel-Poughkeepsie-Newburgh, NY",
            "Eau Claire, WI",
            "Miami-Fort Lauderdale-West Palm Beach, FL",
            "Springfield, MO",
            "Bozeman, MT",
            "Lancaster, PA",
            "Albuquerque, NM",
            "Peoria, IL",
            "Las Vegas-Henderson-North Las Vegas, NV",
            "College Station-Bryan, TX",
            "Altoona, PA",
            "Lakeland-Winter Haven, FL",
            "Lawton, OK",
            "Spartanburg, SC",
            "Midland, TX",
            "Kingsport-Bristol, TN-VA",
            "Cape Girardeau, MO-IL",
            "El Paso, TX",
            "San Angelo, TX",
            "Jefferson City, MO",
            "Elkhart-Goshen, IN",
            "Janesville-Beloit, WI",
            "Elizabethtown, KY",
            "Reno, NV",
            "Amherst Town-Northampton, MA",
            "Columbus, IN",
            "Bloomington, IN",
            "Anchorage, AK",
            "Dalton, GA",
            "Savannah, GA",
            "Scranton--Wilkes-Barre, PA",
            "Waco, TX",
            "Traverse City, MI",
            "Blacksburg-Christiansburg-Radford, VA",
            "Saginaw, MI",
            "York-Hanover, PA",
            "Amarillo, TX",
            "Albany, GA",
            "Charleston, WV",
            "Tyler, TX",
            "Appleton, WI",
            "Niles, MI",
            "Corpus Christi, TX",
            "Augusta-Richmond County, GA-SC",
            "Greensboro-High Point, NC",
            "Glens Falls, NY",
            "Binghamton, NY",
            "Greenville, NC",
            "Chambersburg, PA",
            "Yuma, AZ",
            "Kenosha, WI",
            "Sheboygan, WI",
            "Abilene, TX",
            "New Haven, CT",
            "Bakersfield-Delano, CA",
            "Sioux City, IA-NE-SD",
            "Lynchburg, VA",
            "Hickory-Lenoir-Morganton, NC",
            "Knoxville, TN",
            "Joplin, MO-KS",
            "Chattanooga, TN-GA",
            "Springfield, IL",
            "Pensacola-Ferry Pass-Brent, FL",
            "State College, PA",
            "Barnstable Town, MA",
            "Macon-Bibb County, GA",
            "Redding, CA",
            "Terre Haute, IN",
            "Flagstaff, AZ",
            "Laredo, TX",
            "Panama City-Panama City Beach, FL",
            "Duluth, MN-WI",
            "Toledo, OH",
            "Wichita Falls, TX",
            "Fayetteville, NC",
            "Spokane-Spokane Valley, WA",
            "Rockford, IL",
            "Eugene-Springfield, OR",
            "Cape Coral-Fort Myers, FL",
            "Flint, MI",
            "Dover, DE",
            "Santa Rosa-Petaluma, CA",
            "Beaumont-Port Arthur, TX",
            "Bremerton-Silverdale-Port Orchard, WA",
            "Lubbock, TX",
            "Riverside-San Bernardino-Ontario, CA",
            "Longview, TX",
            "Chico, CA",
            "Urban Honolulu, HI",
            "Medford, OR",
            "Racine-Mount Pleasant, WI",
            "San Luis Obispo-Paso Robles, CA",
            "Vallejo, CA",
            "Atlantic City-Hammonton, NJ",
            "Gainesville, GA",
            "Napa, CA",
            "Lafayette-West Lafayette, IN",
            "Montgomery, AL",
            "Salem, OR",
            "Bellingham, WA",
            "Roanoke, VA",
            "Little Rock-North Little Rock-Conway, AR",
            "Las Cruces, NM",
            "Norwich-New London-Willimantic, CT",
            "Memphis, TN-MS-AR",
            "Killeen-Temple, TX",
            "Canton-Massillon, OH",
            "Asheville, NC",
            "Clarksville, TN-KY",
            "Fresno, CA",
            "Billings, MT",
            "Hagerstown-Martinsburg, MD-WV",
            "McAllen-Edinburg-Mission, TX",
            "Stockton-Lodi, CA",
            "Deltona-Daytona Beach-Ormond Beach, FL",
            "Mobile, AL",
            "Naples-Marco Island, FL",
            "Modesto, CA",
            "Ocala, FL",
            "Huntington-Ashland, WV-KY-OH",
            "Youngstown-Warren, OH",
            "Jackson, MS",
            "Salinas, CA",
            "Visalia, CA",
            "New Orleans-Metairie, LA",
            "Myrtle Beach-Conway-North Myrtle Beach, SC",
            "Port St. Lucie, FL",
            "Wichita, KS",
            "San Juan-Bayamón-Caguas, PR"
           ],
           [
            3.82,
            2.98,
            2.85,
            2.57,
            2.15,
            2.02,
            2.01,
            2,
            1.93,
            1.91,
            1.81,
            1.81,
            1.77,
            1.63,
            1.6,
            1.6,
            1.55,
            1.42,
            1.4,
            1.39,
            1.37,
            1.36,
            1.35,
            1.31,
            1.31,
            1.3,
            1.27,
            1.27,
            1.27,
            1.17,
            1.17,
            1.14,
            1.13,
            1.13,
            1.12,
            1.1,
            1.07,
            1.05,
            1.03,
            1.02,
            1.01,
            1,
            1,
            0.99,
            0.99,
            0.98,
            0.98,
            0.97,
            0.97,
            0.97,
            0.92,
            0.91,
            0.91,
            0.9,
            0.89,
            0.89,
            0.89,
            0.88,
            0.87,
            0.87,
            0.86,
            0.86,
            0.86,
            0.86,
            0.85,
            0.84,
            0.83,
            0.82,
            0.82,
            0.81,
            0.81,
            0.79,
            0.78,
            0.78,
            0.77,
            0.77,
            0.76,
            0.76,
            0.75,
            0.75,
            0.74,
            0.73,
            0.73,
            0.72,
            0.72,
            0.7,
            0.7,
            0.7,
            0.7,
            0.68,
            0.68,
            0.68,
            0.68,
            0.68,
            0.68,
            0.67,
            0.66,
            0.66,
            0.64,
            0.64,
            0.64,
            0.64,
            0.63,
            0.63,
            0.63,
            0.62,
            0.62,
            0.62,
            0.62,
            0.62,
            0.61,
            0.61,
            0.61,
            0.61,
            0.6,
            0.6,
            0.58,
            0.58,
            0.58,
            0.58,
            0.57,
            0.57,
            0.57,
            0.56,
            0.56,
            0.56,
            0.55,
            0.54,
            0.54,
            0.54,
            0.54,
            0.54,
            0.53,
            0.53,
            0.53,
            0.53,
            0.53,
            0.53,
            0.52,
            0.52,
            0.52,
            0.52,
            0.52,
            0.52,
            0.51,
            0.51,
            0.51,
            0.51,
            0.51,
            0.51,
            0.51,
            0.5,
            0.5,
            0.5,
            0.5,
            0.5,
            0.5,
            0.5,
            0.49,
            0.49,
            0.49,
            0.49,
            0.49,
            0.48,
            0.47,
            0.47,
            0.47,
            0.46,
            0.46,
            0.46,
            0.46,
            0.46,
            0.46,
            0.45,
            0.45,
            0.45,
            0.45,
            0.44,
            0.44,
            0.44,
            0.44,
            0.44,
            0.44,
            0.43,
            0.43,
            0.43,
            0.42,
            0.42,
            0.41,
            0.41,
            0.41,
            0.41,
            0.4,
            0.4,
            0.4,
            0.4,
            0.39,
            0.39,
            0.39,
            0.39,
            0.38,
            0.38,
            0.38,
            0.38,
            0.38,
            0.37,
            0.37,
            0.36,
            0.36,
            0.36,
            0.35,
            0.35,
            0.35,
            0.35,
            0.35,
            0.34,
            0.34,
            0.33,
            0.33,
            0.33,
            0.33,
            0.32,
            0.32,
            0.32,
            0.31,
            0.31,
            0.31,
            0.31,
            0.31,
            0.3,
            0.3,
            0.3,
            0.29,
            0.29,
            0.28,
            0.28,
            0.27,
            0.27,
            0.26,
            0.26,
            0.26,
            0.25,
            0.25,
            0.25,
            0.24,
            0.23,
            0.23,
            0.23,
            0.23,
            0.21,
            0.21,
            0.2,
            0.2,
            0.2,
            0.19,
            0.19,
            0.19,
            0.18,
            0.18,
            0.17,
            0.17,
            0.12,
            0.08
           ],
           [
            "6,570",
            "1,540",
            "390",
            "9,350",
            "1,320",
            "150",
            "8,220",
            "910",
            "6,100",
            "3,870",
            "8,530",
            "220",
            "1,940",
            "3,100",
            "630",
            "1,190",
            "2,510",
            "8,630",
            "19,810",
            "1,030",
            "5,940",
            "370",
            "830",
            "560",
            "2,660",
            "5,640",
            "180",
            "110",
            "780",
            "380",
            "130",
            "2,090",
            "1,890",
            "100",
            "1,200",
            "2,550",
            "10,030",
            "290",
            "60",
            "370",
            "590",
            "690",
            "4,900",
            "500",
            "1,220",
            "2,870",
            "480",
            "2,810",
            "60",
            "300",
            "150",
            "1,510",
            "3,210",
            "1,490",
            "880",
            "300",
            "520",
            "260",
            "160",
            "560",
            "180",
            "1,430",
            "460",
            "5,840",
            "1,440",
            "280",
            "840",
            "50",
            "150",
            "550",
            "130",
            "630",
            "460",
            "430",
            "320",
            "200",
            "200",
            "40",
            "1,640",
            "140",
            "1,160",
            "140",
            "760",
            "30",
            "170",
            "1,160",
            "310",
            "80",
            "110",
            "250",
            "780",
            "1,430",
            "90",
            "70",
            "90",
            "150",
            "320",
            "120",
            "1,310",
            "180",
            "200",
            "130",
            "260",
            "110",
            "90",
            "120",
            "560",
            "370",
            "360",
            "50",
            "80",
            "60",
            "50",
            "520",
            "100",
            "70",
            "90",
            "130",
            "50",
            "110",
            "50",
            "40",
            "440",
            "70",
            "920",
            "150",
            "220",
            "300",
            "100",
            "60",
            "50",
            "230",
            "150",
            "610",
            "210",
            "70",
            "2,250",
            "180",
            "60",
            "200",
            "320",
            "130",
            "890",
            "100",
            "40",
            "200",
            "30",
            "130",
            "90",
            "90",
            "30",
            "250",
            "40",
            "60",
            "100",
            "50",
            "40",
            "200",
            "50",
            "40",
            "50",
            "130",
            "50",
            "140",
            "180",
            "90",
            "50",
            "50",
            "60",
            "130",
            "80",
            "40",
            "70",
            "80",
            "80",
            "40",
            "130",
            "150",
            "240",
            "30",
            "60",
            "50",
            "40",
            "50",
            "50",
            "40",
            "50",
            "180",
            "210",
            "50",
            "60",
            "100",
            "250",
            "50",
            "160",
            "60",
            "110",
            "40",
            "60",
            "60",
            "40",
            "40",
            "40",
            "60",
            "50",
            "70",
            "160",
            "30",
            "70",
            "140",
            "70",
            "80",
            "160",
            "70",
            "40",
            "110",
            "80",
            "50",
            "80",
            "840",
            "60",
            "40",
            "220",
            "40",
            "40",
            "60",
            "70",
            "80",
            "50",
            "40",
            "50",
            "70",
            "80",
            "40",
            "70",
            "150",
            "30",
            "50",
            "250",
            "60",
            "60",
            "70",
            "40",
            "180",
            "30",
            "40",
            "100",
            "100",
            "70",
            "50",
            "50",
            "60",
            "40",
            "40",
            "50",
            "80",
            "50",
            "50",
            "120",
            "40",
            "40",
            "60",
            "80"
           ]
          ]
         },
         "domain": {
          "x": [
           0,
           0.45
          ],
          "y": [
           0,
           1
          ]
         },
         "header": {
          "align": "left",
          "fill": {
           "color": "#003900"
          },
          "font": {
           "color": "white"
          },
          "values": [
           "Metropolitan Area",
           "Concentration",
           "Total Employment"
          ]
         },
         "type": "table"
        },
        {
         "hovertemplate": "<b>%{hovertext}</b><br>Concentration: %{marker.size:,}<extra></extra>",
         "hovertext": [
          "San Jose-Sunnyvale-Santa Clara, CA",
          "Durham-Chapel Hill, NC",
          "Bloomington, IL",
          "San Francisco-Oakland-Fremont, CA",
          "Des Moines-West Des Moines, IA",
          "Ithaca, NY",
          "Boston-Cambridge-Newton, MA-NH",
          "Provo-Orem-Lehi, UT",
          "Seattle-Tacoma-Bellevue, WA",
          "Charlotte-Concord-Gastonia, NC-SC",
          "Washington-Arlington-Alexandria, DC-VA-MD-WV",
          "Idaho Falls, ID",
          "Raleigh-Cary, NC",
          "Austin-Round Rock-San Marcos, TX",
          "Huntsville, AL",
          "Omaha, NE-IA",
          "Sacramento-Roseville-Folsom, CA",
          "Dallas-Fort Worth-Arlington, TX",
          "New York-Newark-Jersey City, NY-NJ",
          "Rochester, NY",
          "Atlanta-Sandy Springs-Roswell, GA",
          "Lincoln, NE",
          "Madison, WI",
          "Portland-South Portland, ME",
          "St. Louis, MO-IL",
          "Philadelphia-Camden-Wilmington, PA-NJ-DE-MD",
          "Oshkosh-Neenah, WI",
          "Ames, IA",
          "Baton Rouge, LA",
          "Lansing-East Lansing, MI",
          "Lexington Park, MD",
          "Portland-Vancouver-Hillsboro, OR-WA",
          "Pittsburgh, PA",
          "Dubuque, IA",
          "Providence-Warwick, RI-MA",
          "San Diego-Chula Vista-Carlsbad, CA",
          "Los Angeles-Long Beach-Anaheim, CA",
          "Davenport-Moline-Rock Island, IA-IL",
          "Midland, MI",
          "Trenton-Princeton, NJ",
          "Boise City, ID",
          "Tulsa, OK",
          "Houston-Pasadena-The Woodlands, TX",
          "Harrisburg-Carlisle, PA",
          "Milwaukee-Waukesha, WI",
          "Minneapolis-St. Paul-Bloomington, MN-WI",
          "Oxnard-Thousand Oaks-Ventura, CA",
          "Detroit-Warren-Dearborn, MI",
          "Corvallis, OR",
          "Manchester-Nashua, NH",
          "Columbia, MO",
          "Cincinnati, OH-KY-IN",
          "Phoenix-Mesa-Chandler, AZ",
          "Nashville-Davidson--Murfreesboro--Franklin, TN",
          "Richmond, VA",
          "Fort Wayne, IN",
          "Columbia, SC",
          "Springfield, MA",
          "Crestview-Fort Walton Beach-Destin, FL",
          "Greenville-Anderson-Greer, SC",
          "Cedar Rapids, IA",
          "Indianapolis-Carmel-Greenwood, IN",
          "Worcester, MA",
          "Chicago-Naperville-Elgin, IL-IN",
          "San Antonio-New Braunfels, TX",
          "Ann Arbor, MI",
          "Oklahoma City, OK",
          "Casper, WY",
          "Erie, PA",
          "Albany-Schenectady-Troy, NY",
          "Champaign-Urbana, IL",
          "Buffalo-Cheektowaga, NY",
          "Charleston-North Charleston, SC",
          "Allentown-Bethlehem-Easton, PA-NJ",
          "Ogden, UT",
          "Sioux Falls, SD-MN",
          "Green Bay, WI",
          "Sierra Vista-Douglas, AZ",
          "Tampa-St. Petersburg-Clearwater, FL",
          "Kalamazoo-Portage, MI",
          "Cleveland, OH",
          "Kennewick-Richland, WA",
          "Louisville/Jefferson County, KY-IN",
          "Lewiston, ID-WA",
          "Waterbury-Shelton, CT",
          "Columbus, OH",
          "Syracuse, NY",
          "Warner Robins, GA",
          "Santa Cruz-Watsonville, CA",
          "Palm Bay-Melbourne-Titusville, FL",
          "Jacksonville, FL",
          "Orlando-Kissimmee-Sanford, FL",
          "Florence, SC",
          "Logan, UT-ID",
          "St. George, UT",
          "Fargo, ND-MN",
          "Akron, OH",
          "Burlington-South Burlington, VT",
          "Baltimore-Columbia-Towson, MD",
          "Tallahassee, FL",
          "Santa Maria-Santa Barbara, CA",
          "Evansville, IN",
          "Winston-Salem, NC",
          "Utica-Rome, NY",
          "Iowa City, IA",
          "South Bend-Mishawaka, IN-MI",
          "Hartford-West Hartford-East Hartford, CT",
          "Bridgeport-Stamford-Danbury, CT",
          "Tucson, AZ",
          "Lewiston-Auburn, ME",
          "La Crosse-Onalaska, WI-MN",
          "Wausau, WI",
          "Pittsfield, MA",
          "Grand Rapids-Wyoming-Kentwood, MI",
          "Charlottesville, VA",
          "Bangor, ME",
          "Bend, OR",
          "Gainesville, FL",
          "Battle Creek, MI",
          "Olympia-Lacey-Tumwater, WA",
          "Jackson, MI",
          "Grand Forks, ND-MN",
          "Birmingham, AL",
          "Waterloo-Cedar Falls, IA",
          "Kansas City, MO-KS",
          "Reading, PA",
          "Fayetteville-Springdale-Rogers, AR",
          "Dayton-Kettering-Beavercreek, OH",
          "Columbus, GA-AL",
          "Bismarck, ND",
          "Kingston, NY",
          "Lexington-Fayette, KY",
          "Wilmington, NC",
          "Virginia Beach-Chesapeake-Norfolk, VA-NC",
          "Kiryas Joel-Poughkeepsie-Newburgh, NY",
          "Eau Claire, WI",
          "Miami-Fort Lauderdale-West Palm Beach, FL",
          "Springfield, MO",
          "Bozeman, MT",
          "Lancaster, PA",
          "Albuquerque, NM",
          "Peoria, IL",
          "Las Vegas-Henderson-North Las Vegas, NV",
          "College Station-Bryan, TX",
          "Altoona, PA",
          "Lakeland-Winter Haven, FL",
          "Lawton, OK",
          "Spartanburg, SC",
          "Midland, TX",
          "Kingsport-Bristol, TN-VA",
          "Cape Girardeau, MO-IL",
          "El Paso, TX",
          "San Angelo, TX",
          "Jefferson City, MO",
          "Elkhart-Goshen, IN",
          "Janesville-Beloit, WI",
          "Elizabethtown, KY",
          "Reno, NV",
          "Amherst Town-Northampton, MA",
          "Columbus, IN",
          "Bloomington, IN",
          "Anchorage, AK",
          "Dalton, GA",
          "Savannah, GA",
          "Scranton--Wilkes-Barre, PA",
          "Waco, TX",
          "Traverse City, MI",
          "Blacksburg-Christiansburg-Radford, VA",
          "Saginaw, MI",
          "York-Hanover, PA",
          "Amarillo, TX",
          "Albany, GA",
          "Charleston, WV",
          "Tyler, TX",
          "Appleton, WI",
          "Niles, MI",
          "Corpus Christi, TX",
          "Augusta-Richmond County, GA-SC",
          "Greensboro-High Point, NC",
          "Glens Falls, NY",
          "Binghamton, NY",
          "Greenville, NC",
          "Chambersburg, PA",
          "Yuma, AZ",
          "Kenosha, WI",
          "Sheboygan, WI",
          "Abilene, TX",
          "New Haven, CT",
          "Bakersfield-Delano, CA",
          "Sioux City, IA-NE-SD",
          "Lynchburg, VA",
          "Hickory-Lenoir-Morganton, NC",
          "Knoxville, TN",
          "Joplin, MO-KS",
          "Chattanooga, TN-GA",
          "Springfield, IL",
          "Pensacola-Ferry Pass-Brent, FL",
          "State College, PA",
          "Barnstable Town, MA",
          "Macon-Bibb County, GA",
          "Redding, CA",
          "Terre Haute, IN",
          "Flagstaff, AZ",
          "Laredo, TX",
          "Panama City-Panama City Beach, FL",
          "Duluth, MN-WI",
          "Toledo, OH",
          "Wichita Falls, TX",
          "Fayetteville, NC",
          "Spokane-Spokane Valley, WA",
          "Rockford, IL",
          "Eugene-Springfield, OR",
          "Cape Coral-Fort Myers, FL",
          "Flint, MI",
          "Dover, DE",
          "Santa Rosa-Petaluma, CA",
          "Beaumont-Port Arthur, TX",
          "Bremerton-Silverdale-Port Orchard, WA",
          "Lubbock, TX",
          "Riverside-San Bernardino-Ontario, CA",
          "Longview, TX",
          "Chico, CA",
          "Urban Honolulu, HI",
          "Medford, OR",
          "Racine-Mount Pleasant, WI",
          "San Luis Obispo-Paso Robles, CA",
          "Vallejo, CA",
          "Atlantic City-Hammonton, NJ",
          "Gainesville, GA",
          "Napa, CA",
          "Lafayette-West Lafayette, IN",
          "Montgomery, AL",
          "Salem, OR",
          "Bellingham, WA",
          "Roanoke, VA",
          "Little Rock-North Little Rock-Conway, AR",
          "Las Cruces, NM",
          "Norwich-New London-Willimantic, CT",
          "Memphis, TN-MS-AR",
          "Killeen-Temple, TX",
          "Canton-Massillon, OH",
          "Asheville, NC",
          "Clarksville, TN-KY",
          "Fresno, CA",
          "Billings, MT",
          "Hagerstown-Martinsburg, MD-WV",
          "McAllen-Edinburg-Mission, TX",
          "Stockton-Lodi, CA",
          "Deltona-Daytona Beach-Ormond Beach, FL",
          "Mobile, AL",
          "Naples-Marco Island, FL",
          "Modesto, CA",
          "Ocala, FL",
          "Huntington-Ashland, WV-KY-OH",
          "Youngstown-Warren, OH",
          "Jackson, MS",
          "Salinas, CA",
          "Visalia, CA",
          "New Orleans-Metairie, LA",
          "Myrtle Beach-Conway-North Myrtle Beach, SC",
          "Port St. Lucie, FL",
          "Wichita, KS",
          "San Juan-Bayamón-Caguas, PR"
         ],
         "lat": [
          36.91030847870619,
          35.99105704382668,
          40.490891618559736,
          37.774109391377706,
          41.575666004845104,
          42.45201867851938,
          42.5178983056129,
          39.86450191482904,
          47.55747496670581,
          35.16858472948385,
          38.832383262698315,
          43.62250547435144,
          35.75727480498975,
          30.262246727371622,
          34.78318967859805,
          41.29008437298225,
          38.780495487822286,
          32.8495029319331,
          40.73637486795714,
          43.188514441633764,
          33.733762523212704,
          40.819919102203656,
          43.08018135482941,
          43.65296364433356,
          38.735247592128154,
          39.89584498649021,
          44.068876891378395,
          42.03637158352593,
          30.51732150170172,
          42.71330159836051,
          38.31534228591873,
          45.598362690797636,
          40.47443348995461,
          42.46882243268045,
          41.64493427298193,
          33.02819796739121,
          34.11176360235264,
          41.39687948744728,
          43.646856704695686,
          40.283437425482006,
          43.01601416202573,
          36.25041272660737,
          29.80212288788412,
          40.32666785180804,
          43.18039750514765,
          45.10335986165826,
          34.35706907242699,
          42.71623563197045,
          44.49179903576947,
          42.91529150609051,
          38.98380988051826,
          39.08111940323311,
          33.18586541061491,
          36.08909290334003,
          37.41248327589083,
          41.00539945512145,
          34.09175612742186,
          42.13511501401045,
          30.591953158244905,
          34.685125573715695,
          42.09147230654023,
          39.79287130637698,
          42.3513945714977,
          41.75961644514,
          29.428763998124197,
          42.25322534883891,
          35.42987340177036,
          42.96224044575415,
          42.11749624629517,
          42.788494006599215,
          40.22667832841295,
          43.03785915588772,
          33.01657303819066,
          40.78936919862038,
          41.118953959214835,
          43.527296471513694,
          44.69882136938099,
          31.879627478566896,
          28.123415297498294,
          42.24545445407747,
          41.670434006352316,
          46.363562469943645,
          38.22443524749478,
          46.2691528691608,
          41.52315152998767,
          39.968125928343596,
          43.20096350617498,
          32.49029845389787,
          37.02160584224619,
          28.300317937857866,
          30.234071255951516,
          28.4343464287635,
          34.1520194544314,
          41.889583883134115,
          37.280416921032725,
          46.91781324137095,
          41.148734379158554,
          44.686826183105104,
          39.30554078475111,
          30.34905328212808,
          34.53825125785915,
          38.0487638499199,
          36.07667743641049,
          43.33716509753293,
          41.51133045511344,
          41.773627419745885,
          41.687448087452864,
          41.25526633860353,
          32.09739870528064,
          44.16584842785464,
          43.69826699947517,
          44.89828570995151,
          42.37067554379461,
          42.9783994429018,
          37.95010315212047,
          45.400512321313315,
          44.16629363752927,
          29.456177955801056,
          42.246539106045404,
          46.92962690588329,
          42.248487395765956,
          47.83595964976275,
          33.46384087652043,
          42.536232098463806,
          38.937146017241425,
          40.4162956671039,
          36.108349907066504,
          39.82951286321467,
          32.418225201443754,
          46.88407538095239,
          41.88814562680186,
          38.09050888023303,
          34.25211281603683,
          36.840285900058305,
          41.58275994020366,
          44.9388004165829,
          26.135276354275575,
          37.36167529684541,
          45.540389499429324,
          40.04243033491308,
          35.12229764414613,
          40.78915584840243,
          36.21519630845167,
          30.756539295812185,
          40.48111671369334,
          27.94887148630418,
          34.524177113223516,
          34.83790692919694,
          32.08975366876261,
          36.60777362443048,
          37.3244849496499,
          31.51308818662487,
          31.363663625431506,
          38.63981281490281,
          41.59738447990813,
          42.67121812761983,
          37.65311269567056,
          40.25882481244369,
          42.340155585534184,
          39.20597057207045,
          39.23471224239362,
          62.22437414137989,
          34.79628157756104,
          32.10686332702063,
          41.32319577733379,
          31.594477658106452,
          44.94142028244704,
          37.12085725699317,
          43.335028731014646,
          39.9199595994266,
          35.24888863894819,
          31.646459779400633,
          38.27165500341464,
          32.3750354238494,
          44.28903134984166,
          41.99577768511437,
          27.892838346113752,
          33.46102528715891,
          36.02586207235691,
          43.443544278607476,
          42.16447752593655,
          35.593298974621256,
          39.92741840127329,
          32.769619918498236,
          42.57850410099628,
          43.719707377940836,
          32.4496900452076,
          41.29447042847549,
          35.342621500444935,
          42.51886942389314,
          37.36501889088983,
          35.81290420954569,
          36.04472599554532,
          37.092431540417174,
          35.051984200233065,
          39.829594398180376,
          30.604988830207425,
          40.9189540214956,
          41.77344927347826,
          32.85769488473761,
          40.76376660115652,
          39.391908255111865,
          35.8387248492318,
          27.76106243008186,
          30.27434619731384,
          47.318479851260136,
          41.54058866008217,
          33.77475217974184,
          35.0370999853504,
          48.08110311680401,
          42.33161409498088,
          43.9415554742335,
          26.56349671118828,
          43.02172289859303,
          39.09595476988037,
          38.52538142533889,
          30.076471405439264,
          47.63964660128235,
          33.463603991754674,
          34.551687706784136,
          32.43105853811108,
          39.66692936105124,
          23.718640396506395,
          42.432155888293586,
          42.75117428071774,
          35.38744905262926,
          38.2669214768002,
          39.285131248595086,
          34.317086156869976,
          38.50696360242177,
          40.47724707229659,
          32.36061112622032,
          44.90339673454215,
          48.829616199902766,
          37.286089014960595,
          34.75728656201916,
          32.35264838360237,
          41.484789463948125,
          35.00735913468447,
          31.207838512580135,
          40.718667594643236,
          35.61723714882868,
          36.692949349473295,
          36.87999350238702,
          45.63997319796508,
          39.549905642078556,
          26.396734153670508,
          37.934765183750024,
          29.17994425484908,
          30.685151206940123,
          26.100367949059596,
          37.55915585054911,
          29.210202286515983,
          38.35868180221814,
          41.19619718650585,
          32.427749376252606,
          36.23977436811787,
          36.22019066656752,
          29.71181286250829,
          33.904525276719276,
          27.224695472038075,
          37.63867118251767,
          18.29528604857324
         ],
         "legendgroup": "",
         "lon": [
          -121.37692780284263,
          -79.09963807733739,
          -88.84732427797877,
          -122.27410918593066,
          -93.76182657398422,
          -76.47365412977649,
          -71.0219280183955,
          -112.35261188672312,
          -121.88142914055544,
          -80.79536593071371,
          -77.49803594117299,
          -112.42787441925051,
          -78.46083182980976,
          -97.65435382737088,
          -86.73464420937788,
          -95.99912404635334,
          -120.9972491390811,
          -96.97039691200993,
          -73.80356960293985,
          -77.5539288290651,
          -84.39216958707833,
          -96.87081622968465,
          -89.59222360647242,
          -70.41687105053138,
          -90.35010185467162,
          -75.31171177145215,
          -88.6446587533396,
          -93.6983390819213,
          -91.12697188471148,
          -84.60697399333331,
          -76.5295298450362,
          -122.47828767431096,
          -79.86317562824709,
          -90.88252185038256,
          -71.38966668755033,
          -116.77019669001278,
          -118.18075908268506,
          -90.4659117575504,
          -84.38810911289043,
          -74.70175239182764,
          -116.14324208397097,
          -96.16621872313064,
          -95.34227903337397,
          -77.10119768506455,
          -87.7969626778574,
          -93.27533865724331,
          -119.12601434728353,
          -83.20582427322643,
          -123.42924906242823,
          -71.71608246629012,
          -92.57933005508538,
          -84.46458999513642,
          -112.07070070028564,
          -86.72443988189264,
          -77.44620107884265,
          -85.21677558713552,
          -81.04238464258138,
          -72.63164864220703,
          -86.37110178557725,
          -82.41388789096362,
          -91.6313309616663,
          -86.12156639516519,
          -71.90772697588598,
          -87.84489356106339,
          -98.60226372804078,
          -83.8387705070282,
          -97.50387646217757,
          -106.79849380290528,
          -80.09815349932951,
          -73.94197940657605,
          -88.29452710958309,
          -78.77537663163785,
          -80.00862647958151,
          -75.40387574436143,
          -111.87022926060034,
          -96.873887808757,
          -87.82507975708013,
          -109.75126300522564,
          -82.52853017182946,
          -85.53118333715166,
          -81.42944678504406,
          -119.25426632445586,
          -85.70245666138787,
          -116.94372492088011,
          -73.08604214008467,
          -82.83690444899722,
          -76.0769590418875,
          -83.71203339200858,
          -122.00978737438118,
          -80.70120876495957,
          -81.75749729488571,
          -81.36305352886303,
          -79.80845001142356,
          -111.76897539098839,
          -113.50467371546617,
          -96.96549413676233,
          -81.34953267156597,
          -73.03149884379336,
          -76.5510061326829,
          -84.27572573394238,
          -120.03101114135809,
          -87.58180890376751,
          -80.34583278192346,
          -75.18138307054288,
          -91.64998527551542,
          -86.13414729011525,
          -72.54576969648033,
          -73.38300100138436,
          -111.78986399447216,
          -70.20644499377971,
          -91.10762064840976,
          -89.75905892340126,
          -73.20641297764685,
          -85.7141537361551,
          -78.59289955525108,
          -68.64942812896376,
          -120.88391010471959,
          -82.66931149332902,
          -85.00558227053244,
          -122.83229374408856,
          -84.42343730330076,
          -96.84438541696859,
          -86.81386802272088,
          -92.47115553205133,
          -94.44438719838288,
          -75.92599808862222,
          -94.07549378358702,
          -84.14191256864473,
          -84.84393259852786,
          -100.97861018003888,
          -74.25856951631634,
          -84.43305427845347,
          -78.03864847691109,
          -76.39603683595595,
          -74.02564045245543,
          -91.28220957674965,
          -80.46863198576719,
          -93.17707481333295,
          -111.17036894627947,
          -76.24769684510478,
          -106.47158260974265,
          -89.5159061843627,
          -115.01356105204503,
          -96.4889667961048,
          -78.34829588953637,
          -81.69768539562489,
          -98.43479579077287,
          -81.84756593834756,
          -101.99101579994662,
          -82.44260317962458,
          -89.76981524988717,
          -105.54104725056263,
          -100.67303895377836,
          -92.0916925876155,
          -85.85875527405359,
          -89.07155826247805,
          -85.88517994900867,
          -119.55320182555032,
          -72.66378616490911,
          -85.8976029731582,
          -86.67594056753894,
          -149.55443384242562,
          -84.84810820421032,
          -81.27134839214521,
          -75.89573493775778,
          -97.28287321782294,
          -85.90575712433812,
          -80.53291207907779,
          -84.05318703425706,
          -76.72651014508683,
          -101.90954513555107,
          -84.11531925517163,
          -81.49170014443992,
          -95.26918268309834,
          -88.37115326162012,
          -86.68542115443856,
          -97.40126451988552,
          -81.98292809327468,
          -79.79160397045388,
          -73.64881136620112,
          -76.02514482576811,
          -77.37449655189732,
          -77.72125091944837,
          -113.90561548044276,
          -87.65311823063857,
          -87.63477447487065,
          -99.7176783249734,
          -72.83366611181374,
          -118.73002806577927,
          -96.30880082147209,
          -79.2197431116736,
          -81.45428440214266,
          -84.1374714453436,
          -94.50108308081984,
          -85.36007064002418,
          -89.69691393001816,
          -87.15692947060404,
          -77.81996372478596,
          -70.23813749230841,
          -83.71490686576396,
          -122.0405215282598,
          -87.34399326919083,
          -111.77052100774208,
          -99.33156530421446,
          -85.64272782525973,
          -92.39284861204159,
          -83.69338640365014,
          -98.49138724955586,
          -78.98041240697616,
          -117.6708429263761,
          -89.04208114669717,
          -122.87663764155072,
          -81.98483599698326,
          -83.70671102712826,
          -75.50461385378375,
          -122.92272709362724,
          -94.20136010366994,
          -122.64917638760737,
          -101.88074218126884,
          -116.12973844282817,
          -94.67519753332954,
          -121.60067173160115,
          -164.73674034720787,
          -122.72851787739313,
          -87.69608097952725,
          -120.45219084564243,
          -121.93999006719702,
          -74.73725107432915,
          -83.81957265920988,
          -122.3306370426753,
          -87.02341007552093,
          -86.40323998288596,
          -122.90327375643695,
          -121.87281310603294,
          -79.94656264557571,
          -92.39718322784162,
          -106.83272163462934,
          -72.1007273360993,
          -89.81474051295407,
          -97.78759128510924,
          -81.2534717417313,
          -82.57100077078302,
          -87.62305602726994,
          -119.67934047134568,
          -108.82187161413381,
          -77.98138535234493,
          -98.18111521882639,
          -121.27143844405619,
          -81.1898407748509,
          -88.19752379023207,
          -81.44454715225734,
          -120.99767552001309,
          -82.05667567080549,
          -82.56853950667445,
          -80.76727664333801,
          -90.13600414871652,
          -121.30890152396167,
          -118.80046158261075,
          -89.66735827514029,
          -78.97615818768475,
          -80.4210025347628,
          -97.24542750276882,
          -66.0389143099953
         ],
         "marker": {
          "color": [
           3.82,
           2.98,
           2.85,
           2.57,
           2.15,
           2.02,
           2.01,
           2,
           1.93,
           1.91,
           1.81,
           1.81,
           1.77,
           1.63,
           1.6,
           1.6,
           1.55,
           1.42,
           1.4,
           1.39,
           1.37,
           1.36,
           1.35,
           1.31,
           1.31,
           1.3,
           1.27,
           1.27,
           1.27,
           1.17,
           1.17,
           1.14,
           1.13,
           1.13,
           1.12,
           1.1,
           1.07,
           1.05,
           1.03,
           1.02,
           1.01,
           1,
           1,
           0.99,
           0.99,
           0.98,
           0.98,
           0.97,
           0.97,
           0.97,
           0.92,
           0.91,
           0.91,
           0.9,
           0.89,
           0.89,
           0.89,
           0.88,
           0.87,
           0.87,
           0.86,
           0.86,
           0.86,
           0.86,
           0.85,
           0.84,
           0.83,
           0.82,
           0.82,
           0.81,
           0.81,
           0.79,
           0.78,
           0.78,
           0.77,
           0.77,
           0.76,
           0.76,
           0.75,
           0.75,
           0.74,
           0.73,
           0.73,
           0.72,
           0.72,
           0.7,
           0.7,
           0.7,
           0.7,
           0.68,
           0.68,
           0.68,
           0.68,
           0.68,
           0.68,
           0.67,
           0.66,
           0.66,
           0.64,
           0.64,
           0.64,
           0.64,
           0.63,
           0.63,
           0.63,
           0.62,
           0.62,
           0.62,
           0.62,
           0.62,
           0.61,
           0.61,
           0.61,
           0.61,
           0.6,
           0.6,
           0.58,
           0.58,
           0.58,
           0.58,
           0.57,
           0.57,
           0.57,
           0.56,
           0.56,
           0.56,
           0.55,
           0.54,
           0.54,
           0.54,
           0.54,
           0.54,
           0.53,
           0.53,
           0.53,
           0.53,
           0.53,
           0.53,
           0.52,
           0.52,
           0.52,
           0.52,
           0.52,
           0.52,
           0.51,
           0.51,
           0.51,
           0.51,
           0.51,
           0.51,
           0.51,
           0.5,
           0.5,
           0.5,
           0.5,
           0.5,
           0.5,
           0.5,
           0.49,
           0.49,
           0.49,
           0.49,
           0.49,
           0.48,
           0.47,
           0.47,
           0.47,
           0.46,
           0.46,
           0.46,
           0.46,
           0.46,
           0.46,
           0.45,
           0.45,
           0.45,
           0.45,
           0.44,
           0.44,
           0.44,
           0.44,
           0.44,
           0.44,
           0.43,
           0.43,
           0.43,
           0.42,
           0.42,
           0.41,
           0.41,
           0.41,
           0.41,
           0.4,
           0.4,
           0.4,
           0.4,
           0.39,
           0.39,
           0.39,
           0.39,
           0.38,
           0.38,
           0.38,
           0.38,
           0.38,
           0.37,
           0.37,
           0.36,
           0.36,
           0.36,
           0.35,
           0.35,
           0.35,
           0.35,
           0.35,
           0.34,
           0.34,
           0.33,
           0.33,
           0.33,
           0.33,
           0.32,
           0.32,
           0.32,
           0.31,
           0.31,
           0.31,
           0.31,
           0.31,
           0.3,
           0.3,
           0.3,
           0.29,
           0.29,
           0.28,
           0.28,
           0.27,
           0.27,
           0.26,
           0.26,
           0.26,
           0.25,
           0.25,
           0.25,
           0.24,
           0.23,
           0.23,
           0.23,
           0.23,
           0.21,
           0.21,
           0.2,
           0.2,
           0.2,
           0.19,
           0.19,
           0.19,
           0.18,
           0.18,
           0.17,
           0.17,
           0.12,
           0.08
          ],
          "coloraxis": "coloraxis",
          "size": [
           3.82,
           2.98,
           2.85,
           2.57,
           2.15,
           2.02,
           2.01,
           2,
           1.93,
           1.91,
           1.81,
           1.81,
           1.77,
           1.63,
           1.6,
           1.6,
           1.55,
           1.42,
           1.4,
           1.39,
           1.37,
           1.36,
           1.35,
           1.31,
           1.31,
           1.3,
           1.27,
           1.27,
           1.27,
           1.17,
           1.17,
           1.14,
           1.13,
           1.13,
           1.12,
           1.1,
           1.07,
           1.05,
           1.03,
           1.02,
           1.01,
           1,
           1,
           0.99,
           0.99,
           0.98,
           0.98,
           0.97,
           0.97,
           0.97,
           0.92,
           0.91,
           0.91,
           0.9,
           0.89,
           0.89,
           0.89,
           0.88,
           0.87,
           0.87,
           0.86,
           0.86,
           0.86,
           0.86,
           0.85,
           0.84,
           0.83,
           0.82,
           0.82,
           0.81,
           0.81,
           0.79,
           0.78,
           0.78,
           0.77,
           0.77,
           0.76,
           0.76,
           0.75,
           0.75,
           0.74,
           0.73,
           0.73,
           0.72,
           0.72,
           0.7,
           0.7,
           0.7,
           0.7,
           0.68,
           0.68,
           0.68,
           0.68,
           0.68,
           0.68,
           0.67,
           0.66,
           0.66,
           0.64,
           0.64,
           0.64,
           0.64,
           0.63,
           0.63,
           0.63,
           0.62,
           0.62,
           0.62,
           0.62,
           0.62,
           0.61,
           0.61,
           0.61,
           0.61,
           0.6,
           0.6,
           0.58,
           0.58,
           0.58,
           0.58,
           0.57,
           0.57,
           0.57,
           0.56,
           0.56,
           0.56,
           0.55,
           0.54,
           0.54,
           0.54,
           0.54,
           0.54,
           0.53,
           0.53,
           0.53,
           0.53,
           0.53,
           0.53,
           0.52,
           0.52,
           0.52,
           0.52,
           0.52,
           0.52,
           0.51,
           0.51,
           0.51,
           0.51,
           0.51,
           0.51,
           0.51,
           0.5,
           0.5,
           0.5,
           0.5,
           0.5,
           0.5,
           0.5,
           0.49,
           0.49,
           0.49,
           0.49,
           0.49,
           0.48,
           0.47,
           0.47,
           0.47,
           0.46,
           0.46,
           0.46,
           0.46,
           0.46,
           0.46,
           0.45,
           0.45,
           0.45,
           0.45,
           0.44,
           0.44,
           0.44,
           0.44,
           0.44,
           0.44,
           0.43,
           0.43,
           0.43,
           0.42,
           0.42,
           0.41,
           0.41,
           0.41,
           0.41,
           0.4,
           0.4,
           0.4,
           0.4,
           0.39,
           0.39,
           0.39,
           0.39,
           0.38,
           0.38,
           0.38,
           0.38,
           0.38,
           0.37,
           0.37,
           0.36,
           0.36,
           0.36,
           0.35,
           0.35,
           0.35,
           0.35,
           0.35,
           0.34,
           0.34,
           0.33,
           0.33,
           0.33,
           0.33,
           0.32,
           0.32,
           0.32,
           0.31,
           0.31,
           0.31,
           0.31,
           0.31,
           0.3,
           0.3,
           0.3,
           0.29,
           0.29,
           0.28,
           0.28,
           0.27,
           0.27,
           0.26,
           0.26,
           0.26,
           0.25,
           0.25,
           0.25,
           0.24,
           0.23,
           0.23,
           0.23,
           0.23,
           0.21,
           0.21,
           0.2,
           0.2,
           0.2,
           0.19,
           0.19,
           0.19,
           0.18,
           0.18,
           0.17,
           0.17,
           0.12,
           0.08
          ],
          "sizemode": "area",
          "sizeref": 0.00955
         },
         "mode": "markers",
         "name": "",
         "showlegend": false,
         "subplot": "mapbox",
         "type": "scattermapbox"
        }
       ],
       "layout": {
        "annotations": [
         {
          "align": "left",
          "font": {
           "color": "gray",
           "size": 10
          },
          "showarrow": false,
          "text": "Source: Bureau of Labor Statistics - OEWS <BR>Note: Concentration = 1 is equal to the national average; Concentration > 1 higher than national average; Concentration <1 lower than national average",
          "x": 0,
          "xref": "paper",
          "y": -0.1,
          "yref": "paper"
         }
        ],
        "coloraxis": {
         "colorbar": {
          "title": {
           "text": "Concentration"
          }
         },
         "colorscale": [
          [
           0,
           "#440154"
          ],
          [
           0.1111111111111111,
           "#482878"
          ],
          [
           0.2222222222222222,
           "#3e4989"
          ],
          [
           0.3333333333333333,
           "#31688e"
          ],
          [
           0.4444444444444444,
           "#26828e"
          ],
          [
           0.5555555555555556,
           "#1f9e89"
          ],
          [
           0.6666666666666666,
           "#35b779"
          ],
          [
           0.7777777777777778,
           "#6ece58"
          ],
          [
           0.8888888888888888,
           "#b5de2b"
          ],
          [
           1,
           "#fde725"
          ]
         ]
        },
        "mapbox": {
         "center": {
          "lat": 37.0902,
          "lon": -95.7129
         },
         "domain": {
          "x": [
           0.55,
           1
          ],
          "y": [
           0,
           1
          ]
         },
         "style": "carto-positron",
         "zoom": 3
        },
        "template": {
         "data": {
          "bar": [
           {
            "error_x": {
             "color": "#2a3f5f"
            },
            "error_y": {
             "color": "#2a3f5f"
            },
            "marker": {
             "line": {
              "color": "#E5ECF6",
              "width": 0.5
             },
             "pattern": {
              "fillmode": "overlay",
              "size": 10,
              "solidity": 0.2
             }
            },
            "type": "bar"
           }
          ],
          "barpolar": [
           {
            "marker": {
             "line": {
              "color": "#E5ECF6",
              "width": 0.5
             },
             "pattern": {
              "fillmode": "overlay",
              "size": 10,
              "solidity": 0.2
             }
            },
            "type": "barpolar"
           }
          ],
          "carpet": [
           {
            "aaxis": {
             "endlinecolor": "#2a3f5f",
             "gridcolor": "white",
             "linecolor": "white",
             "minorgridcolor": "white",
             "startlinecolor": "#2a3f5f"
            },
            "baxis": {
             "endlinecolor": "#2a3f5f",
             "gridcolor": "white",
             "linecolor": "white",
             "minorgridcolor": "white",
             "startlinecolor": "#2a3f5f"
            },
            "type": "carpet"
           }
          ],
          "choropleth": [
           {
            "colorbar": {
             "outlinewidth": 0,
             "ticks": ""
            },
            "type": "choropleth"
           }
          ],
          "contour": [
           {
            "colorbar": {
             "outlinewidth": 0,
             "ticks": ""
            },
            "colorscale": [
             [
              0,
              "#0d0887"
             ],
             [
              0.1111111111111111,
              "#46039f"
             ],
             [
              0.2222222222222222,
              "#7201a8"
             ],
             [
              0.3333333333333333,
              "#9c179e"
             ],
             [
              0.4444444444444444,
              "#bd3786"
             ],
             [
              0.5555555555555556,
              "#d8576b"
             ],
             [
              0.6666666666666666,
              "#ed7953"
             ],
             [
              0.7777777777777778,
              "#fb9f3a"
             ],
             [
              0.8888888888888888,
              "#fdca26"
             ],
             [
              1,
              "#f0f921"
             ]
            ],
            "type": "contour"
           }
          ],
          "contourcarpet": [
           {
            "colorbar": {
             "outlinewidth": 0,
             "ticks": ""
            },
            "type": "contourcarpet"
           }
          ],
          "heatmap": [
           {
            "colorbar": {
             "outlinewidth": 0,
             "ticks": ""
            },
            "colorscale": [
             [
              0,
              "#0d0887"
             ],
             [
              0.1111111111111111,
              "#46039f"
             ],
             [
              0.2222222222222222,
              "#7201a8"
             ],
             [
              0.3333333333333333,
              "#9c179e"
             ],
             [
              0.4444444444444444,
              "#bd3786"
             ],
             [
              0.5555555555555556,
              "#d8576b"
             ],
             [
              0.6666666666666666,
              "#ed7953"
             ],
             [
              0.7777777777777778,
              "#fb9f3a"
             ],
             [
              0.8888888888888888,
              "#fdca26"
             ],
             [
              1,
              "#f0f921"
             ]
            ],
            "type": "heatmap"
           }
          ],
          "heatmapgl": [
           {
            "colorbar": {
             "outlinewidth": 0,
             "ticks": ""
            },
            "colorscale": [
             [
              0,
              "#0d0887"
             ],
             [
              0.1111111111111111,
              "#46039f"
             ],
             [
              0.2222222222222222,
              "#7201a8"
             ],
             [
              0.3333333333333333,
              "#9c179e"
             ],
             [
              0.4444444444444444,
              "#bd3786"
             ],
             [
              0.5555555555555556,
              "#d8576b"
             ],
             [
              0.6666666666666666,
              "#ed7953"
             ],
             [
              0.7777777777777778,
              "#fb9f3a"
             ],
             [
              0.8888888888888888,
              "#fdca26"
             ],
             [
              1,
              "#f0f921"
             ]
            ],
            "type": "heatmapgl"
           }
          ],
          "histogram": [
           {
            "marker": {
             "pattern": {
              "fillmode": "overlay",
              "size": 10,
              "solidity": 0.2
             }
            },
            "type": "histogram"
           }
          ],
          "histogram2d": [
           {
            "colorbar": {
             "outlinewidth": 0,
             "ticks": ""
            },
            "colorscale": [
             [
              0,
              "#0d0887"
             ],
             [
              0.1111111111111111,
              "#46039f"
             ],
             [
              0.2222222222222222,
              "#7201a8"
             ],
             [
              0.3333333333333333,
              "#9c179e"
             ],
             [
              0.4444444444444444,
              "#bd3786"
             ],
             [
              0.5555555555555556,
              "#d8576b"
             ],
             [
              0.6666666666666666,
              "#ed7953"
             ],
             [
              0.7777777777777778,
              "#fb9f3a"
             ],
             [
              0.8888888888888888,
              "#fdca26"
             ],
             [
              1,
              "#f0f921"
             ]
            ],
            "type": "histogram2d"
           }
          ],
          "histogram2dcontour": [
           {
            "colorbar": {
             "outlinewidth": 0,
             "ticks": ""
            },
            "colorscale": [
             [
              0,
              "#0d0887"
             ],
             [
              0.1111111111111111,
              "#46039f"
             ],
             [
              0.2222222222222222,
              "#7201a8"
             ],
             [
              0.3333333333333333,
              "#9c179e"
             ],
             [
              0.4444444444444444,
              "#bd3786"
             ],
             [
              0.5555555555555556,
              "#d8576b"
             ],
             [
              0.6666666666666666,
              "#ed7953"
             ],
             [
              0.7777777777777778,
              "#fb9f3a"
             ],
             [
              0.8888888888888888,
              "#fdca26"
             ],
             [
              1,
              "#f0f921"
             ]
            ],
            "type": "histogram2dcontour"
           }
          ],
          "mesh3d": [
           {
            "colorbar": {
             "outlinewidth": 0,
             "ticks": ""
            },
            "type": "mesh3d"
           }
          ],
          "parcoords": [
           {
            "line": {
             "colorbar": {
              "outlinewidth": 0,
              "ticks": ""
             }
            },
            "type": "parcoords"
           }
          ],
          "pie": [
           {
            "automargin": true,
            "type": "pie"
           }
          ],
          "scatter": [
           {
            "fillpattern": {
             "fillmode": "overlay",
             "size": 10,
             "solidity": 0.2
            },
            "type": "scatter"
           }
          ],
          "scatter3d": [
           {
            "line": {
             "colorbar": {
              "outlinewidth": 0,
              "ticks": ""
             }
            },
            "marker": {
             "colorbar": {
              "outlinewidth": 0,
              "ticks": ""
             }
            },
            "type": "scatter3d"
           }
          ],
          "scattercarpet": [
           {
            "marker": {
             "colorbar": {
              "outlinewidth": 0,
              "ticks": ""
             }
            },
            "type": "scattercarpet"
           }
          ],
          "scattergeo": [
           {
            "marker": {
             "colorbar": {
              "outlinewidth": 0,
              "ticks": ""
             }
            },
            "type": "scattergeo"
           }
          ],
          "scattergl": [
           {
            "marker": {
             "colorbar": {
              "outlinewidth": 0,
              "ticks": ""
             }
            },
            "type": "scattergl"
           }
          ],
          "scattermapbox": [
           {
            "marker": {
             "colorbar": {
              "outlinewidth": 0,
              "ticks": ""
             }
            },
            "type": "scattermapbox"
           }
          ],
          "scatterpolar": [
           {
            "marker": {
             "colorbar": {
              "outlinewidth": 0,
              "ticks": ""
             }
            },
            "type": "scatterpolar"
           }
          ],
          "scatterpolargl": [
           {
            "marker": {
             "colorbar": {
              "outlinewidth": 0,
              "ticks": ""
             }
            },
            "type": "scatterpolargl"
           }
          ],
          "scatterternary": [
           {
            "marker": {
             "colorbar": {
              "outlinewidth": 0,
              "ticks": ""
             }
            },
            "type": "scatterternary"
           }
          ],
          "surface": [
           {
            "colorbar": {
             "outlinewidth": 0,
             "ticks": ""
            },
            "colorscale": [
             [
              0,
              "#0d0887"
             ],
             [
              0.1111111111111111,
              "#46039f"
             ],
             [
              0.2222222222222222,
              "#7201a8"
             ],
             [
              0.3333333333333333,
              "#9c179e"
             ],
             [
              0.4444444444444444,
              "#bd3786"
             ],
             [
              0.5555555555555556,
              "#d8576b"
             ],
             [
              0.6666666666666666,
              "#ed7953"
             ],
             [
              0.7777777777777778,
              "#fb9f3a"
             ],
             [
              0.8888888888888888,
              "#fdca26"
             ],
             [
              1,
              "#f0f921"
             ]
            ],
            "type": "surface"
           }
          ],
          "table": [
           {
            "cells": {
             "fill": {
              "color": "#EBF0F8"
             },
             "line": {
              "color": "white"
             }
            },
            "header": {
             "fill": {
              "color": "#C8D4E3"
             },
             "line": {
              "color": "white"
             }
            },
            "type": "table"
           }
          ]
         },
         "layout": {
          "annotationdefaults": {
           "arrowcolor": "#2a3f5f",
           "arrowhead": 0,
           "arrowwidth": 1
          },
          "autotypenumbers": "strict",
          "coloraxis": {
           "colorbar": {
            "outlinewidth": 0,
            "ticks": ""
           }
          },
          "colorscale": {
           "diverging": [
            [
             0,
             "#8e0152"
            ],
            [
             0.1,
             "#c51b7d"
            ],
            [
             0.2,
             "#de77ae"
            ],
            [
             0.3,
             "#f1b6da"
            ],
            [
             0.4,
             "#fde0ef"
            ],
            [
             0.5,
             "#f7f7f7"
            ],
            [
             0.6,
             "#e6f5d0"
            ],
            [
             0.7,
             "#b8e186"
            ],
            [
             0.8,
             "#7fbc41"
            ],
            [
             0.9,
             "#4d9221"
            ],
            [
             1,
             "#276419"
            ]
           ],
           "sequential": [
            [
             0,
             "#0d0887"
            ],
            [
             0.1111111111111111,
             "#46039f"
            ],
            [
             0.2222222222222222,
             "#7201a8"
            ],
            [
             0.3333333333333333,
             "#9c179e"
            ],
            [
             0.4444444444444444,
             "#bd3786"
            ],
            [
             0.5555555555555556,
             "#d8576b"
            ],
            [
             0.6666666666666666,
             "#ed7953"
            ],
            [
             0.7777777777777778,
             "#fb9f3a"
            ],
            [
             0.8888888888888888,
             "#fdca26"
            ],
            [
             1,
             "#f0f921"
            ]
           ],
           "sequentialminus": [
            [
             0,
             "#0d0887"
            ],
            [
             0.1111111111111111,
             "#46039f"
            ],
            [
             0.2222222222222222,
             "#7201a8"
            ],
            [
             0.3333333333333333,
             "#9c179e"
            ],
            [
             0.4444444444444444,
             "#bd3786"
            ],
            [
             0.5555555555555556,
             "#d8576b"
            ],
            [
             0.6666666666666666,
             "#ed7953"
            ],
            [
             0.7777777777777778,
             "#fb9f3a"
            ],
            [
             0.8888888888888888,
             "#fdca26"
            ],
            [
             1,
             "#f0f921"
            ]
           ]
          },
          "colorway": [
           "#636efa",
           "#EF553B",
           "#00cc96",
           "#ab63fa",
           "#FFA15A",
           "#19d3f3",
           "#FF6692",
           "#B6E880",
           "#FF97FF",
           "#FECB52"
          ],
          "font": {
           "color": "#2a3f5f"
          },
          "geo": {
           "bgcolor": "white",
           "lakecolor": "white",
           "landcolor": "#E5ECF6",
           "showlakes": true,
           "showland": true,
           "subunitcolor": "white"
          },
          "hoverlabel": {
           "align": "left"
          },
          "hovermode": "closest",
          "mapbox": {
           "style": "light"
          },
          "paper_bgcolor": "white",
          "plot_bgcolor": "#E5ECF6",
          "polar": {
           "angularaxis": {
            "gridcolor": "white",
            "linecolor": "white",
            "ticks": ""
           },
           "bgcolor": "#E5ECF6",
           "radialaxis": {
            "gridcolor": "white",
            "linecolor": "white",
            "ticks": ""
           }
          },
          "scene": {
           "xaxis": {
            "backgroundcolor": "#E5ECF6",
            "gridcolor": "white",
            "gridwidth": 2,
            "linecolor": "white",
            "showbackground": true,
            "ticks": "",
            "zerolinecolor": "white"
           },
           "yaxis": {
            "backgroundcolor": "#E5ECF6",
            "gridcolor": "white",
            "gridwidth": 2,
            "linecolor": "white",
            "showbackground": true,
            "ticks": "",
            "zerolinecolor": "white"
           },
           "zaxis": {
            "backgroundcolor": "#E5ECF6",
            "gridcolor": "white",
            "gridwidth": 2,
            "linecolor": "white",
            "showbackground": true,
            "ticks": "",
            "zerolinecolor": "white"
           }
          },
          "shapedefaults": {
           "line": {
            "color": "#2a3f5f"
           }
          },
          "ternary": {
           "aaxis": {
            "gridcolor": "white",
            "linecolor": "white",
            "ticks": ""
           },
           "baxis": {
            "gridcolor": "white",
            "linecolor": "white",
            "ticks": ""
           },
           "bgcolor": "#E5ECF6",
           "caxis": {
            "gridcolor": "white",
            "linecolor": "white",
            "ticks": ""
           }
          },
          "title": {
           "x": 0.05
          },
          "xaxis": {
           "automargin": true,
           "gridcolor": "white",
           "linecolor": "white",
           "ticks": "",
           "title": {
            "standoff": 15
           },
           "zerolinecolor": "white",
           "zerolinewidth": 2
          },
          "yaxis": {
           "automargin": true,
           "gridcolor": "white",
           "linecolor": "white",
           "ticks": "",
           "title": {
            "standoff": 15
           },
           "zerolinecolor": "white",
           "zerolinewidth": 2
          }
         }
        },
        "title": {
         "text": "Employment Concentration by Metropolitan Area"
        }
       }
      }
     },
     "metadata": {},
     "output_type": "display_data"
    }
   ],
   "source": [
    "# Create the subplots\n",
    "combo = make_subplots(\n",
    "    rows=1, cols=2,\n",
    "    column_widths=[0.7, 0.7],\n",
    "    specs=[[{\"type\": \"table\"}, {\"type\": \"mapbox\"}]]\n",
    ")\n",
    "\n",
    "# Add the table trace\n",
    "for trace in LQ_table.data:\n",
    "    combo.add_trace(trace, row=1, col=1)\n",
    "\n",
    "# Add the map trace\n",
    "for trace in LQ_map.data:\n",
    "    combo.add_trace(trace, row=1, col=2)\n",
    "\n",
    "# Copy layout settings from the original map\n",
    "combo.update_layout(\n",
    "    mapbox_style=\"carto-positron\",\n",
    "    mapbox_zoom=3,\n",
    "    mapbox_center={\"lat\": 37.0902, \"lon\": -95.7129},\n",
    "    coloraxis=dict(colorscale=\"Viridis\", colorbar=dict(title=\"Concentration\")),\n",
    "    #height=600,\n",
    "    #width=1000,\n",
    "    title_text=\"Employment Concentration by Metropolitan Area\",\n",
    "    annotations=[\n",
    "        dict(\n",
    "            text=\"Source: Bureau of Labor Statistics - OEWS <BR>\"\n",
    "            \"Note: Concentration = 1 is equal to the national average; Concentration > 1 higher than national average; Concentration <1 lower than national average\",\n",
    "            xref=\"paper\", yref=\"paper\",\n",
    "            x=0, y=-0.1,\n",
    "            showarrow=False,\n",
    "            align=\"left\",\n",
    "            font=dict(size=10, color=\"gray\")\n",
    "        )\n",
    "    ]\n",
    ")\n"
   ]
  },
  {
   "cell_type": "code",
   "execution_count": 99,
   "metadata": {},
   "outputs": [],
   "source": [
    "combo.write_html(\"map_LQ.html\")"
   ]
  },
  {
   "cell_type": "markdown",
   "metadata": {},
   "source": [
    "# Where are the fastest growing metros?\n",
    "\n",
    "For this analysis we will only focus on the top 25 MSAs based on employment count. Some metros are growing really fast because they have such a small number of employees to begin with. Although understanding that type of growth is helpful, this analysis will focus on already established areas (top 25 metros)."
   ]
  },
  {
   "cell_type": "markdown",
   "metadata": {},
   "source": [
    "Note: When comparing changes in BLS OEWS numbers over time, it's important to ensure consistency in job definitions and estimation methodology.\n",
    "* The Standard Occupational Classification (SOC) system was updated in 2018, which reclassified many occupations. Therefore, data prior to 2018 may not be comparable to more recent years.\n",
    "* In 2021, the OEWS program adopted the MB3 estimation methodology. Only estimates from 2021 onward, which use the MB3 model, should be compared for accurate trend analysis."
   ]
  },
  {
   "cell_type": "markdown",
   "metadata": {},
   "source": [
    "## Clean historical dfs"
   ]
  },
  {
   "cell_type": "code",
   "execution_count": 72,
   "metadata": {},
   "outputs": [],
   "source": [
    "# read-in other data\n",
    "Employment2021 = pd.read_excel('Data\\\\MSA_M2021_dl.xlsx', sheet_name=\"MSA_M2021_dl\")  ### read in the data\n",
    "Employment2022 = pd.read_excel('Data\\\\MSA_M2022_dl.xlsx', sheet_name=\"MSA_M2022_dl\")  ### read in the data\n",
    "Employment2023 = pd.read_excel('Data\\\\MSA_M2023_dl.xlsx', sheet_name=\"MSA_M2023_dl\")  ### read in the data"
   ]
  },
  {
   "cell_type": "code",
   "execution_count": 73,
   "metadata": {},
   "outputs": [],
   "source": [
    "MSA_employ2021 = create_MSAEmploy(Employment2021) ### Function defined in mapping section\n",
    "MSA_employ2021 = MSA_employ2021[['AREA', 'TOT_EMP']] ### Area titles may be written differently, but the codes should be consistent overtime\n",
    "MSA_employ2021 = MSA_employ2021.rename(columns={'TOT_EMP': 'TOT_EMP2021'})\n",
    "\n",
    "MSA_employ2022 = create_MSAEmploy(Employment2022) \n",
    "MSA_employ2022 = MSA_employ2022[['AREA', 'TOT_EMP']]\n",
    "MSA_employ2022 = MSA_employ2022.rename(columns={'TOT_EMP': 'TOT_EMP2022'})\n",
    "\n",
    "MSA_employ2023 = create_MSAEmploy(Employment2023) \n",
    "MSA_employ2023 = MSA_employ2023[['AREA', 'TOT_EMP']]\n",
    "MSA_employ2023 = MSA_employ2023.rename(columns={'TOT_EMP': 'TOT_EMP2023'})"
   ]
  },
  {
   "cell_type": "code",
   "execution_count": 74,
   "metadata": {},
   "outputs": [],
   "source": [
    "# Pull the 2024 values defined in the map section\n",
    "MSA_employ2024 = MSA_employ[['AREA', 'AREA_TITLE', 'TOT_EMP']]\n",
    "MSA_employ2024 = MSA_employ2024.rename(columns={'TOT_EMP': 'TOT_EMP2024'})"
   ]
  },
  {
   "cell_type": "markdown",
   "metadata": {},
   "source": [
    "## Map changes in MSA definitions\n",
    "The 2024 MSA definitions were slightly altered based on what was used in the 2021-2023 period. One notable metro area that was reassigned is the Boston area. For the sake of comparison, we will still look at growth rates, but this is notable limitation to this analysis (mostly affecting the Northeast). \n",
    "\n",
    "2021 definitions: https://www.bls.gov/oes/2021/may/msa_def.htm\n",
    "\n",
    "2024 definitions: https://www.bls.gov/oes/oes_doc.htm"
   ]
  },
  {
   "cell_type": "code",
   "execution_count": 75,
   "metadata": {},
   "outputs": [],
   "source": [
    "# Df list\n",
    "dfs = [MSA_employ2021, MSA_employ2022, MSA_employ2023]\n",
    "\n",
    "# 2) Define a mapping old→new\n",
    "area_map = {\n",
    "    71650: 14460,  # Boston-Cambridge-Newton, MA-NH\n",
    "    77200: 39300,  # Providence-Warwick, RI-MA\n",
    "    17460: 17410,  # Cleveland, OH\n",
    "    73450: 25540,  # Hartford-West Hartford-East Hartford, CT\n",
    "    76750: 38860,  # Portland-South Portland, ME\n",
    "}\n",
    "\n",
    "# 3) Loop and replace\n",
    "for df in dfs:\n",
    "    df['AREA'].replace(area_map, inplace=True)\n"
   ]
  },
  {
   "cell_type": "code",
   "execution_count": 76,
   "metadata": {},
   "outputs": [],
   "source": [
    "MSA_employ_trend = pd.merge(MSA_employ2024, MSA_employ2021, left_on='AREA', right_on='AREA', how='left') ### only merging matches with 2024\n",
    "MSA_employ_trend = pd.merge(MSA_employ_trend, MSA_employ2022, left_on='AREA', right_on='AREA', how='left')   \n",
    "MSA_employ_trend = pd.merge(MSA_employ_trend, MSA_employ2023, left_on='AREA', right_on='AREA', how='left')  \n",
    "\n",
    "new_order = ['AREA', 'AREA_TITLE', 'TOT_EMP2021', 'TOT_EMP2022', 'TOT_EMP2023','TOT_EMP2024']\n",
    "MSA_employ_trend = MSA_employ_trend[new_order]\n"
   ]
  },
  {
   "cell_type": "code",
   "execution_count": 77,
   "metadata": {},
   "outputs": [],
   "source": [
    "MSA_employ_trend['PercentGrowth_2yr'] = ((MSA_employ_trend['TOT_EMP2023'] - MSA_employ_trend['TOT_EMP2021']) / MSA_employ_trend['TOT_EMP2021']) * 100\n",
    "MSA_employ_trend = MSA_employ_trend.sort_values('PercentGrowth_2yr', ascending=False) ### Sort by fastest growing \n",
    "\n",
    "MSA_employ_trend = MSA_employ_trend[MSA_employ_trend['TOT_EMP2024']>=1000] ### Only want to look at metros with a large starting base"
   ]
  },
  {
   "cell_type": "markdown",
   "metadata": {},
   "source": [
    "## Fastest growing visual"
   ]
  },
  {
   "cell_type": "code",
   "execution_count": 103,
   "metadata": {},
   "outputs": [
    {
     "data": {
      "application/vnd.plotly.v1+json": {
       "config": {
        "plotlyServerURL": "https://plot.ly"
       },
       "data": [
        {
         "cells": {
          "align": "left",
          "fill": {
           "color": "aliceblue"
          },
          "values": [
           [
            "Houston-Pasadena-The Woodlands, TX",
            "Austin-Round Rock-San Marcos, TX",
            "San Antonio-New Braunfels, TX",
            "Boston-Cambridge-Newton, MA-NH",
            "Dallas-Fort Worth-Arlington, TX",
            "Milwaukee-Waukesha, WI",
            "Los Angeles-Long Beach-Anaheim, CA",
            "Providence-Warwick, RI-MA",
            "Seattle-Tacoma-Bellevue, WA",
            "Portland-Vancouver-Hillsboro, OR-WA",
            "Omaha, NE-IA",
            "Rochester, NY",
            "Philadelphia-Camden-Wilmington, PA-NJ-DE-MD",
            "Miami-Fort Lauderdale-West Palm Beach, FL",
            "Nashville-Davidson--Murfreesboro--Franklin, TN",
            "Tampa-St. Petersburg-Clearwater, FL",
            "San Francisco-Oakland-Fremont, CA",
            "Washington-Arlington-Alexandria, DC-VA-MD-WV",
            "New York-Newark-Jersey City, NY-NJ",
            "San Diego-Chula Vista-Carlsbad, CA",
            "Minneapolis-St. Paul-Bloomington, MN-WI",
            "Atlanta-Sandy Springs-Roswell, GA",
            "Charlotte-Concord-Gastonia, NC-SC",
            "Pittsburgh, PA",
            "Detroit-Warren-Dearborn, MI",
            "Phoenix-Mesa-Chandler, AZ",
            "Sacramento-Roseville-Folsom, CA",
            "Orlando-Kissimmee-Sanford, FL",
            "San Jose-Sunnyvale-Santa Clara, CA",
            "Cleveland, OH",
            "Chicago-Naperville-Elgin, IL-IN",
            "Indianapolis-Carmel-Greenwood, IN",
            "Cincinnati, OH-KY-IN",
            "St. Louis, MO-IL",
            "Des Moines-West Des Moines, IA",
            "Columbus, OH",
            "Durham-Chapel Hill, NC",
            "Baltimore-Columbia-Towson, MD",
            "Raleigh-Cary, NC"
           ],
           [
            "980",
            "940",
            "450",
            "2,470",
            "2,700",
            "410",
            "3,830",
            "390",
            "2,120",
            "1,050",
            "610",
            "370",
            "2,310",
            "1,160",
            "610",
            "950",
            "5,290",
            "4,160",
            "10,240",
            "1,470",
            "1,250",
            "3,410",
            "2,010",
            "910",
            "1,620",
            "2,010",
            "1,660",
            "890",
            "3,530",
            "650",
            "3,580",
            "880",
            "1,050",
            "1,490",
            "1,040",
            "760",
            "820",
            "1,170",
            "nan"
           ],
           [
            "3,570",
            "1,990",
            "760",
            "nan",
            "5,040",
            "930",
            "7,160",
            "610",
            "3,610",
            "1,340",
            "920",
            "550",
            "3,680",
            "2,640",
            "560",
            "1,450",
            "8,890",
            "6,720",
            "13,860",
            "2,020",
            "1,450",
            "4,480",
            "2,430",
            "1,280",
            "2,180",
            "2,250",
            "2,250",
            "1,110",
            "4,940",
            "800",
            "5,100",
            "980",
            "1,070",
            "1,880",
            "1,220",
            "860",
            "710",
            "870",
            "990"
           ],
           [
            "5,300",
            "2,860",
            "1,240",
            "6,670",
            "6,760",
            "1,010",
            "9,220",
            "890",
            "4,810",
            "2,060",
            "1,180",
            "700",
            "4,240",
            "2,090",
            "1,040",
            "1,610",
            "8,870",
            "6,840",
            "16,330",
            "2,340",
            "1,940",
            "5,220",
            "3,040",
            "1,370",
            "2,420",
            "2,990",
            "2,420",
            "1,290",
            "5,040",
            "920",
            "4,930",
            "1,170",
            "1,370",
            "1,900",
            "1,310",
            "920",
            "800",
            "850",
            "1,250"
           ],
           [
            "4,900",
            "3,100",
            "1,440",
            "8,220",
            "8,630",
            "1,220",
            "10,030",
            "1,200",
            "6,100",
            "2,090",
            "1,190",
            "1,030",
            "5,640",
            "2,250",
            "1,490",
            "1,640",
            "9,350",
            "8,530",
            "19,810",
            "2,550",
            "2,870",
            "5,940",
            "3,870",
            "1,890",
            "2,810",
            "3,210",
            "2,510",
            "1,430",
            "6,570",
            "1,160",
            "5,840",
            "1,430",
            "1,510",
            "2,660",
            "1,320",
            "1,160",
            "1,540",
            "1,310",
            "1,940"
           ],
           [
            "440.8%",
            "204.3%",
            "175.6%",
            "170.0%",
            "150.4%",
            "146.3%",
            "140.7%",
            "128.2%",
            "126.9%",
            "96.2%",
            "93.4%",
            "89.2%",
            "83.5%",
            "80.2%",
            "70.5%",
            "69.5%",
            "67.7%",
            "64.4%",
            "59.5%",
            "59.2%",
            "55.2%",
            "53.1%",
            "51.2%",
            "50.5%",
            "49.4%",
            "48.8%",
            "45.8%",
            "44.9%",
            "42.8%",
            "41.5%",
            "37.7%",
            "33.0%",
            "30.5%",
            "27.5%",
            "26.0%",
            "21.1%",
            "-2.4%",
            "-27.4%",
            "nan%"
           ]
          ]
         },
         "header": {
          "align": "left",
          "fill": {
           "color": "lightblue"
          },
          "values": [
           "Metropolitan Area",
           "2021 Employee Count",
           "2022 Employee Count",
           "2023 Employee Count",
           "2024 Employee Count",
           "Percent Growth: 2021-2023"
          ]
         },
         "type": "table"
        }
       ],
       "layout": {
        "annotations": [
         {
          "align": "left",
          "font": {
           "color": "gray",
           "size": 10
          },
          "showarrow": false,
          "text": "Source: Bureau of Labor Statistics-OEWS. <br>Note: Metropolitan Statistical Area (MSA) boundaries were redefined in 2024, which may limit comparability with prior years. This analysis focuses on employment growth <br>from 2021 to 2023, when consistent MSA definitions were in use.",
          "x": 0,
          "xref": "paper",
          "y": -0.13,
          "yref": "paper"
         }
        ],
        "template": {
         "data": {
          "bar": [
           {
            "error_x": {
             "color": "#2a3f5f"
            },
            "error_y": {
             "color": "#2a3f5f"
            },
            "marker": {
             "line": {
              "color": "#E5ECF6",
              "width": 0.5
             },
             "pattern": {
              "fillmode": "overlay",
              "size": 10,
              "solidity": 0.2
             }
            },
            "type": "bar"
           }
          ],
          "barpolar": [
           {
            "marker": {
             "line": {
              "color": "#E5ECF6",
              "width": 0.5
             },
             "pattern": {
              "fillmode": "overlay",
              "size": 10,
              "solidity": 0.2
             }
            },
            "type": "barpolar"
           }
          ],
          "carpet": [
           {
            "aaxis": {
             "endlinecolor": "#2a3f5f",
             "gridcolor": "white",
             "linecolor": "white",
             "minorgridcolor": "white",
             "startlinecolor": "#2a3f5f"
            },
            "baxis": {
             "endlinecolor": "#2a3f5f",
             "gridcolor": "white",
             "linecolor": "white",
             "minorgridcolor": "white",
             "startlinecolor": "#2a3f5f"
            },
            "type": "carpet"
           }
          ],
          "choropleth": [
           {
            "colorbar": {
             "outlinewidth": 0,
             "ticks": ""
            },
            "type": "choropleth"
           }
          ],
          "contour": [
           {
            "colorbar": {
             "outlinewidth": 0,
             "ticks": ""
            },
            "colorscale": [
             [
              0,
              "#0d0887"
             ],
             [
              0.1111111111111111,
              "#46039f"
             ],
             [
              0.2222222222222222,
              "#7201a8"
             ],
             [
              0.3333333333333333,
              "#9c179e"
             ],
             [
              0.4444444444444444,
              "#bd3786"
             ],
             [
              0.5555555555555556,
              "#d8576b"
             ],
             [
              0.6666666666666666,
              "#ed7953"
             ],
             [
              0.7777777777777778,
              "#fb9f3a"
             ],
             [
              0.8888888888888888,
              "#fdca26"
             ],
             [
              1,
              "#f0f921"
             ]
            ],
            "type": "contour"
           }
          ],
          "contourcarpet": [
           {
            "colorbar": {
             "outlinewidth": 0,
             "ticks": ""
            },
            "type": "contourcarpet"
           }
          ],
          "heatmap": [
           {
            "colorbar": {
             "outlinewidth": 0,
             "ticks": ""
            },
            "colorscale": [
             [
              0,
              "#0d0887"
             ],
             [
              0.1111111111111111,
              "#46039f"
             ],
             [
              0.2222222222222222,
              "#7201a8"
             ],
             [
              0.3333333333333333,
              "#9c179e"
             ],
             [
              0.4444444444444444,
              "#bd3786"
             ],
             [
              0.5555555555555556,
              "#d8576b"
             ],
             [
              0.6666666666666666,
              "#ed7953"
             ],
             [
              0.7777777777777778,
              "#fb9f3a"
             ],
             [
              0.8888888888888888,
              "#fdca26"
             ],
             [
              1,
              "#f0f921"
             ]
            ],
            "type": "heatmap"
           }
          ],
          "heatmapgl": [
           {
            "colorbar": {
             "outlinewidth": 0,
             "ticks": ""
            },
            "colorscale": [
             [
              0,
              "#0d0887"
             ],
             [
              0.1111111111111111,
              "#46039f"
             ],
             [
              0.2222222222222222,
              "#7201a8"
             ],
             [
              0.3333333333333333,
              "#9c179e"
             ],
             [
              0.4444444444444444,
              "#bd3786"
             ],
             [
              0.5555555555555556,
              "#d8576b"
             ],
             [
              0.6666666666666666,
              "#ed7953"
             ],
             [
              0.7777777777777778,
              "#fb9f3a"
             ],
             [
              0.8888888888888888,
              "#fdca26"
             ],
             [
              1,
              "#f0f921"
             ]
            ],
            "type": "heatmapgl"
           }
          ],
          "histogram": [
           {
            "marker": {
             "pattern": {
              "fillmode": "overlay",
              "size": 10,
              "solidity": 0.2
             }
            },
            "type": "histogram"
           }
          ],
          "histogram2d": [
           {
            "colorbar": {
             "outlinewidth": 0,
             "ticks": ""
            },
            "colorscale": [
             [
              0,
              "#0d0887"
             ],
             [
              0.1111111111111111,
              "#46039f"
             ],
             [
              0.2222222222222222,
              "#7201a8"
             ],
             [
              0.3333333333333333,
              "#9c179e"
             ],
             [
              0.4444444444444444,
              "#bd3786"
             ],
             [
              0.5555555555555556,
              "#d8576b"
             ],
             [
              0.6666666666666666,
              "#ed7953"
             ],
             [
              0.7777777777777778,
              "#fb9f3a"
             ],
             [
              0.8888888888888888,
              "#fdca26"
             ],
             [
              1,
              "#f0f921"
             ]
            ],
            "type": "histogram2d"
           }
          ],
          "histogram2dcontour": [
           {
            "colorbar": {
             "outlinewidth": 0,
             "ticks": ""
            },
            "colorscale": [
             [
              0,
              "#0d0887"
             ],
             [
              0.1111111111111111,
              "#46039f"
             ],
             [
              0.2222222222222222,
              "#7201a8"
             ],
             [
              0.3333333333333333,
              "#9c179e"
             ],
             [
              0.4444444444444444,
              "#bd3786"
             ],
             [
              0.5555555555555556,
              "#d8576b"
             ],
             [
              0.6666666666666666,
              "#ed7953"
             ],
             [
              0.7777777777777778,
              "#fb9f3a"
             ],
             [
              0.8888888888888888,
              "#fdca26"
             ],
             [
              1,
              "#f0f921"
             ]
            ],
            "type": "histogram2dcontour"
           }
          ],
          "mesh3d": [
           {
            "colorbar": {
             "outlinewidth": 0,
             "ticks": ""
            },
            "type": "mesh3d"
           }
          ],
          "parcoords": [
           {
            "line": {
             "colorbar": {
              "outlinewidth": 0,
              "ticks": ""
             }
            },
            "type": "parcoords"
           }
          ],
          "pie": [
           {
            "automargin": true,
            "type": "pie"
           }
          ],
          "scatter": [
           {
            "fillpattern": {
             "fillmode": "overlay",
             "size": 10,
             "solidity": 0.2
            },
            "type": "scatter"
           }
          ],
          "scatter3d": [
           {
            "line": {
             "colorbar": {
              "outlinewidth": 0,
              "ticks": ""
             }
            },
            "marker": {
             "colorbar": {
              "outlinewidth": 0,
              "ticks": ""
             }
            },
            "type": "scatter3d"
           }
          ],
          "scattercarpet": [
           {
            "marker": {
             "colorbar": {
              "outlinewidth": 0,
              "ticks": ""
             }
            },
            "type": "scattercarpet"
           }
          ],
          "scattergeo": [
           {
            "marker": {
             "colorbar": {
              "outlinewidth": 0,
              "ticks": ""
             }
            },
            "type": "scattergeo"
           }
          ],
          "scattergl": [
           {
            "marker": {
             "colorbar": {
              "outlinewidth": 0,
              "ticks": ""
             }
            },
            "type": "scattergl"
           }
          ],
          "scattermapbox": [
           {
            "marker": {
             "colorbar": {
              "outlinewidth": 0,
              "ticks": ""
             }
            },
            "type": "scattermapbox"
           }
          ],
          "scatterpolar": [
           {
            "marker": {
             "colorbar": {
              "outlinewidth": 0,
              "ticks": ""
             }
            },
            "type": "scatterpolar"
           }
          ],
          "scatterpolargl": [
           {
            "marker": {
             "colorbar": {
              "outlinewidth": 0,
              "ticks": ""
             }
            },
            "type": "scatterpolargl"
           }
          ],
          "scatterternary": [
           {
            "marker": {
             "colorbar": {
              "outlinewidth": 0,
              "ticks": ""
             }
            },
            "type": "scatterternary"
           }
          ],
          "surface": [
           {
            "colorbar": {
             "outlinewidth": 0,
             "ticks": ""
            },
            "colorscale": [
             [
              0,
              "#0d0887"
             ],
             [
              0.1111111111111111,
              "#46039f"
             ],
             [
              0.2222222222222222,
              "#7201a8"
             ],
             [
              0.3333333333333333,
              "#9c179e"
             ],
             [
              0.4444444444444444,
              "#bd3786"
             ],
             [
              0.5555555555555556,
              "#d8576b"
             ],
             [
              0.6666666666666666,
              "#ed7953"
             ],
             [
              0.7777777777777778,
              "#fb9f3a"
             ],
             [
              0.8888888888888888,
              "#fdca26"
             ],
             [
              1,
              "#f0f921"
             ]
            ],
            "type": "surface"
           }
          ],
          "table": [
           {
            "cells": {
             "fill": {
              "color": "#EBF0F8"
             },
             "line": {
              "color": "white"
             }
            },
            "header": {
             "fill": {
              "color": "#C8D4E3"
             },
             "line": {
              "color": "white"
             }
            },
            "type": "table"
           }
          ]
         },
         "layout": {
          "annotationdefaults": {
           "arrowcolor": "#2a3f5f",
           "arrowhead": 0,
           "arrowwidth": 1
          },
          "autotypenumbers": "strict",
          "coloraxis": {
           "colorbar": {
            "outlinewidth": 0,
            "ticks": ""
           }
          },
          "colorscale": {
           "diverging": [
            [
             0,
             "#8e0152"
            ],
            [
             0.1,
             "#c51b7d"
            ],
            [
             0.2,
             "#de77ae"
            ],
            [
             0.3,
             "#f1b6da"
            ],
            [
             0.4,
             "#fde0ef"
            ],
            [
             0.5,
             "#f7f7f7"
            ],
            [
             0.6,
             "#e6f5d0"
            ],
            [
             0.7,
             "#b8e186"
            ],
            [
             0.8,
             "#7fbc41"
            ],
            [
             0.9,
             "#4d9221"
            ],
            [
             1,
             "#276419"
            ]
           ],
           "sequential": [
            [
             0,
             "#0d0887"
            ],
            [
             0.1111111111111111,
             "#46039f"
            ],
            [
             0.2222222222222222,
             "#7201a8"
            ],
            [
             0.3333333333333333,
             "#9c179e"
            ],
            [
             0.4444444444444444,
             "#bd3786"
            ],
            [
             0.5555555555555556,
             "#d8576b"
            ],
            [
             0.6666666666666666,
             "#ed7953"
            ],
            [
             0.7777777777777778,
             "#fb9f3a"
            ],
            [
             0.8888888888888888,
             "#fdca26"
            ],
            [
             1,
             "#f0f921"
            ]
           ],
           "sequentialminus": [
            [
             0,
             "#0d0887"
            ],
            [
             0.1111111111111111,
             "#46039f"
            ],
            [
             0.2222222222222222,
             "#7201a8"
            ],
            [
             0.3333333333333333,
             "#9c179e"
            ],
            [
             0.4444444444444444,
             "#bd3786"
            ],
            [
             0.5555555555555556,
             "#d8576b"
            ],
            [
             0.6666666666666666,
             "#ed7953"
            ],
            [
             0.7777777777777778,
             "#fb9f3a"
            ],
            [
             0.8888888888888888,
             "#fdca26"
            ],
            [
             1,
             "#f0f921"
            ]
           ]
          },
          "colorway": [
           "#636efa",
           "#EF553B",
           "#00cc96",
           "#ab63fa",
           "#FFA15A",
           "#19d3f3",
           "#FF6692",
           "#B6E880",
           "#FF97FF",
           "#FECB52"
          ],
          "font": {
           "color": "#2a3f5f"
          },
          "geo": {
           "bgcolor": "white",
           "lakecolor": "white",
           "landcolor": "#E5ECF6",
           "showlakes": true,
           "showland": true,
           "subunitcolor": "white"
          },
          "hoverlabel": {
           "align": "left"
          },
          "hovermode": "closest",
          "mapbox": {
           "style": "light"
          },
          "paper_bgcolor": "white",
          "plot_bgcolor": "#E5ECF6",
          "polar": {
           "angularaxis": {
            "gridcolor": "white",
            "linecolor": "white",
            "ticks": ""
           },
           "bgcolor": "#E5ECF6",
           "radialaxis": {
            "gridcolor": "white",
            "linecolor": "white",
            "ticks": ""
           }
          },
          "scene": {
           "xaxis": {
            "backgroundcolor": "#E5ECF6",
            "gridcolor": "white",
            "gridwidth": 2,
            "linecolor": "white",
            "showbackground": true,
            "ticks": "",
            "zerolinecolor": "white"
           },
           "yaxis": {
            "backgroundcolor": "#E5ECF6",
            "gridcolor": "white",
            "gridwidth": 2,
            "linecolor": "white",
            "showbackground": true,
            "ticks": "",
            "zerolinecolor": "white"
           },
           "zaxis": {
            "backgroundcolor": "#E5ECF6",
            "gridcolor": "white",
            "gridwidth": 2,
            "linecolor": "white",
            "showbackground": true,
            "ticks": "",
            "zerolinecolor": "white"
           }
          },
          "shapedefaults": {
           "line": {
            "color": "#2a3f5f"
           }
          },
          "ternary": {
           "aaxis": {
            "gridcolor": "white",
            "linecolor": "white",
            "ticks": ""
           },
           "baxis": {
            "gridcolor": "white",
            "linecolor": "white",
            "ticks": ""
           },
           "bgcolor": "#E5ECF6",
           "caxis": {
            "gridcolor": "white",
            "linecolor": "white",
            "ticks": ""
           }
          },
          "title": {
           "x": 0.05
          },
          "xaxis": {
           "automargin": true,
           "gridcolor": "white",
           "linecolor": "white",
           "ticks": "",
           "title": {
            "standoff": 15
           },
           "zerolinecolor": "white",
           "zerolinewidth": 2
          },
          "yaxis": {
           "automargin": true,
           "gridcolor": "white",
           "linecolor": "white",
           "ticks": "",
           "title": {
            "standoff": 15
           },
           "zerolinecolor": "white",
           "zerolinewidth": 2
          }
         }
        },
        "title": {
         "text": "Metro Areas with Greater than 1,000 Data Science Employees<br><sup> Sorted by Employment Growth (2021–2023)",
         "x": 0.5
        }
       }
      }
     },
     "metadata": {},
     "output_type": "display_data"
    }
   ],
   "source": [
    "formatted_emp2021 = [f\"{x:,.0f}\" for x in MSA_employ_trend[\"TOT_EMP2021\"]]\n",
    "formatted_emp2022 = [f\"{x:,.0f}\" for x in MSA_employ_trend[\"TOT_EMP2022\"]]\n",
    "formatted_emp2023 = [f\"{x:,.0f}\" for x in MSA_employ_trend[\"TOT_EMP2023\"]]\n",
    "formatted_emp2024 = [f\"{x:,.0f}\" for x in MSA_employ_trend[\"TOT_EMP2024\"]]\n",
    "formatted_growth = [f\"{x:.1f}%\" for x in MSA_employ_trend[\"PercentGrowth_2yr\"]]\n",
    "\n",
    "fig = go.Figure(data=[go.Table(\n",
    "    header=dict(values=['Metropolitan Area', '2021 Employee Count',  '2022 Employee Count', '2023 Employee Count', '2024 Employee Count', 'Percent Growth: 2021-2023'],\n",
    "                fill_color='lightblue',\n",
    "                align='left'),\n",
    "    cells=dict(values=[\n",
    "        MSA_employ_trend[\"AREA_TITLE\"],\n",
    "        formatted_emp2021,\n",
    "        formatted_emp2022,\n",
    "        formatted_emp2023,\n",
    "        formatted_emp2024,\n",
    "        formatted_growth\n",
    "    ],\n",
    "    fill_color='aliceblue',\n",
    "    align='left'))\n",
    "])\n",
    "\n",
    "fig.update_layout(\n",
    "    title=\"Metro Areas with Greater than 1,000 Data Science Employees<br><sup> Sorted by Employment Growth (2021–2023)\",\n",
    "    title_x=0.5,\n",
    "    annotations=[\n",
    "        dict(\n",
    "            text=\"Source: Bureau of Labor Statistics-OEWS. <br>\"\\\n",
    "                \"Note: Metropolitan Statistical Area (MSA) boundaries were redefined in 2024,\"\\\n",
    "                \" which may limit comparability with prior years. This analysis focuses on employment growth <br>\"\\\n",
    "                \"from 2021 to 2023, when consistent MSA definitions were in use.\",\n",
    "            xref=\"paper\", yref=\"paper\",\n",
    "            x=0, y=-0.13,\n",
    "            showarrow=False,\n",
    "            align=\"left\",  # <-- aligns text to the left\n",
    "            font=dict(size=10, color=\"gray\")\n",
    "        )\n",
    "    ]\n",
    ")\n"
   ]
  },
  {
   "cell_type": "code",
   "execution_count": 79,
   "metadata": {},
   "outputs": [],
   "source": [
    "fig.write_html(\"Growth_table_interactive.html\")"
   ]
  },
  {
   "cell_type": "markdown",
   "metadata": {},
   "source": [
    "# Cost of living and salary"
   ]
  },
  {
   "cell_type": "markdown",
   "metadata": {},
   "source": [
    "This analysis offers a high-level perspective on purchasing power across U.S. metropolitan areas by comparing median salaries for data scientists with local cost of living, as measured by the Regional Price Parity (RPP) Index.\n",
    "\n",
    "There are some limitations to note. The data comes from two different sources with distinct methodologies: salary estimates are based on occupational surveys (2024), while RPP figures are derived from price level indices and expenditure weights (2023). These were the most recent data available at the time of analysis. Despite these differences, the combined view provides useful insight into how far a salary may go in different metro areas.\n"
   ]
  },
  {
   "cell_type": "markdown",
   "metadata": {},
   "source": [
    "## Calculate Top 25"
   ]
  },
  {
   "cell_type": "code",
   "execution_count": 80,
   "metadata": {},
   "outputs": [],
   "source": [
    "# Based on Employment Counts\n",
    "top25_LQ = LQ_df.sort_values('LOC_QUOTIENT')\n",
    "top25_LQ = LQ_df.nlargest(25, 'LOC_QUOTIENT')\n",
    "top25_LQ['Rank Concentration']  = top25_LQ['LOC_QUOTIENT'].rank(method='min', ascending=False).astype(int)\n",
    "top25_LQ = top25_LQ[['Rank Concentration', 'AREA_TITLE', 'LOC_QUOTIENT','TOT_EMP', 'AREA', 'A_MEDIAN']] ### Keeping 'AREA' & 'A_MEDIAN' for later on analysis\n",
    "top25_LQ = top25_LQ.sort_values('TOT_EMP', ascending=False)\n"
   ]
  },
  {
   "cell_type": "code",
   "execution_count": 81,
   "metadata": {},
   "outputs": [],
   "source": [
    "# Based on Employment Counts\n",
    "top25 = LQ_df.copy()\n",
    "top25[\"TOT_EMP\"] = pd.to_numeric(LQ_df[\"TOT_EMP\"], errors=\"coerce\") ### Convert to numeric \n",
    "top25 = top25.nlargest(25, 'TOT_EMP')\n",
    "top25['Rank Employees']  = top25['TOT_EMP'].rank(method='min', ascending=False).astype(int)\n",
    "top25 = top25[['Rank Employees','AREA_TITLE', 'LOC_QUOTIENT','TOT_EMP', 'AREA', 'A_MEDIAN']]\n",
    "top25 = top25.sort_values('TOT_EMP', ascending=False)"
   ]
  },
  {
   "cell_type": "code",
   "execution_count": 82,
   "metadata": {},
   "outputs": [],
   "source": [
    "# Compare the top 25 \n",
    "compare25 = pd.merge(top25_LQ, top25, left_on=('AREA_TITLE', 'LOC_QUOTIENT','TOT_EMP', 'AREA', 'A_MEDIAN'), \n",
    "                     right_on=('AREA_TITLE', 'LOC_QUOTIENT','TOT_EMP', 'AREA', 'A_MEDIAN'), how='outer')\n",
    "compare25 = compare25.sort_values('TOT_EMP', ascending=False)\n",
    "\n",
    "# Identifying if there is overlap in the dataset\n",
    "def null_status(row):\n",
    "    if pd.isnull(row['Rank Concentration']):\n",
    "        return 'Employee Count'\n",
    "    elif pd.isnull(row['Rank Employees']):\n",
    "        return 'Concentration'\n",
    "    else:\n",
    "        return 'Both'\n",
    "\n",
    "compare25['Overlap'] = compare25.apply(null_status, axis=1)\n"
   ]
  },
  {
   "cell_type": "code",
   "execution_count": 104,
   "metadata": {},
   "outputs": [
    {
     "data": {
      "application/vnd.plotly.v1+json": {
       "config": {
        "plotlyServerURL": "https://plot.ly"
       },
       "data": [
        {
         "cells": {
          "align": "left",
          "fill": {
           "color": "#FAD5A5"
          },
          "values": [
           [
            "Both",
            "Employee Count",
            "Both",
            "Both",
            "Both",
            "Both",
            "Both",
            "Both",
            "Both",
            "Employee Count",
            "Employee Count",
            "Employee Count",
            "Both",
            "Employee Count",
            "Both",
            "Employee Count",
            "Employee Count",
            "Both",
            "Employee Count",
            "Both",
            "Employee Count",
            "Employee Count",
            "Both",
            "Employee Count",
            "Employee Count",
            "Concentration",
            "Concentration",
            "Concentration",
            "Concentration",
            "Concentration",
            "Concentration",
            "Concentration",
            "Concentration",
            "Concentration",
            "Concentration",
            "Concentration",
            "Concentration"
           ],
           [
            "New York-Newark-Jersey City, NY-NJ",
            "Los Angeles-Long Beach-Anaheim, CA",
            "San Francisco-Oakland-Fremont, CA",
            "Dallas-Fort Worth-Arlington, TX",
            "Washington-Arlington-Alexandria, DC-VA-MD-WV",
            "Boston-Cambridge-Newton, MA-NH",
            "San Jose-Sunnyvale-Santa Clara, CA",
            "Seattle-Tacoma-Bellevue, WA",
            "Atlanta-Sandy Springs-Roswell, GA",
            "Chicago-Naperville-Elgin, IL-IN",
            "Philadelphia-Camden-Wilmington, PA-NJ-DE-MD",
            "Houston-Pasadena-The Woodlands, TX",
            "Charlotte-Concord-Gastonia, NC-SC",
            "Phoenix-Mesa-Chandler, AZ",
            "Austin-Round Rock-San Marcos, TX",
            "Minneapolis-St. Paul-Bloomington, MN-WI",
            "Detroit-Warren-Dearborn, MI",
            "St. Louis, MO-IL",
            "San Diego-Chula Vista-Carlsbad, CA",
            "Sacramento-Roseville-Folsom, CA",
            "Miami-Fort Lauderdale-West Palm Beach, FL",
            "Portland-Vancouver-Hillsboro, OR-WA",
            "Raleigh-Cary, NC",
            "Pittsburgh, PA",
            "Tampa-St. Petersburg-Clearwater, FL",
            "Durham-Chapel Hill, NC",
            "Des Moines-West Des Moines, IA",
            "Omaha, NE-IA",
            "Rochester, NY",
            "Provo-Orem-Lehi, UT",
            "Madison, WI",
            "Huntsville, AL",
            "Portland-South Portland, ME",
            "Bloomington, IL",
            "Lincoln, NE",
            "Idaho Falls, ID",
            "Ithaca, NY"
           ],
           [
            1,
            2,
            3,
            4,
            5,
            6,
            7,
            8,
            9,
            10,
            11,
            12,
            13,
            14,
            15,
            16,
            17,
            18,
            19,
            20,
            21,
            22,
            23,
            24,
            25,
            null,
            null,
            null,
            null,
            null,
            null,
            null,
            null,
            null,
            null,
            null,
            null
           ],
           [
            "19,810",
            "10,030",
            "9,350",
            "8,630",
            "8,530",
            "8,220",
            "6,570",
            "6,100",
            "5,940",
            "5,840",
            "5,640",
            "4,900",
            "3,870",
            "3,210",
            "3,100",
            "2,870",
            "2,810",
            "2,660",
            "2,550",
            "2,510",
            "2,250",
            "2,090",
            "1,940",
            "1,890",
            "1,640",
            "1,540",
            "1,320",
            "1,190",
            "1,030",
            "910",
            "830",
            "630",
            "560",
            "390",
            "370",
            "220",
            "150"
           ],
           [
            19,
            null,
            4,
            18,
            11,
            7,
            1,
            9,
            21,
            null,
            null,
            null,
            10,
            null,
            14,
            null,
            null,
            24,
            null,
            17,
            null,
            null,
            13,
            null,
            null,
            2,
            5,
            15,
            20,
            8,
            23,
            15,
            24,
            3,
            22,
            11,
            6
           ],
           [
            1.4,
            1.07,
            2.57,
            1.42,
            1.81,
            2.01,
            3.82,
            1.93,
            1.37,
            0.86,
            1.3,
            1,
            1.91,
            0.91,
            1.63,
            0.98,
            0.97,
            1.31,
            1.1,
            1.55,
            0.53,
            1.14,
            1.77,
            1.13,
            0.75,
            2.98,
            2.15,
            1.6,
            1.39,
            2,
            1.35,
            1.6,
            1.31,
            2.85,
            1.36,
            1.81,
            2.02
           ]
          ]
         },
         "header": {
          "align": "left",
          "fill": {
           "color": "#C04000"
          },
          "font": {
           "color": "white"
          },
          "values": [
           "Top 25",
           "Metropolitan Area",
           "Rank Employees",
           "Employee Count",
           "Rank Concentration",
           "Concentration"
          ]
         },
         "type": "table"
        }
       ],
       "layout": {
        "annotations": [
         {
          "align": "left",
          "font": {
           "color": "gray",
           "size": 10
          },
          "showarrow": false,
          "text": "Source: Bureau of Labor Statistics - OEWS. <br>Note: 'null' means it was not in the top 25 for that column",
          "x": 0,
          "xref": "paper",
          "y": -0.13,
          "yref": "paper"
         }
        ],
        "template": {
         "data": {
          "bar": [
           {
            "error_x": {
             "color": "#2a3f5f"
            },
            "error_y": {
             "color": "#2a3f5f"
            },
            "marker": {
             "line": {
              "color": "#E5ECF6",
              "width": 0.5
             },
             "pattern": {
              "fillmode": "overlay",
              "size": 10,
              "solidity": 0.2
             }
            },
            "type": "bar"
           }
          ],
          "barpolar": [
           {
            "marker": {
             "line": {
              "color": "#E5ECF6",
              "width": 0.5
             },
             "pattern": {
              "fillmode": "overlay",
              "size": 10,
              "solidity": 0.2
             }
            },
            "type": "barpolar"
           }
          ],
          "carpet": [
           {
            "aaxis": {
             "endlinecolor": "#2a3f5f",
             "gridcolor": "white",
             "linecolor": "white",
             "minorgridcolor": "white",
             "startlinecolor": "#2a3f5f"
            },
            "baxis": {
             "endlinecolor": "#2a3f5f",
             "gridcolor": "white",
             "linecolor": "white",
             "minorgridcolor": "white",
             "startlinecolor": "#2a3f5f"
            },
            "type": "carpet"
           }
          ],
          "choropleth": [
           {
            "colorbar": {
             "outlinewidth": 0,
             "ticks": ""
            },
            "type": "choropleth"
           }
          ],
          "contour": [
           {
            "colorbar": {
             "outlinewidth": 0,
             "ticks": ""
            },
            "colorscale": [
             [
              0,
              "#0d0887"
             ],
             [
              0.1111111111111111,
              "#46039f"
             ],
             [
              0.2222222222222222,
              "#7201a8"
             ],
             [
              0.3333333333333333,
              "#9c179e"
             ],
             [
              0.4444444444444444,
              "#bd3786"
             ],
             [
              0.5555555555555556,
              "#d8576b"
             ],
             [
              0.6666666666666666,
              "#ed7953"
             ],
             [
              0.7777777777777778,
              "#fb9f3a"
             ],
             [
              0.8888888888888888,
              "#fdca26"
             ],
             [
              1,
              "#f0f921"
             ]
            ],
            "type": "contour"
           }
          ],
          "contourcarpet": [
           {
            "colorbar": {
             "outlinewidth": 0,
             "ticks": ""
            },
            "type": "contourcarpet"
           }
          ],
          "heatmap": [
           {
            "colorbar": {
             "outlinewidth": 0,
             "ticks": ""
            },
            "colorscale": [
             [
              0,
              "#0d0887"
             ],
             [
              0.1111111111111111,
              "#46039f"
             ],
             [
              0.2222222222222222,
              "#7201a8"
             ],
             [
              0.3333333333333333,
              "#9c179e"
             ],
             [
              0.4444444444444444,
              "#bd3786"
             ],
             [
              0.5555555555555556,
              "#d8576b"
             ],
             [
              0.6666666666666666,
              "#ed7953"
             ],
             [
              0.7777777777777778,
              "#fb9f3a"
             ],
             [
              0.8888888888888888,
              "#fdca26"
             ],
             [
              1,
              "#f0f921"
             ]
            ],
            "type": "heatmap"
           }
          ],
          "heatmapgl": [
           {
            "colorbar": {
             "outlinewidth": 0,
             "ticks": ""
            },
            "colorscale": [
             [
              0,
              "#0d0887"
             ],
             [
              0.1111111111111111,
              "#46039f"
             ],
             [
              0.2222222222222222,
              "#7201a8"
             ],
             [
              0.3333333333333333,
              "#9c179e"
             ],
             [
              0.4444444444444444,
              "#bd3786"
             ],
             [
              0.5555555555555556,
              "#d8576b"
             ],
             [
              0.6666666666666666,
              "#ed7953"
             ],
             [
              0.7777777777777778,
              "#fb9f3a"
             ],
             [
              0.8888888888888888,
              "#fdca26"
             ],
             [
              1,
              "#f0f921"
             ]
            ],
            "type": "heatmapgl"
           }
          ],
          "histogram": [
           {
            "marker": {
             "pattern": {
              "fillmode": "overlay",
              "size": 10,
              "solidity": 0.2
             }
            },
            "type": "histogram"
           }
          ],
          "histogram2d": [
           {
            "colorbar": {
             "outlinewidth": 0,
             "ticks": ""
            },
            "colorscale": [
             [
              0,
              "#0d0887"
             ],
             [
              0.1111111111111111,
              "#46039f"
             ],
             [
              0.2222222222222222,
              "#7201a8"
             ],
             [
              0.3333333333333333,
              "#9c179e"
             ],
             [
              0.4444444444444444,
              "#bd3786"
             ],
             [
              0.5555555555555556,
              "#d8576b"
             ],
             [
              0.6666666666666666,
              "#ed7953"
             ],
             [
              0.7777777777777778,
              "#fb9f3a"
             ],
             [
              0.8888888888888888,
              "#fdca26"
             ],
             [
              1,
              "#f0f921"
             ]
            ],
            "type": "histogram2d"
           }
          ],
          "histogram2dcontour": [
           {
            "colorbar": {
             "outlinewidth": 0,
             "ticks": ""
            },
            "colorscale": [
             [
              0,
              "#0d0887"
             ],
             [
              0.1111111111111111,
              "#46039f"
             ],
             [
              0.2222222222222222,
              "#7201a8"
             ],
             [
              0.3333333333333333,
              "#9c179e"
             ],
             [
              0.4444444444444444,
              "#bd3786"
             ],
             [
              0.5555555555555556,
              "#d8576b"
             ],
             [
              0.6666666666666666,
              "#ed7953"
             ],
             [
              0.7777777777777778,
              "#fb9f3a"
             ],
             [
              0.8888888888888888,
              "#fdca26"
             ],
             [
              1,
              "#f0f921"
             ]
            ],
            "type": "histogram2dcontour"
           }
          ],
          "mesh3d": [
           {
            "colorbar": {
             "outlinewidth": 0,
             "ticks": ""
            },
            "type": "mesh3d"
           }
          ],
          "parcoords": [
           {
            "line": {
             "colorbar": {
              "outlinewidth": 0,
              "ticks": ""
             }
            },
            "type": "parcoords"
           }
          ],
          "pie": [
           {
            "automargin": true,
            "type": "pie"
           }
          ],
          "scatter": [
           {
            "fillpattern": {
             "fillmode": "overlay",
             "size": 10,
             "solidity": 0.2
            },
            "type": "scatter"
           }
          ],
          "scatter3d": [
           {
            "line": {
             "colorbar": {
              "outlinewidth": 0,
              "ticks": ""
             }
            },
            "marker": {
             "colorbar": {
              "outlinewidth": 0,
              "ticks": ""
             }
            },
            "type": "scatter3d"
           }
          ],
          "scattercarpet": [
           {
            "marker": {
             "colorbar": {
              "outlinewidth": 0,
              "ticks": ""
             }
            },
            "type": "scattercarpet"
           }
          ],
          "scattergeo": [
           {
            "marker": {
             "colorbar": {
              "outlinewidth": 0,
              "ticks": ""
             }
            },
            "type": "scattergeo"
           }
          ],
          "scattergl": [
           {
            "marker": {
             "colorbar": {
              "outlinewidth": 0,
              "ticks": ""
             }
            },
            "type": "scattergl"
           }
          ],
          "scattermapbox": [
           {
            "marker": {
             "colorbar": {
              "outlinewidth": 0,
              "ticks": ""
             }
            },
            "type": "scattermapbox"
           }
          ],
          "scatterpolar": [
           {
            "marker": {
             "colorbar": {
              "outlinewidth": 0,
              "ticks": ""
             }
            },
            "type": "scatterpolar"
           }
          ],
          "scatterpolargl": [
           {
            "marker": {
             "colorbar": {
              "outlinewidth": 0,
              "ticks": ""
             }
            },
            "type": "scatterpolargl"
           }
          ],
          "scatterternary": [
           {
            "marker": {
             "colorbar": {
              "outlinewidth": 0,
              "ticks": ""
             }
            },
            "type": "scatterternary"
           }
          ],
          "surface": [
           {
            "colorbar": {
             "outlinewidth": 0,
             "ticks": ""
            },
            "colorscale": [
             [
              0,
              "#0d0887"
             ],
             [
              0.1111111111111111,
              "#46039f"
             ],
             [
              0.2222222222222222,
              "#7201a8"
             ],
             [
              0.3333333333333333,
              "#9c179e"
             ],
             [
              0.4444444444444444,
              "#bd3786"
             ],
             [
              0.5555555555555556,
              "#d8576b"
             ],
             [
              0.6666666666666666,
              "#ed7953"
             ],
             [
              0.7777777777777778,
              "#fb9f3a"
             ],
             [
              0.8888888888888888,
              "#fdca26"
             ],
             [
              1,
              "#f0f921"
             ]
            ],
            "type": "surface"
           }
          ],
          "table": [
           {
            "cells": {
             "fill": {
              "color": "#EBF0F8"
             },
             "line": {
              "color": "white"
             }
            },
            "header": {
             "fill": {
              "color": "#C8D4E3"
             },
             "line": {
              "color": "white"
             }
            },
            "type": "table"
           }
          ]
         },
         "layout": {
          "annotationdefaults": {
           "arrowcolor": "#2a3f5f",
           "arrowhead": 0,
           "arrowwidth": 1
          },
          "autotypenumbers": "strict",
          "coloraxis": {
           "colorbar": {
            "outlinewidth": 0,
            "ticks": ""
           }
          },
          "colorscale": {
           "diverging": [
            [
             0,
             "#8e0152"
            ],
            [
             0.1,
             "#c51b7d"
            ],
            [
             0.2,
             "#de77ae"
            ],
            [
             0.3,
             "#f1b6da"
            ],
            [
             0.4,
             "#fde0ef"
            ],
            [
             0.5,
             "#f7f7f7"
            ],
            [
             0.6,
             "#e6f5d0"
            ],
            [
             0.7,
             "#b8e186"
            ],
            [
             0.8,
             "#7fbc41"
            ],
            [
             0.9,
             "#4d9221"
            ],
            [
             1,
             "#276419"
            ]
           ],
           "sequential": [
            [
             0,
             "#0d0887"
            ],
            [
             0.1111111111111111,
             "#46039f"
            ],
            [
             0.2222222222222222,
             "#7201a8"
            ],
            [
             0.3333333333333333,
             "#9c179e"
            ],
            [
             0.4444444444444444,
             "#bd3786"
            ],
            [
             0.5555555555555556,
             "#d8576b"
            ],
            [
             0.6666666666666666,
             "#ed7953"
            ],
            [
             0.7777777777777778,
             "#fb9f3a"
            ],
            [
             0.8888888888888888,
             "#fdca26"
            ],
            [
             1,
             "#f0f921"
            ]
           ],
           "sequentialminus": [
            [
             0,
             "#0d0887"
            ],
            [
             0.1111111111111111,
             "#46039f"
            ],
            [
             0.2222222222222222,
             "#7201a8"
            ],
            [
             0.3333333333333333,
             "#9c179e"
            ],
            [
             0.4444444444444444,
             "#bd3786"
            ],
            [
             0.5555555555555556,
             "#d8576b"
            ],
            [
             0.6666666666666666,
             "#ed7953"
            ],
            [
             0.7777777777777778,
             "#fb9f3a"
            ],
            [
             0.8888888888888888,
             "#fdca26"
            ],
            [
             1,
             "#f0f921"
            ]
           ]
          },
          "colorway": [
           "#636efa",
           "#EF553B",
           "#00cc96",
           "#ab63fa",
           "#FFA15A",
           "#19d3f3",
           "#FF6692",
           "#B6E880",
           "#FF97FF",
           "#FECB52"
          ],
          "font": {
           "color": "#2a3f5f"
          },
          "geo": {
           "bgcolor": "white",
           "lakecolor": "white",
           "landcolor": "#E5ECF6",
           "showlakes": true,
           "showland": true,
           "subunitcolor": "white"
          },
          "hoverlabel": {
           "align": "left"
          },
          "hovermode": "closest",
          "mapbox": {
           "style": "light"
          },
          "paper_bgcolor": "white",
          "plot_bgcolor": "#E5ECF6",
          "polar": {
           "angularaxis": {
            "gridcolor": "white",
            "linecolor": "white",
            "ticks": ""
           },
           "bgcolor": "#E5ECF6",
           "radialaxis": {
            "gridcolor": "white",
            "linecolor": "white",
            "ticks": ""
           }
          },
          "scene": {
           "xaxis": {
            "backgroundcolor": "#E5ECF6",
            "gridcolor": "white",
            "gridwidth": 2,
            "linecolor": "white",
            "showbackground": true,
            "ticks": "",
            "zerolinecolor": "white"
           },
           "yaxis": {
            "backgroundcolor": "#E5ECF6",
            "gridcolor": "white",
            "gridwidth": 2,
            "linecolor": "white",
            "showbackground": true,
            "ticks": "",
            "zerolinecolor": "white"
           },
           "zaxis": {
            "backgroundcolor": "#E5ECF6",
            "gridcolor": "white",
            "gridwidth": 2,
            "linecolor": "white",
            "showbackground": true,
            "ticks": "",
            "zerolinecolor": "white"
           }
          },
          "shapedefaults": {
           "line": {
            "color": "#2a3f5f"
           }
          },
          "ternary": {
           "aaxis": {
            "gridcolor": "white",
            "linecolor": "white",
            "ticks": ""
           },
           "baxis": {
            "gridcolor": "white",
            "linecolor": "white",
            "ticks": ""
           },
           "bgcolor": "#E5ECF6",
           "caxis": {
            "gridcolor": "white",
            "linecolor": "white",
            "ticks": ""
           }
          },
          "title": {
           "x": 0.05
          },
          "xaxis": {
           "automargin": true,
           "gridcolor": "white",
           "linecolor": "white",
           "ticks": "",
           "title": {
            "standoff": 15
           },
           "zerolinecolor": "white",
           "zerolinewidth": 2
          },
          "yaxis": {
           "automargin": true,
           "gridcolor": "white",
           "linecolor": "white",
           "ticks": "",
           "title": {
            "standoff": 15
           },
           "zerolinecolor": "white",
           "zerolinewidth": 2
          }
         }
        },
        "title": {
         "text": "Top 25 Metros by Employee Count vs. Concentration",
         "x": 0.5
        }
       }
      }
     },
     "metadata": {},
     "output_type": "display_data"
    }
   ],
   "source": [
    "formatted_emp_ct= [f\"{x:,.0f}\" for x in compare25[\"TOT_EMP\"]]\n",
    "\n",
    "fig = go.Figure(data=[go.Table(\n",
    "    header=dict(values=['Top 25','Metropolitan Area', 'Rank Employees', 'Employee Count', 'Rank Concentration', 'Concentration'],\n",
    "                fill_color='#C04000',\n",
    "                align='left', \n",
    "                font_color='white'),\n",
    "    cells=dict(values=[\n",
    "        compare25['Overlap'], \n",
    "        compare25['AREA_TITLE'], \n",
    "        compare25['Rank Employees'],\n",
    "        formatted_emp_ct,\n",
    "        compare25['Rank Concentration'],\n",
    "        compare25['LOC_QUOTIENT']\n",
    "    ],\n",
    "    fill_color='#FAD5A5',\n",
    "    align='left'))\n",
    "])\n",
    "\n",
    "fig.update_layout(\n",
    "    title=\"Top 25 Metros by Employee Count vs. Concentration\",\n",
    "    title_x=0.5,\n",
    "    annotations=[\n",
    "        dict(\n",
    "            text=\"Source: Bureau of Labor Statistics - OEWS. <br>\"\\\n",
    "                \"Note: 'null' means it was not in the top 25 for that column\",\n",
    "            xref=\"paper\", yref=\"paper\",\n",
    "            x=0, y=-0.13,\n",
    "            showarrow=False,\n",
    "            align=\"left\",  # <-- aligns text to the left\n",
    "            font=dict(size=10, color=\"gray\")\n",
    "        )\n",
    "    ]\n",
    ")\n"
   ]
  },
  {
   "cell_type": "code",
   "execution_count": 84,
   "metadata": {},
   "outputs": [],
   "source": [
    "fig.write_html(\"top25_comparison_table.html\")"
   ]
  },
  {
   "cell_type": "markdown",
   "metadata": {},
   "source": [
    "## Median Salary"
   ]
  },
  {
   "cell_type": "markdown",
   "metadata": {},
   "source": [
    "### TOP 25 Employee Count"
   ]
  },
  {
   "cell_type": "markdown",
   "metadata": {},
   "source": [
    "Choose to look at medians because the means are affected by outliers"
   ]
  },
  {
   "cell_type": "code",
   "execution_count": 105,
   "metadata": {},
   "outputs": [],
   "source": [
    "# Read-in the BEA's Regional price parity\n",
    "RPP = pd.read_excel('Data\\\\BEA_RPP.xlsx', sheet_name='Data')"
   ]
  },
  {
   "cell_type": "code",
   "execution_count": 106,
   "metadata": {},
   "outputs": [],
   "source": [
    "# Top 25 metros based on total employee counts and employment concentration\n",
    "top25_combo_wsalary = compare25.sort_values('TOT_EMP')\n",
    "top25_combo_wsalary = top25_combo_wsalary[['AREA', 'AREA_TITLE', 'TOT_EMP', 'A_MEDIAN', 'Overlap', 'LOC_QUOTIENT']]\n",
    "\n",
    "RPP_Salary_Combo = pd.merge(RPP, top25_combo_wsalary, left_on='GeoFips', right_on='AREA', how='right')  ### Only want RPP codes that match the selected metros\n",
    "RPP_Salary_Combo =RPP_Salary_Combo[['AREA_TITLE', 'RPP', 'A_MEDIAN', 'TOT_EMP', 'Overlap', 'LOC_QUOTIENT']]"
   ]
  },
  {
   "cell_type": "code",
   "execution_count": 108,
   "metadata": {},
   "outputs": [
    {
     "data": {
      "application/vnd.plotly.v1+json": {
       "config": {
        "plotlyServerURL": "https://plot.ly"
       },
       "data": [
        {
         "customdata": [
          [
           "Concentration",
           "150",
           2.02
          ],
          [
           "Concentration",
           "220",
           1.81
          ],
          [
           "Concentration",
           "370",
           1.36
          ],
          [
           "Concentration",
           "390",
           2.85
          ],
          [
           "Concentration",
           "560",
           1.31
          ],
          [
           "Concentration",
           "630",
           1.6
          ],
          [
           "Concentration",
           "830",
           1.35
          ],
          [
           "Concentration",
           "910",
           2
          ],
          [
           "Concentration",
           "1,030",
           1.39
          ],
          [
           "Concentration",
           "1,190",
           1.6
          ],
          [
           "Concentration",
           "1,320",
           2.15
          ],
          [
           "Concentration",
           "1,540",
           2.98
          ]
         ],
         "hovertemplate": "<b>%{hovertext}</b><br><br>Regional Price Parity Index (2023)=%{x}<br>Annual Median Salary ($ in 2024)=%{y}<br>Employee Count=%{customdata[1]}<br>Concentration=%{customdata[2]}<extra></extra>",
         "hovertext": [
          "Ithaca, NY",
          "Idaho Falls, ID",
          "Lincoln, NE",
          "Bloomington, IL",
          "Portland-South Portland, ME",
          "Huntsville, AL",
          "Madison, WI",
          "Provo-Orem-Lehi, UT",
          "Rochester, NY",
          "Omaha, NE-IA",
          "Des Moines-West Des Moines, IA",
          "Durham-Chapel Hill, NC"
         ],
         "legendgroup": "Concentration",
         "marker": {
          "color": "#A7C7E7",
          "line": {
           "color": "DarkSlateGrey",
           "width": 1
          },
          "size": 12,
          "symbol": "circle"
         },
         "mode": "markers",
         "name": "Concentration",
         "orientation": "h",
         "showlegend": true,
         "type": "scatter",
         "x": [
          98.924,
          89.946,
          91.95,
          92.002,
          103.597,
          94.397,
          95.786,
          95.023,
          97.667,
          92.519,
          92.659,
          96.638
         ],
         "xaxis": "x",
         "y": [
          74980,
          164030,
          89160,
          133340,
          99330,
          108260,
          98510,
          106990,
          82350,
          97180,
          102030,
          93110
         ],
         "yaxis": "y"
        },
        {
         "customdata": [
          [
           "Employee Count",
           "1,640",
           0.75
          ],
          [
           "Employee Count",
           "1,890",
           1.13
          ],
          [
           "Employee Count",
           "2,090",
           1.14
          ],
          [
           "Employee Count",
           "2,250",
           0.53
          ],
          [
           "Employee Count",
           "2,550",
           1.1
          ],
          [
           "Employee Count",
           "2,810",
           0.97
          ],
          [
           "Employee Count",
           "2,870",
           0.98
          ],
          [
           "Employee Count",
           "3,210",
           0.91
          ],
          [
           "Employee Count",
           "4,900",
           1
          ],
          [
           "Employee Count",
           "5,640",
           1.3
          ],
          [
           "Employee Count",
           "5,840",
           0.86
          ],
          [
           "Employee Count",
           "10,030",
           1.07
          ]
         ],
         "hovertemplate": "<b>%{hovertext}</b><br><br>Regional Price Parity Index (2023)=%{x}<br>Annual Median Salary ($ in 2024)=%{y}<br>Employee Count=%{customdata[1]}<br>Concentration=%{customdata[2]}<extra></extra>",
         "hovertext": [
          "Tampa-St. Petersburg-Clearwater, FL",
          "Pittsburgh, PA",
          "Portland-Vancouver-Hillsboro, OR-WA",
          "Miami-Fort Lauderdale-West Palm Beach, FL",
          "San Diego-Chula Vista-Carlsbad, CA",
          "Detroit-Warren-Dearborn, MI",
          "Minneapolis-St. Paul-Bloomington, MN-WI",
          "Phoenix-Mesa-Chandler, AZ",
          "Houston-Pasadena-The Woodlands, TX",
          "Philadelphia-Camden-Wilmington, PA-NJ-DE-MD",
          "Chicago-Naperville-Elgin, IL-IN",
          "Los Angeles-Long Beach-Anaheim, CA"
         ],
         "legendgroup": "Employee Count",
         "marker": {
          "color": "#FF8C00",
          "line": {
           "color": "DarkSlateGrey",
           "width": 1
          },
          "size": 12,
          "symbol": "circle"
         },
         "mode": "markers",
         "name": "Employee Count",
         "orientation": "h",
         "showlegend": true,
         "type": "scatter",
         "x": [
          103.433,
          94.442,
          106.615,
          111.824,
          111.491,
          98.007,
          104.509,
          105.524,
          100.22,
          103.547,
          102.557,
          115.455
         ],
         "xaxis": "x",
         "y": [
          112310,
          96370,
          114390,
          118820,
          127200,
          103710,
          119860,
          109230,
          100420,
          107030,
          112640,
          124270
         ],
         "yaxis": "y"
        },
        {
         "customdata": [
          [
           "Both",
           "1,940",
           1.77
          ],
          [
           "Both",
           "2,510",
           1.55
          ],
          [
           "Both",
           "2,660",
           1.31
          ],
          [
           "Both",
           "3,100",
           1.63
          ],
          [
           "Both",
           "3,870",
           1.91
          ],
          [
           "Both",
           "5,940",
           1.37
          ],
          [
           "Both",
           "6,100",
           1.93
          ],
          [
           "Both",
           "6,570",
           3.82
          ],
          [
           "Both",
           "8,220",
           2.01
          ],
          [
           "Both",
           "8,530",
           1.81
          ],
          [
           "Both",
           "8,630",
           1.42
          ],
          [
           "Both",
           "9,350",
           2.57
          ],
          [
           "Both",
           "19,810",
           1.4
          ]
         ],
         "hovertemplate": "<b>%{hovertext}</b><br><br>Regional Price Parity Index (2023)=%{x}<br>Annual Median Salary ($ in 2024)=%{y}<br>Employee Count=%{customdata[1]}<br>Concentration=%{customdata[2]}<extra></extra>",
         "hovertext": [
          "Raleigh-Cary, NC",
          "Sacramento-Roseville-Folsom, CA",
          "St. Louis, MO-IL",
          "Austin-Round Rock-San Marcos, TX",
          "Charlotte-Concord-Gastonia, NC-SC",
          "Atlanta-Sandy Springs-Roswell, GA",
          "Seattle-Tacoma-Bellevue, WA",
          "San Jose-Sunnyvale-Santa Clara, CA",
          "Boston-Cambridge-Newton, MA-NH",
          "Washington-Arlington-Alexandria, DC-VA-MD-WV",
          "Dallas-Fort Worth-Arlington, TX",
          "San Francisco-Oakland-Fremont, CA",
          "New York-Newark-Jersey City, NY-NJ"
         ],
         "legendgroup": "Both",
         "marker": {
          "color": "#002147",
          "line": {
           "color": "DarkSlateGrey",
           "width": 1
          },
          "size": 12,
          "symbol": "circle"
         },
         "mode": "markers",
         "name": "Both",
         "orientation": "h",
         "showlegend": true,
         "type": "scatter",
         "x": [
          97.989,
          108.888,
          96.312,
          97.62,
          96.979,
          100.933,
          112.991,
          112.867,
          111.574,
          108.641,
          103.293,
          118.225,
          112.473
         ],
         "xaxis": "x",
         "y": [
          102690,
          98460,
          90330,
          122440,
          131110,
          104480,
          157290,
          173160,
          131830,
          135190,
          120840,
          166300,
          130710
         ],
         "yaxis": "y"
        }
       ],
       "layout": {
        "annotations": [
         {
          "font": {
           "color": "gray",
           "size": 10
          },
          "showarrow": false,
          "text": "Source: Annual Median Salary - BLS OEWS, Cost of Living Index - BEA Regional Price Parity.",
          "x": 0,
          "xref": "paper",
          "y": -0.17,
          "yref": "paper"
         },
         {
          "align": "center",
          "font": {
           "color": "#bf0000"
          },
          "showarrow": false,
          "text": "National Average: Cost of Living = 100",
          "x": 100,
          "xref": "x",
          "y": 1.02,
          "yref": "paper"
         },
         {
          "align": "left",
          "font": {
           "color": "#bf0000"
          },
          "showarrow": false,
          "text": "National Median Data Scientist Salary: $112,590",
          "x": 0.99,
          "xref": "paper",
          "y": 109500,
          "yref": "y"
         }
        ],
        "hovermode": "closest",
        "legend": {
         "title": {},
         "tracegroupgap": 0
        },
        "paper_bgcolor": "white",
        "plot_bgcolor": "white",
        "shapes": [
         {
          "line": {
           "color": "#bf0000",
           "dash": "dash",
           "width": 2
          },
          "type": "line",
          "x0": 100,
          "x1": 100,
          "y0": 74980,
          "y1": 173160
         },
         {
          "line": {
           "color": "#bf0000",
           "dash": "dash",
           "width": 2
          },
          "type": "line",
          "x0": 89.946,
          "x1": 118.225,
          "y0": 112590,
          "y1": 112590
         }
        ],
        "template": {
         "data": {
          "bar": [
           {
            "error_x": {
             "color": "#2a3f5f"
            },
            "error_y": {
             "color": "#2a3f5f"
            },
            "marker": {
             "line": {
              "color": "#E5ECF6",
              "width": 0.5
             },
             "pattern": {
              "fillmode": "overlay",
              "size": 10,
              "solidity": 0.2
             }
            },
            "type": "bar"
           }
          ],
          "barpolar": [
           {
            "marker": {
             "line": {
              "color": "#E5ECF6",
              "width": 0.5
             },
             "pattern": {
              "fillmode": "overlay",
              "size": 10,
              "solidity": 0.2
             }
            },
            "type": "barpolar"
           }
          ],
          "carpet": [
           {
            "aaxis": {
             "endlinecolor": "#2a3f5f",
             "gridcolor": "white",
             "linecolor": "white",
             "minorgridcolor": "white",
             "startlinecolor": "#2a3f5f"
            },
            "baxis": {
             "endlinecolor": "#2a3f5f",
             "gridcolor": "white",
             "linecolor": "white",
             "minorgridcolor": "white",
             "startlinecolor": "#2a3f5f"
            },
            "type": "carpet"
           }
          ],
          "choropleth": [
           {
            "colorbar": {
             "outlinewidth": 0,
             "ticks": ""
            },
            "type": "choropleth"
           }
          ],
          "contour": [
           {
            "colorbar": {
             "outlinewidth": 0,
             "ticks": ""
            },
            "colorscale": [
             [
              0,
              "#0d0887"
             ],
             [
              0.1111111111111111,
              "#46039f"
             ],
             [
              0.2222222222222222,
              "#7201a8"
             ],
             [
              0.3333333333333333,
              "#9c179e"
             ],
             [
              0.4444444444444444,
              "#bd3786"
             ],
             [
              0.5555555555555556,
              "#d8576b"
             ],
             [
              0.6666666666666666,
              "#ed7953"
             ],
             [
              0.7777777777777778,
              "#fb9f3a"
             ],
             [
              0.8888888888888888,
              "#fdca26"
             ],
             [
              1,
              "#f0f921"
             ]
            ],
            "type": "contour"
           }
          ],
          "contourcarpet": [
           {
            "colorbar": {
             "outlinewidth": 0,
             "ticks": ""
            },
            "type": "contourcarpet"
           }
          ],
          "heatmap": [
           {
            "colorbar": {
             "outlinewidth": 0,
             "ticks": ""
            },
            "colorscale": [
             [
              0,
              "#0d0887"
             ],
             [
              0.1111111111111111,
              "#46039f"
             ],
             [
              0.2222222222222222,
              "#7201a8"
             ],
             [
              0.3333333333333333,
              "#9c179e"
             ],
             [
              0.4444444444444444,
              "#bd3786"
             ],
             [
              0.5555555555555556,
              "#d8576b"
             ],
             [
              0.6666666666666666,
              "#ed7953"
             ],
             [
              0.7777777777777778,
              "#fb9f3a"
             ],
             [
              0.8888888888888888,
              "#fdca26"
             ],
             [
              1,
              "#f0f921"
             ]
            ],
            "type": "heatmap"
           }
          ],
          "heatmapgl": [
           {
            "colorbar": {
             "outlinewidth": 0,
             "ticks": ""
            },
            "colorscale": [
             [
              0,
              "#0d0887"
             ],
             [
              0.1111111111111111,
              "#46039f"
             ],
             [
              0.2222222222222222,
              "#7201a8"
             ],
             [
              0.3333333333333333,
              "#9c179e"
             ],
             [
              0.4444444444444444,
              "#bd3786"
             ],
             [
              0.5555555555555556,
              "#d8576b"
             ],
             [
              0.6666666666666666,
              "#ed7953"
             ],
             [
              0.7777777777777778,
              "#fb9f3a"
             ],
             [
              0.8888888888888888,
              "#fdca26"
             ],
             [
              1,
              "#f0f921"
             ]
            ],
            "type": "heatmapgl"
           }
          ],
          "histogram": [
           {
            "marker": {
             "pattern": {
              "fillmode": "overlay",
              "size": 10,
              "solidity": 0.2
             }
            },
            "type": "histogram"
           }
          ],
          "histogram2d": [
           {
            "colorbar": {
             "outlinewidth": 0,
             "ticks": ""
            },
            "colorscale": [
             [
              0,
              "#0d0887"
             ],
             [
              0.1111111111111111,
              "#46039f"
             ],
             [
              0.2222222222222222,
              "#7201a8"
             ],
             [
              0.3333333333333333,
              "#9c179e"
             ],
             [
              0.4444444444444444,
              "#bd3786"
             ],
             [
              0.5555555555555556,
              "#d8576b"
             ],
             [
              0.6666666666666666,
              "#ed7953"
             ],
             [
              0.7777777777777778,
              "#fb9f3a"
             ],
             [
              0.8888888888888888,
              "#fdca26"
             ],
             [
              1,
              "#f0f921"
             ]
            ],
            "type": "histogram2d"
           }
          ],
          "histogram2dcontour": [
           {
            "colorbar": {
             "outlinewidth": 0,
             "ticks": ""
            },
            "colorscale": [
             [
              0,
              "#0d0887"
             ],
             [
              0.1111111111111111,
              "#46039f"
             ],
             [
              0.2222222222222222,
              "#7201a8"
             ],
             [
              0.3333333333333333,
              "#9c179e"
             ],
             [
              0.4444444444444444,
              "#bd3786"
             ],
             [
              0.5555555555555556,
              "#d8576b"
             ],
             [
              0.6666666666666666,
              "#ed7953"
             ],
             [
              0.7777777777777778,
              "#fb9f3a"
             ],
             [
              0.8888888888888888,
              "#fdca26"
             ],
             [
              1,
              "#f0f921"
             ]
            ],
            "type": "histogram2dcontour"
           }
          ],
          "mesh3d": [
           {
            "colorbar": {
             "outlinewidth": 0,
             "ticks": ""
            },
            "type": "mesh3d"
           }
          ],
          "parcoords": [
           {
            "line": {
             "colorbar": {
              "outlinewidth": 0,
              "ticks": ""
             }
            },
            "type": "parcoords"
           }
          ],
          "pie": [
           {
            "automargin": true,
            "type": "pie"
           }
          ],
          "scatter": [
           {
            "fillpattern": {
             "fillmode": "overlay",
             "size": 10,
             "solidity": 0.2
            },
            "type": "scatter"
           }
          ],
          "scatter3d": [
           {
            "line": {
             "colorbar": {
              "outlinewidth": 0,
              "ticks": ""
             }
            },
            "marker": {
             "colorbar": {
              "outlinewidth": 0,
              "ticks": ""
             }
            },
            "type": "scatter3d"
           }
          ],
          "scattercarpet": [
           {
            "marker": {
             "colorbar": {
              "outlinewidth": 0,
              "ticks": ""
             }
            },
            "type": "scattercarpet"
           }
          ],
          "scattergeo": [
           {
            "marker": {
             "colorbar": {
              "outlinewidth": 0,
              "ticks": ""
             }
            },
            "type": "scattergeo"
           }
          ],
          "scattergl": [
           {
            "marker": {
             "colorbar": {
              "outlinewidth": 0,
              "ticks": ""
             }
            },
            "type": "scattergl"
           }
          ],
          "scattermapbox": [
           {
            "marker": {
             "colorbar": {
              "outlinewidth": 0,
              "ticks": ""
             }
            },
            "type": "scattermapbox"
           }
          ],
          "scatterpolar": [
           {
            "marker": {
             "colorbar": {
              "outlinewidth": 0,
              "ticks": ""
             }
            },
            "type": "scatterpolar"
           }
          ],
          "scatterpolargl": [
           {
            "marker": {
             "colorbar": {
              "outlinewidth": 0,
              "ticks": ""
             }
            },
            "type": "scatterpolargl"
           }
          ],
          "scatterternary": [
           {
            "marker": {
             "colorbar": {
              "outlinewidth": 0,
              "ticks": ""
             }
            },
            "type": "scatterternary"
           }
          ],
          "surface": [
           {
            "colorbar": {
             "outlinewidth": 0,
             "ticks": ""
            },
            "colorscale": [
             [
              0,
              "#0d0887"
             ],
             [
              0.1111111111111111,
              "#46039f"
             ],
             [
              0.2222222222222222,
              "#7201a8"
             ],
             [
              0.3333333333333333,
              "#9c179e"
             ],
             [
              0.4444444444444444,
              "#bd3786"
             ],
             [
              0.5555555555555556,
              "#d8576b"
             ],
             [
              0.6666666666666666,
              "#ed7953"
             ],
             [
              0.7777777777777778,
              "#fb9f3a"
             ],
             [
              0.8888888888888888,
              "#fdca26"
             ],
             [
              1,
              "#f0f921"
             ]
            ],
            "type": "surface"
           }
          ],
          "table": [
           {
            "cells": {
             "fill": {
              "color": "#EBF0F8"
             },
             "line": {
              "color": "white"
             }
            },
            "header": {
             "fill": {
              "color": "#C8D4E3"
             },
             "line": {
              "color": "white"
             }
            },
            "type": "table"
           }
          ]
         },
         "layout": {
          "annotationdefaults": {
           "arrowcolor": "#2a3f5f",
           "arrowhead": 0,
           "arrowwidth": 1
          },
          "autotypenumbers": "strict",
          "coloraxis": {
           "colorbar": {
            "outlinewidth": 0,
            "ticks": ""
           }
          },
          "colorscale": {
           "diverging": [
            [
             0,
             "#8e0152"
            ],
            [
             0.1,
             "#c51b7d"
            ],
            [
             0.2,
             "#de77ae"
            ],
            [
             0.3,
             "#f1b6da"
            ],
            [
             0.4,
             "#fde0ef"
            ],
            [
             0.5,
             "#f7f7f7"
            ],
            [
             0.6,
             "#e6f5d0"
            ],
            [
             0.7,
             "#b8e186"
            ],
            [
             0.8,
             "#7fbc41"
            ],
            [
             0.9,
             "#4d9221"
            ],
            [
             1,
             "#276419"
            ]
           ],
           "sequential": [
            [
             0,
             "#0d0887"
            ],
            [
             0.1111111111111111,
             "#46039f"
            ],
            [
             0.2222222222222222,
             "#7201a8"
            ],
            [
             0.3333333333333333,
             "#9c179e"
            ],
            [
             0.4444444444444444,
             "#bd3786"
            ],
            [
             0.5555555555555556,
             "#d8576b"
            ],
            [
             0.6666666666666666,
             "#ed7953"
            ],
            [
             0.7777777777777778,
             "#fb9f3a"
            ],
            [
             0.8888888888888888,
             "#fdca26"
            ],
            [
             1,
             "#f0f921"
            ]
           ],
           "sequentialminus": [
            [
             0,
             "#0d0887"
            ],
            [
             0.1111111111111111,
             "#46039f"
            ],
            [
             0.2222222222222222,
             "#7201a8"
            ],
            [
             0.3333333333333333,
             "#9c179e"
            ],
            [
             0.4444444444444444,
             "#bd3786"
            ],
            [
             0.5555555555555556,
             "#d8576b"
            ],
            [
             0.6666666666666666,
             "#ed7953"
            ],
            [
             0.7777777777777778,
             "#fb9f3a"
            ],
            [
             0.8888888888888888,
             "#fdca26"
            ],
            [
             1,
             "#f0f921"
            ]
           ]
          },
          "colorway": [
           "#636efa",
           "#EF553B",
           "#00cc96",
           "#ab63fa",
           "#FFA15A",
           "#19d3f3",
           "#FF6692",
           "#B6E880",
           "#FF97FF",
           "#FECB52"
          ],
          "font": {
           "color": "#2a3f5f"
          },
          "geo": {
           "bgcolor": "white",
           "lakecolor": "white",
           "landcolor": "#E5ECF6",
           "showlakes": true,
           "showland": true,
           "subunitcolor": "white"
          },
          "hoverlabel": {
           "align": "left"
          },
          "hovermode": "closest",
          "mapbox": {
           "style": "light"
          },
          "paper_bgcolor": "white",
          "plot_bgcolor": "#E5ECF6",
          "polar": {
           "angularaxis": {
            "gridcolor": "white",
            "linecolor": "white",
            "ticks": ""
           },
           "bgcolor": "#E5ECF6",
           "radialaxis": {
            "gridcolor": "white",
            "linecolor": "white",
            "ticks": ""
           }
          },
          "scene": {
           "xaxis": {
            "backgroundcolor": "#E5ECF6",
            "gridcolor": "white",
            "gridwidth": 2,
            "linecolor": "white",
            "showbackground": true,
            "ticks": "",
            "zerolinecolor": "white"
           },
           "yaxis": {
            "backgroundcolor": "#E5ECF6",
            "gridcolor": "white",
            "gridwidth": 2,
            "linecolor": "white",
            "showbackground": true,
            "ticks": "",
            "zerolinecolor": "white"
           },
           "zaxis": {
            "backgroundcolor": "#E5ECF6",
            "gridcolor": "white",
            "gridwidth": 2,
            "linecolor": "white",
            "showbackground": true,
            "ticks": "",
            "zerolinecolor": "white"
           }
          },
          "shapedefaults": {
           "line": {
            "color": "#2a3f5f"
           }
          },
          "ternary": {
           "aaxis": {
            "gridcolor": "white",
            "linecolor": "white",
            "ticks": ""
           },
           "baxis": {
            "gridcolor": "white",
            "linecolor": "white",
            "ticks": ""
           },
           "bgcolor": "#E5ECF6",
           "caxis": {
            "gridcolor": "white",
            "linecolor": "white",
            "ticks": ""
           }
          },
          "title": {
           "x": 0.05
          },
          "xaxis": {
           "automargin": true,
           "gridcolor": "white",
           "linecolor": "white",
           "ticks": "",
           "title": {
            "standoff": 15
           },
           "zerolinecolor": "white",
           "zerolinewidth": 2
          },
          "yaxis": {
           "automargin": true,
           "gridcolor": "white",
           "linecolor": "white",
           "ticks": "",
           "title": {
            "standoff": 15
           },
           "zerolinecolor": "white",
           "zerolinewidth": 2
          }
         }
        },
        "title": {
         "font": {
          "size": 20
         },
         "text": "Median Data Scientist Salary vs. Cost of Living <br><sup> Top 25 Metros Based on Employee Count and Concentration"
        },
        "xaxis": {
         "anchor": "y",
         "domain": [
          0,
          1
         ],
         "tickformat": ".1f",
         "title": {
          "text": "Regional Price Parity Index (2023)"
         }
        },
        "yaxis": {
         "anchor": "x",
         "domain": [
          0,
          1
         ],
         "tickprefix": "$",
         "title": {
          "text": "Annual Median Salary ($ in 2024)"
         }
        }
       }
      }
     },
     "metadata": {},
     "output_type": "display_data"
    }
   ],
   "source": [
    "# Add a formatted employment column\n",
    "RPP_Salary_Combo[\"Formatted_EMP\"] = RPP_Salary_Combo[\"TOT_EMP\"].apply(lambda x: f\"{x:,.0f}\")\n",
    "\n",
    "fig = px.scatter(\n",
    "    RPP_Salary_Combo,\n",
    "    x='RPP',\n",
    "    y='A_MEDIAN',\n",
    "    hover_name='AREA_TITLE',\n",
    "    color='Overlap',  \n",
    "    title='Median Data Scientist Salary vs. Cost of Living <br><sup> Top 25 Metros Based on Employee Count and Concentration',\n",
    "    labels={\n",
    "        'RPP': 'Regional Price Parity Index (2023)',\n",
    "        'A_MEDIAN': 'Annual Median Salary ($ in 2024)',\n",
    "        'Formatted_EMP': 'Employee Count',\n",
    "        'LOC_QUOTIENT': \"Concentration\"\n",
    "    },\n",
    "    color_discrete_map={\n",
    "        'Employee Count': '#FF8C00',   # dark orange\n",
    "        'Concentration': '#A7C7E7',    # light blue\n",
    "        'Both': '#002147'              # deep navy\n",
    "    },\n",
    "    hover_data={\n",
    "        'RPP': True,\n",
    "        'A_MEDIAN': True,\n",
    "        'Overlap': False,\n",
    "        'Formatted_EMP': True,\n",
    "        'LOC_QUOTIENT': True\n",
    "    },\n",
    ")\n",
    "\n",
    "fig.update_traces(\n",
    "    marker=dict(size=12, line=dict(width=1, color='DarkSlateGrey'))\n",
    ")\n",
    "\n",
    "fig.update_layout(\n",
    "    title_font_size=20,\n",
    "    xaxis=dict(tickformat=\".1f\"),\n",
    "    yaxis=dict(tickprefix=\"$\"),\n",
    "    hovermode='closest',\n",
    "    plot_bgcolor='white',\n",
    "    paper_bgcolor='white',\n",
    "    legend_title_text=None,\n",
    "    shapes=[\n",
    "        dict(type='line', x0=100, x1=100, y0=RPP_Salary_Combo['A_MEDIAN'].min(), y1=RPP_Salary_Combo['A_MEDIAN'].max(),\n",
    "             line=dict(color='#bf0000', width=2, dash='dash')),\n",
    "        dict(type='line', x0=RPP_Salary_Combo['RPP'].min(), x1=RPP_Salary_Combo['RPP'].max(), y0=112590, y1=112590,\n",
    "             line=dict(color='#bf0000', width=2, dash='dash'))\n",
    "    ],\n",
    "    annotations=[\n",
    "        dict(\n",
    "            text=\"Source: Annual Median Salary - BLS OEWS, Cost of Living Index - BEA Regional Price Parity.\",\n",
    "            xref=\"paper\", yref=\"paper\",\n",
    "            x=0, y=-0.17,\n",
    "            showarrow=False,\n",
    "            font=dict(size=10, color=\"gray\")\n",
    "        ),\n",
    "        dict(\n",
    "            x=100, y=1.02, xref='x', yref='paper',\n",
    "            text='National Average: Cost of Living = 100',\n",
    "            showarrow=False,\n",
    "            font=dict(color='#bf0000'),\n",
    "            align='center'\n",
    "        ),\n",
    "        dict(\n",
    "            x=0.99, y=109500, xref='paper', yref='y',\n",
    "            text='National Median Data Scientist Salary: $112,590',\n",
    "            showarrow=False,\n",
    "            font=dict(color='#bf0000'),\n",
    "            align='left'\n",
    "        )\n",
    "    ]\n",
    ")\n",
    "\n",
    "fig.show()\n"
   ]
  },
  {
   "cell_type": "code",
   "execution_count": 90,
   "metadata": {},
   "outputs": [],
   "source": [
    "fig.write_html(\"top25Comparison_costofliving_Median.html\")"
   ]
  }
 ],
 "metadata": {
  "kernelspec": {
   "display_name": "Timeseries",
   "language": "python",
   "name": "python3"
  },
  "language_info": {
   "codemirror_mode": {
    "name": "ipython",
    "version": 3
   },
   "file_extension": ".py",
   "mimetype": "text/x-python",
   "name": "python",
   "nbconvert_exporter": "python",
   "pygments_lexer": "ipython3",
   "version": "3.12.5"
  }
 },
 "nbformat": 4,
 "nbformat_minor": 2
}
