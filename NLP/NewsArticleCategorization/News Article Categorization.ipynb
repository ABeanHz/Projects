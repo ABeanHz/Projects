{
 "cells": [
  {
   "cell_type": "markdown",
   "metadata": {},
   "source": [
    "# Natural Language Processing Project"
   ]
  },
  {
   "cell_type": "markdown",
   "metadata": {},
   "source": [
    "## Goal\n",
    "Properly classify English-language news articles into the correct topic heading\n",
    "\n",
    "Data for this analysis: https://data.mendeley.com/datasets/pk5vs5wjxm/1\n",
    "\n",
    "Chayan, Ankur Ray (2024), “News Recommendations Dataset: Headlines & Categories.”, Mendeley Data, V1, doi: 10.17632/pk5vs5wjxm.1\n"
   ]
  },
  {
   "cell_type": "code",
   "execution_count": 2,
   "metadata": {},
   "outputs": [],
   "source": [
    "# Read in libraries of interest\n",
    "import pandas as pd\n",
    "import os\n",
    "\n",
    "# Python's natural language processing package\n",
    "import nltk\n",
    "nltk.download('punkt', quiet=True)\n",
    "nltk.download('stopwords', quiet=True)\n",
    "from nltk.corpus import stopwords\n",
    "from nltk.tokenize import word_tokenize\n",
    "import string\n",
    "\n",
    "# Modeling \n",
    "from sklearn.preprocessing import LabelEncoder \n",
    "from sklearn.model_selection import train_test_split\n",
    "from sklearn.feature_extraction.text import TfidfVectorizer\n",
    "\n",
    "# Random Forest -- Simple Model\n",
    "from sklearn.ensemble import RandomForestClassifier \n",
    "\n",
    "# Model Performance\n",
    "from sklearn.metrics import accuracy_score, classification_report\n",
    "from sklearn.metrics import ConfusionMatrixDisplay\n",
    "import matplotlib.pyplot as plt\n",
    "import numpy as np\n",
    "\n",
    "import warnings\n",
    "warnings.filterwarnings(\"ignore\")  ### warnings sometimes show your computer, so I want to surpress if sending to github\n"
   ]
  },
  {
   "cell_type": "code",
   "execution_count": 3,
   "metadata": {},
   "outputs": [],
   "source": [
    "# print(os.getcwd())  ### Check where files are read-in from"
   ]
  },
  {
   "cell_type": "markdown",
   "metadata": {},
   "source": [
    "# Clean and prep data"
   ]
  },
  {
   "cell_type": "code",
   "execution_count": 4,
   "metadata": {},
   "outputs": [
    {
     "data": {
      "application/vnd.microsoft.datawrangler.viewer.v0+json": {
       "columns": [
        {
         "name": "index",
         "rawType": "int64",
         "type": "integer"
        },
        {
         "name": "headlines",
         "rawType": "object",
         "type": "string"
        },
        {
         "name": "newspaper",
         "rawType": "object",
         "type": "string"
        },
        {
         "name": "description",
         "rawType": "object",
         "type": "string"
        },
        {
         "name": "catagories",
         "rawType": "object",
         "type": "string"
        },
        {
         "name": "link",
         "rawType": "object",
         "type": "string"
        }
       ],
       "conversionMethod": "pd.DataFrame",
       "ref": "0919e3b8-d0cc-4fd9-803e-030019a7342c",
       "rows": [
        [
         "0",
         "MV Abdullah leaves UAE for last leg of homeward journey",
         "The Daily Star",
         "The ship MV Abdullah, with 23 Bangladeshi crew members, departs from UAE port for Chattogram, marking the final stretch of their journey",
         "Business",
         "https://www.thedailystar.net/Health    "
        ],
        [
         "1",
         "Heatwave: After fiery April, milder May beckons",
         "The Daily Star",
         "Relief from a severe heatwave expected in May after a scorching April, with potential rainfall forecasted according to Meteorological Office",
         "Weather",
         "https://www.thedailystar.net/Health    "
        ],
        [
         "2",
         "Bar pharmas from raising medicine prices at will",
         "The Daily Star",
         "High Court orders measures to prevent pharmaceutical companies from arbitrarily hiking medicine prices",
         "Healthcare",
         "https://www.thedailystar.net/Health    "
        ],
        [
         "3",
         "IMF Loan: Govt may miss two key targets set for fourth tranche",
         "The Daily Star",
         "Concerns raised over government potentially failing to meet IMF conditions for fourth tranche of loan",
         "Economy",
         "https://www.thedailystar.net/Health    "
        ],
        [
         "4",
         "Columbia University suspends pro-Palestinian protesters",
         "The Daily Star",
         "Disciplinary action taken against pro-Palestinian protesters by Columbia University",
         "Education",
         "https://www.thedailystar.net/Health    "
        ]
       ],
       "shape": {
        "columns": 5,
        "rows": 5
       }
      },
      "text/html": [
       "<div>\n",
       "<style scoped>\n",
       "    .dataframe tbody tr th:only-of-type {\n",
       "        vertical-align: middle;\n",
       "    }\n",
       "\n",
       "    .dataframe tbody tr th {\n",
       "        vertical-align: top;\n",
       "    }\n",
       "\n",
       "    .dataframe thead th {\n",
       "        text-align: right;\n",
       "    }\n",
       "</style>\n",
       "<table border=\"1\" class=\"dataframe\">\n",
       "  <thead>\n",
       "    <tr style=\"text-align: right;\">\n",
       "      <th></th>\n",
       "      <th>headlines</th>\n",
       "      <th>newspaper</th>\n",
       "      <th>description</th>\n",
       "      <th>catagories</th>\n",
       "      <th>link</th>\n",
       "    </tr>\n",
       "  </thead>\n",
       "  <tbody>\n",
       "    <tr>\n",
       "      <th>0</th>\n",
       "      <td>MV Abdullah leaves UAE for last leg of homewar...</td>\n",
       "      <td>The Daily Star</td>\n",
       "      <td>The ship MV Abdullah, with 23 Bangladeshi crew...</td>\n",
       "      <td>Business</td>\n",
       "      <td>https://www.thedailystar.net/Health</td>\n",
       "    </tr>\n",
       "    <tr>\n",
       "      <th>1</th>\n",
       "      <td>Heatwave: After fiery April, milder May beckons</td>\n",
       "      <td>The Daily Star</td>\n",
       "      <td>Relief from a severe heatwave expected in May ...</td>\n",
       "      <td>Weather</td>\n",
       "      <td>https://www.thedailystar.net/Health</td>\n",
       "    </tr>\n",
       "    <tr>\n",
       "      <th>2</th>\n",
       "      <td>Bar pharmas from raising medicine prices at will</td>\n",
       "      <td>The Daily Star</td>\n",
       "      <td>High Court orders measures to prevent pharmace...</td>\n",
       "      <td>Healthcare</td>\n",
       "      <td>https://www.thedailystar.net/Health</td>\n",
       "    </tr>\n",
       "    <tr>\n",
       "      <th>3</th>\n",
       "      <td>IMF Loan: Govt may miss two key targets set fo...</td>\n",
       "      <td>The Daily Star</td>\n",
       "      <td>Concerns raised over government potentially fa...</td>\n",
       "      <td>Economy</td>\n",
       "      <td>https://www.thedailystar.net/Health</td>\n",
       "    </tr>\n",
       "    <tr>\n",
       "      <th>4</th>\n",
       "      <td>Columbia University suspends pro-Palestinian p...</td>\n",
       "      <td>The Daily Star</td>\n",
       "      <td>Disciplinary action taken against pro-Palestin...</td>\n",
       "      <td>Education</td>\n",
       "      <td>https://www.thedailystar.net/Health</td>\n",
       "    </tr>\n",
       "  </tbody>\n",
       "</table>\n",
       "</div>"
      ],
      "text/plain": [
       "                                           headlines       newspaper  \\\n",
       "0  MV Abdullah leaves UAE for last leg of homewar...  The Daily Star   \n",
       "1    Heatwave: After fiery April, milder May beckons  The Daily Star   \n",
       "2   Bar pharmas from raising medicine prices at will  The Daily Star   \n",
       "3  IMF Loan: Govt may miss two key targets set fo...  The Daily Star   \n",
       "4  Columbia University suspends pro-Palestinian p...  The Daily Star   \n",
       "\n",
       "                                         description  catagories  \\\n",
       "0  The ship MV Abdullah, with 23 Bangladeshi crew...    Business   \n",
       "1  Relief from a severe heatwave expected in May ...     Weather   \n",
       "2  High Court orders measures to prevent pharmace...  Healthcare   \n",
       "3  Concerns raised over government potentially fa...     Economy   \n",
       "4  Disciplinary action taken against pro-Palestin...   Education   \n",
       "\n",
       "                                      link  \n",
       "0  https://www.thedailystar.net/Health      \n",
       "1  https://www.thedailystar.net/Health      \n",
       "2  https://www.thedailystar.net/Health      \n",
       "3  https://www.thedailystar.net/Health      \n",
       "4  https://www.thedailystar.net/Health      "
      ]
     },
     "execution_count": 4,
     "metadata": {},
     "output_type": "execute_result"
    }
   ],
   "source": [
    "# Load the dataset\n",
    "original_df = pd.read_excel(\"News recommendation dataset.xlsx\")\n",
    "original_df.head()"
   ]
  },
  {
   "cell_type": "code",
   "execution_count": 5,
   "metadata": {},
   "outputs": [
    {
     "data": {
      "application/vnd.microsoft.datawrangler.viewer.v0+json": {
       "columns": [
        {
         "name": "index",
         "rawType": "int64",
         "type": "integer"
        },
        {
         "name": "headlines",
         "rawType": "object",
         "type": "string"
        },
        {
         "name": "newspaper",
         "rawType": "object",
         "type": "string"
        },
        {
         "name": "description",
         "rawType": "object",
         "type": "string"
        },
        {
         "name": "categories",
         "rawType": "object",
         "type": "string"
        },
        {
         "name": "link",
         "rawType": "object",
         "type": "string"
        }
       ],
       "conversionMethod": "pd.DataFrame",
       "ref": "5a327098-0207-45be-b457-508ccdecdd90",
       "rows": [
        [
         "0",
         "MV Abdullah leaves UAE for last leg of homeward journey",
         "The Daily Star",
         "The ship MV Abdullah, with 23 Bangladeshi crew members, departs from UAE port for Chattogram, marking the final stretch of their journey",
         "Business",
         "https://www.thedailystar.net/Health    "
        ],
        [
         "1",
         "Heatwave: After fiery April, milder May beckons",
         "The Daily Star",
         "Relief from a severe heatwave expected in May after a scorching April, with potential rainfall forecasted according to Meteorological Office",
         "Weather",
         "https://www.thedailystar.net/Health    "
        ],
        [
         "2",
         "Bar pharmas from raising medicine prices at will",
         "The Daily Star",
         "High Court orders measures to prevent pharmaceutical companies from arbitrarily hiking medicine prices",
         "Healthcare",
         "https://www.thedailystar.net/Health    "
        ],
        [
         "3",
         "IMF Loan: Govt may miss two key targets set for fourth tranche",
         "The Daily Star",
         "Concerns raised over government potentially failing to meet IMF conditions for fourth tranche of loan",
         "Economy",
         "https://www.thedailystar.net/Health    "
        ],
        [
         "4",
         "Columbia University suspends pro-Palestinian protesters",
         "The Daily Star",
         "Disciplinary action taken against pro-Palestinian protesters by Columbia University",
         "Education",
         "https://www.thedailystar.net/Health    "
        ]
       ],
       "shape": {
        "columns": 5,
        "rows": 5
       }
      },
      "text/html": [
       "<div>\n",
       "<style scoped>\n",
       "    .dataframe tbody tr th:only-of-type {\n",
       "        vertical-align: middle;\n",
       "    }\n",
       "\n",
       "    .dataframe tbody tr th {\n",
       "        vertical-align: top;\n",
       "    }\n",
       "\n",
       "    .dataframe thead th {\n",
       "        text-align: right;\n",
       "    }\n",
       "</style>\n",
       "<table border=\"1\" class=\"dataframe\">\n",
       "  <thead>\n",
       "    <tr style=\"text-align: right;\">\n",
       "      <th></th>\n",
       "      <th>headlines</th>\n",
       "      <th>newspaper</th>\n",
       "      <th>description</th>\n",
       "      <th>categories</th>\n",
       "      <th>link</th>\n",
       "    </tr>\n",
       "  </thead>\n",
       "  <tbody>\n",
       "    <tr>\n",
       "      <th>0</th>\n",
       "      <td>MV Abdullah leaves UAE for last leg of homewar...</td>\n",
       "      <td>The Daily Star</td>\n",
       "      <td>The ship MV Abdullah, with 23 Bangladeshi crew...</td>\n",
       "      <td>Business</td>\n",
       "      <td>https://www.thedailystar.net/Health</td>\n",
       "    </tr>\n",
       "    <tr>\n",
       "      <th>1</th>\n",
       "      <td>Heatwave: After fiery April, milder May beckons</td>\n",
       "      <td>The Daily Star</td>\n",
       "      <td>Relief from a severe heatwave expected in May ...</td>\n",
       "      <td>Weather</td>\n",
       "      <td>https://www.thedailystar.net/Health</td>\n",
       "    </tr>\n",
       "    <tr>\n",
       "      <th>2</th>\n",
       "      <td>Bar pharmas from raising medicine prices at will</td>\n",
       "      <td>The Daily Star</td>\n",
       "      <td>High Court orders measures to prevent pharmace...</td>\n",
       "      <td>Healthcare</td>\n",
       "      <td>https://www.thedailystar.net/Health</td>\n",
       "    </tr>\n",
       "    <tr>\n",
       "      <th>3</th>\n",
       "      <td>IMF Loan: Govt may miss two key targets set fo...</td>\n",
       "      <td>The Daily Star</td>\n",
       "      <td>Concerns raised over government potentially fa...</td>\n",
       "      <td>Economy</td>\n",
       "      <td>https://www.thedailystar.net/Health</td>\n",
       "    </tr>\n",
       "    <tr>\n",
       "      <th>4</th>\n",
       "      <td>Columbia University suspends pro-Palestinian p...</td>\n",
       "      <td>The Daily Star</td>\n",
       "      <td>Disciplinary action taken against pro-Palestin...</td>\n",
       "      <td>Education</td>\n",
       "      <td>https://www.thedailystar.net/Health</td>\n",
       "    </tr>\n",
       "  </tbody>\n",
       "</table>\n",
       "</div>"
      ],
      "text/plain": [
       "                                           headlines       newspaper  \\\n",
       "0  MV Abdullah leaves UAE for last leg of homewar...  The Daily Star   \n",
       "1    Heatwave: After fiery April, milder May beckons  The Daily Star   \n",
       "2   Bar pharmas from raising medicine prices at will  The Daily Star   \n",
       "3  IMF Loan: Govt may miss two key targets set fo...  The Daily Star   \n",
       "4  Columbia University suspends pro-Palestinian p...  The Daily Star   \n",
       "\n",
       "                                         description  categories  \\\n",
       "0  The ship MV Abdullah, with 23 Bangladeshi crew...    Business   \n",
       "1  Relief from a severe heatwave expected in May ...     Weather   \n",
       "2  High Court orders measures to prevent pharmace...  Healthcare   \n",
       "3  Concerns raised over government potentially fa...     Economy   \n",
       "4  Disciplinary action taken against pro-Palestin...   Education   \n",
       "\n",
       "                                      link  \n",
       "0  https://www.thedailystar.net/Health      \n",
       "1  https://www.thedailystar.net/Health      \n",
       "2  https://www.thedailystar.net/Health      \n",
       "3  https://www.thedailystar.net/Health      \n",
       "4  https://www.thedailystar.net/Health      "
      ]
     },
     "execution_count": 5,
     "metadata": {},
     "output_type": "execute_result"
    }
   ],
   "source": [
    "original_df.rename(columns ={'catagories': 'categories'}, inplace=True) ### typo in title\n",
    "original_df.head()"
   ]
  },
  {
   "cell_type": "markdown",
   "metadata": {},
   "source": [
    "## Filter the data"
   ]
  },
  {
   "cell_type": "markdown",
   "metadata": {},
   "source": [
    "I am going to select categories that have at least 40 observations to ensure that there is a decent sample size for modeling. "
   ]
  },
  {
   "cell_type": "code",
   "execution_count": 6,
   "metadata": {},
   "outputs": [
    {
     "name": "stdout",
     "output_type": "stream",
     "text": [
      "headlines      0\n",
      "newspaper      0\n",
      "description    0\n",
      "categories     0\n",
      "link           0\n",
      "dtype: int64\n"
     ]
    }
   ],
   "source": [
    "# check for missing\n",
    "print(original_df.isnull().sum())"
   ]
  },
  {
   "cell_type": "code",
   "execution_count": 7,
   "metadata": {},
   "outputs": [
    {
     "name": "stdout",
     "output_type": "stream",
     "text": [
      "categories\n",
      "Environment              203\n",
      "Health                   167\n",
      "Politics                 149\n",
      "Economy                  141\n",
      "Sports                   123\n",
      "                        ... \n",
      "More                       1\n",
      "Petroleum                  1\n",
      "Health, Lifestyle          1\n",
      "Health, International      1\n",
      "Health, Environment        1\n",
      "Name: count, Length: 207, dtype: int64\n"
     ]
    }
   ],
   "source": [
    "# Remove leading and trailing spaces from the 'Name' column\n",
    "original_df['categories'] = original_df['categories'].str.strip()\n",
    "\n",
    "# Count occurrences of each value\n",
    "value_counts = original_df['categories'].value_counts()\n",
    "print(value_counts)\n"
   ]
  },
  {
   "cell_type": "code",
   "execution_count": 8,
   "metadata": {},
   "outputs": [
    {
     "name": "stdout",
     "output_type": "stream",
     "text": [
      "Index(['Environment', 'Health', 'Politics', 'Economy', 'Sports', 'Business',\n",
      "       'Technology', 'Entertainment', 'Education', 'Weather', 'International'],\n",
      "      dtype='object', name='categories')\n"
     ]
    }
   ],
   "source": [
    "# Filter values that appear at least 40 times\n",
    "valid_values = value_counts[value_counts >= 40].index\n",
    "print(valid_values)"
   ]
  },
  {
   "cell_type": "code",
   "execution_count": 9,
   "metadata": {},
   "outputs": [
    {
     "data": {
      "application/vnd.microsoft.datawrangler.viewer.v0+json": {
       "columns": [
        {
         "name": "index",
         "rawType": "int64",
         "type": "integer"
        },
        {
         "name": "headlines",
         "rawType": "object",
         "type": "string"
        },
        {
         "name": "newspaper",
         "rawType": "object",
         "type": "string"
        },
        {
         "name": "description",
         "rawType": "object",
         "type": "string"
        },
        {
         "name": "categories",
         "rawType": "object",
         "type": "string"
        },
        {
         "name": "link",
         "rawType": "object",
         "type": "string"
        }
       ],
       "conversionMethod": "pd.DataFrame",
       "ref": "c73fa4e7-2e34-4827-a60a-0fe32e591681",
       "rows": [
        [
         "0",
         "MV Abdullah leaves UAE for last leg of homeward journey",
         "The Daily Star",
         "The ship MV Abdullah, with 23 Bangladeshi crew members, departs from UAE port for Chattogram, marking the final stretch of their journey",
         "Business",
         "https://www.thedailystar.net/Health    "
        ],
        [
         "1",
         "Heatwave: After fiery April, milder May beckons",
         "The Daily Star",
         "Relief from a severe heatwave expected in May after a scorching April, with potential rainfall forecasted according to Meteorological Office",
         "Weather",
         "https://www.thedailystar.net/Health    "
        ],
        [
         "2",
         "IMF Loan: Govt may miss two key targets set for fourth tranche",
         "The Daily Star",
         "Concerns raised over government potentially failing to meet IMF conditions for fourth tranche of loan",
         "Economy",
         "https://www.thedailystar.net/Health    "
        ],
        [
         "3",
         "Columbia University suspends pro-Palestinian protesters",
         "The Daily Star",
         "Disciplinary action taken against pro-Palestinian protesters by Columbia University",
         "Education",
         "https://www.thedailystar.net/Health    "
        ],
        [
         "4",
         "Australia sets out targets in 10-year plan to boost women's game",
         "The Daily Star",
         "Australia introduces goals in a 10-year plan to enhance women's participation and performance in sports",
         "Sports",
         "https://www.thedailystar.net/Health    "
        ]
       ],
       "shape": {
        "columns": 5,
        "rows": 5
       }
      },
      "text/html": [
       "<div>\n",
       "<style scoped>\n",
       "    .dataframe tbody tr th:only-of-type {\n",
       "        vertical-align: middle;\n",
       "    }\n",
       "\n",
       "    .dataframe tbody tr th {\n",
       "        vertical-align: top;\n",
       "    }\n",
       "\n",
       "    .dataframe thead th {\n",
       "        text-align: right;\n",
       "    }\n",
       "</style>\n",
       "<table border=\"1\" class=\"dataframe\">\n",
       "  <thead>\n",
       "    <tr style=\"text-align: right;\">\n",
       "      <th></th>\n",
       "      <th>headlines</th>\n",
       "      <th>newspaper</th>\n",
       "      <th>description</th>\n",
       "      <th>categories</th>\n",
       "      <th>link</th>\n",
       "    </tr>\n",
       "  </thead>\n",
       "  <tbody>\n",
       "    <tr>\n",
       "      <th>0</th>\n",
       "      <td>MV Abdullah leaves UAE for last leg of homewar...</td>\n",
       "      <td>The Daily Star</td>\n",
       "      <td>The ship MV Abdullah, with 23 Bangladeshi crew...</td>\n",
       "      <td>Business</td>\n",
       "      <td>https://www.thedailystar.net/Health</td>\n",
       "    </tr>\n",
       "    <tr>\n",
       "      <th>1</th>\n",
       "      <td>Heatwave: After fiery April, milder May beckons</td>\n",
       "      <td>The Daily Star</td>\n",
       "      <td>Relief from a severe heatwave expected in May ...</td>\n",
       "      <td>Weather</td>\n",
       "      <td>https://www.thedailystar.net/Health</td>\n",
       "    </tr>\n",
       "    <tr>\n",
       "      <th>2</th>\n",
       "      <td>IMF Loan: Govt may miss two key targets set fo...</td>\n",
       "      <td>The Daily Star</td>\n",
       "      <td>Concerns raised over government potentially fa...</td>\n",
       "      <td>Economy</td>\n",
       "      <td>https://www.thedailystar.net/Health</td>\n",
       "    </tr>\n",
       "    <tr>\n",
       "      <th>3</th>\n",
       "      <td>Columbia University suspends pro-Palestinian p...</td>\n",
       "      <td>The Daily Star</td>\n",
       "      <td>Disciplinary action taken against pro-Palestin...</td>\n",
       "      <td>Education</td>\n",
       "      <td>https://www.thedailystar.net/Health</td>\n",
       "    </tr>\n",
       "    <tr>\n",
       "      <th>4</th>\n",
       "      <td>Australia sets out targets in 10-year plan to ...</td>\n",
       "      <td>The Daily Star</td>\n",
       "      <td>Australia introduces goals in a 10-year plan t...</td>\n",
       "      <td>Sports</td>\n",
       "      <td>https://www.thedailystar.net/Health</td>\n",
       "    </tr>\n",
       "  </tbody>\n",
       "</table>\n",
       "</div>"
      ],
      "text/plain": [
       "                                           headlines       newspaper  \\\n",
       "0  MV Abdullah leaves UAE for last leg of homewar...  The Daily Star   \n",
       "1    Heatwave: After fiery April, milder May beckons  The Daily Star   \n",
       "2  IMF Loan: Govt may miss two key targets set fo...  The Daily Star   \n",
       "3  Columbia University suspends pro-Palestinian p...  The Daily Star   \n",
       "4  Australia sets out targets in 10-year plan to ...  The Daily Star   \n",
       "\n",
       "                                         description categories  \\\n",
       "0  The ship MV Abdullah, with 23 Bangladeshi crew...   Business   \n",
       "1  Relief from a severe heatwave expected in May ...    Weather   \n",
       "2  Concerns raised over government potentially fa...    Economy   \n",
       "3  Disciplinary action taken against pro-Palestin...  Education   \n",
       "4  Australia introduces goals in a 10-year plan t...     Sports   \n",
       "\n",
       "                                      link  \n",
       "0  https://www.thedailystar.net/Health      \n",
       "1  https://www.thedailystar.net/Health      \n",
       "2  https://www.thedailystar.net/Health      \n",
       "3  https://www.thedailystar.net/Health      \n",
       "4  https://www.thedailystar.net/Health      "
      ]
     },
     "execution_count": 9,
     "metadata": {},
     "output_type": "execute_result"
    }
   ],
   "source": [
    "# Select observations where the value appears at least 40 times\n",
    "filtered_df = original_df[original_df['categories'].isin(valid_values)].reset_index(drop=True) ### resetting index for manipulations\n",
    "filtered_df.head()"
   ]
  },
  {
   "cell_type": "code",
   "execution_count": 10,
   "metadata": {},
   "outputs": [
    {
     "name": "stdout",
     "output_type": "stream",
     "text": [
      "How many observations in filtered df: 1281\n"
     ]
    }
   ],
   "source": [
    "print(\"How many observations in filtered df:\", len(filtered_df))"
   ]
  },
  {
   "cell_type": "markdown",
   "metadata": {},
   "source": [
    "## Remove noise like stopwords"
   ]
  },
  {
   "cell_type": "code",
   "execution_count": 11,
   "metadata": {},
   "outputs": [],
   "source": [
    "stop_words = set(stopwords.words('english')) ### identifying stop words in English such as 'a', 'the', 'for', etc. "
   ]
  },
  {
   "cell_type": "code",
   "execution_count": 12,
   "metadata": {},
   "outputs": [],
   "source": [
    "def process_text(text):\n",
    "    text = text.lower() ### lowercase all text\n",
    "    text = text.translate(str.maketrans('', '', string.punctuation)) ### Remove punctuation\n",
    "    words = word_tokenize(text) ### tokenize\n",
    "    words = [word for word in words if word not in stop_words] ### removing the stop words\n",
    "    return ' '.join(words)"
   ]
  },
  {
   "cell_type": "code",
   "execution_count": 13,
   "metadata": {},
   "outputs": [],
   "source": [
    "filtered_df['processed_description'] = filtered_df['description'].apply(process_text)"
   ]
  },
  {
   "cell_type": "code",
   "execution_count": 14,
   "metadata": {},
   "outputs": [
    {
     "name": "stdout",
     "output_type": "stream",
     "text": [
      "{'Business': np.int64(0), 'Economy': np.int64(1), 'Education': np.int64(2), 'Entertainment': np.int64(3), 'Environment': np.int64(4), 'Health': np.int64(5), 'International': np.int64(6), 'Politics': np.int64(7), 'Sports': np.int64(8), 'Technology': np.int64(9), 'Weather': np.int64(10)}\n"
     ]
    }
   ],
   "source": [
    "target_encoded = LabelEncoder()\n",
    "filtered_df['category_encoded'] = target_encoded.fit_transform(filtered_df['categories'])\n",
    "\n",
    "label_mapping = dict(zip(target_encoded.classes_, target_encoded.transform(target_encoded.classes_)))  # Save for later decoding\n",
    "print(label_mapping)"
   ]
  },
  {
   "cell_type": "markdown",
   "metadata": {},
   "source": [
    "# Split data into train and test "
   ]
  },
  {
   "cell_type": "code",
   "execution_count": 15,
   "metadata": {},
   "outputs": [],
   "source": [
    "X = filtered_df['processed_description']\n",
    "y = filtered_df['category_encoded']\n",
    "\n",
    "X_train, X_test, y_train, y_test = train_test_split(X, y, test_size=0.3, random_state=42)"
   ]
  },
  {
   "cell_type": "code",
   "execution_count": 16,
   "metadata": {},
   "outputs": [],
   "source": [
    "# Convert Text Data to Numeric Features\n",
    "vectorized = TfidfVectorizer(max_features=4000)  ### Limit the number of features\n",
    "X_train_vec = vectorized.fit_transform(X_train)\n",
    "X_test_vec = vectorized.transform(X_test)"
   ]
  },
  {
   "cell_type": "markdown",
   "metadata": {},
   "source": [
    "# Train the models\n",
    "\n",
    "## Random Forest Model\n"
   ]
  },
  {
   "cell_type": "code",
   "execution_count": 17,
   "metadata": {},
   "outputs": [
    {
     "data": {
      "text/html": [
       "<style>#sk-container-id-1 {\n",
       "  /* Definition of color scheme common for light and dark mode */\n",
       "  --sklearn-color-text: #000;\n",
       "  --sklearn-color-text-muted: #666;\n",
       "  --sklearn-color-line: gray;\n",
       "  /* Definition of color scheme for unfitted estimators */\n",
       "  --sklearn-color-unfitted-level-0: #fff5e6;\n",
       "  --sklearn-color-unfitted-level-1: #f6e4d2;\n",
       "  --sklearn-color-unfitted-level-2: #ffe0b3;\n",
       "  --sklearn-color-unfitted-level-3: chocolate;\n",
       "  /* Definition of color scheme for fitted estimators */\n",
       "  --sklearn-color-fitted-level-0: #f0f8ff;\n",
       "  --sklearn-color-fitted-level-1: #d4ebff;\n",
       "  --sklearn-color-fitted-level-2: #b3dbfd;\n",
       "  --sklearn-color-fitted-level-3: cornflowerblue;\n",
       "\n",
       "  /* Specific color for light theme */\n",
       "  --sklearn-color-text-on-default-background: var(--sg-text-color, var(--theme-code-foreground, var(--jp-content-font-color1, black)));\n",
       "  --sklearn-color-background: var(--sg-background-color, var(--theme-background, var(--jp-layout-color0, white)));\n",
       "  --sklearn-color-border-box: var(--sg-text-color, var(--theme-code-foreground, var(--jp-content-font-color1, black)));\n",
       "  --sklearn-color-icon: #696969;\n",
       "\n",
       "  @media (prefers-color-scheme: dark) {\n",
       "    /* Redefinition of color scheme for dark theme */\n",
       "    --sklearn-color-text-on-default-background: var(--sg-text-color, var(--theme-code-foreground, var(--jp-content-font-color1, white)));\n",
       "    --sklearn-color-background: var(--sg-background-color, var(--theme-background, var(--jp-layout-color0, #111)));\n",
       "    --sklearn-color-border-box: var(--sg-text-color, var(--theme-code-foreground, var(--jp-content-font-color1, white)));\n",
       "    --sklearn-color-icon: #878787;\n",
       "  }\n",
       "}\n",
       "\n",
       "#sk-container-id-1 {\n",
       "  color: var(--sklearn-color-text);\n",
       "}\n",
       "\n",
       "#sk-container-id-1 pre {\n",
       "  padding: 0;\n",
       "}\n",
       "\n",
       "#sk-container-id-1 input.sk-hidden--visually {\n",
       "  border: 0;\n",
       "  clip: rect(1px 1px 1px 1px);\n",
       "  clip: rect(1px, 1px, 1px, 1px);\n",
       "  height: 1px;\n",
       "  margin: -1px;\n",
       "  overflow: hidden;\n",
       "  padding: 0;\n",
       "  position: absolute;\n",
       "  width: 1px;\n",
       "}\n",
       "\n",
       "#sk-container-id-1 div.sk-dashed-wrapped {\n",
       "  border: 1px dashed var(--sklearn-color-line);\n",
       "  margin: 0 0.4em 0.5em 0.4em;\n",
       "  box-sizing: border-box;\n",
       "  padding-bottom: 0.4em;\n",
       "  background-color: var(--sklearn-color-background);\n",
       "}\n",
       "\n",
       "#sk-container-id-1 div.sk-container {\n",
       "  /* jupyter's `normalize.less` sets `[hidden] { display: none; }`\n",
       "     but bootstrap.min.css set `[hidden] { display: none !important; }`\n",
       "     so we also need the `!important` here to be able to override the\n",
       "     default hidden behavior on the sphinx rendered scikit-learn.org.\n",
       "     See: https://github.com/scikit-learn/scikit-learn/issues/21755 */\n",
       "  display: inline-block !important;\n",
       "  position: relative;\n",
       "}\n",
       "\n",
       "#sk-container-id-1 div.sk-text-repr-fallback {\n",
       "  display: none;\n",
       "}\n",
       "\n",
       "div.sk-parallel-item,\n",
       "div.sk-serial,\n",
       "div.sk-item {\n",
       "  /* draw centered vertical line to link estimators */\n",
       "  background-image: linear-gradient(var(--sklearn-color-text-on-default-background), var(--sklearn-color-text-on-default-background));\n",
       "  background-size: 2px 100%;\n",
       "  background-repeat: no-repeat;\n",
       "  background-position: center center;\n",
       "}\n",
       "\n",
       "/* Parallel-specific style estimator block */\n",
       "\n",
       "#sk-container-id-1 div.sk-parallel-item::after {\n",
       "  content: \"\";\n",
       "  width: 100%;\n",
       "  border-bottom: 2px solid var(--sklearn-color-text-on-default-background);\n",
       "  flex-grow: 1;\n",
       "}\n",
       "\n",
       "#sk-container-id-1 div.sk-parallel {\n",
       "  display: flex;\n",
       "  align-items: stretch;\n",
       "  justify-content: center;\n",
       "  background-color: var(--sklearn-color-background);\n",
       "  position: relative;\n",
       "}\n",
       "\n",
       "#sk-container-id-1 div.sk-parallel-item {\n",
       "  display: flex;\n",
       "  flex-direction: column;\n",
       "}\n",
       "\n",
       "#sk-container-id-1 div.sk-parallel-item:first-child::after {\n",
       "  align-self: flex-end;\n",
       "  width: 50%;\n",
       "}\n",
       "\n",
       "#sk-container-id-1 div.sk-parallel-item:last-child::after {\n",
       "  align-self: flex-start;\n",
       "  width: 50%;\n",
       "}\n",
       "\n",
       "#sk-container-id-1 div.sk-parallel-item:only-child::after {\n",
       "  width: 0;\n",
       "}\n",
       "\n",
       "/* Serial-specific style estimator block */\n",
       "\n",
       "#sk-container-id-1 div.sk-serial {\n",
       "  display: flex;\n",
       "  flex-direction: column;\n",
       "  align-items: center;\n",
       "  background-color: var(--sklearn-color-background);\n",
       "  padding-right: 1em;\n",
       "  padding-left: 1em;\n",
       "}\n",
       "\n",
       "\n",
       "/* Toggleable style: style used for estimator/Pipeline/ColumnTransformer box that is\n",
       "clickable and can be expanded/collapsed.\n",
       "- Pipeline and ColumnTransformer use this feature and define the default style\n",
       "- Estimators will overwrite some part of the style using the `sk-estimator` class\n",
       "*/\n",
       "\n",
       "/* Pipeline and ColumnTransformer style (default) */\n",
       "\n",
       "#sk-container-id-1 div.sk-toggleable {\n",
       "  /* Default theme specific background. It is overwritten whether we have a\n",
       "  specific estimator or a Pipeline/ColumnTransformer */\n",
       "  background-color: var(--sklearn-color-background);\n",
       "}\n",
       "\n",
       "/* Toggleable label */\n",
       "#sk-container-id-1 label.sk-toggleable__label {\n",
       "  cursor: pointer;\n",
       "  display: flex;\n",
       "  width: 100%;\n",
       "  margin-bottom: 0;\n",
       "  padding: 0.5em;\n",
       "  box-sizing: border-box;\n",
       "  text-align: center;\n",
       "  align-items: start;\n",
       "  justify-content: space-between;\n",
       "  gap: 0.5em;\n",
       "}\n",
       "\n",
       "#sk-container-id-1 label.sk-toggleable__label .caption {\n",
       "  font-size: 0.6rem;\n",
       "  font-weight: lighter;\n",
       "  color: var(--sklearn-color-text-muted);\n",
       "}\n",
       "\n",
       "#sk-container-id-1 label.sk-toggleable__label-arrow:before {\n",
       "  /* Arrow on the left of the label */\n",
       "  content: \"▸\";\n",
       "  float: left;\n",
       "  margin-right: 0.25em;\n",
       "  color: var(--sklearn-color-icon);\n",
       "}\n",
       "\n",
       "#sk-container-id-1 label.sk-toggleable__label-arrow:hover:before {\n",
       "  color: var(--sklearn-color-text);\n",
       "}\n",
       "\n",
       "/* Toggleable content - dropdown */\n",
       "\n",
       "#sk-container-id-1 div.sk-toggleable__content {\n",
       "  max-height: 0;\n",
       "  max-width: 0;\n",
       "  overflow: hidden;\n",
       "  text-align: left;\n",
       "  /* unfitted */\n",
       "  background-color: var(--sklearn-color-unfitted-level-0);\n",
       "}\n",
       "\n",
       "#sk-container-id-1 div.sk-toggleable__content.fitted {\n",
       "  /* fitted */\n",
       "  background-color: var(--sklearn-color-fitted-level-0);\n",
       "}\n",
       "\n",
       "#sk-container-id-1 div.sk-toggleable__content pre {\n",
       "  margin: 0.2em;\n",
       "  border-radius: 0.25em;\n",
       "  color: var(--sklearn-color-text);\n",
       "  /* unfitted */\n",
       "  background-color: var(--sklearn-color-unfitted-level-0);\n",
       "}\n",
       "\n",
       "#sk-container-id-1 div.sk-toggleable__content.fitted pre {\n",
       "  /* unfitted */\n",
       "  background-color: var(--sklearn-color-fitted-level-0);\n",
       "}\n",
       "\n",
       "#sk-container-id-1 input.sk-toggleable__control:checked~div.sk-toggleable__content {\n",
       "  /* Expand drop-down */\n",
       "  max-height: 200px;\n",
       "  max-width: 100%;\n",
       "  overflow: auto;\n",
       "}\n",
       "\n",
       "#sk-container-id-1 input.sk-toggleable__control:checked~label.sk-toggleable__label-arrow:before {\n",
       "  content: \"▾\";\n",
       "}\n",
       "\n",
       "/* Pipeline/ColumnTransformer-specific style */\n",
       "\n",
       "#sk-container-id-1 div.sk-label input.sk-toggleable__control:checked~label.sk-toggleable__label {\n",
       "  color: var(--sklearn-color-text);\n",
       "  background-color: var(--sklearn-color-unfitted-level-2);\n",
       "}\n",
       "\n",
       "#sk-container-id-1 div.sk-label.fitted input.sk-toggleable__control:checked~label.sk-toggleable__label {\n",
       "  background-color: var(--sklearn-color-fitted-level-2);\n",
       "}\n",
       "\n",
       "/* Estimator-specific style */\n",
       "\n",
       "/* Colorize estimator box */\n",
       "#sk-container-id-1 div.sk-estimator input.sk-toggleable__control:checked~label.sk-toggleable__label {\n",
       "  /* unfitted */\n",
       "  background-color: var(--sklearn-color-unfitted-level-2);\n",
       "}\n",
       "\n",
       "#sk-container-id-1 div.sk-estimator.fitted input.sk-toggleable__control:checked~label.sk-toggleable__label {\n",
       "  /* fitted */\n",
       "  background-color: var(--sklearn-color-fitted-level-2);\n",
       "}\n",
       "\n",
       "#sk-container-id-1 div.sk-label label.sk-toggleable__label,\n",
       "#sk-container-id-1 div.sk-label label {\n",
       "  /* The background is the default theme color */\n",
       "  color: var(--sklearn-color-text-on-default-background);\n",
       "}\n",
       "\n",
       "/* On hover, darken the color of the background */\n",
       "#sk-container-id-1 div.sk-label:hover label.sk-toggleable__label {\n",
       "  color: var(--sklearn-color-text);\n",
       "  background-color: var(--sklearn-color-unfitted-level-2);\n",
       "}\n",
       "\n",
       "/* Label box, darken color on hover, fitted */\n",
       "#sk-container-id-1 div.sk-label.fitted:hover label.sk-toggleable__label.fitted {\n",
       "  color: var(--sklearn-color-text);\n",
       "  background-color: var(--sklearn-color-fitted-level-2);\n",
       "}\n",
       "\n",
       "/* Estimator label */\n",
       "\n",
       "#sk-container-id-1 div.sk-label label {\n",
       "  font-family: monospace;\n",
       "  font-weight: bold;\n",
       "  display: inline-block;\n",
       "  line-height: 1.2em;\n",
       "}\n",
       "\n",
       "#sk-container-id-1 div.sk-label-container {\n",
       "  text-align: center;\n",
       "}\n",
       "\n",
       "/* Estimator-specific */\n",
       "#sk-container-id-1 div.sk-estimator {\n",
       "  font-family: monospace;\n",
       "  border: 1px dotted var(--sklearn-color-border-box);\n",
       "  border-radius: 0.25em;\n",
       "  box-sizing: border-box;\n",
       "  margin-bottom: 0.5em;\n",
       "  /* unfitted */\n",
       "  background-color: var(--sklearn-color-unfitted-level-0);\n",
       "}\n",
       "\n",
       "#sk-container-id-1 div.sk-estimator.fitted {\n",
       "  /* fitted */\n",
       "  background-color: var(--sklearn-color-fitted-level-0);\n",
       "}\n",
       "\n",
       "/* on hover */\n",
       "#sk-container-id-1 div.sk-estimator:hover {\n",
       "  /* unfitted */\n",
       "  background-color: var(--sklearn-color-unfitted-level-2);\n",
       "}\n",
       "\n",
       "#sk-container-id-1 div.sk-estimator.fitted:hover {\n",
       "  /* fitted */\n",
       "  background-color: var(--sklearn-color-fitted-level-2);\n",
       "}\n",
       "\n",
       "/* Specification for estimator info (e.g. \"i\" and \"?\") */\n",
       "\n",
       "/* Common style for \"i\" and \"?\" */\n",
       "\n",
       ".sk-estimator-doc-link,\n",
       "a:link.sk-estimator-doc-link,\n",
       "a:visited.sk-estimator-doc-link {\n",
       "  float: right;\n",
       "  font-size: smaller;\n",
       "  line-height: 1em;\n",
       "  font-family: monospace;\n",
       "  background-color: var(--sklearn-color-background);\n",
       "  border-radius: 1em;\n",
       "  height: 1em;\n",
       "  width: 1em;\n",
       "  text-decoration: none !important;\n",
       "  margin-left: 0.5em;\n",
       "  text-align: center;\n",
       "  /* unfitted */\n",
       "  border: var(--sklearn-color-unfitted-level-1) 1pt solid;\n",
       "  color: var(--sklearn-color-unfitted-level-1);\n",
       "}\n",
       "\n",
       ".sk-estimator-doc-link.fitted,\n",
       "a:link.sk-estimator-doc-link.fitted,\n",
       "a:visited.sk-estimator-doc-link.fitted {\n",
       "  /* fitted */\n",
       "  border: var(--sklearn-color-fitted-level-1) 1pt solid;\n",
       "  color: var(--sklearn-color-fitted-level-1);\n",
       "}\n",
       "\n",
       "/* On hover */\n",
       "div.sk-estimator:hover .sk-estimator-doc-link:hover,\n",
       ".sk-estimator-doc-link:hover,\n",
       "div.sk-label-container:hover .sk-estimator-doc-link:hover,\n",
       ".sk-estimator-doc-link:hover {\n",
       "  /* unfitted */\n",
       "  background-color: var(--sklearn-color-unfitted-level-3);\n",
       "  color: var(--sklearn-color-background);\n",
       "  text-decoration: none;\n",
       "}\n",
       "\n",
       "div.sk-estimator.fitted:hover .sk-estimator-doc-link.fitted:hover,\n",
       ".sk-estimator-doc-link.fitted:hover,\n",
       "div.sk-label-container:hover .sk-estimator-doc-link.fitted:hover,\n",
       ".sk-estimator-doc-link.fitted:hover {\n",
       "  /* fitted */\n",
       "  background-color: var(--sklearn-color-fitted-level-3);\n",
       "  color: var(--sklearn-color-background);\n",
       "  text-decoration: none;\n",
       "}\n",
       "\n",
       "/* Span, style for the box shown on hovering the info icon */\n",
       ".sk-estimator-doc-link span {\n",
       "  display: none;\n",
       "  z-index: 9999;\n",
       "  position: relative;\n",
       "  font-weight: normal;\n",
       "  right: .2ex;\n",
       "  padding: .5ex;\n",
       "  margin: .5ex;\n",
       "  width: min-content;\n",
       "  min-width: 20ex;\n",
       "  max-width: 50ex;\n",
       "  color: var(--sklearn-color-text);\n",
       "  box-shadow: 2pt 2pt 4pt #999;\n",
       "  /* unfitted */\n",
       "  background: var(--sklearn-color-unfitted-level-0);\n",
       "  border: .5pt solid var(--sklearn-color-unfitted-level-3);\n",
       "}\n",
       "\n",
       ".sk-estimator-doc-link.fitted span {\n",
       "  /* fitted */\n",
       "  background: var(--sklearn-color-fitted-level-0);\n",
       "  border: var(--sklearn-color-fitted-level-3);\n",
       "}\n",
       "\n",
       ".sk-estimator-doc-link:hover span {\n",
       "  display: block;\n",
       "}\n",
       "\n",
       "/* \"?\"-specific style due to the `<a>` HTML tag */\n",
       "\n",
       "#sk-container-id-1 a.estimator_doc_link {\n",
       "  float: right;\n",
       "  font-size: 1rem;\n",
       "  line-height: 1em;\n",
       "  font-family: monospace;\n",
       "  background-color: var(--sklearn-color-background);\n",
       "  border-radius: 1rem;\n",
       "  height: 1rem;\n",
       "  width: 1rem;\n",
       "  text-decoration: none;\n",
       "  /* unfitted */\n",
       "  color: var(--sklearn-color-unfitted-level-1);\n",
       "  border: var(--sklearn-color-unfitted-level-1) 1pt solid;\n",
       "}\n",
       "\n",
       "#sk-container-id-1 a.estimator_doc_link.fitted {\n",
       "  /* fitted */\n",
       "  border: var(--sklearn-color-fitted-level-1) 1pt solid;\n",
       "  color: var(--sklearn-color-fitted-level-1);\n",
       "}\n",
       "\n",
       "/* On hover */\n",
       "#sk-container-id-1 a.estimator_doc_link:hover {\n",
       "  /* unfitted */\n",
       "  background-color: var(--sklearn-color-unfitted-level-3);\n",
       "  color: var(--sklearn-color-background);\n",
       "  text-decoration: none;\n",
       "}\n",
       "\n",
       "#sk-container-id-1 a.estimator_doc_link.fitted:hover {\n",
       "  /* fitted */\n",
       "  background-color: var(--sklearn-color-fitted-level-3);\n",
       "}\n",
       "</style><div id=\"sk-container-id-1\" class=\"sk-top-container\"><div class=\"sk-text-repr-fallback\"><pre>RandomForestClassifier()</pre><b>In a Jupyter environment, please rerun this cell to show the HTML representation or trust the notebook. <br />On GitHub, the HTML representation is unable to render, please try loading this page with nbviewer.org.</b></div><div class=\"sk-container\" hidden><div class=\"sk-item\"><div class=\"sk-estimator fitted sk-toggleable\"><input class=\"sk-toggleable__control sk-hidden--visually\" id=\"sk-estimator-id-1\" type=\"checkbox\" checked><label for=\"sk-estimator-id-1\" class=\"sk-toggleable__label fitted sk-toggleable__label-arrow\"><div><div>RandomForestClassifier</div></div><div><a class=\"sk-estimator-doc-link fitted\" rel=\"noreferrer\" target=\"_blank\" href=\"https://scikit-learn.org/1.6/modules/generated/sklearn.ensemble.RandomForestClassifier.html\">?<span>Documentation for RandomForestClassifier</span></a><span class=\"sk-estimator-doc-link fitted\">i<span>Fitted</span></span></div></label><div class=\"sk-toggleable__content fitted\"><pre>RandomForestClassifier()</pre></div> </div></div></div></div>"
      ],
      "text/plain": [
       "RandomForestClassifier()"
      ]
     },
     "execution_count": 17,
     "metadata": {},
     "output_type": "execute_result"
    }
   ],
   "source": [
    "model = RandomForestClassifier()\n",
    "model.fit(X_train_vec, y_train)"
   ]
  },
  {
   "cell_type": "code",
   "execution_count": 18,
   "metadata": {},
   "outputs": [
    {
     "name": "stdout",
     "output_type": "stream",
     "text": [
      "               precision    recall  f1-score   support\n",
      "\n",
      "     Business       0.79      0.53      0.63        36\n",
      "      Economy       0.40      0.79      0.53        42\n",
      "    Education       1.00      0.79      0.88        19\n",
      "Entertainment       0.89      0.73      0.80        33\n",
      "  Environment       0.90      0.92      0.91        60\n",
      "       Health       0.77      0.87      0.82        46\n",
      "International       1.00      1.00      1.00        13\n",
      "     Politics       0.95      0.75      0.84        51\n",
      "       Sports       0.81      0.76      0.79        34\n",
      "   Technology       1.00      0.74      0.85        35\n",
      "      Weather       0.62      0.50      0.55        16\n",
      "\n",
      "     accuracy                           0.77       385\n",
      "    macro avg       0.83      0.76      0.78       385\n",
      " weighted avg       0.82      0.77      0.78       385\n",
      "\n"
     ]
    }
   ],
   "source": [
    "y_pred = model.predict(X_test_vec)\n",
    "print(classification_report(y_test, y_pred, target_names=target_encoded.classes_))\n"
   ]
  },
  {
   "cell_type": "code",
   "execution_count": 48,
   "metadata": {},
   "outputs": [
    {
     "data": {
      "image/png": "[encoded data removed]",
      "text/plain": [
       "<Figure size 640x480 with 2 Axes>"
      ]
     },
     "metadata": {},
     "output_type": "display_data"
    }
   ],
   "source": [
    "# Plot the confusion matrix\n",
    "ConfusionMatrixDisplay.from_predictions(y_test, y_pred, cmap=\"Blues\")\n",
    "plt.title(\"Confusion Matrix\")\n",
    "plt.show()"
   ]
  }
 ],
 "metadata": {
  "kernelspec": {
   "display_name": "Python 3",
   "language": "python",
   "name": "python3"
  },
  "language_info": {
   "codemirror_mode": {
    "name": "ipython",
    "version": 3
   },
   "file_extension": ".py",
   "mimetype": "text/x-python",
   "name": "python",
   "nbconvert_exporter": "python",
   "pygments_lexer": "ipython3",
   "version": "3.12.5"
  }
 },
 "nbformat": 4,
 "nbformat_minor": 2
}
